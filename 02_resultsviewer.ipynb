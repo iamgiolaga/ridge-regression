{
 "cells": [
  {
   "cell_type": "code",
   "execution_count": 7,
   "metadata": {},
   "outputs": [],
   "source": [
    "import pandas as pd"
   ]
  },
  {
   "cell_type": "code",
   "execution_count": 8,
   "metadata": {},
   "outputs": [],
   "source": [
    "results = pd.read_csv(\"results/scores/final_scores.csv\")\n",
    "del results[\"Unnamed: 0\"]"
   ]
  },
  {
   "cell_type": "code",
   "execution_count": 9,
   "metadata": {},
   "outputs": [
    {
     "data": {
      "text/html": [
       "<div>\n",
       "<style scoped>\n",
       "    .dataframe tbody tr th:only-of-type {\n",
       "        vertical-align: middle;\n",
       "    }\n",
       "\n",
       "    .dataframe tbody tr th {\n",
       "        vertical-align: top;\n",
       "    }\n",
       "\n",
       "    .dataframe thead th {\n",
       "        text-align: right;\n",
       "    }\n",
       "</style>\n",
       "<table border=\"1\" class=\"dataframe\">\n",
       "  <thead>\n",
       "    <tr style=\"text-align: right;\">\n",
       "      <th></th>\n",
       "      <th>best_alpha_d1</th>\n",
       "      <th>best_alpha_d2</th>\n",
       "      <th>best_alpha_d3</th>\n",
       "      <th>best_alpha_d4</th>\n",
       "      <th>cross_val_PCA_d1</th>\n",
       "      <th>cross_val_PCA_d2</th>\n",
       "      <th>cross_val_PCA_d3</th>\n",
       "      <th>cross_val_PCA_d4</th>\n",
       "    </tr>\n",
       "  </thead>\n",
       "  <tbody>\n",
       "    <tr>\n",
       "      <th>0</th>\n",
       "      <td>2.29</td>\n",
       "      <td>0.01</td>\n",
       "      <td>12.03</td>\n",
       "      <td>1.0</td>\n",
       "      <td>0.151831</td>\n",
       "      <td>0.151798</td>\n",
       "      <td>0.408905</td>\n",
       "      <td>0.408646</td>\n",
       "    </tr>\n",
       "  </tbody>\n",
       "</table>\n",
       "</div>"
      ],
      "text/plain": [
       "   best_alpha_d1  best_alpha_d2  best_alpha_d3  best_alpha_d4  \\\n",
       "0           2.29           0.01          12.03            1.0   \n",
       "\n",
       "   cross_val_PCA_d1  cross_val_PCA_d2  cross_val_PCA_d3  cross_val_PCA_d4  \n",
       "0          0.151831          0.151798          0.408905          0.408646  "
      ]
     },
     "execution_count": 9,
     "metadata": {},
     "output_type": "execute_result"
    }
   ],
   "source": [
    "results.iloc[:, range(0, 8)]"
   ]
  },
  {
   "cell_type": "code",
   "execution_count": 10,
   "metadata": {},
   "outputs": [
    {
     "data": {
      "text/html": [
       "<div>\n",
       "<style scoped>\n",
       "    .dataframe tbody tr th:only-of-type {\n",
       "        vertical-align: middle;\n",
       "    }\n",
       "\n",
       "    .dataframe tbody tr th {\n",
       "        vertical-align: top;\n",
       "    }\n",
       "\n",
       "    .dataframe thead th {\n",
       "        text-align: right;\n",
       "    }\n",
       "</style>\n",
       "<table border=\"1\" class=\"dataframe\">\n",
       "  <thead>\n",
       "    <tr style=\"text-align: right;\">\n",
       "      <th></th>\n",
       "      <th>cross_val_d1</th>\n",
       "      <th>cross_val_d2</th>\n",
       "      <th>cross_val_d3</th>\n",
       "      <th>cross_val_d4</th>\n",
       "      <th>nest_cross_val_d1</th>\n",
       "      <th>nest_cross_val_d2</th>\n",
       "      <th>nest_cross_val_d3</th>\n",
       "      <th>nest_cross_val_d4</th>\n",
       "    </tr>\n",
       "  </thead>\n",
       "  <tbody>\n",
       "    <tr>\n",
       "      <th>0</th>\n",
       "      <td>0.016635</td>\n",
       "      <td>0.016599</td>\n",
       "      <td>0.387385</td>\n",
       "      <td>0.386673</td>\n",
       "      <td>0.016651</td>\n",
       "      <td>0.016598</td>\n",
       "      <td>0.387506</td>\n",
       "      <td>0.386805</td>\n",
       "    </tr>\n",
       "  </tbody>\n",
       "</table>\n",
       "</div>"
      ],
      "text/plain": [
       "   cross_val_d1  cross_val_d2  cross_val_d3  cross_val_d4  nest_cross_val_d1  \\\n",
       "0      0.016635      0.016599      0.387385      0.386673           0.016651   \n",
       "\n",
       "   nest_cross_val_d2  nest_cross_val_d3  nest_cross_val_d4  \n",
       "0           0.016598           0.387506           0.386805  "
      ]
     },
     "execution_count": 10,
     "metadata": {},
     "output_type": "execute_result"
    }
   ],
   "source": [
    "results.iloc[:, range(8, 16)]"
   ]
  },
  {
   "cell_type": "code",
   "execution_count": 11,
   "metadata": {},
   "outputs": [
    {
     "data": {
      "text/html": [
       "<div>\n",
       "<style scoped>\n",
       "    .dataframe tbody tr th:only-of-type {\n",
       "        vertical-align: middle;\n",
       "    }\n",
       "\n",
       "    .dataframe tbody tr th {\n",
       "        vertical-align: top;\n",
       "    }\n",
       "\n",
       "    .dataframe thead th {\n",
       "        text-align: right;\n",
       "    }\n",
       "</style>\n",
       "<table border=\"1\" class=\"dataframe\">\n",
       "  <thead>\n",
       "    <tr style=\"text-align: right;\">\n",
       "      <th></th>\n",
       "      <th>r2_d1</th>\n",
       "      <th>r2_d2</th>\n",
       "      <th>r2_d3</th>\n",
       "      <th>r2_d4</th>\n",
       "      <th>sklearn_cv_d1</th>\n",
       "      <th>sklearn_cv_d2</th>\n",
       "      <th>sklearn_cv_d3</th>\n",
       "      <th>sklearn_cv_d4</th>\n",
       "      <th>sklearn_test_error_d1</th>\n",
       "    </tr>\n",
       "  </thead>\n",
       "  <tbody>\n",
       "    <tr>\n",
       "      <th>0</th>\n",
       "      <td>0.573482</td>\n",
       "      <td>0.6143</td>\n",
       "      <td>0.610363</td>\n",
       "      <td>0.608989</td>\n",
       "      <td>0.015601</td>\n",
       "      <td>0.015571</td>\n",
       "      <td>0.387578</td>\n",
       "      <td>0.386803</td>\n",
       "      <td>0.015184</td>\n",
       "    </tr>\n",
       "  </tbody>\n",
       "</table>\n",
       "</div>"
      ],
      "text/plain": [
       "      r2_d1   r2_d2     r2_d3     r2_d4  sklearn_cv_d1  sklearn_cv_d2  \\\n",
       "0  0.573482  0.6143  0.610363  0.608989       0.015601       0.015571   \n",
       "\n",
       "   sklearn_cv_d3  sklearn_cv_d4  sklearn_test_error_d1  \n",
       "0       0.387578       0.386803               0.015184  "
      ]
     },
     "execution_count": 11,
     "metadata": {},
     "output_type": "execute_result"
    }
   ],
   "source": [
    "results.iloc[:, range(16, 25)]"
   ]
  },
  {
   "cell_type": "code",
   "execution_count": 12,
   "metadata": {},
   "outputs": [
    {
     "data": {
      "text/html": [
       "<div>\n",
       "<style scoped>\n",
       "    .dataframe tbody tr th:only-of-type {\n",
       "        vertical-align: middle;\n",
       "    }\n",
       "\n",
       "    .dataframe tbody tr th {\n",
       "        vertical-align: top;\n",
       "    }\n",
       "\n",
       "    .dataframe thead th {\n",
       "        text-align: right;\n",
       "    }\n",
       "</style>\n",
       "<table border=\"1\" class=\"dataframe\">\n",
       "  <thead>\n",
       "    <tr style=\"text-align: right;\">\n",
       "      <th></th>\n",
       "      <th>sklearn_test_error_d2</th>\n",
       "      <th>sklearn_test_error_d3</th>\n",
       "      <th>sklearn_test_error_d4</th>\n",
       "      <th>test_error_d1</th>\n",
       "      <th>test_error_d2</th>\n",
       "      <th>test_error_d3</th>\n",
       "      <th>test_error_d4</th>\n",
       "    </tr>\n",
       "  </thead>\n",
       "  <tbody>\n",
       "    <tr>\n",
       "      <th>0</th>\n",
       "      <td>0.015841</td>\n",
       "      <td>0.3872</td>\n",
       "      <td>0.350639</td>\n",
       "      <td>0.016684</td>\n",
       "      <td>0.015688</td>\n",
       "      <td>0.385869</td>\n",
       "      <td>0.385637</td>\n",
       "    </tr>\n",
       "  </tbody>\n",
       "</table>\n",
       "</div>"
      ],
      "text/plain": [
       "   sklearn_test_error_d2  sklearn_test_error_d3  sklearn_test_error_d4  \\\n",
       "0               0.015841                 0.3872               0.350639   \n",
       "\n",
       "   test_error_d1  test_error_d2  test_error_d3  test_error_d4  \n",
       "0       0.016684       0.015688       0.385869       0.385637  "
      ]
     },
     "execution_count": 12,
     "metadata": {},
     "output_type": "execute_result"
    }
   ],
   "source": [
    "results.iloc[:, range(25, 32)]"
   ]
  },
  {
   "cell_type": "code",
   "execution_count": null,
   "metadata": {},
   "outputs": [],
   "source": []
  }
 ],
 "metadata": {
  "kernelspec": {
   "display_name": "Python 3",
   "language": "python",
   "name": "python3"
  },
  "language_info": {
   "codemirror_mode": {
    "name": "ipython",
    "version": 3
   },
   "file_extension": ".py",
   "mimetype": "text/x-python",
   "name": "python",
   "nbconvert_exporter": "python",
   "pygments_lexer": "ipython3",
   "version": "3.7.1"
  }
 },
 "nbformat": 4,
 "nbformat_minor": 2
}
