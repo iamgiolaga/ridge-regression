{
 "cells": [
  {
   "cell_type": "code",
   "execution_count": 1,
   "metadata": {},
   "outputs": [],
   "source": [
    "import pandas as pd"
   ]
  },
  {
   "cell_type": "code",
   "execution_count": 2,
   "metadata": {},
   "outputs": [],
   "source": [
    "results = pd.read_csv(\"results/scores/final_scores.csv\")\n",
    "del results[\"Unnamed: 0\"]"
   ]
  },
  {
   "cell_type": "code",
   "execution_count": 3,
   "metadata": {},
   "outputs": [
    {
     "data": {
      "text/html": [
       "<div>\n",
       "<style scoped>\n",
       "    .dataframe tbody tr th:only-of-type {\n",
       "        vertical-align: middle;\n",
       "    }\n",
       "\n",
       "    .dataframe tbody tr th {\n",
       "        vertical-align: top;\n",
       "    }\n",
       "\n",
       "    .dataframe thead th {\n",
       "        text-align: right;\n",
       "    }\n",
       "</style>\n",
       "<table border=\"1\" class=\"dataframe\">\n",
       "  <thead>\n",
       "    <tr style=\"text-align: right;\">\n",
       "      <th></th>\n",
       "      <th>best_alpha_d1</th>\n",
       "      <th>best_alpha_d2</th>\n",
       "      <th>best_alpha_d3</th>\n",
       "      <th>best_alpha_d4</th>\n",
       "      <th>cross_val_PCA_d1</th>\n",
       "      <th>cross_val_PCA_d2</th>\n",
       "      <th>cross_val_PCA_d3</th>\n",
       "      <th>cross_val_PCA_d4</th>\n",
       "    </tr>\n",
       "  </thead>\n",
       "  <tbody>\n",
       "    <tr>\n",
       "      <th>0</th>\n",
       "      <td>0.46</td>\n",
       "      <td>0.49</td>\n",
       "      <td>0.01</td>\n",
       "      <td>12.86</td>\n",
       "      <td>0.151814</td>\n",
       "      <td>0.151834</td>\n",
       "      <td>0.408723</td>\n",
       "      <td>0.408548</td>\n",
       "    </tr>\n",
       "  </tbody>\n",
       "</table>\n",
       "</div>"
      ],
      "text/plain": [
       "   best_alpha_d1  best_alpha_d2  best_alpha_d3  best_alpha_d4  \\\n",
       "0           0.46           0.49           0.01          12.86   \n",
       "\n",
       "   cross_val_PCA_d1  cross_val_PCA_d2  cross_val_PCA_d3  cross_val_PCA_d4  \n",
       "0          0.151814          0.151834          0.408723          0.408548  "
      ]
     },
     "execution_count": 3,
     "metadata": {},
     "output_type": "execute_result"
    }
   ],
   "source": [
    "results.iloc[:, range(0, 8)]"
   ]
  },
  {
   "cell_type": "code",
   "execution_count": 4,
   "metadata": {},
   "outputs": [
    {
     "data": {
      "text/html": [
       "<div>\n",
       "<style scoped>\n",
       "    .dataframe tbody tr th:only-of-type {\n",
       "        vertical-align: middle;\n",
       "    }\n",
       "\n",
       "    .dataframe tbody tr th {\n",
       "        vertical-align: top;\n",
       "    }\n",
       "\n",
       "    .dataframe thead th {\n",
       "        text-align: right;\n",
       "    }\n",
       "</style>\n",
       "<table border=\"1\" class=\"dataframe\">\n",
       "  <thead>\n",
       "    <tr style=\"text-align: right;\">\n",
       "      <th></th>\n",
       "      <th>cross_val_d1</th>\n",
       "      <th>cross_val_d2</th>\n",
       "      <th>cross_val_d3</th>\n",
       "      <th>cross_val_d4</th>\n",
       "      <th>nest_cross_val_d1</th>\n",
       "      <th>nest_cross_val_d2</th>\n",
       "      <th>nest_cross_val_d3</th>\n",
       "      <th>nest_cross_val_d4</th>\n",
       "    </tr>\n",
       "  </thead>\n",
       "  <tbody>\n",
       "    <tr>\n",
       "      <th>0</th>\n",
       "      <td>0.016633</td>\n",
       "      <td>0.016593</td>\n",
       "      <td>0.387177</td>\n",
       "      <td>0.386762</td>\n",
       "      <td>0.016621</td>\n",
       "      <td>0.016592</td>\n",
       "      <td>0.387165</td>\n",
       "      <td>0.386849</td>\n",
       "    </tr>\n",
       "  </tbody>\n",
       "</table>\n",
       "</div>"
      ],
      "text/plain": [
       "   cross_val_d1  cross_val_d2  cross_val_d3  cross_val_d4  nest_cross_val_d1  \\\n",
       "0      0.016633      0.016593      0.387177      0.386762           0.016621   \n",
       "\n",
       "   nest_cross_val_d2  nest_cross_val_d3  nest_cross_val_d4  \n",
       "0           0.016592           0.387165           0.386849  "
      ]
     },
     "execution_count": 4,
     "metadata": {},
     "output_type": "execute_result"
    }
   ],
   "source": [
    "results.iloc[:, range(8, 16)]"
   ]
  },
  {
   "cell_type": "code",
   "execution_count": 5,
   "metadata": {},
   "outputs": [
    {
     "data": {
      "text/html": [
       "<div>\n",
       "<style scoped>\n",
       "    .dataframe tbody tr th:only-of-type {\n",
       "        vertical-align: middle;\n",
       "    }\n",
       "\n",
       "    .dataframe tbody tr th {\n",
       "        vertical-align: top;\n",
       "    }\n",
       "\n",
       "    .dataframe thead th {\n",
       "        text-align: right;\n",
       "    }\n",
       "</style>\n",
       "<table border=\"1\" class=\"dataframe\">\n",
       "  <thead>\n",
       "    <tr style=\"text-align: right;\">\n",
       "      <th></th>\n",
       "      <th>r2_d1</th>\n",
       "      <th>r2_d2</th>\n",
       "      <th>r2_d3</th>\n",
       "      <th>r2_d4</th>\n",
       "      <th>sklearn_cv_d1</th>\n",
       "      <th>sklearn_cv_d2</th>\n",
       "      <th>sklearn_cv_d3</th>\n",
       "      <th>sklearn_cv_d4</th>\n",
       "      <th>sklearn_test_error_d1</th>\n",
       "    </tr>\n",
       "  </thead>\n",
       "  <tbody>\n",
       "    <tr>\n",
       "      <th>0</th>\n",
       "      <td>0.597541</td>\n",
       "      <td>0.579659</td>\n",
       "      <td>0.614784</td>\n",
       "      <td>0.610923</td>\n",
       "      <td>0.015586</td>\n",
       "      <td>0.015577</td>\n",
       "      <td>0.38712</td>\n",
       "      <td>0.387126</td>\n",
       "      <td>0.015538</td>\n",
       "    </tr>\n",
       "  </tbody>\n",
       "</table>\n",
       "</div>"
      ],
      "text/plain": [
       "      r2_d1     r2_d2     r2_d3     r2_d4  sklearn_cv_d1  sklearn_cv_d2  \\\n",
       "0  0.597541  0.579659  0.614784  0.610923       0.015586       0.015577   \n",
       "\n",
       "   sklearn_cv_d3  sklearn_cv_d4  sklearn_test_error_d1  \n",
       "0        0.38712       0.387126               0.015538  "
      ]
     },
     "execution_count": 5,
     "metadata": {},
     "output_type": "execute_result"
    }
   ],
   "source": [
    "results.iloc[:, range(16, 25)]"
   ]
  },
  {
   "cell_type": "code",
   "execution_count": 6,
   "metadata": {},
   "outputs": [
    {
     "data": {
      "text/html": [
       "<div>\n",
       "<style scoped>\n",
       "    .dataframe tbody tr th:only-of-type {\n",
       "        vertical-align: middle;\n",
       "    }\n",
       "\n",
       "    .dataframe tbody tr th {\n",
       "        vertical-align: top;\n",
       "    }\n",
       "\n",
       "    .dataframe thead th {\n",
       "        text-align: right;\n",
       "    }\n",
       "</style>\n",
       "<table border=\"1\" class=\"dataframe\">\n",
       "  <thead>\n",
       "    <tr style=\"text-align: right;\">\n",
       "      <th></th>\n",
       "      <th>sklearn_test_error_d2</th>\n",
       "      <th>sklearn_test_error_d3</th>\n",
       "      <th>sklearn_test_error_d4</th>\n",
       "      <th>test_error_d1</th>\n",
       "      <th>test_error_d2</th>\n",
       "      <th>test_error_d3</th>\n",
       "      <th>test_error_d4</th>\n",
       "    </tr>\n",
       "  </thead>\n",
       "  <tbody>\n",
       "    <tr>\n",
       "      <th>0</th>\n",
       "      <td>0.016091</td>\n",
       "      <td>0.393006</td>\n",
       "      <td>0.374153</td>\n",
       "      <td>0.016323</td>\n",
       "      <td>0.017517</td>\n",
       "      <td>0.390154</td>\n",
       "      <td>0.389448</td>\n",
       "    </tr>\n",
       "  </tbody>\n",
       "</table>\n",
       "</div>"
      ],
      "text/plain": [
       "   sklearn_test_error_d2  sklearn_test_error_d3  sklearn_test_error_d4  \\\n",
       "0               0.016091               0.393006               0.374153   \n",
       "\n",
       "   test_error_d1  test_error_d2  test_error_d3  test_error_d4  \n",
       "0       0.016323       0.017517       0.390154       0.389448  "
      ]
     },
     "execution_count": 6,
     "metadata": {},
     "output_type": "execute_result"
    }
   ],
   "source": [
    "results.iloc[:, range(25, 32)]"
   ]
  }
 ],
 "metadata": {
  "kernelspec": {
   "display_name": "Python 3",
   "language": "python",
   "name": "python3"
  },
  "language_info": {
   "codemirror_mode": {
    "name": "ipython",
    "version": 3
   },
   "file_extension": ".py",
   "mimetype": "text/x-python",
   "name": "python",
   "nbconvert_exporter": "python",
   "pygments_lexer": "ipython3",
   "version": "3.7.1"
  }
 },
 "nbformat": 4,
 "nbformat_minor": 2
}
