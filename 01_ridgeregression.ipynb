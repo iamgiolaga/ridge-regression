{
 "cells": [
  {
   "cell_type": "code",
   "execution_count": 11,
   "metadata": {},
   "outputs": [],
   "source": [
    "import pandas as pd\n",
    "import matplotlib.pyplot as plt\n",
    "import numpy as np\n",
    "import math\n",
    "import sklearn\n",
    "from sklearn.model_selection import train_test_split"
   ]
  },
  {
   "cell_type": "markdown",
   "metadata": {},
   "source": [
    "## Ridge regression"
   ]
  },
  {
   "cell_type": "markdown",
   "metadata": {},
   "source": [
    "Ridge regression is a type of regression that introduces the concept of regularization through the alpha parameter in the ERM; at the end of this project we will see how to calibrate the value of this parameter"
   ]
  },
  {
   "cell_type": "markdown",
   "metadata": {},
   "source": [
    "A regressor is a function"
   ]
  },
  {
   "cell_type": "markdown",
   "metadata": {},
   "source": [
    "<img src = \"images/regressor.png\" width = \"200\">"
   ]
  },
  {
   "cell_type": "markdown",
   "metadata": {},
   "source": [
    " where <em>w</em> is a vector of real coefficients (weights), and <em>x</em> refers to the <em>x</em> component of training set"
   ]
  },
  {
   "cell_type": "markdown",
   "metadata": {},
   "source": [
    "As anticipated before, the ERM is regularized by parameter <b>alpha</b>"
   ]
  },
  {
   "cell_type": "markdown",
   "metadata": {},
   "source": [
    "<img src= \"images/ridge_regression.png\" width = \"350\"/>"
   ]
  },
  {
   "cell_type": "markdown",
   "metadata": {},
   "source": [
    "where S is the <b>design matrix</b>"
   ]
  },
  {
   "cell_type": "markdown",
   "metadata": {},
   "source": [
    "The regularization is needed since the vector is not stable; in particular, it can change a lot when the dataset is perturbed and let's keep in mind that we had to deal with missing values, hence we changed a fex examples and this could have led to a variance error."
   ]
  },
  {
   "cell_type": "code",
   "execution_count": 12,
   "metadata": {},
   "outputs": [],
   "source": [
    "def erm(S, w, y, alfa):\n",
    "    return np.argmin(np.square(np.norm(S*w - y)) + alfa * np.square(np.norm(w)))"
   ]
  },
  {
   "cell_type": "markdown",
   "metadata": {},
   "source": [
    "### Loading preprocessed datasets"
   ]
  },
  {
   "cell_type": "markdown",
   "metadata": {},
   "source": [
    "Let's load the preprocessed datasets, we will handle 4 cases:\n",
    "1. the complete dataset with replaced missing values normalized with min-max\n",
    "2. the reduced dataset (missing values have been removed) with min-max normalization\n",
    "3. the complete dataset with z-score normalization\n",
    "4. the reduced dataset normalized with z-score"
   ]
  },
  {
   "cell_type": "code",
   "execution_count": 13,
   "metadata": {},
   "outputs": [],
   "source": [
    "min_max_norm_dataset = pd.read_csv(\"datasets/min_max_norm_dataset\")\n",
    "min_max_norm_reduced_dataset = pd.read_csv(\"datasets/min_max_norm_reduced_dataset\")\n",
    "\n",
    "zscore_norm_dataset = pd.read_csv(\"datasets/zscore_norm_dataset\")\n",
    "zscore_norm_reduced_dataset = pd.read_csv(\"datasets/zscore_norm_reduced_dataset\")"
   ]
  },
  {
   "cell_type": "code",
   "execution_count": 14,
   "metadata": {},
   "outputs": [],
   "source": [
    "del min_max_norm_dataset[\"Unnamed: 0\"]\n",
    "del min_max_norm_reduced_dataset[\"Unnamed: 0\"]\n",
    "del zscore_norm_dataset[\"Unnamed: 0\"]\n",
    "del zscore_norm_reduced_dataset[\"Unnamed: 0\"]"
   ]
  },
  {
   "cell_type": "markdown",
   "metadata": {},
   "source": [
    "### Affine transformation"
   ]
  },
  {
   "cell_type": "markdown",
   "metadata": {},
   "source": [
    "In order to adjust the input, we add a dimension to the *x* vector by putting all the values equal to 1"
   ]
  },
  {
   "cell_type": "code",
   "execution_count": 15,
   "metadata": {},
   "outputs": [
    {
     "data": {
      "text/html": [
       "<div>\n",
       "<style scoped>\n",
       "    .dataframe tbody tr th:only-of-type {\n",
       "        vertical-align: middle;\n",
       "    }\n",
       "\n",
       "    .dataframe tbody tr th {\n",
       "        vertical-align: top;\n",
       "    }\n",
       "\n",
       "    .dataframe thead th {\n",
       "        text-align: right;\n",
       "    }\n",
       "</style>\n",
       "<table border=\"1\" class=\"dataframe\">\n",
       "  <thead>\n",
       "    <tr style=\"text-align: right;\">\n",
       "      <th></th>\n",
       "      <th>longitude</th>\n",
       "      <th>latitude</th>\n",
       "      <th>housing_median_age</th>\n",
       "      <th>total_rooms</th>\n",
       "      <th>total_bedrooms</th>\n",
       "      <th>population</th>\n",
       "      <th>households</th>\n",
       "      <th>median_income</th>\n",
       "      <th>median_house_value</th>\n",
       "      <th>ocean_proximity</th>\n",
       "      <th>added</th>\n",
       "    </tr>\n",
       "  </thead>\n",
       "  <tbody>\n",
       "    <tr>\n",
       "      <th>0</th>\n",
       "      <td>0.211155</td>\n",
       "      <td>0.567481</td>\n",
       "      <td>0.784314</td>\n",
       "      <td>0.022331</td>\n",
       "      <td>0.019863</td>\n",
       "      <td>0.008941</td>\n",
       "      <td>0.020556</td>\n",
       "      <td>0.539668</td>\n",
       "      <td>0.902266</td>\n",
       "      <td>0.25</td>\n",
       "      <td>1</td>\n",
       "    </tr>\n",
       "    <tr>\n",
       "      <th>1</th>\n",
       "      <td>0.212151</td>\n",
       "      <td>0.565356</td>\n",
       "      <td>0.392157</td>\n",
       "      <td>0.180503</td>\n",
       "      <td>0.171477</td>\n",
       "      <td>0.067210</td>\n",
       "      <td>0.186976</td>\n",
       "      <td>0.538027</td>\n",
       "      <td>0.708247</td>\n",
       "      <td>0.25</td>\n",
       "      <td>1</td>\n",
       "    </tr>\n",
       "    <tr>\n",
       "      <th>2</th>\n",
       "      <td>0.210159</td>\n",
       "      <td>0.564293</td>\n",
       "      <td>1.000000</td>\n",
       "      <td>0.037260</td>\n",
       "      <td>0.029330</td>\n",
       "      <td>0.013818</td>\n",
       "      <td>0.028943</td>\n",
       "      <td>0.466028</td>\n",
       "      <td>0.695051</td>\n",
       "      <td>0.25</td>\n",
       "      <td>1</td>\n",
       "    </tr>\n",
       "    <tr>\n",
       "      <th>3</th>\n",
       "      <td>0.209163</td>\n",
       "      <td>0.564293</td>\n",
       "      <td>1.000000</td>\n",
       "      <td>0.032352</td>\n",
       "      <td>0.036313</td>\n",
       "      <td>0.015555</td>\n",
       "      <td>0.035849</td>\n",
       "      <td>0.354699</td>\n",
       "      <td>0.672783</td>\n",
       "      <td>0.25</td>\n",
       "      <td>1</td>\n",
       "    </tr>\n",
       "    <tr>\n",
       "      <th>4</th>\n",
       "      <td>0.209163</td>\n",
       "      <td>0.564293</td>\n",
       "      <td>1.000000</td>\n",
       "      <td>0.041330</td>\n",
       "      <td>0.043296</td>\n",
       "      <td>0.015752</td>\n",
       "      <td>0.042427</td>\n",
       "      <td>0.230776</td>\n",
       "      <td>0.674638</td>\n",
       "      <td>0.25</td>\n",
       "      <td>1</td>\n",
       "    </tr>\n",
       "    <tr>\n",
       "      <th>5</th>\n",
       "      <td>0.209163</td>\n",
       "      <td>0.564293</td>\n",
       "      <td>1.000000</td>\n",
       "      <td>0.023323</td>\n",
       "      <td>0.032899</td>\n",
       "      <td>0.011491</td>\n",
       "      <td>0.031574</td>\n",
       "      <td>0.243921</td>\n",
       "      <td>0.525155</td>\n",
       "      <td>0.25</td>\n",
       "      <td>1</td>\n",
       "    </tr>\n",
       "    <tr>\n",
       "      <th>6</th>\n",
       "      <td>0.209163</td>\n",
       "      <td>0.563231</td>\n",
       "      <td>1.000000</td>\n",
       "      <td>0.064423</td>\n",
       "      <td>0.075729</td>\n",
       "      <td>0.030578</td>\n",
       "      <td>0.084361</td>\n",
       "      <td>0.217873</td>\n",
       "      <td>0.585979</td>\n",
       "      <td>0.25</td>\n",
       "      <td>1</td>\n",
       "    </tr>\n",
       "    <tr>\n",
       "      <th>7</th>\n",
       "      <td>0.209163</td>\n",
       "      <td>0.563231</td>\n",
       "      <td>1.000000</td>\n",
       "      <td>0.078895</td>\n",
       "      <td>0.106456</td>\n",
       "      <td>0.032344</td>\n",
       "      <td>0.106233</td>\n",
       "      <td>0.180694</td>\n",
       "      <td>0.466804</td>\n",
       "      <td>0.25</td>\n",
       "      <td>1</td>\n",
       "    </tr>\n",
       "    <tr>\n",
       "      <th>8</th>\n",
       "      <td>0.208167</td>\n",
       "      <td>0.563231</td>\n",
       "      <td>0.803922</td>\n",
       "      <td>0.064932</td>\n",
       "      <td>0.103042</td>\n",
       "      <td>0.033717</td>\n",
       "      <td>0.097681</td>\n",
       "      <td>0.108998</td>\n",
       "      <td>0.436495</td>\n",
       "      <td>0.25</td>\n",
       "      <td>1</td>\n",
       "    </tr>\n",
       "    <tr>\n",
       "      <th>9</th>\n",
       "      <td>0.209163</td>\n",
       "      <td>0.563231</td>\n",
       "      <td>1.000000</td>\n",
       "      <td>0.090213</td>\n",
       "      <td>0.109559</td>\n",
       "      <td>0.043387</td>\n",
       "      <td>0.117250</td>\n",
       "      <td>0.220087</td>\n",
       "      <td>0.507423</td>\n",
       "      <td>0.25</td>\n",
       "      <td>1</td>\n",
       "    </tr>\n",
       "  </tbody>\n",
       "</table>\n",
       "</div>"
      ],
      "text/plain": [
       "   longitude  latitude  housing_median_age  total_rooms  total_bedrooms  \\\n",
       "0   0.211155  0.567481            0.784314     0.022331        0.019863   \n",
       "1   0.212151  0.565356            0.392157     0.180503        0.171477   \n",
       "2   0.210159  0.564293            1.000000     0.037260        0.029330   \n",
       "3   0.209163  0.564293            1.000000     0.032352        0.036313   \n",
       "4   0.209163  0.564293            1.000000     0.041330        0.043296   \n",
       "5   0.209163  0.564293            1.000000     0.023323        0.032899   \n",
       "6   0.209163  0.563231            1.000000     0.064423        0.075729   \n",
       "7   0.209163  0.563231            1.000000     0.078895        0.106456   \n",
       "8   0.208167  0.563231            0.803922     0.064932        0.103042   \n",
       "9   0.209163  0.563231            1.000000     0.090213        0.109559   \n",
       "\n",
       "   population  households  median_income  median_house_value  ocean_proximity  \\\n",
       "0    0.008941    0.020556       0.539668            0.902266             0.25   \n",
       "1    0.067210    0.186976       0.538027            0.708247             0.25   \n",
       "2    0.013818    0.028943       0.466028            0.695051             0.25   \n",
       "3    0.015555    0.035849       0.354699            0.672783             0.25   \n",
       "4    0.015752    0.042427       0.230776            0.674638             0.25   \n",
       "5    0.011491    0.031574       0.243921            0.525155             0.25   \n",
       "6    0.030578    0.084361       0.217873            0.585979             0.25   \n",
       "7    0.032344    0.106233       0.180694            0.466804             0.25   \n",
       "8    0.033717    0.097681       0.108998            0.436495             0.25   \n",
       "9    0.043387    0.117250       0.220087            0.507423             0.25   \n",
       "\n",
       "   added  \n",
       "0      1  \n",
       "1      1  \n",
       "2      1  \n",
       "3      1  \n",
       "4      1  \n",
       "5      1  \n",
       "6      1  \n",
       "7      1  \n",
       "8      1  \n",
       "9      1  "
      ]
     },
     "execution_count": 15,
     "metadata": {},
     "output_type": "execute_result"
    }
   ],
   "source": [
    "min_max_norm_dataset[\"added\"] = 1\n",
    "min_max_norm_reduced_dataset[\"added\"] = 1\n",
    "\n",
    "zscore_norm_dataset[\"added\"] = 1\n",
    "zscore_norm_reduced_dataset[\"added\"] = 1\n",
    "\n",
    "min_max_norm_dataset.head(10)"
   ]
  },
  {
   "cell_type": "markdown",
   "metadata": {},
   "source": [
    "### Splitting in training and test set"
   ]
  },
  {
   "cell_type": "code",
   "execution_count": 6,
   "metadata": {},
   "outputs": [],
   "source": [
    "def split_dataset(dataset):\n",
    "    y = dataset[\"median_house_value\"]\n",
    "    x = dataset.drop(\"median_house_value\", axis = 1)\n",
    "    return train_test_split(x, y, test_size = 0.2)"
   ]
  },
  {
   "cell_type": "markdown",
   "metadata": {},
   "source": [
    "### First dataset"
   ]
  },
  {
   "cell_type": "code",
   "execution_count": 7,
   "metadata": {},
   "outputs": [],
   "source": [
    "x_train, x_test, y_train, y_test = split_dataset(min_max_norm_dataset)"
   ]
  },
  {
   "cell_type": "code",
   "execution_count": null,
   "metadata": {},
   "outputs": [],
   "source": []
  }
 ],
 "metadata": {
  "kernelspec": {
   "display_name": "Python 3",
   "language": "python",
   "name": "python3"
  },
  "language_info": {
   "codemirror_mode": {
    "name": "ipython",
    "version": 3
   },
   "file_extension": ".py",
   "mimetype": "text/x-python",
   "name": "python",
   "nbconvert_exporter": "python",
   "pygments_lexer": "ipython3",
   "version": "3.7.1"
  }
 },
 "nbformat": 4,
 "nbformat_minor": 2
}
