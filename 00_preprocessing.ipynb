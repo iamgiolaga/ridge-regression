{
 "cells": [
  {
   "cell_type": "markdown",
   "metadata": {},
   "source": [
    "# Data loading"
   ]
  },
  {
   "cell_type": "code",
   "execution_count": 9,
   "metadata": {},
   "outputs": [],
   "source": [
    "import pandas as pd\n",
    "import matplotlib.pyplot as plt\n",
    "import numpy as np\n",
    "import math\n",
    "import random\n",
    "import seaborn\n",
    "import missingno as msno \n",
    "from scipy import stats\n",
    "from random import uniform\n",
    "from scipy.stats.stats import pearsonr"
   ]
  },
  {
   "cell_type": "code",
   "execution_count": 10,
   "metadata": {},
   "outputs": [],
   "source": [
    "dataset = pd.read_csv(\"datasets/cal-housing.csv\")"
   ]
  },
  {
   "cell_type": "markdown",
   "metadata": {},
   "source": [
    "# Data visualization and anomalies detection"
   ]
  },
  {
   "cell_type": "code",
   "execution_count": 11,
   "metadata": {
    "scrolled": true
   },
   "outputs": [
    {
     "data": {
      "text/html": [
       "<div>\n",
       "<style scoped>\n",
       "    .dataframe tbody tr th:only-of-type {\n",
       "        vertical-align: middle;\n",
       "    }\n",
       "\n",
       "    .dataframe tbody tr th {\n",
       "        vertical-align: top;\n",
       "    }\n",
       "\n",
       "    .dataframe thead th {\n",
       "        text-align: right;\n",
       "    }\n",
       "</style>\n",
       "<table border=\"1\" class=\"dataframe\">\n",
       "  <thead>\n",
       "    <tr style=\"text-align: right;\">\n",
       "      <th></th>\n",
       "      <th>longitude</th>\n",
       "      <th>latitude</th>\n",
       "      <th>housing_median_age</th>\n",
       "      <th>total_rooms</th>\n",
       "      <th>total_bedrooms</th>\n",
       "      <th>population</th>\n",
       "      <th>households</th>\n",
       "      <th>median_income</th>\n",
       "      <th>median_house_value</th>\n",
       "      <th>ocean_proximity</th>\n",
       "    </tr>\n",
       "  </thead>\n",
       "  <tbody>\n",
       "    <tr>\n",
       "      <th>0</th>\n",
       "      <td>-122.23</td>\n",
       "      <td>37.88</td>\n",
       "      <td>41.0</td>\n",
       "      <td>880.0</td>\n",
       "      <td>129.0</td>\n",
       "      <td>322.0</td>\n",
       "      <td>126.0</td>\n",
       "      <td>8.3252</td>\n",
       "      <td>452600.0</td>\n",
       "      <td>NEAR BAY</td>\n",
       "    </tr>\n",
       "    <tr>\n",
       "      <th>1</th>\n",
       "      <td>-122.22</td>\n",
       "      <td>37.86</td>\n",
       "      <td>21.0</td>\n",
       "      <td>7099.0</td>\n",
       "      <td>1106.0</td>\n",
       "      <td>2401.0</td>\n",
       "      <td>1138.0</td>\n",
       "      <td>8.3014</td>\n",
       "      <td>358500.0</td>\n",
       "      <td>NEAR BAY</td>\n",
       "    </tr>\n",
       "    <tr>\n",
       "      <th>2</th>\n",
       "      <td>-122.24</td>\n",
       "      <td>37.85</td>\n",
       "      <td>52.0</td>\n",
       "      <td>1467.0</td>\n",
       "      <td>190.0</td>\n",
       "      <td>496.0</td>\n",
       "      <td>177.0</td>\n",
       "      <td>7.2574</td>\n",
       "      <td>352100.0</td>\n",
       "      <td>NEAR BAY</td>\n",
       "    </tr>\n",
       "    <tr>\n",
       "      <th>3</th>\n",
       "      <td>-122.25</td>\n",
       "      <td>37.85</td>\n",
       "      <td>52.0</td>\n",
       "      <td>1274.0</td>\n",
       "      <td>235.0</td>\n",
       "      <td>558.0</td>\n",
       "      <td>219.0</td>\n",
       "      <td>5.6431</td>\n",
       "      <td>341300.0</td>\n",
       "      <td>NEAR BAY</td>\n",
       "    </tr>\n",
       "    <tr>\n",
       "      <th>4</th>\n",
       "      <td>-122.25</td>\n",
       "      <td>37.85</td>\n",
       "      <td>52.0</td>\n",
       "      <td>1627.0</td>\n",
       "      <td>280.0</td>\n",
       "      <td>565.0</td>\n",
       "      <td>259.0</td>\n",
       "      <td>3.8462</td>\n",
       "      <td>342200.0</td>\n",
       "      <td>NEAR BAY</td>\n",
       "    </tr>\n",
       "    <tr>\n",
       "      <th>5</th>\n",
       "      <td>-122.25</td>\n",
       "      <td>37.85</td>\n",
       "      <td>52.0</td>\n",
       "      <td>919.0</td>\n",
       "      <td>213.0</td>\n",
       "      <td>413.0</td>\n",
       "      <td>193.0</td>\n",
       "      <td>4.0368</td>\n",
       "      <td>269700.0</td>\n",
       "      <td>NEAR BAY</td>\n",
       "    </tr>\n",
       "    <tr>\n",
       "      <th>6</th>\n",
       "      <td>-122.25</td>\n",
       "      <td>37.84</td>\n",
       "      <td>52.0</td>\n",
       "      <td>2535.0</td>\n",
       "      <td>489.0</td>\n",
       "      <td>1094.0</td>\n",
       "      <td>514.0</td>\n",
       "      <td>3.6591</td>\n",
       "      <td>299200.0</td>\n",
       "      <td>NEAR BAY</td>\n",
       "    </tr>\n",
       "    <tr>\n",
       "      <th>7</th>\n",
       "      <td>-122.25</td>\n",
       "      <td>37.84</td>\n",
       "      <td>52.0</td>\n",
       "      <td>3104.0</td>\n",
       "      <td>687.0</td>\n",
       "      <td>1157.0</td>\n",
       "      <td>647.0</td>\n",
       "      <td>3.1200</td>\n",
       "      <td>241400.0</td>\n",
       "      <td>NEAR BAY</td>\n",
       "    </tr>\n",
       "    <tr>\n",
       "      <th>8</th>\n",
       "      <td>-122.26</td>\n",
       "      <td>37.84</td>\n",
       "      <td>42.0</td>\n",
       "      <td>2555.0</td>\n",
       "      <td>665.0</td>\n",
       "      <td>1206.0</td>\n",
       "      <td>595.0</td>\n",
       "      <td>2.0804</td>\n",
       "      <td>226700.0</td>\n",
       "      <td>NEAR BAY</td>\n",
       "    </tr>\n",
       "    <tr>\n",
       "      <th>9</th>\n",
       "      <td>-122.25</td>\n",
       "      <td>37.84</td>\n",
       "      <td>52.0</td>\n",
       "      <td>3549.0</td>\n",
       "      <td>707.0</td>\n",
       "      <td>1551.0</td>\n",
       "      <td>714.0</td>\n",
       "      <td>3.6912</td>\n",
       "      <td>261100.0</td>\n",
       "      <td>NEAR BAY</td>\n",
       "    </tr>\n",
       "  </tbody>\n",
       "</table>\n",
       "</div>"
      ],
      "text/plain": [
       "   longitude  latitude  housing_median_age  total_rooms  total_bedrooms  \\\n",
       "0    -122.23     37.88                41.0        880.0           129.0   \n",
       "1    -122.22     37.86                21.0       7099.0          1106.0   \n",
       "2    -122.24     37.85                52.0       1467.0           190.0   \n",
       "3    -122.25     37.85                52.0       1274.0           235.0   \n",
       "4    -122.25     37.85                52.0       1627.0           280.0   \n",
       "5    -122.25     37.85                52.0        919.0           213.0   \n",
       "6    -122.25     37.84                52.0       2535.0           489.0   \n",
       "7    -122.25     37.84                52.0       3104.0           687.0   \n",
       "8    -122.26     37.84                42.0       2555.0           665.0   \n",
       "9    -122.25     37.84                52.0       3549.0           707.0   \n",
       "\n",
       "   population  households  median_income  median_house_value ocean_proximity  \n",
       "0       322.0       126.0         8.3252            452600.0        NEAR BAY  \n",
       "1      2401.0      1138.0         8.3014            358500.0        NEAR BAY  \n",
       "2       496.0       177.0         7.2574            352100.0        NEAR BAY  \n",
       "3       558.0       219.0         5.6431            341300.0        NEAR BAY  \n",
       "4       565.0       259.0         3.8462            342200.0        NEAR BAY  \n",
       "5       413.0       193.0         4.0368            269700.0        NEAR BAY  \n",
       "6      1094.0       514.0         3.6591            299200.0        NEAR BAY  \n",
       "7      1157.0       647.0         3.1200            241400.0        NEAR BAY  \n",
       "8      1206.0       595.0         2.0804            226700.0        NEAR BAY  \n",
       "9      1551.0       714.0         3.6912            261100.0        NEAR BAY  "
      ]
     },
     "execution_count": 11,
     "metadata": {},
     "output_type": "execute_result"
    }
   ],
   "source": [
    "dataset.head(10)"
   ]
  },
  {
   "cell_type": "code",
   "execution_count": 12,
   "metadata": {
    "scrolled": true
   },
   "outputs": [
    {
     "name": "stdout",
     "output_type": "stream",
     "text": [
      "20640 10\n"
     ]
    }
   ],
   "source": [
    "row, col = dataset.shape\n",
    "print(row, col)"
   ]
  },
  {
   "cell_type": "markdown",
   "metadata": {},
   "source": [
    "### Longitude"
   ]
  },
  {
   "cell_type": "code",
   "execution_count": 13,
   "metadata": {},
   "outputs": [
    {
     "data": {
      "image/png": "[encoded data removed]",
      "text/plain": [
       "<Figure size 1080x504 with 1 Axes>"
      ]
     },
     "metadata": {
      "needs_background": "light"
     },
     "output_type": "display_data"
    }
   ],
   "source": [
    "plt.figure(figsize=(15, 7))\n",
    "plt.hist(dataset[\"longitude\"])\n",
    "plt.grid()\n",
    "plt.title(\"Longitude\")\n",
    "plt.show()"
   ]
  },
  {
   "cell_type": "code",
   "execution_count": 14,
   "metadata": {},
   "outputs": [
    {
     "data": {
      "image/png": "[encoded data removed]",
      "text/plain": [
       "<Figure size 1080x504 with 1 Axes>"
      ]
     },
     "metadata": {
      "needs_background": "light"
     },
     "output_type": "display_data"
    }
   ],
   "source": [
    "plt.figure(figsize=(15, 7))\n",
    "plt.boxplot(dataset[\"longitude\"])\n",
    "plt.grid()\n",
    "plt.title(\"Longitude\")\n",
    "plt.show()"
   ]
  },
  {
   "cell_type": "code",
   "execution_count": 15,
   "metadata": {},
   "outputs": [
    {
     "data": {
      "text/plain": [
       "count    20640.000000\n",
       "mean      -119.569704\n",
       "std          2.003532\n",
       "min       -124.350000\n",
       "25%       -121.800000\n",
       "50%       -118.490000\n",
       "75%       -118.010000\n",
       "max       -114.310000\n",
       "Name: longitude, dtype: float64"
      ]
     },
     "execution_count": 15,
     "metadata": {},
     "output_type": "execute_result"
    }
   ],
   "source": [
    "dataset[\"longitude\"].describe()"
   ]
  },
  {
   "cell_type": "markdown",
   "metadata": {},
   "source": [
    "### Latitude"
   ]
  },
  {
   "cell_type": "code",
   "execution_count": 16,
   "metadata": {},
   "outputs": [
    {
     "data": {
      "image/png": "[encoded data removed]",
      "text/plain": [
       "<Figure size 1080x504 with 1 Axes>"
      ]
     },
     "metadata": {
      "needs_background": "light"
     },
     "output_type": "display_data"
    }
   ],
   "source": [
    "plt.figure(figsize=(15, 7))\n",
    "plt.hist(dataset[\"latitude\"])\n",
    "plt.grid()\n",
    "plt.title(\"Latitude\")\n",
    "plt.show()"
   ]
  },
  {
   "cell_type": "code",
   "execution_count": 17,
   "metadata": {},
   "outputs": [
    {
     "data": {
      "image/png": "[encoded data removed]",
      "text/plain": [
       "<Figure size 1080x504 with 1 Axes>"
      ]
     },
     "metadata": {
      "needs_background": "light"
     },
     "output_type": "display_data"
    }
   ],
   "source": [
    "plt.figure(figsize=(15, 7))\n",
    "plt.boxplot(dataset[\"latitude\"])\n",
    "plt.grid()\n",
    "plt.title(\"Latitude\")\n",
    "plt.show()"
   ]
  },
  {
   "cell_type": "code",
   "execution_count": 18,
   "metadata": {},
   "outputs": [
    {
     "data": {
      "text/plain": [
       "count    20640.000000\n",
       "mean        35.631861\n",
       "std          2.135952\n",
       "min         32.540000\n",
       "25%         33.930000\n",
       "50%         34.260000\n",
       "75%         37.710000\n",
       "max         41.950000\n",
       "Name: latitude, dtype: float64"
      ]
     },
     "execution_count": 18,
     "metadata": {},
     "output_type": "execute_result"
    }
   ],
   "source": [
    "dataset[\"latitude\"].describe()"
   ]
  },
  {
   "cell_type": "markdown",
   "metadata": {},
   "source": [
    "### Housing median age"
   ]
  },
  {
   "cell_type": "code",
   "execution_count": 19,
   "metadata": {},
   "outputs": [
    {
     "data": {
      "image/png": "[encoded data removed]",
      "text/plain": [
       "<Figure size 1080x504 with 1 Axes>"
      ]
     },
     "metadata": {
      "needs_background": "light"
     },
     "output_type": "display_data"
    }
   ],
   "source": [
    "plt.figure(figsize=(15, 7))\n",
    "plt.hist(dataset[\"housing_median_age\"])\n",
    "plt.grid()\n",
    "plt.title(\"Housing median age\")\n",
    "plt.show()"
   ]
  },
  {
   "cell_type": "code",
   "execution_count": 20,
   "metadata": {},
   "outputs": [
    {
     "data": {
      "image/png": "[encoded data removed]",
      "text/plain": [
       "<Figure size 1080x504 with 1 Axes>"
      ]
     },
     "metadata": {
      "needs_background": "light"
     },
     "output_type": "display_data"
    }
   ],
   "source": [
    "plt.figure(figsize=(15, 7))\n",
    "plt.boxplot(dataset[\"housing_median_age\"])\n",
    "plt.grid()\n",
    "plt.title(\"Housing median age\")\n",
    "plt.show()"
   ]
  },
  {
   "cell_type": "code",
   "execution_count": 21,
   "metadata": {
    "scrolled": true
   },
   "outputs": [
    {
     "data": {
      "text/plain": [
       "count    20640.000000\n",
       "mean        28.639486\n",
       "std         12.585558\n",
       "min          1.000000\n",
       "25%         18.000000\n",
       "50%         29.000000\n",
       "75%         37.000000\n",
       "max         52.000000\n",
       "Name: housing_median_age, dtype: float64"
      ]
     },
     "execution_count": 21,
     "metadata": {},
     "output_type": "execute_result"
    }
   ],
   "source": [
    "dataset[\"housing_median_age\"].describe()"
   ]
  },
  {
   "cell_type": "markdown",
   "metadata": {},
   "source": [
    "### Total rooms"
   ]
  },
  {
   "cell_type": "code",
   "execution_count": 22,
   "metadata": {},
   "outputs": [
    {
     "data": {
      "image/png": "[encoded data removed]",
      "text/plain": [
       "<Figure size 1080x504 with 1 Axes>"
      ]
     },
     "metadata": {
      "needs_background": "light"
     },
     "output_type": "display_data"
    }
   ],
   "source": [
    "plt.figure(figsize=(15, 7))\n",
    "plt.hist(dataset[\"total_rooms\"])\n",
    "plt.grid()\n",
    "plt.title(\"Total rooms\")\n",
    "plt.show()"
   ]
  },
  {
   "cell_type": "code",
   "execution_count": 23,
   "metadata": {},
   "outputs": [
    {
     "data": {
      "image/png": "[encoded data removed]",
      "text/plain": [
       "<Figure size 1080x504 with 1 Axes>"
      ]
     },
     "metadata": {
      "needs_background": "light"
     },
     "output_type": "display_data"
    }
   ],
   "source": [
    "plt.figure(figsize=(15, 7))\n",
    "plt.boxplot(dataset[\"total_rooms\"])\n",
    "plt.grid()\n",
    "plt.title(\"Total rooms\")\n",
    "plt.show()"
   ]
  },
  {
   "cell_type": "code",
   "execution_count": 24,
   "metadata": {},
   "outputs": [
    {
     "data": {
      "text/plain": [
       "count    20640.000000\n",
       "mean      2635.763081\n",
       "std       2181.615252\n",
       "min          2.000000\n",
       "25%       1447.750000\n",
       "50%       2127.000000\n",
       "75%       3148.000000\n",
       "max      39320.000000\n",
       "Name: total_rooms, dtype: float64"
      ]
     },
     "execution_count": 24,
     "metadata": {},
     "output_type": "execute_result"
    }
   ],
   "source": [
    "dataset[\"total_rooms\"].describe()"
   ]
  },
  {
   "cell_type": "markdown",
   "metadata": {},
   "source": [
    "### Total bedrooms"
   ]
  },
  {
   "cell_type": "code",
   "execution_count": 25,
   "metadata": {},
   "outputs": [
    {
     "name": "stderr",
     "output_type": "stream",
     "text": [
      "/Library/Frameworks/Python.framework/Versions/3.7/lib/python3.7/site-packages/numpy/lib/histograms.py:839: RuntimeWarning: invalid value encountered in greater_equal\n",
      "  keep = (tmp_a >= first_edge)\n",
      "/Library/Frameworks/Python.framework/Versions/3.7/lib/python3.7/site-packages/numpy/lib/histograms.py:840: RuntimeWarning: invalid value encountered in less_equal\n",
      "  keep &= (tmp_a <= last_edge)\n"
     ]
    },
    {
     "data": {
      "image/png": "[encoded data removed]",
      "text/plain": [
       "<Figure size 1080x504 with 1 Axes>"
      ]
     },
     "metadata": {
      "needs_background": "light"
     },
     "output_type": "display_data"
    }
   ],
   "source": [
    "plt.figure(figsize=(15, 7))\n",
    "plt.hist(dataset[\"total_bedrooms\"])\n",
    "plt.grid()\n",
    "plt.title(\"Total bedrooms\")\n",
    "plt.show()"
   ]
  },
  {
   "cell_type": "code",
   "execution_count": 26,
   "metadata": {
    "scrolled": false
   },
   "outputs": [
    {
     "name": "stderr",
     "output_type": "stream",
     "text": [
      "/Library/Frameworks/Python.framework/Versions/3.7/lib/python3.7/site-packages/matplotlib/cbook/__init__.py:1246: RuntimeWarning: invalid value encountered in less_equal\n",
      "  wiskhi = np.compress(x <= hival, x)\n",
      "/Library/Frameworks/Python.framework/Versions/3.7/lib/python3.7/site-packages/matplotlib/cbook/__init__.py:1253: RuntimeWarning: invalid value encountered in greater_equal\n",
      "  wisklo = np.compress(x >= loval, x)\n",
      "/Library/Frameworks/Python.framework/Versions/3.7/lib/python3.7/site-packages/matplotlib/cbook/__init__.py:1261: RuntimeWarning: invalid value encountered in less\n",
      "  np.compress(x < stats['whislo'], x),\n",
      "/Library/Frameworks/Python.framework/Versions/3.7/lib/python3.7/site-packages/matplotlib/cbook/__init__.py:1262: RuntimeWarning: invalid value encountered in greater\n",
      "  np.compress(x > stats['whishi'], x)\n"
     ]
    },
    {
     "data": {
      "image/png": "[encoded data removed]",
      "text/plain": [
       "<Figure size 1080x504 with 1 Axes>"
      ]
     },
     "metadata": {
      "needs_background": "light"
     },
     "output_type": "display_data"
    }
   ],
   "source": [
    "plt.figure(figsize=(15, 7))\n",
    "plt.boxplot(dataset[\"total_bedrooms\"])\n",
    "plt.grid()\n",
    "plt.title(\"Total bedrooms\")\n",
    "plt.show()"
   ]
  },
  {
   "cell_type": "markdown",
   "metadata": {},
   "source": [
    "<b>Note</b>: we will discover later that this exception was thrown due to NaNs presence in <em>total_bedrooms</em>"
   ]
  },
  {
   "cell_type": "markdown",
   "metadata": {},
   "source": [
    "In order to complete the analysis, let's visualize the boxplot of <em>total_bedrooms</em> without missing values, we will handle their presence later"
   ]
  },
  {
   "cell_type": "code",
   "execution_count": 27,
   "metadata": {
    "scrolled": false
   },
   "outputs": [
    {
     "data": {
      "image/png": "[encoded data removed]",
      "text/plain": [
       "<Figure size 1080x504 with 1 Axes>"
      ]
     },
     "metadata": {
      "needs_background": "light"
     },
     "output_type": "display_data"
    }
   ],
   "source": [
    "plt.figure(figsize=(15, 7))\n",
    "plt.boxplot(dataset[-dataset.isnull().any(axis=1)][\"total_bedrooms\"])\n",
    "plt.grid()\n",
    "plt.title(\"Total bedrooms without missing values\")\n",
    "plt.show()"
   ]
  },
  {
   "cell_type": "markdown",
   "metadata": {},
   "source": [
    "And we add <em>total_bedrooms</em> to the list of columns which show outliers"
   ]
  },
  {
   "cell_type": "code",
   "execution_count": 28,
   "metadata": {},
   "outputs": [
    {
     "data": {
      "text/plain": [
       "count    20433.000000\n",
       "mean       537.870553\n",
       "std        421.385070\n",
       "min          1.000000\n",
       "25%        296.000000\n",
       "50%        435.000000\n",
       "75%        647.000000\n",
       "max       6445.000000\n",
       "Name: total_bedrooms, dtype: float64"
      ]
     },
     "execution_count": 28,
     "metadata": {},
     "output_type": "execute_result"
    }
   ],
   "source": [
    "dataset[\"total_bedrooms\"].describe()"
   ]
  },
  {
   "cell_type": "markdown",
   "metadata": {},
   "source": [
    "### Population"
   ]
  },
  {
   "cell_type": "code",
   "execution_count": 29,
   "metadata": {},
   "outputs": [
    {
     "data": {
      "image/png": "[encoded data removed]",
      "text/plain": [
       "<Figure size 1080x504 with 1 Axes>"
      ]
     },
     "metadata": {
      "needs_background": "light"
     },
     "output_type": "display_data"
    }
   ],
   "source": [
    "plt.figure(figsize=(15, 7))\n",
    "plt.hist(dataset[\"population\"])\n",
    "plt.grid()\n",
    "plt.title(\"Population\")\n",
    "plt.show()"
   ]
  },
  {
   "cell_type": "code",
   "execution_count": 30,
   "metadata": {},
   "outputs": [
    {
     "data": {
      "image/png": "[encoded data removed]",
      "text/plain": [
       "<Figure size 1080x504 with 1 Axes>"
      ]
     },
     "metadata": {
      "needs_background": "light"
     },
     "output_type": "display_data"
    }
   ],
   "source": [
    "plt.figure(figsize=(15, 7))\n",
    "plt.boxplot(dataset[\"population\"])\n",
    "plt.grid()\n",
    "plt.title(\"Population\")\n",
    "plt.show()"
   ]
  },
  {
   "cell_type": "code",
   "execution_count": 31,
   "metadata": {},
   "outputs": [
    {
     "data": {
      "text/plain": [
       "count    20640.000000\n",
       "mean      1425.476744\n",
       "std       1132.462122\n",
       "min          3.000000\n",
       "25%        787.000000\n",
       "50%       1166.000000\n",
       "75%       1725.000000\n",
       "max      35682.000000\n",
       "Name: population, dtype: float64"
      ]
     },
     "execution_count": 31,
     "metadata": {},
     "output_type": "execute_result"
    }
   ],
   "source": [
    "dataset[\"population\"].describe()"
   ]
  },
  {
   "cell_type": "markdown",
   "metadata": {},
   "source": [
    "### Households"
   ]
  },
  {
   "cell_type": "code",
   "execution_count": 32,
   "metadata": {},
   "outputs": [
    {
     "data": {
      "image/png": "[encoded data removed]",
      "text/plain": [
       "<Figure size 1080x504 with 1 Axes>"
      ]
     },
     "metadata": {
      "needs_background": "light"
     },
     "output_type": "display_data"
    }
   ],
   "source": [
    "plt.figure(figsize=(15, 7))\n",
    "plt.hist(dataset[\"households\"])\n",
    "plt.grid()\n",
    "plt.title(\"Households\")\n",
    "plt.show()"
   ]
  },
  {
   "cell_type": "code",
   "execution_count": 33,
   "metadata": {},
   "outputs": [
    {
     "data": {
      "image/png": "[encoded data removed]",
      "text/plain": [
       "<Figure size 1080x504 with 1 Axes>"
      ]
     },
     "metadata": {
      "needs_background": "light"
     },
     "output_type": "display_data"
    }
   ],
   "source": [
    "plt.figure(figsize=(15, 7))\n",
    "plt.boxplot(dataset[\"households\"])\n",
    "plt.grid()\n",
    "plt.title(\"Households\")\n",
    "plt.show()"
   ]
  },
  {
   "cell_type": "code",
   "execution_count": 34,
   "metadata": {},
   "outputs": [
    {
     "data": {
      "text/plain": [
       "count    20640.000000\n",
       "mean       499.539680\n",
       "std        382.329753\n",
       "min          1.000000\n",
       "25%        280.000000\n",
       "50%        409.000000\n",
       "75%        605.000000\n",
       "max       6082.000000\n",
       "Name: households, dtype: float64"
      ]
     },
     "execution_count": 34,
     "metadata": {},
     "output_type": "execute_result"
    }
   ],
   "source": [
    "dataset[\"households\"].describe()"
   ]
  },
  {
   "cell_type": "markdown",
   "metadata": {},
   "source": [
    "### Median income"
   ]
  },
  {
   "cell_type": "code",
   "execution_count": 35,
   "metadata": {},
   "outputs": [
    {
     "data": {
      "image/png": "[encoded data removed]",
      "text/plain": [
       "<Figure size 1080x504 with 1 Axes>"
      ]
     },
     "metadata": {
      "needs_background": "light"
     },
     "output_type": "display_data"
    }
   ],
   "source": [
    "plt.figure(figsize=(15, 7))\n",
    "plt.hist(dataset[\"median_income\"])\n",
    "plt.grid()\n",
    "plt.title(\"Median income\")\n",
    "plt.show()"
   ]
  },
  {
   "cell_type": "code",
   "execution_count": 36,
   "metadata": {},
   "outputs": [
    {
     "data": {
      "image/png": "[encoded data removed]",
      "text/plain": [
       "<Figure size 1080x504 with 1 Axes>"
      ]
     },
     "metadata": {
      "needs_background": "light"
     },
     "output_type": "display_data"
    }
   ],
   "source": [
    "plt.figure(figsize=(15, 7))\n",
    "plt.boxplot(dataset[\"median_income\"])\n",
    "plt.grid()\n",
    "plt.title(\"Median income\")\n",
    "plt.show()"
   ]
  },
  {
   "cell_type": "code",
   "execution_count": 37,
   "metadata": {},
   "outputs": [
    {
     "data": {
      "text/plain": [
       "count    20640.000000\n",
       "mean         3.870671\n",
       "std          1.899822\n",
       "min          0.499900\n",
       "25%          2.563400\n",
       "50%          3.534800\n",
       "75%          4.743250\n",
       "max         15.000100\n",
       "Name: median_income, dtype: float64"
      ]
     },
     "execution_count": 37,
     "metadata": {},
     "output_type": "execute_result"
    }
   ],
   "source": [
    "dataset[\"median_income\"].describe()"
   ]
  },
  {
   "cell_type": "markdown",
   "metadata": {},
   "source": [
    "### Median house value"
   ]
  },
  {
   "cell_type": "code",
   "execution_count": 38,
   "metadata": {},
   "outputs": [
    {
     "data": {
      "image/png": "[encoded data removed]",
      "text/plain": [
       "<Figure size 1080x504 with 1 Axes>"
      ]
     },
     "metadata": {
      "needs_background": "light"
     },
     "output_type": "display_data"
    }
   ],
   "source": [
    "plt.figure(figsize=(15, 7))\n",
    "plt.hist(dataset[\"median_house_value\"])\n",
    "plt.grid()\n",
    "plt.title(\"Median house value\")\n",
    "plt.show()"
   ]
  },
  {
   "cell_type": "code",
   "execution_count": 39,
   "metadata": {},
   "outputs": [
    {
     "data": {
      "image/png": "[encoded data removed]",
      "text/plain": [
       "<Figure size 1080x504 with 1 Axes>"
      ]
     },
     "metadata": {
      "needs_background": "light"
     },
     "output_type": "display_data"
    }
   ],
   "source": [
    "plt.figure(figsize=(15, 7))\n",
    "plt.boxplot(dataset[\"median_house_value\"])\n",
    "plt.grid()\n",
    "plt.title(\"Median house value\")\n",
    "plt.show()"
   ]
  },
  {
   "cell_type": "code",
   "execution_count": 40,
   "metadata": {},
   "outputs": [
    {
     "data": {
      "text/plain": [
       "count     20640.000000\n",
       "mean     206855.816909\n",
       "std      115395.615874\n",
       "min       14999.000000\n",
       "25%      119600.000000\n",
       "50%      179700.000000\n",
       "75%      264725.000000\n",
       "max      500001.000000\n",
       "Name: median_house_value, dtype: float64"
      ]
     },
     "execution_count": 40,
     "metadata": {},
     "output_type": "execute_result"
    }
   ],
   "source": [
    "dataset[\"median_house_value\"].describe()"
   ]
  },
  {
   "cell_type": "markdown",
   "metadata": {},
   "source": [
    "### Ocean proximity"
   ]
  },
  {
   "cell_type": "code",
   "execution_count": 41,
   "metadata": {},
   "outputs": [
    {
     "data": {
      "image/png": "[encoded data removed]",
      "text/plain": [
       "<Figure size 1080x504 with 1 Axes>"
      ]
     },
     "metadata": {
      "needs_background": "light"
     },
     "output_type": "display_data"
    }
   ],
   "source": [
    "plt.figure(figsize=(15, 7))\n",
    "plt.title(\"Ocean proximity\")\n",
    "dataset[\"ocean_proximity\"].value_counts().plot(kind=\"bar\")\n",
    "plt.show()"
   ]
  },
  {
   "cell_type": "code",
   "execution_count": 42,
   "metadata": {
    "scrolled": true
   },
   "outputs": [
    {
     "data": {
      "text/plain": [
       "array(['NEAR BAY', '<1H OCEAN', 'INLAND', 'NEAR OCEAN', 'ISLAND'],\n",
       "      dtype=object)"
      ]
     },
     "execution_count": 42,
     "metadata": {},
     "output_type": "execute_result"
    }
   ],
   "source": [
    "dataset[\"ocean_proximity\"].unique()"
   ]
  },
  {
   "cell_type": "code",
   "execution_count": 43,
   "metadata": {
    "scrolled": true
   },
   "outputs": [
    {
     "data": {
      "text/plain": [
       "<1H OCEAN     9136\n",
       "INLAND        6551\n",
       "NEAR OCEAN    2658\n",
       "NEAR BAY      2290\n",
       "ISLAND           5\n",
       "Name: ocean_proximity, dtype: int64"
      ]
     },
     "execution_count": 43,
     "metadata": {},
     "output_type": "execute_result"
    }
   ],
   "source": [
    "dataset[\"ocean_proximity\"].value_counts()"
   ]
  },
  {
   "cell_type": "markdown",
   "metadata": {},
   "source": [
    "At the end of this section we noticed some outliers in <em>total_rooms</em>, <em>population</em>, <em>households</em>, <em>median_income</em> and <em>median_house_value</em>"
   ]
  },
  {
   "cell_type": "markdown",
   "metadata": {},
   "source": [
    "# Preprocessing and Data Wrangling"
   ]
  },
  {
   "cell_type": "markdown",
   "metadata": {},
   "source": [
    "## Duplicate removal"
   ]
  },
  {
   "cell_type": "code",
   "execution_count": 44,
   "metadata": {},
   "outputs": [
    {
     "data": {
      "text/plain": [
       "20640"
      ]
     },
     "execution_count": 44,
     "metadata": {},
     "output_type": "execute_result"
    }
   ],
   "source": [
    "len(dataset)"
   ]
  },
  {
   "cell_type": "code",
   "execution_count": 45,
   "metadata": {},
   "outputs": [
    {
     "data": {
      "text/plain": [
       "20640"
      ]
     },
     "execution_count": 45,
     "metadata": {},
     "output_type": "execute_result"
    }
   ],
   "source": [
    "dataset = dataset.drop_duplicates()\n",
    "len(dataset)"
   ]
  },
  {
   "cell_type": "markdown",
   "metadata": {},
   "source": [
    "Fortunately, in this dataset there are no duplicates"
   ]
  },
  {
   "cell_type": "markdown",
   "metadata": {},
   "source": [
    "## Handling categorical values"
   ]
  },
  {
   "cell_type": "markdown",
   "metadata": {},
   "source": [
    "In this dataset *ocean proximity* has categorical (nominal) values, and they are not usable for our next regression, since it takes in input values belonging to $ℝ^d$.\n",
    "We don't know the impact that this column / feature can have on the final accuracy, but not taking into account its values just by deleting them might be an error.\n",
    "A better solution is to convert these values to a numeric domain:"
   ]
  },
  {
   "cell_type": "markdown",
   "metadata": {},
   "source": [
    "### One-hot encoding"
   ]
  },
  {
   "cell_type": "code",
   "execution_count": 46,
   "metadata": {
    "scrolled": false
   },
   "outputs": [
    {
     "data": {
      "text/html": [
       "<div>\n",
       "<style scoped>\n",
       "    .dataframe tbody tr th:only-of-type {\n",
       "        vertical-align: middle;\n",
       "    }\n",
       "\n",
       "    .dataframe tbody tr th {\n",
       "        vertical-align: top;\n",
       "    }\n",
       "\n",
       "    .dataframe thead th {\n",
       "        text-align: right;\n",
       "    }\n",
       "</style>\n",
       "<table border=\"1\" class=\"dataframe\">\n",
       "  <thead>\n",
       "    <tr style=\"text-align: right;\">\n",
       "      <th></th>\n",
       "      <th>longitude</th>\n",
       "      <th>latitude</th>\n",
       "      <th>housing_median_age</th>\n",
       "      <th>total_rooms</th>\n",
       "      <th>total_bedrooms</th>\n",
       "      <th>population</th>\n",
       "      <th>households</th>\n",
       "      <th>median_income</th>\n",
       "      <th>median_house_value</th>\n",
       "      <th>&lt;1H OCEAN</th>\n",
       "      <th>INLAND</th>\n",
       "      <th>ISLAND</th>\n",
       "      <th>NEAR BAY</th>\n",
       "      <th>NEAR OCEAN</th>\n",
       "    </tr>\n",
       "  </thead>\n",
       "  <tbody>\n",
       "    <tr>\n",
       "      <th>0</th>\n",
       "      <td>-122.23</td>\n",
       "      <td>37.88</td>\n",
       "      <td>41.0</td>\n",
       "      <td>880.0</td>\n",
       "      <td>129.0</td>\n",
       "      <td>322.0</td>\n",
       "      <td>126.0</td>\n",
       "      <td>8.3252</td>\n",
       "      <td>452600.0</td>\n",
       "      <td>0</td>\n",
       "      <td>0</td>\n",
       "      <td>0</td>\n",
       "      <td>1</td>\n",
       "      <td>0</td>\n",
       "    </tr>\n",
       "    <tr>\n",
       "      <th>1</th>\n",
       "      <td>-122.22</td>\n",
       "      <td>37.86</td>\n",
       "      <td>21.0</td>\n",
       "      <td>7099.0</td>\n",
       "      <td>1106.0</td>\n",
       "      <td>2401.0</td>\n",
       "      <td>1138.0</td>\n",
       "      <td>8.3014</td>\n",
       "      <td>358500.0</td>\n",
       "      <td>0</td>\n",
       "      <td>0</td>\n",
       "      <td>0</td>\n",
       "      <td>1</td>\n",
       "      <td>0</td>\n",
       "    </tr>\n",
       "    <tr>\n",
       "      <th>2</th>\n",
       "      <td>-122.24</td>\n",
       "      <td>37.85</td>\n",
       "      <td>52.0</td>\n",
       "      <td>1467.0</td>\n",
       "      <td>190.0</td>\n",
       "      <td>496.0</td>\n",
       "      <td>177.0</td>\n",
       "      <td>7.2574</td>\n",
       "      <td>352100.0</td>\n",
       "      <td>0</td>\n",
       "      <td>0</td>\n",
       "      <td>0</td>\n",
       "      <td>1</td>\n",
       "      <td>0</td>\n",
       "    </tr>\n",
       "    <tr>\n",
       "      <th>3</th>\n",
       "      <td>-122.25</td>\n",
       "      <td>37.85</td>\n",
       "      <td>52.0</td>\n",
       "      <td>1274.0</td>\n",
       "      <td>235.0</td>\n",
       "      <td>558.0</td>\n",
       "      <td>219.0</td>\n",
       "      <td>5.6431</td>\n",
       "      <td>341300.0</td>\n",
       "      <td>0</td>\n",
       "      <td>0</td>\n",
       "      <td>0</td>\n",
       "      <td>1</td>\n",
       "      <td>0</td>\n",
       "    </tr>\n",
       "    <tr>\n",
       "      <th>4</th>\n",
       "      <td>-122.25</td>\n",
       "      <td>37.85</td>\n",
       "      <td>52.0</td>\n",
       "      <td>1627.0</td>\n",
       "      <td>280.0</td>\n",
       "      <td>565.0</td>\n",
       "      <td>259.0</td>\n",
       "      <td>3.8462</td>\n",
       "      <td>342200.0</td>\n",
       "      <td>0</td>\n",
       "      <td>0</td>\n",
       "      <td>0</td>\n",
       "      <td>1</td>\n",
       "      <td>0</td>\n",
       "    </tr>\n",
       "    <tr>\n",
       "      <th>5</th>\n",
       "      <td>-122.25</td>\n",
       "      <td>37.85</td>\n",
       "      <td>52.0</td>\n",
       "      <td>919.0</td>\n",
       "      <td>213.0</td>\n",
       "      <td>413.0</td>\n",
       "      <td>193.0</td>\n",
       "      <td>4.0368</td>\n",
       "      <td>269700.0</td>\n",
       "      <td>0</td>\n",
       "      <td>0</td>\n",
       "      <td>0</td>\n",
       "      <td>1</td>\n",
       "      <td>0</td>\n",
       "    </tr>\n",
       "    <tr>\n",
       "      <th>6</th>\n",
       "      <td>-122.25</td>\n",
       "      <td>37.84</td>\n",
       "      <td>52.0</td>\n",
       "      <td>2535.0</td>\n",
       "      <td>489.0</td>\n",
       "      <td>1094.0</td>\n",
       "      <td>514.0</td>\n",
       "      <td>3.6591</td>\n",
       "      <td>299200.0</td>\n",
       "      <td>0</td>\n",
       "      <td>0</td>\n",
       "      <td>0</td>\n",
       "      <td>1</td>\n",
       "      <td>0</td>\n",
       "    </tr>\n",
       "    <tr>\n",
       "      <th>7</th>\n",
       "      <td>-122.25</td>\n",
       "      <td>37.84</td>\n",
       "      <td>52.0</td>\n",
       "      <td>3104.0</td>\n",
       "      <td>687.0</td>\n",
       "      <td>1157.0</td>\n",
       "      <td>647.0</td>\n",
       "      <td>3.1200</td>\n",
       "      <td>241400.0</td>\n",
       "      <td>0</td>\n",
       "      <td>0</td>\n",
       "      <td>0</td>\n",
       "      <td>1</td>\n",
       "      <td>0</td>\n",
       "    </tr>\n",
       "    <tr>\n",
       "      <th>8</th>\n",
       "      <td>-122.26</td>\n",
       "      <td>37.84</td>\n",
       "      <td>42.0</td>\n",
       "      <td>2555.0</td>\n",
       "      <td>665.0</td>\n",
       "      <td>1206.0</td>\n",
       "      <td>595.0</td>\n",
       "      <td>2.0804</td>\n",
       "      <td>226700.0</td>\n",
       "      <td>0</td>\n",
       "      <td>0</td>\n",
       "      <td>0</td>\n",
       "      <td>1</td>\n",
       "      <td>0</td>\n",
       "    </tr>\n",
       "    <tr>\n",
       "      <th>9</th>\n",
       "      <td>-122.25</td>\n",
       "      <td>37.84</td>\n",
       "      <td>52.0</td>\n",
       "      <td>3549.0</td>\n",
       "      <td>707.0</td>\n",
       "      <td>1551.0</td>\n",
       "      <td>714.0</td>\n",
       "      <td>3.6912</td>\n",
       "      <td>261100.0</td>\n",
       "      <td>0</td>\n",
       "      <td>0</td>\n",
       "      <td>0</td>\n",
       "      <td>1</td>\n",
       "      <td>0</td>\n",
       "    </tr>\n",
       "  </tbody>\n",
       "</table>\n",
       "</div>"
      ],
      "text/plain": [
       "   longitude  latitude  housing_median_age  total_rooms  total_bedrooms  \\\n",
       "0    -122.23     37.88                41.0        880.0           129.0   \n",
       "1    -122.22     37.86                21.0       7099.0          1106.0   \n",
       "2    -122.24     37.85                52.0       1467.0           190.0   \n",
       "3    -122.25     37.85                52.0       1274.0           235.0   \n",
       "4    -122.25     37.85                52.0       1627.0           280.0   \n",
       "5    -122.25     37.85                52.0        919.0           213.0   \n",
       "6    -122.25     37.84                52.0       2535.0           489.0   \n",
       "7    -122.25     37.84                52.0       3104.0           687.0   \n",
       "8    -122.26     37.84                42.0       2555.0           665.0   \n",
       "9    -122.25     37.84                52.0       3549.0           707.0   \n",
       "\n",
       "   population  households  median_income  median_house_value  <1H OCEAN  \\\n",
       "0       322.0       126.0         8.3252            452600.0          0   \n",
       "1      2401.0      1138.0         8.3014            358500.0          0   \n",
       "2       496.0       177.0         7.2574            352100.0          0   \n",
       "3       558.0       219.0         5.6431            341300.0          0   \n",
       "4       565.0       259.0         3.8462            342200.0          0   \n",
       "5       413.0       193.0         4.0368            269700.0          0   \n",
       "6      1094.0       514.0         3.6591            299200.0          0   \n",
       "7      1157.0       647.0         3.1200            241400.0          0   \n",
       "8      1206.0       595.0         2.0804            226700.0          0   \n",
       "9      1551.0       714.0         3.6912            261100.0          0   \n",
       "\n",
       "   INLAND  ISLAND  NEAR BAY  NEAR OCEAN  \n",
       "0       0       0         1           0  \n",
       "1       0       0         1           0  \n",
       "2       0       0         1           0  \n",
       "3       0       0         1           0  \n",
       "4       0       0         1           0  \n",
       "5       0       0         1           0  \n",
       "6       0       0         1           0  \n",
       "7       0       0         1           0  \n",
       "8       0       0         1           0  \n",
       "9       0       0         1           0  "
      ]
     },
     "execution_count": 46,
     "metadata": {},
     "output_type": "execute_result"
    }
   ],
   "source": [
    "dummies = pd.get_dummies(dataset[\"ocean_proximity\"])\n",
    "dataset[\"<1H OCEAN\"] = dummies[\"<1H OCEAN\"] \n",
    "dataset[\"INLAND\"] = dummies[\"INLAND\"]\n",
    "dataset[\"ISLAND\"] = dummies[\"ISLAND\"]\n",
    "dataset[\"NEAR BAY\"] = dummies[\"NEAR BAY\"]\n",
    "dataset[\"NEAR OCEAN\"] = dummies[\"NEAR OCEAN\"]\n",
    "dataset = dataset.drop(\"ocean_proximity\", axis=1)\n",
    "dataset.head(10)"
   ]
  },
  {
   "cell_type": "code",
   "execution_count": 47,
   "metadata": {},
   "outputs": [
    {
     "data": {
      "image/png": "[encoded data removed]",
      "text/plain": [
       "<Figure size 1080x504 with 2 Axes>"
      ]
     },
     "metadata": {
      "needs_background": "light"
     },
     "output_type": "display_data"
    }
   ],
   "source": [
    "corrMatrix = dataset.corr()\n",
    "plt.figure(figsize=(15,7))\n",
    "seaborn.heatmap(corrMatrix, annot=True)\n",
    "plt.show()"
   ]
  },
  {
   "cell_type": "markdown",
   "metadata": {},
   "source": [
    "##### Outliers removal"
   ]
  },
  {
   "cell_type": "markdown",
   "metadata": {},
   "source": [
    "Outliers are values which show huge variance with respect to the rest of the distribution, this means that\n",
    "1. they could be due to an error\n",
    "2. they could be due to a legitimate property but, they could mislead the regressor in catching wrong dependencies between features\n",
    "\n",
    "in both cases leaving them wouldn't be an acceptable solution, usually data scientist choose to cut them out or to replace them with consistent values.\n",
    "I think that it will be better to cut them out, since we can't distinguish errors from correct values that have this peculiarity and, by replacing them we could mislead the regressor anyway."
   ]
  },
  {
   "cell_type": "markdown",
   "metadata": {},
   "source": [
    "As introduced in the first section, there are some outliers whose presence may impact on the final behavior of our regressor, so it's better to remove them, in particular, they are contained in <em>total_rooms</em>, <em>total_bedrooms</em>, <em>population</em>, <em>households</em>, <em>median_income</em> and <em>median_house_value</em> so we will investigate these columns"
   ]
  },
  {
   "cell_type": "markdown",
   "metadata": {},
   "source": [
    "We will first identify them, then evaluate their fraction over the entire dataset, and then remove them."
   ]
  },
  {
   "cell_type": "markdown",
   "metadata": {},
   "source": [
    "In order to identify outliers, we can compute the interquartile distance, set it equal to iqr, and set\n",
    "- max_threshold 3rd quartile + 1.5 * iqr\n",
    "- min_threshold 1st quartile - 1.5 * iqr"
   ]
  },
  {
   "cell_type": "code",
   "execution_count": 687,
   "metadata": {},
   "outputs": [
    {
     "name": "stdout",
     "output_type": "stream",
     "text": [
      "6.235 %\n"
     ]
    }
   ],
   "source": [
    "iqr = dataset[\"total_rooms\"].quantile(0.75) - dataset[\"total_rooms\"].quantile(0.25)\n",
    "max_threshold_tot_rooms = dataset[\"total_rooms\"].quantile(0.75) + 1.5*iqr\n",
    "min_threshold_tot_rooms = dataset[\"total_rooms\"].quantile(0.75) - 1.5*iqr\n",
    "print(round(len(dataset[(dataset[\"total_rooms\"] > max_threshold_tot_rooms)]) / len(dataset)*100, 3), \"%\")"
   ]
  },
  {
   "cell_type": "code",
   "execution_count": 688,
   "metadata": {},
   "outputs": [
    {
     "name": "stdout",
     "output_type": "stream",
     "text": [
      "6.158 %\n"
     ]
    }
   ],
   "source": [
    "iqr = dataset[\"total_bedrooms\"].quantile(0.75) - dataset[\"total_bedrooms\"].quantile(0.25)\n",
    "max_threshold_tot_bedrooms = dataset[\"total_bedrooms\"].quantile(0.75) + 1.5*iqr\n",
    "min_threshold_tot_bedrooms = dataset[\"total_bedrooms\"].quantile(0.25) - 1.5*iqr\n",
    "print(round(len(dataset[(dataset[\"total_bedrooms\"] > max_threshold_tot_bedrooms)]) / len(dataset) * 100, 3), \"%\")"
   ]
  },
  {
   "cell_type": "code",
   "execution_count": 689,
   "metadata": {},
   "outputs": [
    {
     "name": "stdout",
     "output_type": "stream",
     "text": [
      "5.795 %\n"
     ]
    }
   ],
   "source": [
    "iqr = dataset[\"population\"].quantile(0.75) - dataset[\"population\"].quantile(0.25)\n",
    "max_threshold_population = dataset[\"population\"].quantile(0.75) + 1.5*iqr\n",
    "min_threshold_population = dataset[\"population\"].quantile(0.25) - 1.5*iqr\n",
    "print(round(len(dataset[(dataset[\"population\"] > max_threshold_population)]) / len(dataset) * 100, 3), \"%\")"
   ]
  },
  {
   "cell_type": "code",
   "execution_count": 690,
   "metadata": {},
   "outputs": [
    {
     "name": "stdout",
     "output_type": "stream",
     "text": [
      "5.911 %\n"
     ]
    }
   ],
   "source": [
    "iqr = dataset[\"households\"].quantile(0.75) - dataset[\"households\"].quantile(0.25)\n",
    "max_threshold_households = dataset[\"households\"].quantile(0.75) + 1.5*iqr\n",
    "min_threshold_households = dataset[\"households\"].quantile(0.25) - 1.5*iqr\n",
    "print(round(len(dataset[(dataset[\"households\"] > max_threshold_households)]) / len(dataset) * 100, 3), \"%\")"
   ]
  },
  {
   "cell_type": "code",
   "execution_count": 691,
   "metadata": {
    "scrolled": true
   },
   "outputs": [
    {
     "name": "stdout",
     "output_type": "stream",
     "text": [
      "3.299 %\n"
     ]
    }
   ],
   "source": [
    "iqr = dataset[\"median_income\"].quantile(0.75) - dataset[\"median_income\"].quantile(0.25)\n",
    "max_threshold_median_income = dataset[\"median_income\"].quantile(0.75) + 1.5*iqr\n",
    "min_threshold_median_income = dataset[\"median_income\"].quantile(0.25) - 1.5*iqr\n",
    "print(round(len(dataset[(dataset[\"median_income\"] > max_threshold_median_income)]) / len(dataset) * 100, 3), \"%\")"
   ]
  },
  {
   "cell_type": "code",
   "execution_count": 692,
   "metadata": {},
   "outputs": [
    {
     "name": "stdout",
     "output_type": "stream",
     "text": [
      "5.189 %\n"
     ]
    }
   ],
   "source": [
    "iqr = dataset[\"median_house_value\"].quantile(0.75) - dataset[\"median_house_value\"].quantile(0.25)\n",
    "max_threshold_median_house_value = dataset[\"median_house_value\"].quantile(0.75) + 1.5*iqr\n",
    "min_threshold_median_house_value = dataset[\"median_house_value\"].quantile(0.25) - 1.5*iqr\n",
    "print(round(len(dataset[(dataset[\"median_house_value\"] > max_threshold_median_house_value)]) / len(dataset) * 100, 3), \"%\")"
   ]
  },
  {
   "cell_type": "markdown",
   "metadata": {},
   "source": [
    "From this we see that the proportion of outliers is not the same for every column, this means that not all of the outliers involved are belonging to the same row"
   ]
  },
  {
   "cell_type": "markdown",
   "metadata": {},
   "source": [
    "<b>Note</b>: now there is an issue, because we contemporary want to:\n",
    "1. remove outliers without collateral effects due to the presence of missing values (i.e. NaNs affect the threshold result)\n",
    "2. replace missing values without being affected by outliers\n",
    "\n",
    "for this reason, the order of our pipeline is crucial: we first apply outliers removal and then missing values replacement.\n",
    "So, in order to satisfy the first point we replace NaNs with a special value (-1), which is impossible for <em>total_bedrooms</em>, we apply outliers removal, and we replace -1s with NaNs again so that we will handle their replacement later in a proper way satisfying the second one."
   ]
  },
  {
   "cell_type": "code",
   "execution_count": 693,
   "metadata": {},
   "outputs": [
    {
     "data": {
      "text/plain": [
       "True"
      ]
     },
     "execution_count": 693,
     "metadata": {},
     "output_type": "execute_result"
    }
   ],
   "source": [
    "dataset.isnull().values.any()"
   ]
  },
  {
   "cell_type": "code",
   "execution_count": 694,
   "metadata": {
    "scrolled": true
   },
   "outputs": [
    {
     "name": "stderr",
     "output_type": "stream",
     "text": [
      "/Library/Frameworks/Python.framework/Versions/3.7/lib/python3.7/site-packages/ipykernel_launcher.py:3: SettingWithCopyWarning: \n",
      "A value is trying to be set on a copy of a slice from a DataFrame\n",
      "\n",
      "See the caveats in the documentation: http://pandas.pydata.org/pandas-docs/stable/indexing.html#indexing-view-versus-copy\n",
      "  This is separate from the ipykernel package so we can avoid doing imports until\n"
     ]
    }
   ],
   "source": [
    "for index, i in dataset[[\"total_bedrooms\"]].iterrows():\n",
    "    if math.isnan(i[0]):\n",
    "        dataset[\"total_bedrooms\"][index] = -1"
   ]
  },
  {
   "cell_type": "markdown",
   "metadata": {},
   "source": [
    "We notice that we temporary replaced all missing values"
   ]
  },
  {
   "cell_type": "code",
   "execution_count": 695,
   "metadata": {},
   "outputs": [
    {
     "data": {
      "text/plain": [
       "False"
      ]
     },
     "execution_count": 695,
     "metadata": {},
     "output_type": "execute_result"
    }
   ],
   "source": [
    "dataset.isnull().values.any()"
   ]
  },
  {
   "cell_type": "markdown",
   "metadata": {},
   "source": [
    "We discover that part of outliers removal involves also NaNs, this means that there are some rows which present at the same time missing value and outliers (we tested with all features involved in outliers and they all have this issue)"
   ]
  },
  {
   "cell_type": "code",
   "execution_count": 696,
   "metadata": {},
   "outputs": [
    {
     "data": {
      "text/html": [
       "<div>\n",
       "<style scoped>\n",
       "    .dataframe tbody tr th:only-of-type {\n",
       "        vertical-align: middle;\n",
       "    }\n",
       "\n",
       "    .dataframe tbody tr th {\n",
       "        vertical-align: top;\n",
       "    }\n",
       "\n",
       "    .dataframe thead th {\n",
       "        text-align: right;\n",
       "    }\n",
       "</style>\n",
       "<table border=\"1\" class=\"dataframe\">\n",
       "  <thead>\n",
       "    <tr style=\"text-align: right;\">\n",
       "      <th></th>\n",
       "      <th>longitude</th>\n",
       "      <th>latitude</th>\n",
       "      <th>housing_median_age</th>\n",
       "      <th>total_rooms</th>\n",
       "      <th>total_bedrooms</th>\n",
       "      <th>population</th>\n",
       "      <th>households</th>\n",
       "      <th>median_income</th>\n",
       "      <th>median_house_value</th>\n",
       "      <th>&lt;1H OCEAN</th>\n",
       "      <th>INLAND</th>\n",
       "      <th>ISLAND</th>\n",
       "      <th>NEAR BAY</th>\n",
       "      <th>NEAR OCEAN</th>\n",
       "    </tr>\n",
       "  </thead>\n",
       "  <tbody>\n",
       "    <tr>\n",
       "      <th>4046</th>\n",
       "      <td>-118.49</td>\n",
       "      <td>34.13</td>\n",
       "      <td>24.0</td>\n",
       "      <td>4394.0</td>\n",
       "      <td>-1.0</td>\n",
       "      <td>1443.0</td>\n",
       "      <td>528.0</td>\n",
       "      <td>11.2979</td>\n",
       "      <td>500001.0</td>\n",
       "      <td>1</td>\n",
       "      <td>0</td>\n",
       "      <td>0</td>\n",
       "      <td>0</td>\n",
       "      <td>0</td>\n",
       "    </tr>\n",
       "    <tr>\n",
       "      <th>6590</th>\n",
       "      <td>-118.18</td>\n",
       "      <td>34.19</td>\n",
       "      <td>48.0</td>\n",
       "      <td>1371.0</td>\n",
       "      <td>-1.0</td>\n",
       "      <td>528.0</td>\n",
       "      <td>155.0</td>\n",
       "      <td>15.0001</td>\n",
       "      <td>500001.0</td>\n",
       "      <td>1</td>\n",
       "      <td>0</td>\n",
       "      <td>0</td>\n",
       "      <td>0</td>\n",
       "      <td>0</td>\n",
       "    </tr>\n",
       "    <tr>\n",
       "      <th>10761</th>\n",
       "      <td>-117.87</td>\n",
       "      <td>33.62</td>\n",
       "      <td>8.0</td>\n",
       "      <td>1266.0</td>\n",
       "      <td>-1.0</td>\n",
       "      <td>375.0</td>\n",
       "      <td>183.0</td>\n",
       "      <td>9.8020</td>\n",
       "      <td>500001.0</td>\n",
       "      <td>1</td>\n",
       "      <td>0</td>\n",
       "      <td>0</td>\n",
       "      <td>0</td>\n",
       "      <td>0</td>\n",
       "    </tr>\n",
       "    <tr>\n",
       "      <th>11512</th>\n",
       "      <td>-118.10</td>\n",
       "      <td>33.74</td>\n",
       "      <td>32.0</td>\n",
       "      <td>2035.0</td>\n",
       "      <td>-1.0</td>\n",
       "      <td>934.0</td>\n",
       "      <td>512.0</td>\n",
       "      <td>4.2287</td>\n",
       "      <td>500001.0</td>\n",
       "      <td>0</td>\n",
       "      <td>0</td>\n",
       "      <td>0</td>\n",
       "      <td>0</td>\n",
       "      <td>1</td>\n",
       "    </tr>\n",
       "    <tr>\n",
       "      <th>15663</th>\n",
       "      <td>-122.44</td>\n",
       "      <td>37.80</td>\n",
       "      <td>52.0</td>\n",
       "      <td>3830.0</td>\n",
       "      <td>-1.0</td>\n",
       "      <td>1310.0</td>\n",
       "      <td>963.0</td>\n",
       "      <td>3.4801</td>\n",
       "      <td>500001.0</td>\n",
       "      <td>0</td>\n",
       "      <td>0</td>\n",
       "      <td>0</td>\n",
       "      <td>1</td>\n",
       "      <td>0</td>\n",
       "    </tr>\n",
       "    <tr>\n",
       "      <th>16880</th>\n",
       "      <td>-122.39</td>\n",
       "      <td>37.59</td>\n",
       "      <td>32.0</td>\n",
       "      <td>4497.0</td>\n",
       "      <td>-1.0</td>\n",
       "      <td>1846.0</td>\n",
       "      <td>715.0</td>\n",
       "      <td>6.1323</td>\n",
       "      <td>500001.0</td>\n",
       "      <td>0</td>\n",
       "      <td>0</td>\n",
       "      <td>0</td>\n",
       "      <td>0</td>\n",
       "      <td>1</td>\n",
       "    </tr>\n",
       "    <tr>\n",
       "      <th>16885</th>\n",
       "      <td>-122.40</td>\n",
       "      <td>37.58</td>\n",
       "      <td>26.0</td>\n",
       "      <td>3281.0</td>\n",
       "      <td>-1.0</td>\n",
       "      <td>1145.0</td>\n",
       "      <td>480.0</td>\n",
       "      <td>6.3580</td>\n",
       "      <td>500001.0</td>\n",
       "      <td>0</td>\n",
       "      <td>0</td>\n",
       "      <td>0</td>\n",
       "      <td>0</td>\n",
       "      <td>1</td>\n",
       "    </tr>\n",
       "  </tbody>\n",
       "</table>\n",
       "</div>"
      ],
      "text/plain": [
       "       longitude  latitude  housing_median_age  total_rooms  total_bedrooms  \\\n",
       "4046     -118.49     34.13                24.0       4394.0            -1.0   \n",
       "6590     -118.18     34.19                48.0       1371.0            -1.0   \n",
       "10761    -117.87     33.62                 8.0       1266.0            -1.0   \n",
       "11512    -118.10     33.74                32.0       2035.0            -1.0   \n",
       "15663    -122.44     37.80                52.0       3830.0            -1.0   \n",
       "16880    -122.39     37.59                32.0       4497.0            -1.0   \n",
       "16885    -122.40     37.58                26.0       3281.0            -1.0   \n",
       "\n",
       "       population  households  median_income  median_house_value  <1H OCEAN  \\\n",
       "4046       1443.0       528.0        11.2979            500001.0          1   \n",
       "6590        528.0       155.0        15.0001            500001.0          1   \n",
       "10761       375.0       183.0         9.8020            500001.0          1   \n",
       "11512       934.0       512.0         4.2287            500001.0          0   \n",
       "15663      1310.0       963.0         3.4801            500001.0          0   \n",
       "16880      1846.0       715.0         6.1323            500001.0          0   \n",
       "16885      1145.0       480.0         6.3580            500001.0          0   \n",
       "\n",
       "       INLAND  ISLAND  NEAR BAY  NEAR OCEAN  \n",
       "4046        0       0         0           0  \n",
       "6590        0       0         0           0  \n",
       "10761       0       0         0           0  \n",
       "11512       0       0         0           1  \n",
       "15663       0       0         1           0  \n",
       "16880       0       0         0           1  \n",
       "16885       0       0         0           1  "
      ]
     },
     "execution_count": 696,
     "metadata": {},
     "output_type": "execute_result"
    }
   ],
   "source": [
    "dataset[(dataset[\"median_house_value\"] > max_threshold_median_house_value) & (dataset[\"total_bedrooms\"] == -1)].head(10)"
   ]
  },
  {
   "cell_type": "markdown",
   "metadata": {},
   "source": [
    "it can be possible also that multiple feature have outliers at the same time and missing value,  \n",
    "in this example we can see outliers both for <em>median_house_value</em> and <em>median_income</em> and a missing value"
   ]
  },
  {
   "cell_type": "code",
   "execution_count": 697,
   "metadata": {},
   "outputs": [
    {
     "data": {
      "text/html": [
       "<div>\n",
       "<style scoped>\n",
       "    .dataframe tbody tr th:only-of-type {\n",
       "        vertical-align: middle;\n",
       "    }\n",
       "\n",
       "    .dataframe tbody tr th {\n",
       "        vertical-align: top;\n",
       "    }\n",
       "\n",
       "    .dataframe thead th {\n",
       "        text-align: right;\n",
       "    }\n",
       "</style>\n",
       "<table border=\"1\" class=\"dataframe\">\n",
       "  <thead>\n",
       "    <tr style=\"text-align: right;\">\n",
       "      <th></th>\n",
       "      <th>longitude</th>\n",
       "      <th>latitude</th>\n",
       "      <th>housing_median_age</th>\n",
       "      <th>total_rooms</th>\n",
       "      <th>total_bedrooms</th>\n",
       "      <th>population</th>\n",
       "      <th>households</th>\n",
       "      <th>median_income</th>\n",
       "      <th>median_house_value</th>\n",
       "      <th>&lt;1H OCEAN</th>\n",
       "      <th>INLAND</th>\n",
       "      <th>ISLAND</th>\n",
       "      <th>NEAR BAY</th>\n",
       "      <th>NEAR OCEAN</th>\n",
       "    </tr>\n",
       "  </thead>\n",
       "  <tbody>\n",
       "    <tr>\n",
       "      <th>4046</th>\n",
       "      <td>-118.49</td>\n",
       "      <td>34.13</td>\n",
       "      <td>24.0</td>\n",
       "      <td>4394.0</td>\n",
       "      <td>-1.0</td>\n",
       "      <td>1443.0</td>\n",
       "      <td>528.0</td>\n",
       "      <td>11.2979</td>\n",
       "      <td>500001.0</td>\n",
       "      <td>1</td>\n",
       "      <td>0</td>\n",
       "      <td>0</td>\n",
       "      <td>0</td>\n",
       "      <td>0</td>\n",
       "    </tr>\n",
       "    <tr>\n",
       "      <th>6590</th>\n",
       "      <td>-118.18</td>\n",
       "      <td>34.19</td>\n",
       "      <td>48.0</td>\n",
       "      <td>1371.0</td>\n",
       "      <td>-1.0</td>\n",
       "      <td>528.0</td>\n",
       "      <td>155.0</td>\n",
       "      <td>15.0001</td>\n",
       "      <td>500001.0</td>\n",
       "      <td>1</td>\n",
       "      <td>0</td>\n",
       "      <td>0</td>\n",
       "      <td>0</td>\n",
       "      <td>0</td>\n",
       "    </tr>\n",
       "    <tr>\n",
       "      <th>10761</th>\n",
       "      <td>-117.87</td>\n",
       "      <td>33.62</td>\n",
       "      <td>8.0</td>\n",
       "      <td>1266.0</td>\n",
       "      <td>-1.0</td>\n",
       "      <td>375.0</td>\n",
       "      <td>183.0</td>\n",
       "      <td>9.8020</td>\n",
       "      <td>500001.0</td>\n",
       "      <td>1</td>\n",
       "      <td>0</td>\n",
       "      <td>0</td>\n",
       "      <td>0</td>\n",
       "      <td>0</td>\n",
       "    </tr>\n",
       "  </tbody>\n",
       "</table>\n",
       "</div>"
      ],
      "text/plain": [
       "       longitude  latitude  housing_median_age  total_rooms  total_bedrooms  \\\n",
       "4046     -118.49     34.13                24.0       4394.0            -1.0   \n",
       "6590     -118.18     34.19                48.0       1371.0            -1.0   \n",
       "10761    -117.87     33.62                 8.0       1266.0            -1.0   \n",
       "\n",
       "       population  households  median_income  median_house_value  <1H OCEAN  \\\n",
       "4046       1443.0       528.0        11.2979            500001.0          1   \n",
       "6590        528.0       155.0        15.0001            500001.0          1   \n",
       "10761       375.0       183.0         9.8020            500001.0          1   \n",
       "\n",
       "       INLAND  ISLAND  NEAR BAY  NEAR OCEAN  \n",
       "4046        0       0         0           0  \n",
       "6590        0       0         0           0  \n",
       "10761       0       0         0           0  "
      ]
     },
     "execution_count": 697,
     "metadata": {},
     "output_type": "execute_result"
    }
   ],
   "source": [
    "dataset[(dataset[\"median_house_value\"] > max_threshold_median_house_value) & (dataset[\"median_income\"] > max_threshold_median_income) & (dataset[\"total_bedrooms\"] == -1)]"
   ]
  },
  {
   "cell_type": "markdown",
   "metadata": {},
   "source": [
    "We apply safe outliers removal"
   ]
  },
  {
   "cell_type": "code",
   "execution_count": 698,
   "metadata": {},
   "outputs": [],
   "source": [
    "def filter_outliers(dataset, key, min_threshold, max_threshold):\n",
    "    return dataset[(dataset[key] >= min_threshold) & (dataset[key] <= max_threshold)]"
   ]
  },
  {
   "cell_type": "code",
   "execution_count": 699,
   "metadata": {},
   "outputs": [],
   "source": [
    "dataset = filter_outliers(dataset, \"total_rooms\", min_threshold_tot_rooms, max_threshold_tot_rooms)\n",
    "dataset = filter_outliers(dataset, \"total_bedrooms\", min_threshold_tot_bedrooms, max_threshold_tot_bedrooms)\n",
    "dataset = filter_outliers(dataset, \"population\", min_threshold_population, max_threshold_population)\n",
    "dataset = filter_outliers(dataset, \"households\", min_threshold_households, max_threshold_households)\n",
    "dataset = filter_outliers(dataset, \"median_income\", min_threshold_median_income, max_threshold_median_income)\n",
    "dataset = filter_outliers(dataset, \"median_house_value\", min_threshold_median_house_value, max_threshold_median_house_value)"
   ]
  },
  {
   "cell_type": "code",
   "execution_count": 700,
   "metadata": {},
   "outputs": [
    {
     "data": {
      "text/plain": [
       "16715"
      ]
     },
     "execution_count": 700,
     "metadata": {},
     "output_type": "execute_result"
    }
   ],
   "source": [
    "len(dataset)"
   ]
  },
  {
   "cell_type": "markdown",
   "metadata": {},
   "source": [
    "And we restore the initial situation"
   ]
  },
  {
   "cell_type": "code",
   "execution_count": 701,
   "metadata": {},
   "outputs": [
    {
     "name": "stderr",
     "output_type": "stream",
     "text": [
      "/Library/Frameworks/Python.framework/Versions/3.7/lib/python3.7/site-packages/ipykernel_launcher.py:3: SettingWithCopyWarning: \n",
      "A value is trying to be set on a copy of a slice from a DataFrame\n",
      "\n",
      "See the caveats in the documentation: http://pandas.pydata.org/pandas-docs/stable/indexing.html#indexing-view-versus-copy\n",
      "  This is separate from the ipykernel package so we can avoid doing imports until\n"
     ]
    }
   ],
   "source": [
    "for index, i in dataset[[\"total_bedrooms\"]].iterrows():\n",
    "    if i[0] == -1:\n",
    "        dataset[\"total_bedrooms\"][index] = math.nan"
   ]
  },
  {
   "cell_type": "markdown",
   "metadata": {},
   "source": [
    "## Missing values"
   ]
  },
  {
   "cell_type": "markdown",
   "metadata": {},
   "source": [
    "Now, as seen previously, we know that another anomaly in this dataset is missing values"
   ]
  },
  {
   "cell_type": "code",
   "execution_count": 702,
   "metadata": {},
   "outputs": [
    {
     "data": {
      "text/plain": [
       "True"
      ]
     },
     "execution_count": 702,
     "metadata": {},
     "output_type": "execute_result"
    }
   ],
   "source": [
    "dataset.isnull().values.any()"
   ]
  },
  {
   "cell_type": "code",
   "execution_count": 703,
   "metadata": {},
   "outputs": [
    {
     "name": "stdout",
     "output_type": "stream",
     "text": [
      "longitude:  False\n",
      "latitude:  False\n",
      "housing_median_age:  False\n",
      "total_rooms:  False\n",
      "total_bedrooms:  True\n",
      "population:  False\n",
      "households:  False\n",
      "median_income:  False\n",
      "median_house_value:  False\n"
     ]
    }
   ],
   "source": [
    "col = ['longitude', 'latitude', 'housing_median_age', 'total_rooms', 'total_bedrooms', 'population', 'households', 'median_income', 'median_house_value']\n",
    "\n",
    "for i in col:\n",
    "    print(i + \": \", dataset[i].isnull().values.any())"
   ]
  },
  {
   "cell_type": "code",
   "execution_count": 704,
   "metadata": {},
   "outputs": [
    {
     "data": {
      "text/html": [
       "<div>\n",
       "<style scoped>\n",
       "    .dataframe tbody tr th:only-of-type {\n",
       "        vertical-align: middle;\n",
       "    }\n",
       "\n",
       "    .dataframe tbody tr th {\n",
       "        vertical-align: top;\n",
       "    }\n",
       "\n",
       "    .dataframe thead th {\n",
       "        text-align: right;\n",
       "    }\n",
       "</style>\n",
       "<table border=\"1\" class=\"dataframe\">\n",
       "  <thead>\n",
       "    <tr style=\"text-align: right;\">\n",
       "      <th></th>\n",
       "      <th>longitude</th>\n",
       "      <th>latitude</th>\n",
       "      <th>housing_median_age</th>\n",
       "      <th>total_rooms</th>\n",
       "      <th>total_bedrooms</th>\n",
       "      <th>population</th>\n",
       "      <th>households</th>\n",
       "      <th>median_income</th>\n",
       "      <th>median_house_value</th>\n",
       "      <th>&lt;1H OCEAN</th>\n",
       "      <th>INLAND</th>\n",
       "      <th>ISLAND</th>\n",
       "      <th>NEAR BAY</th>\n",
       "      <th>NEAR OCEAN</th>\n",
       "    </tr>\n",
       "  </thead>\n",
       "  <tbody>\n",
       "    <tr>\n",
       "      <th>290</th>\n",
       "      <td>-122.16</td>\n",
       "      <td>37.77</td>\n",
       "      <td>47.0</td>\n",
       "      <td>1256.0</td>\n",
       "      <td>NaN</td>\n",
       "      <td>570.0</td>\n",
       "      <td>218.0</td>\n",
       "      <td>4.3750</td>\n",
       "      <td>161900.0</td>\n",
       "      <td>0</td>\n",
       "      <td>0</td>\n",
       "      <td>0</td>\n",
       "      <td>1</td>\n",
       "      <td>0</td>\n",
       "    </tr>\n",
       "    <tr>\n",
       "      <th>341</th>\n",
       "      <td>-122.17</td>\n",
       "      <td>37.75</td>\n",
       "      <td>38.0</td>\n",
       "      <td>992.0</td>\n",
       "      <td>NaN</td>\n",
       "      <td>732.0</td>\n",
       "      <td>259.0</td>\n",
       "      <td>1.6196</td>\n",
       "      <td>85100.0</td>\n",
       "      <td>0</td>\n",
       "      <td>0</td>\n",
       "      <td>0</td>\n",
       "      <td>1</td>\n",
       "      <td>0</td>\n",
       "    </tr>\n",
       "    <tr>\n",
       "      <th>563</th>\n",
       "      <td>-122.24</td>\n",
       "      <td>37.75</td>\n",
       "      <td>45.0</td>\n",
       "      <td>891.0</td>\n",
       "      <td>NaN</td>\n",
       "      <td>384.0</td>\n",
       "      <td>146.0</td>\n",
       "      <td>4.9489</td>\n",
       "      <td>247100.0</td>\n",
       "      <td>0</td>\n",
       "      <td>0</td>\n",
       "      <td>0</td>\n",
       "      <td>1</td>\n",
       "      <td>0</td>\n",
       "    </tr>\n",
       "    <tr>\n",
       "      <th>696</th>\n",
       "      <td>-122.10</td>\n",
       "      <td>37.69</td>\n",
       "      <td>41.0</td>\n",
       "      <td>746.0</td>\n",
       "      <td>NaN</td>\n",
       "      <td>387.0</td>\n",
       "      <td>161.0</td>\n",
       "      <td>3.9063</td>\n",
       "      <td>178400.0</td>\n",
       "      <td>0</td>\n",
       "      <td>0</td>\n",
       "      <td>0</td>\n",
       "      <td>1</td>\n",
       "      <td>0</td>\n",
       "    </tr>\n",
       "    <tr>\n",
       "      <th>738</th>\n",
       "      <td>-122.14</td>\n",
       "      <td>37.67</td>\n",
       "      <td>37.0</td>\n",
       "      <td>3342.0</td>\n",
       "      <td>NaN</td>\n",
       "      <td>1635.0</td>\n",
       "      <td>557.0</td>\n",
       "      <td>4.7933</td>\n",
       "      <td>186900.0</td>\n",
       "      <td>0</td>\n",
       "      <td>0</td>\n",
       "      <td>0</td>\n",
       "      <td>1</td>\n",
       "      <td>0</td>\n",
       "    </tr>\n",
       "    <tr>\n",
       "      <th>1097</th>\n",
       "      <td>-121.77</td>\n",
       "      <td>39.66</td>\n",
       "      <td>20.0</td>\n",
       "      <td>3759.0</td>\n",
       "      <td>NaN</td>\n",
       "      <td>1705.0</td>\n",
       "      <td>600.0</td>\n",
       "      <td>4.7120</td>\n",
       "      <td>158600.0</td>\n",
       "      <td>0</td>\n",
       "      <td>1</td>\n",
       "      <td>0</td>\n",
       "      <td>0</td>\n",
       "      <td>0</td>\n",
       "    </tr>\n",
       "    <tr>\n",
       "      <th>1456</th>\n",
       "      <td>-121.98</td>\n",
       "      <td>37.96</td>\n",
       "      <td>22.0</td>\n",
       "      <td>2987.0</td>\n",
       "      <td>NaN</td>\n",
       "      <td>1420.0</td>\n",
       "      <td>540.0</td>\n",
       "      <td>3.6500</td>\n",
       "      <td>204100.0</td>\n",
       "      <td>0</td>\n",
       "      <td>1</td>\n",
       "      <td>0</td>\n",
       "      <td>0</td>\n",
       "      <td>0</td>\n",
       "    </tr>\n",
       "    <tr>\n",
       "      <th>1493</th>\n",
       "      <td>-122.01</td>\n",
       "      <td>37.94</td>\n",
       "      <td>23.0</td>\n",
       "      <td>3741.0</td>\n",
       "      <td>NaN</td>\n",
       "      <td>1339.0</td>\n",
       "      <td>499.0</td>\n",
       "      <td>6.7061</td>\n",
       "      <td>322300.0</td>\n",
       "      <td>0</td>\n",
       "      <td>0</td>\n",
       "      <td>0</td>\n",
       "      <td>1</td>\n",
       "      <td>0</td>\n",
       "    </tr>\n",
       "    <tr>\n",
       "      <th>1606</th>\n",
       "      <td>-122.08</td>\n",
       "      <td>37.88</td>\n",
       "      <td>26.0</td>\n",
       "      <td>2947.0</td>\n",
       "      <td>NaN</td>\n",
       "      <td>825.0</td>\n",
       "      <td>626.0</td>\n",
       "      <td>2.9330</td>\n",
       "      <td>85000.0</td>\n",
       "      <td>0</td>\n",
       "      <td>0</td>\n",
       "      <td>0</td>\n",
       "      <td>1</td>\n",
       "      <td>0</td>\n",
       "    </tr>\n",
       "    <tr>\n",
       "      <th>2028</th>\n",
       "      <td>-119.75</td>\n",
       "      <td>36.71</td>\n",
       "      <td>38.0</td>\n",
       "      <td>1481.0</td>\n",
       "      <td>NaN</td>\n",
       "      <td>1543.0</td>\n",
       "      <td>372.0</td>\n",
       "      <td>1.4577</td>\n",
       "      <td>49800.0</td>\n",
       "      <td>0</td>\n",
       "      <td>1</td>\n",
       "      <td>0</td>\n",
       "      <td>0</td>\n",
       "      <td>0</td>\n",
       "    </tr>\n",
       "    <tr>\n",
       "      <th>2301</th>\n",
       "      <td>-119.78</td>\n",
       "      <td>36.82</td>\n",
       "      <td>25.0</td>\n",
       "      <td>5016.0</td>\n",
       "      <td>NaN</td>\n",
       "      <td>2133.0</td>\n",
       "      <td>928.0</td>\n",
       "      <td>3.6250</td>\n",
       "      <td>89500.0</td>\n",
       "      <td>0</td>\n",
       "      <td>1</td>\n",
       "      <td>0</td>\n",
       "      <td>0</td>\n",
       "      <td>0</td>\n",
       "    </tr>\n",
       "    <tr>\n",
       "      <th>2323</th>\n",
       "      <td>-119.73</td>\n",
       "      <td>36.83</td>\n",
       "      <td>8.0</td>\n",
       "      <td>3602.0</td>\n",
       "      <td>NaN</td>\n",
       "      <td>1959.0</td>\n",
       "      <td>580.0</td>\n",
       "      <td>5.3478</td>\n",
       "      <td>138800.0</td>\n",
       "      <td>0</td>\n",
       "      <td>1</td>\n",
       "      <td>0</td>\n",
       "      <td>0</td>\n",
       "      <td>0</td>\n",
       "    </tr>\n",
       "    <tr>\n",
       "      <th>2334</th>\n",
       "      <td>-119.69</td>\n",
       "      <td>36.83</td>\n",
       "      <td>32.0</td>\n",
       "      <td>1098.0</td>\n",
       "      <td>NaN</td>\n",
       "      <td>726.0</td>\n",
       "      <td>224.0</td>\n",
       "      <td>1.4913</td>\n",
       "      <td>54600.0</td>\n",
       "      <td>0</td>\n",
       "      <td>1</td>\n",
       "      <td>0</td>\n",
       "      <td>0</td>\n",
       "      <td>0</td>\n",
       "    </tr>\n",
       "    <tr>\n",
       "      <th>2351</th>\n",
       "      <td>-119.68</td>\n",
       "      <td>36.79</td>\n",
       "      <td>16.0</td>\n",
       "      <td>1551.0</td>\n",
       "      <td>NaN</td>\n",
       "      <td>1010.0</td>\n",
       "      <td>292.0</td>\n",
       "      <td>3.5417</td>\n",
       "      <td>71300.0</td>\n",
       "      <td>0</td>\n",
       "      <td>1</td>\n",
       "      <td>0</td>\n",
       "      <td>0</td>\n",
       "      <td>0</td>\n",
       "    </tr>\n",
       "    <tr>\n",
       "      <th>2412</th>\n",
       "      <td>-119.45</td>\n",
       "      <td>36.61</td>\n",
       "      <td>24.0</td>\n",
       "      <td>1302.0</td>\n",
       "      <td>NaN</td>\n",
       "      <td>693.0</td>\n",
       "      <td>243.0</td>\n",
       "      <td>3.7917</td>\n",
       "      <td>90500.0</td>\n",
       "      <td>0</td>\n",
       "      <td>1</td>\n",
       "      <td>0</td>\n",
       "      <td>0</td>\n",
       "      <td>0</td>\n",
       "    </tr>\n",
       "    <tr>\n",
       "      <th>2420</th>\n",
       "      <td>-119.44</td>\n",
       "      <td>36.58</td>\n",
       "      <td>37.0</td>\n",
       "      <td>1054.0</td>\n",
       "      <td>NaN</td>\n",
       "      <td>879.0</td>\n",
       "      <td>257.0</td>\n",
       "      <td>2.5234</td>\n",
       "      <td>63500.0</td>\n",
       "      <td>0</td>\n",
       "      <td>1</td>\n",
       "      <td>0</td>\n",
       "      <td>0</td>\n",
       "      <td>0</td>\n",
       "    </tr>\n",
       "    <tr>\n",
       "      <th>2578</th>\n",
       "      <td>-124.06</td>\n",
       "      <td>40.86</td>\n",
       "      <td>34.0</td>\n",
       "      <td>4183.0</td>\n",
       "      <td>NaN</td>\n",
       "      <td>1891.0</td>\n",
       "      <td>669.0</td>\n",
       "      <td>3.2216</td>\n",
       "      <td>98100.0</td>\n",
       "      <td>0</td>\n",
       "      <td>0</td>\n",
       "      <td>0</td>\n",
       "      <td>0</td>\n",
       "      <td>1</td>\n",
       "    </tr>\n",
       "    <tr>\n",
       "      <th>2608</th>\n",
       "      <td>-124.00</td>\n",
       "      <td>40.92</td>\n",
       "      <td>29.0</td>\n",
       "      <td>1429.0</td>\n",
       "      <td>NaN</td>\n",
       "      <td>672.0</td>\n",
       "      <td>266.0</td>\n",
       "      <td>2.9485</td>\n",
       "      <td>98800.0</td>\n",
       "      <td>1</td>\n",
       "      <td>0</td>\n",
       "      <td>0</td>\n",
       "      <td>0</td>\n",
       "      <td>0</td>\n",
       "    </tr>\n",
       "    <tr>\n",
       "      <th>3024</th>\n",
       "      <td>-119.46</td>\n",
       "      <td>35.14</td>\n",
       "      <td>30.0</td>\n",
       "      <td>2943.0</td>\n",
       "      <td>NaN</td>\n",
       "      <td>1565.0</td>\n",
       "      <td>584.0</td>\n",
       "      <td>2.5313</td>\n",
       "      <td>45800.0</td>\n",
       "      <td>0</td>\n",
       "      <td>1</td>\n",
       "      <td>0</td>\n",
       "      <td>0</td>\n",
       "      <td>0</td>\n",
       "    </tr>\n",
       "    <tr>\n",
       "      <th>3328</th>\n",
       "      <td>-122.72</td>\n",
       "      <td>38.88</td>\n",
       "      <td>29.0</td>\n",
       "      <td>2781.0</td>\n",
       "      <td>NaN</td>\n",
       "      <td>890.0</td>\n",
       "      <td>310.0</td>\n",
       "      <td>1.9906</td>\n",
       "      <td>96600.0</td>\n",
       "      <td>0</td>\n",
       "      <td>1</td>\n",
       "      <td>0</td>\n",
       "      <td>0</td>\n",
       "      <td>0</td>\n",
       "    </tr>\n",
       "    <tr>\n",
       "      <th>3354</th>\n",
       "      <td>-120.67</td>\n",
       "      <td>40.50</td>\n",
       "      <td>15.0</td>\n",
       "      <td>5343.0</td>\n",
       "      <td>NaN</td>\n",
       "      <td>2503.0</td>\n",
       "      <td>902.0</td>\n",
       "      <td>3.5962</td>\n",
       "      <td>85900.0</td>\n",
       "      <td>0</td>\n",
       "      <td>1</td>\n",
       "      <td>0</td>\n",
       "      <td>0</td>\n",
       "      <td>0</td>\n",
       "    </tr>\n",
       "    <tr>\n",
       "      <th>3376</th>\n",
       "      <td>-118.28</td>\n",
       "      <td>34.25</td>\n",
       "      <td>29.0</td>\n",
       "      <td>2559.0</td>\n",
       "      <td>NaN</td>\n",
       "      <td>1886.0</td>\n",
       "      <td>769.0</td>\n",
       "      <td>2.6036</td>\n",
       "      <td>162100.0</td>\n",
       "      <td>1</td>\n",
       "      <td>0</td>\n",
       "      <td>0</td>\n",
       "      <td>0</td>\n",
       "      <td>0</td>\n",
       "    </tr>\n",
       "    <tr>\n",
       "      <th>3482</th>\n",
       "      <td>-118.45</td>\n",
       "      <td>34.30</td>\n",
       "      <td>27.0</td>\n",
       "      <td>2676.0</td>\n",
       "      <td>NaN</td>\n",
       "      <td>2661.0</td>\n",
       "      <td>623.0</td>\n",
       "      <td>4.3047</td>\n",
       "      <td>152100.0</td>\n",
       "      <td>1</td>\n",
       "      <td>0</td>\n",
       "      <td>0</td>\n",
       "      <td>0</td>\n",
       "      <td>0</td>\n",
       "    </tr>\n",
       "    <tr>\n",
       "      <th>3721</th>\n",
       "      <td>-118.43</td>\n",
       "      <td>34.20</td>\n",
       "      <td>28.0</td>\n",
       "      <td>3386.0</td>\n",
       "      <td>NaN</td>\n",
       "      <td>2240.0</td>\n",
       "      <td>737.0</td>\n",
       "      <td>3.0221</td>\n",
       "      <td>290100.0</td>\n",
       "      <td>1</td>\n",
       "      <td>0</td>\n",
       "      <td>0</td>\n",
       "      <td>0</td>\n",
       "      <td>0</td>\n",
       "    </tr>\n",
       "    <tr>\n",
       "      <th>3921</th>\n",
       "      <td>-118.56</td>\n",
       "      <td>34.20</td>\n",
       "      <td>35.0</td>\n",
       "      <td>2273.0</td>\n",
       "      <td>NaN</td>\n",
       "      <td>1431.0</td>\n",
       "      <td>403.0</td>\n",
       "      <td>4.0789</td>\n",
       "      <td>196700.0</td>\n",
       "      <td>1</td>\n",
       "      <td>0</td>\n",
       "      <td>0</td>\n",
       "      <td>0</td>\n",
       "      <td>0</td>\n",
       "    </tr>\n",
       "    <tr>\n",
       "      <th>3958</th>\n",
       "      <td>-118.59</td>\n",
       "      <td>34.20</td>\n",
       "      <td>21.0</td>\n",
       "      <td>1789.0</td>\n",
       "      <td>NaN</td>\n",
       "      <td>2300.0</td>\n",
       "      <td>677.0</td>\n",
       "      <td>2.7540</td>\n",
       "      <td>179800.0</td>\n",
       "      <td>1</td>\n",
       "      <td>0</td>\n",
       "      <td>0</td>\n",
       "      <td>0</td>\n",
       "      <td>0</td>\n",
       "    </tr>\n",
       "    <tr>\n",
       "      <th>4043</th>\n",
       "      <td>-118.50</td>\n",
       "      <td>34.17</td>\n",
       "      <td>37.0</td>\n",
       "      <td>880.0</td>\n",
       "      <td>NaN</td>\n",
       "      <td>369.0</td>\n",
       "      <td>155.0</td>\n",
       "      <td>4.1429</td>\n",
       "      <td>303600.0</td>\n",
       "      <td>1</td>\n",
       "      <td>0</td>\n",
       "      <td>0</td>\n",
       "      <td>0</td>\n",
       "      <td>0</td>\n",
       "    </tr>\n",
       "    <tr>\n",
       "      <th>4186</th>\n",
       "      <td>-118.23</td>\n",
       "      <td>34.13</td>\n",
       "      <td>48.0</td>\n",
       "      <td>1308.0</td>\n",
       "      <td>NaN</td>\n",
       "      <td>835.0</td>\n",
       "      <td>294.0</td>\n",
       "      <td>4.2891</td>\n",
       "      <td>214800.0</td>\n",
       "      <td>1</td>\n",
       "      <td>0</td>\n",
       "      <td>0</td>\n",
       "      <td>0</td>\n",
       "      <td>0</td>\n",
       "    </tr>\n",
       "    <tr>\n",
       "      <th>4279</th>\n",
       "      <td>-118.31</td>\n",
       "      <td>34.09</td>\n",
       "      <td>37.0</td>\n",
       "      <td>773.0</td>\n",
       "      <td>NaN</td>\n",
       "      <td>835.0</td>\n",
       "      <td>312.0</td>\n",
       "      <td>1.8576</td>\n",
       "      <td>193800.0</td>\n",
       "      <td>1</td>\n",
       "      <td>0</td>\n",
       "      <td>0</td>\n",
       "      <td>0</td>\n",
       "      <td>0</td>\n",
       "    </tr>\n",
       "    <tr>\n",
       "      <th>4309</th>\n",
       "      <td>-118.32</td>\n",
       "      <td>34.09</td>\n",
       "      <td>44.0</td>\n",
       "      <td>2666.0</td>\n",
       "      <td>NaN</td>\n",
       "      <td>2297.0</td>\n",
       "      <td>726.0</td>\n",
       "      <td>1.6760</td>\n",
       "      <td>208800.0</td>\n",
       "      <td>1</td>\n",
       "      <td>0</td>\n",
       "      <td>0</td>\n",
       "      <td>0</td>\n",
       "      <td>0</td>\n",
       "    </tr>\n",
       "    <tr>\n",
       "      <th>...</th>\n",
       "      <td>...</td>\n",
       "      <td>...</td>\n",
       "      <td>...</td>\n",
       "      <td>...</td>\n",
       "      <td>...</td>\n",
       "      <td>...</td>\n",
       "      <td>...</td>\n",
       "      <td>...</td>\n",
       "      <td>...</td>\n",
       "      <td>...</td>\n",
       "      <td>...</td>\n",
       "      <td>...</td>\n",
       "      <td>...</td>\n",
       "      <td>...</td>\n",
       "    </tr>\n",
       "    <tr>\n",
       "      <th>17923</th>\n",
       "      <td>-121.97</td>\n",
       "      <td>37.35</td>\n",
       "      <td>30.0</td>\n",
       "      <td>1955.0</td>\n",
       "      <td>NaN</td>\n",
       "      <td>999.0</td>\n",
       "      <td>386.0</td>\n",
       "      <td>4.6328</td>\n",
       "      <td>287100.0</td>\n",
       "      <td>1</td>\n",
       "      <td>0</td>\n",
       "      <td>0</td>\n",
       "      <td>0</td>\n",
       "      <td>0</td>\n",
       "    </tr>\n",
       "    <tr>\n",
       "      <th>17928</th>\n",
       "      <td>-121.97</td>\n",
       "      <td>37.34</td>\n",
       "      <td>33.0</td>\n",
       "      <td>3162.0</td>\n",
       "      <td>NaN</td>\n",
       "      <td>1553.0</td>\n",
       "      <td>686.0</td>\n",
       "      <td>3.6682</td>\n",
       "      <td>266100.0</td>\n",
       "      <td>1</td>\n",
       "      <td>0</td>\n",
       "      <td>0</td>\n",
       "      <td>0</td>\n",
       "      <td>0</td>\n",
       "    </tr>\n",
       "    <tr>\n",
       "      <th>17973</th>\n",
       "      <td>-121.95</td>\n",
       "      <td>37.31</td>\n",
       "      <td>27.0</td>\n",
       "      <td>4140.0</td>\n",
       "      <td>NaN</td>\n",
       "      <td>2135.0</td>\n",
       "      <td>893.0</td>\n",
       "      <td>3.6292</td>\n",
       "      <td>264600.0</td>\n",
       "      <td>1</td>\n",
       "      <td>0</td>\n",
       "      <td>0</td>\n",
       "      <td>0</td>\n",
       "      <td>0</td>\n",
       "    </tr>\n",
       "    <tr>\n",
       "      <th>18246</th>\n",
       "      <td>-122.08</td>\n",
       "      <td>37.39</td>\n",
       "      <td>4.0</td>\n",
       "      <td>2292.0</td>\n",
       "      <td>NaN</td>\n",
       "      <td>1050.0</td>\n",
       "      <td>584.0</td>\n",
       "      <td>4.8036</td>\n",
       "      <td>340000.0</td>\n",
       "      <td>0</td>\n",
       "      <td>0</td>\n",
       "      <td>0</td>\n",
       "      <td>1</td>\n",
       "      <td>0</td>\n",
       "    </tr>\n",
       "    <tr>\n",
       "      <th>18261</th>\n",
       "      <td>-122.08</td>\n",
       "      <td>37.37</td>\n",
       "      <td>29.0</td>\n",
       "      <td>1229.0</td>\n",
       "      <td>NaN</td>\n",
       "      <td>707.0</td>\n",
       "      <td>194.0</td>\n",
       "      <td>7.1108</td>\n",
       "      <td>465000.0</td>\n",
       "      <td>0</td>\n",
       "      <td>0</td>\n",
       "      <td>0</td>\n",
       "      <td>1</td>\n",
       "      <td>0</td>\n",
       "    </tr>\n",
       "    <tr>\n",
       "      <th>18466</th>\n",
       "      <td>-121.75</td>\n",
       "      <td>37.11</td>\n",
       "      <td>18.0</td>\n",
       "      <td>3167.0</td>\n",
       "      <td>NaN</td>\n",
       "      <td>1414.0</td>\n",
       "      <td>482.0</td>\n",
       "      <td>6.8773</td>\n",
       "      <td>467700.0</td>\n",
       "      <td>1</td>\n",
       "      <td>0</td>\n",
       "      <td>0</td>\n",
       "      <td>0</td>\n",
       "      <td>0</td>\n",
       "    </tr>\n",
       "    <tr>\n",
       "      <th>18786</th>\n",
       "      <td>-122.42</td>\n",
       "      <td>40.44</td>\n",
       "      <td>16.0</td>\n",
       "      <td>994.0</td>\n",
       "      <td>NaN</td>\n",
       "      <td>495.0</td>\n",
       "      <td>181.0</td>\n",
       "      <td>2.1875</td>\n",
       "      <td>76400.0</td>\n",
       "      <td>0</td>\n",
       "      <td>1</td>\n",
       "      <td>0</td>\n",
       "      <td>0</td>\n",
       "      <td>0</td>\n",
       "    </tr>\n",
       "    <tr>\n",
       "      <th>18873</th>\n",
       "      <td>-122.22</td>\n",
       "      <td>38.08</td>\n",
       "      <td>37.0</td>\n",
       "      <td>2811.0</td>\n",
       "      <td>NaN</td>\n",
       "      <td>1574.0</td>\n",
       "      <td>516.0</td>\n",
       "      <td>3.1053</td>\n",
       "      <td>96700.0</td>\n",
       "      <td>0</td>\n",
       "      <td>0</td>\n",
       "      <td>0</td>\n",
       "      <td>1</td>\n",
       "      <td>0</td>\n",
       "    </tr>\n",
       "    <tr>\n",
       "      <th>18914</th>\n",
       "      <td>-122.22</td>\n",
       "      <td>38.15</td>\n",
       "      <td>7.0</td>\n",
       "      <td>5129.0</td>\n",
       "      <td>NaN</td>\n",
       "      <td>2824.0</td>\n",
       "      <td>738.0</td>\n",
       "      <td>5.5138</td>\n",
       "      <td>171100.0</td>\n",
       "      <td>0</td>\n",
       "      <td>0</td>\n",
       "      <td>0</td>\n",
       "      <td>1</td>\n",
       "      <td>0</td>\n",
       "    </tr>\n",
       "    <tr>\n",
       "      <th>19060</th>\n",
       "      <td>-122.41</td>\n",
       "      <td>38.16</td>\n",
       "      <td>37.0</td>\n",
       "      <td>1549.0</td>\n",
       "      <td>NaN</td>\n",
       "      <td>863.0</td>\n",
       "      <td>275.0</td>\n",
       "      <td>2.7457</td>\n",
       "      <td>254700.0</td>\n",
       "      <td>0</td>\n",
       "      <td>0</td>\n",
       "      <td>0</td>\n",
       "      <td>1</td>\n",
       "      <td>0</td>\n",
       "    </tr>\n",
       "    <tr>\n",
       "      <th>19071</th>\n",
       "      <td>-122.53</td>\n",
       "      <td>38.32</td>\n",
       "      <td>22.0</td>\n",
       "      <td>3577.0</td>\n",
       "      <td>NaN</td>\n",
       "      <td>1371.0</td>\n",
       "      <td>501.0</td>\n",
       "      <td>5.7950</td>\n",
       "      <td>332300.0</td>\n",
       "      <td>1</td>\n",
       "      <td>0</td>\n",
       "      <td>0</td>\n",
       "      <td>0</td>\n",
       "      <td>0</td>\n",
       "    </tr>\n",
       "    <tr>\n",
       "      <th>19122</th>\n",
       "      <td>-122.65</td>\n",
       "      <td>38.25</td>\n",
       "      <td>23.0</td>\n",
       "      <td>4030.0</td>\n",
       "      <td>NaN</td>\n",
       "      <td>1852.0</td>\n",
       "      <td>778.0</td>\n",
       "      <td>3.4020</td>\n",
       "      <td>193300.0</td>\n",
       "      <td>1</td>\n",
       "      <td>0</td>\n",
       "      <td>0</td>\n",
       "      <td>0</td>\n",
       "      <td>0</td>\n",
       "    </tr>\n",
       "    <tr>\n",
       "      <th>19150</th>\n",
       "      <td>-122.70</td>\n",
       "      <td>38.35</td>\n",
       "      <td>14.0</td>\n",
       "      <td>2313.0</td>\n",
       "      <td>NaN</td>\n",
       "      <td>954.0</td>\n",
       "      <td>397.0</td>\n",
       "      <td>3.7813</td>\n",
       "      <td>146500.0</td>\n",
       "      <td>1</td>\n",
       "      <td>0</td>\n",
       "      <td>0</td>\n",
       "      <td>0</td>\n",
       "      <td>0</td>\n",
       "    </tr>\n",
       "    <tr>\n",
       "      <th>19332</th>\n",
       "      <td>-122.91</td>\n",
       "      <td>38.46</td>\n",
       "      <td>18.0</td>\n",
       "      <td>2021.0</td>\n",
       "      <td>NaN</td>\n",
       "      <td>912.0</td>\n",
       "      <td>329.0</td>\n",
       "      <td>4.5000</td>\n",
       "      <td>251900.0</td>\n",
       "      <td>1</td>\n",
       "      <td>0</td>\n",
       "      <td>0</td>\n",
       "      <td>0</td>\n",
       "      <td>0</td>\n",
       "    </tr>\n",
       "    <tr>\n",
       "      <th>19402</th>\n",
       "      <td>-120.93</td>\n",
       "      <td>37.73</td>\n",
       "      <td>14.0</td>\n",
       "      <td>2799.0</td>\n",
       "      <td>NaN</td>\n",
       "      <td>2294.0</td>\n",
       "      <td>596.0</td>\n",
       "      <td>2.6343</td>\n",
       "      <td>81500.0</td>\n",
       "      <td>0</td>\n",
       "      <td>1</td>\n",
       "      <td>0</td>\n",
       "      <td>0</td>\n",
       "      <td>0</td>\n",
       "    </tr>\n",
       "    <tr>\n",
       "      <th>19485</th>\n",
       "      <td>-120.98</td>\n",
       "      <td>37.66</td>\n",
       "      <td>10.0</td>\n",
       "      <td>934.0</td>\n",
       "      <td>NaN</td>\n",
       "      <td>401.0</td>\n",
       "      <td>255.0</td>\n",
       "      <td>0.9336</td>\n",
       "      <td>127100.0</td>\n",
       "      <td>0</td>\n",
       "      <td>1</td>\n",
       "      <td>0</td>\n",
       "      <td>0</td>\n",
       "      <td>0</td>\n",
       "    </tr>\n",
       "    <tr>\n",
       "      <th>19559</th>\n",
       "      <td>-120.98</td>\n",
       "      <td>37.60</td>\n",
       "      <td>36.0</td>\n",
       "      <td>1437.0</td>\n",
       "      <td>NaN</td>\n",
       "      <td>1073.0</td>\n",
       "      <td>320.0</td>\n",
       "      <td>2.1779</td>\n",
       "      <td>58400.0</td>\n",
       "      <td>0</td>\n",
       "      <td>1</td>\n",
       "      <td>0</td>\n",
       "      <td>0</td>\n",
       "      <td>0</td>\n",
       "    </tr>\n",
       "    <tr>\n",
       "      <th>19638</th>\n",
       "      <td>-120.97</td>\n",
       "      <td>37.43</td>\n",
       "      <td>27.0</td>\n",
       "      <td>1380.0</td>\n",
       "      <td>NaN</td>\n",
       "      <td>810.0</td>\n",
       "      <td>262.0</td>\n",
       "      <td>2.1875</td>\n",
       "      <td>137500.0</td>\n",
       "      <td>0</td>\n",
       "      <td>1</td>\n",
       "      <td>0</td>\n",
       "      <td>0</td>\n",
       "      <td>0</td>\n",
       "    </tr>\n",
       "    <tr>\n",
       "      <th>19766</th>\n",
       "      <td>-122.10</td>\n",
       "      <td>40.03</td>\n",
       "      <td>25.0</td>\n",
       "      <td>2516.0</td>\n",
       "      <td>NaN</td>\n",
       "      <td>1266.0</td>\n",
       "      <td>494.0</td>\n",
       "      <td>1.7566</td>\n",
       "      <td>58400.0</td>\n",
       "      <td>0</td>\n",
       "      <td>1</td>\n",
       "      <td>0</td>\n",
       "      <td>0</td>\n",
       "      <td>0</td>\n",
       "    </tr>\n",
       "    <tr>\n",
       "      <th>19818</th>\n",
       "      <td>-119.30</td>\n",
       "      <td>36.57</td>\n",
       "      <td>32.0</td>\n",
       "      <td>728.0</td>\n",
       "      <td>NaN</td>\n",
       "      <td>461.0</td>\n",
       "      <td>149.0</td>\n",
       "      <td>3.0156</td>\n",
       "      <td>109100.0</td>\n",
       "      <td>0</td>\n",
       "      <td>1</td>\n",
       "      <td>0</td>\n",
       "      <td>0</td>\n",
       "      <td>0</td>\n",
       "    </tr>\n",
       "    <tr>\n",
       "      <th>19833</th>\n",
       "      <td>-119.38</td>\n",
       "      <td>36.53</td>\n",
       "      <td>38.0</td>\n",
       "      <td>1281.0</td>\n",
       "      <td>NaN</td>\n",
       "      <td>1423.0</td>\n",
       "      <td>293.0</td>\n",
       "      <td>1.9602</td>\n",
       "      <td>51400.0</td>\n",
       "      <td>0</td>\n",
       "      <td>1</td>\n",
       "      <td>0</td>\n",
       "      <td>0</td>\n",
       "      <td>0</td>\n",
       "    </tr>\n",
       "    <tr>\n",
       "      <th>19890</th>\n",
       "      <td>-119.15</td>\n",
       "      <td>36.29</td>\n",
       "      <td>18.0</td>\n",
       "      <td>1435.0</td>\n",
       "      <td>NaN</td>\n",
       "      <td>657.0</td>\n",
       "      <td>254.0</td>\n",
       "      <td>2.4281</td>\n",
       "      <td>72500.0</td>\n",
       "      <td>0</td>\n",
       "      <td>1</td>\n",
       "      <td>0</td>\n",
       "      <td>0</td>\n",
       "      <td>0</td>\n",
       "    </tr>\n",
       "    <tr>\n",
       "      <th>19932</th>\n",
       "      <td>-119.33</td>\n",
       "      <td>36.30</td>\n",
       "      <td>11.0</td>\n",
       "      <td>3045.0</td>\n",
       "      <td>NaN</td>\n",
       "      <td>1563.0</td>\n",
       "      <td>516.0</td>\n",
       "      <td>5.4337</td>\n",
       "      <td>133800.0</td>\n",
       "      <td>0</td>\n",
       "      <td>1</td>\n",
       "      <td>0</td>\n",
       "      <td>0</td>\n",
       "      <td>0</td>\n",
       "    </tr>\n",
       "    <tr>\n",
       "      <th>19959</th>\n",
       "      <td>-119.32</td>\n",
       "      <td>36.25</td>\n",
       "      <td>21.0</td>\n",
       "      <td>1231.0</td>\n",
       "      <td>NaN</td>\n",
       "      <td>609.0</td>\n",
       "      <td>206.0</td>\n",
       "      <td>2.8365</td>\n",
       "      <td>90000.0</td>\n",
       "      <td>0</td>\n",
       "      <td>1</td>\n",
       "      <td>0</td>\n",
       "      <td>0</td>\n",
       "      <td>0</td>\n",
       "    </tr>\n",
       "    <tr>\n",
       "      <th>20046</th>\n",
       "      <td>-119.01</td>\n",
       "      <td>36.06</td>\n",
       "      <td>25.0</td>\n",
       "      <td>1505.0</td>\n",
       "      <td>NaN</td>\n",
       "      <td>1392.0</td>\n",
       "      <td>359.0</td>\n",
       "      <td>1.6812</td>\n",
       "      <td>47700.0</td>\n",
       "      <td>0</td>\n",
       "      <td>1</td>\n",
       "      <td>0</td>\n",
       "      <td>0</td>\n",
       "      <td>0</td>\n",
       "    </tr>\n",
       "    <tr>\n",
       "      <th>20125</th>\n",
       "      <td>-118.80</td>\n",
       "      <td>34.41</td>\n",
       "      <td>45.0</td>\n",
       "      <td>1610.0</td>\n",
       "      <td>NaN</td>\n",
       "      <td>1148.0</td>\n",
       "      <td>347.0</td>\n",
       "      <td>2.7000</td>\n",
       "      <td>120400.0</td>\n",
       "      <td>1</td>\n",
       "      <td>0</td>\n",
       "      <td>0</td>\n",
       "      <td>0</td>\n",
       "      <td>0</td>\n",
       "    </tr>\n",
       "    <tr>\n",
       "      <th>20268</th>\n",
       "      <td>-119.18</td>\n",
       "      <td>34.19</td>\n",
       "      <td>19.0</td>\n",
       "      <td>2393.0</td>\n",
       "      <td>NaN</td>\n",
       "      <td>1938.0</td>\n",
       "      <td>762.0</td>\n",
       "      <td>1.6953</td>\n",
       "      <td>167400.0</td>\n",
       "      <td>0</td>\n",
       "      <td>0</td>\n",
       "      <td>0</td>\n",
       "      <td>0</td>\n",
       "      <td>1</td>\n",
       "    </tr>\n",
       "    <tr>\n",
       "      <th>20372</th>\n",
       "      <td>-118.88</td>\n",
       "      <td>34.17</td>\n",
       "      <td>15.0</td>\n",
       "      <td>4260.0</td>\n",
       "      <td>NaN</td>\n",
       "      <td>1701.0</td>\n",
       "      <td>669.0</td>\n",
       "      <td>5.1033</td>\n",
       "      <td>410700.0</td>\n",
       "      <td>1</td>\n",
       "      <td>0</td>\n",
       "      <td>0</td>\n",
       "      <td>0</td>\n",
       "      <td>0</td>\n",
       "    </tr>\n",
       "    <tr>\n",
       "      <th>20460</th>\n",
       "      <td>-118.75</td>\n",
       "      <td>34.29</td>\n",
       "      <td>17.0</td>\n",
       "      <td>5512.0</td>\n",
       "      <td>NaN</td>\n",
       "      <td>2734.0</td>\n",
       "      <td>814.0</td>\n",
       "      <td>6.6073</td>\n",
       "      <td>258100.0</td>\n",
       "      <td>1</td>\n",
       "      <td>0</td>\n",
       "      <td>0</td>\n",
       "      <td>0</td>\n",
       "      <td>0</td>\n",
       "    </tr>\n",
       "    <tr>\n",
       "      <th>20484</th>\n",
       "      <td>-118.72</td>\n",
       "      <td>34.28</td>\n",
       "      <td>17.0</td>\n",
       "      <td>3051.0</td>\n",
       "      <td>NaN</td>\n",
       "      <td>1705.0</td>\n",
       "      <td>495.0</td>\n",
       "      <td>5.7376</td>\n",
       "      <td>218600.0</td>\n",
       "      <td>1</td>\n",
       "      <td>0</td>\n",
       "      <td>0</td>\n",
       "      <td>0</td>\n",
       "      <td>0</td>\n",
       "    </tr>\n",
       "  </tbody>\n",
       "</table>\n",
       "<p>163 rows × 14 columns</p>\n",
       "</div>"
      ],
      "text/plain": [
       "       longitude  latitude  housing_median_age  total_rooms  total_bedrooms  \\\n",
       "290      -122.16     37.77                47.0       1256.0             NaN   \n",
       "341      -122.17     37.75                38.0        992.0             NaN   \n",
       "563      -122.24     37.75                45.0        891.0             NaN   \n",
       "696      -122.10     37.69                41.0        746.0             NaN   \n",
       "738      -122.14     37.67                37.0       3342.0             NaN   \n",
       "1097     -121.77     39.66                20.0       3759.0             NaN   \n",
       "1456     -121.98     37.96                22.0       2987.0             NaN   \n",
       "1493     -122.01     37.94                23.0       3741.0             NaN   \n",
       "1606     -122.08     37.88                26.0       2947.0             NaN   \n",
       "2028     -119.75     36.71                38.0       1481.0             NaN   \n",
       "2301     -119.78     36.82                25.0       5016.0             NaN   \n",
       "2323     -119.73     36.83                 8.0       3602.0             NaN   \n",
       "2334     -119.69     36.83                32.0       1098.0             NaN   \n",
       "2351     -119.68     36.79                16.0       1551.0             NaN   \n",
       "2412     -119.45     36.61                24.0       1302.0             NaN   \n",
       "2420     -119.44     36.58                37.0       1054.0             NaN   \n",
       "2578     -124.06     40.86                34.0       4183.0             NaN   \n",
       "2608     -124.00     40.92                29.0       1429.0             NaN   \n",
       "3024     -119.46     35.14                30.0       2943.0             NaN   \n",
       "3328     -122.72     38.88                29.0       2781.0             NaN   \n",
       "3354     -120.67     40.50                15.0       5343.0             NaN   \n",
       "3376     -118.28     34.25                29.0       2559.0             NaN   \n",
       "3482     -118.45     34.30                27.0       2676.0             NaN   \n",
       "3721     -118.43     34.20                28.0       3386.0             NaN   \n",
       "3921     -118.56     34.20                35.0       2273.0             NaN   \n",
       "3958     -118.59     34.20                21.0       1789.0             NaN   \n",
       "4043     -118.50     34.17                37.0        880.0             NaN   \n",
       "4186     -118.23     34.13                48.0       1308.0             NaN   \n",
       "4279     -118.31     34.09                37.0        773.0             NaN   \n",
       "4309     -118.32     34.09                44.0       2666.0             NaN   \n",
       "...          ...       ...                 ...          ...             ...   \n",
       "17923    -121.97     37.35                30.0       1955.0             NaN   \n",
       "17928    -121.97     37.34                33.0       3162.0             NaN   \n",
       "17973    -121.95     37.31                27.0       4140.0             NaN   \n",
       "18246    -122.08     37.39                 4.0       2292.0             NaN   \n",
       "18261    -122.08     37.37                29.0       1229.0             NaN   \n",
       "18466    -121.75     37.11                18.0       3167.0             NaN   \n",
       "18786    -122.42     40.44                16.0        994.0             NaN   \n",
       "18873    -122.22     38.08                37.0       2811.0             NaN   \n",
       "18914    -122.22     38.15                 7.0       5129.0             NaN   \n",
       "19060    -122.41     38.16                37.0       1549.0             NaN   \n",
       "19071    -122.53     38.32                22.0       3577.0             NaN   \n",
       "19122    -122.65     38.25                23.0       4030.0             NaN   \n",
       "19150    -122.70     38.35                14.0       2313.0             NaN   \n",
       "19332    -122.91     38.46                18.0       2021.0             NaN   \n",
       "19402    -120.93     37.73                14.0       2799.0             NaN   \n",
       "19485    -120.98     37.66                10.0        934.0             NaN   \n",
       "19559    -120.98     37.60                36.0       1437.0             NaN   \n",
       "19638    -120.97     37.43                27.0       1380.0             NaN   \n",
       "19766    -122.10     40.03                25.0       2516.0             NaN   \n",
       "19818    -119.30     36.57                32.0        728.0             NaN   \n",
       "19833    -119.38     36.53                38.0       1281.0             NaN   \n",
       "19890    -119.15     36.29                18.0       1435.0             NaN   \n",
       "19932    -119.33     36.30                11.0       3045.0             NaN   \n",
       "19959    -119.32     36.25                21.0       1231.0             NaN   \n",
       "20046    -119.01     36.06                25.0       1505.0             NaN   \n",
       "20125    -118.80     34.41                45.0       1610.0             NaN   \n",
       "20268    -119.18     34.19                19.0       2393.0             NaN   \n",
       "20372    -118.88     34.17                15.0       4260.0             NaN   \n",
       "20460    -118.75     34.29                17.0       5512.0             NaN   \n",
       "20484    -118.72     34.28                17.0       3051.0             NaN   \n",
       "\n",
       "       population  households  median_income  median_house_value  <1H OCEAN  \\\n",
       "290         570.0       218.0         4.3750            161900.0          0   \n",
       "341         732.0       259.0         1.6196             85100.0          0   \n",
       "563         384.0       146.0         4.9489            247100.0          0   \n",
       "696         387.0       161.0         3.9063            178400.0          0   \n",
       "738        1635.0       557.0         4.7933            186900.0          0   \n",
       "1097       1705.0       600.0         4.7120            158600.0          0   \n",
       "1456       1420.0       540.0         3.6500            204100.0          0   \n",
       "1493       1339.0       499.0         6.7061            322300.0          0   \n",
       "1606        825.0       626.0         2.9330             85000.0          0   \n",
       "2028       1543.0       372.0         1.4577             49800.0          0   \n",
       "2301       2133.0       928.0         3.6250             89500.0          0   \n",
       "2323       1959.0       580.0         5.3478            138800.0          0   \n",
       "2334        726.0       224.0         1.4913             54600.0          0   \n",
       "2351       1010.0       292.0         3.5417             71300.0          0   \n",
       "2412        693.0       243.0         3.7917             90500.0          0   \n",
       "2420        879.0       257.0         2.5234             63500.0          0   \n",
       "2578       1891.0       669.0         3.2216             98100.0          0   \n",
       "2608        672.0       266.0         2.9485             98800.0          1   \n",
       "3024       1565.0       584.0         2.5313             45800.0          0   \n",
       "3328        890.0       310.0         1.9906             96600.0          0   \n",
       "3354       2503.0       902.0         3.5962             85900.0          0   \n",
       "3376       1886.0       769.0         2.6036            162100.0          1   \n",
       "3482       2661.0       623.0         4.3047            152100.0          1   \n",
       "3721       2240.0       737.0         3.0221            290100.0          1   \n",
       "3921       1431.0       403.0         4.0789            196700.0          1   \n",
       "3958       2300.0       677.0         2.7540            179800.0          1   \n",
       "4043        369.0       155.0         4.1429            303600.0          1   \n",
       "4186        835.0       294.0         4.2891            214800.0          1   \n",
       "4279        835.0       312.0         1.8576            193800.0          1   \n",
       "4309       2297.0       726.0         1.6760            208800.0          1   \n",
       "...           ...         ...            ...                 ...        ...   \n",
       "17923       999.0       386.0         4.6328            287100.0          1   \n",
       "17928      1553.0       686.0         3.6682            266100.0          1   \n",
       "17973      2135.0       893.0         3.6292            264600.0          1   \n",
       "18246      1050.0       584.0         4.8036            340000.0          0   \n",
       "18261       707.0       194.0         7.1108            465000.0          0   \n",
       "18466      1414.0       482.0         6.8773            467700.0          1   \n",
       "18786       495.0       181.0         2.1875             76400.0          0   \n",
       "18873      1574.0       516.0         3.1053             96700.0          0   \n",
       "18914      2824.0       738.0         5.5138            171100.0          0   \n",
       "19060       863.0       275.0         2.7457            254700.0          0   \n",
       "19071      1371.0       501.0         5.7950            332300.0          1   \n",
       "19122      1852.0       778.0         3.4020            193300.0          1   \n",
       "19150       954.0       397.0         3.7813            146500.0          1   \n",
       "19332       912.0       329.0         4.5000            251900.0          1   \n",
       "19402      2294.0       596.0         2.6343             81500.0          0   \n",
       "19485       401.0       255.0         0.9336            127100.0          0   \n",
       "19559      1073.0       320.0         2.1779             58400.0          0   \n",
       "19638       810.0       262.0         2.1875            137500.0          0   \n",
       "19766      1266.0       494.0         1.7566             58400.0          0   \n",
       "19818       461.0       149.0         3.0156            109100.0          0   \n",
       "19833      1423.0       293.0         1.9602             51400.0          0   \n",
       "19890       657.0       254.0         2.4281             72500.0          0   \n",
       "19932      1563.0       516.0         5.4337            133800.0          0   \n",
       "19959       609.0       206.0         2.8365             90000.0          0   \n",
       "20046      1392.0       359.0         1.6812             47700.0          0   \n",
       "20125      1148.0       347.0         2.7000            120400.0          1   \n",
       "20268      1938.0       762.0         1.6953            167400.0          0   \n",
       "20372      1701.0       669.0         5.1033            410700.0          1   \n",
       "20460      2734.0       814.0         6.6073            258100.0          1   \n",
       "20484      1705.0       495.0         5.7376            218600.0          1   \n",
       "\n",
       "       INLAND  ISLAND  NEAR BAY  NEAR OCEAN  \n",
       "290         0       0         1           0  \n",
       "341         0       0         1           0  \n",
       "563         0       0         1           0  \n",
       "696         0       0         1           0  \n",
       "738         0       0         1           0  \n",
       "1097        1       0         0           0  \n",
       "1456        1       0         0           0  \n",
       "1493        0       0         1           0  \n",
       "1606        0       0         1           0  \n",
       "2028        1       0         0           0  \n",
       "2301        1       0         0           0  \n",
       "2323        1       0         0           0  \n",
       "2334        1       0         0           0  \n",
       "2351        1       0         0           0  \n",
       "2412        1       0         0           0  \n",
       "2420        1       0         0           0  \n",
       "2578        0       0         0           1  \n",
       "2608        0       0         0           0  \n",
       "3024        1       0         0           0  \n",
       "3328        1       0         0           0  \n",
       "3354        1       0         0           0  \n",
       "3376        0       0         0           0  \n",
       "3482        0       0         0           0  \n",
       "3721        0       0         0           0  \n",
       "3921        0       0         0           0  \n",
       "3958        0       0         0           0  \n",
       "4043        0       0         0           0  \n",
       "4186        0       0         0           0  \n",
       "4279        0       0         0           0  \n",
       "4309        0       0         0           0  \n",
       "...       ...     ...       ...         ...  \n",
       "17923       0       0         0           0  \n",
       "17928       0       0         0           0  \n",
       "17973       0       0         0           0  \n",
       "18246       0       0         1           0  \n",
       "18261       0       0         1           0  \n",
       "18466       0       0         0           0  \n",
       "18786       1       0         0           0  \n",
       "18873       0       0         1           0  \n",
       "18914       0       0         1           0  \n",
       "19060       0       0         1           0  \n",
       "19071       0       0         0           0  \n",
       "19122       0       0         0           0  \n",
       "19150       0       0         0           0  \n",
       "19332       0       0         0           0  \n",
       "19402       1       0         0           0  \n",
       "19485       1       0         0           0  \n",
       "19559       1       0         0           0  \n",
       "19638       1       0         0           0  \n",
       "19766       1       0         0           0  \n",
       "19818       1       0         0           0  \n",
       "19833       1       0         0           0  \n",
       "19890       1       0         0           0  \n",
       "19932       1       0         0           0  \n",
       "19959       1       0         0           0  \n",
       "20046       1       0         0           0  \n",
       "20125       0       0         0           0  \n",
       "20268       0       0         0           1  \n",
       "20372       0       0         0           0  \n",
       "20460       0       0         0           0  \n",
       "20484       0       0         0           0  \n",
       "\n",
       "[163 rows x 14 columns]"
      ]
     },
     "execution_count": 704,
     "metadata": {},
     "output_type": "execute_result"
    }
   ],
   "source": [
    "dataset[dataset.isnull().any(axis=1)]"
   ]
  },
  {
   "cell_type": "markdown",
   "metadata": {},
   "source": [
    "After this first analysis we have highlighted the presence of missing values only in the *total_bedrooms* column.  \n",
    "The two main ways of handling missing values are: cutting them out or replacing them with other values"
   ]
  },
  {
   "cell_type": "markdown",
   "metadata": {},
   "source": [
    "In order to choose the best criterion, let's evaluate the real proportion of missing values with respect to the entire dataset"
   ]
  },
  {
   "cell_type": "markdown",
   "metadata": {},
   "source": [
    "This is the number of rows which contain a missing value at *total_bedrooms* column"
   ]
  },
  {
   "cell_type": "code",
   "execution_count": 705,
   "metadata": {},
   "outputs": [
    {
     "data": {
      "text/plain": [
       "163"
      ]
     },
     "execution_count": 705,
     "metadata": {},
     "output_type": "execute_result"
    }
   ],
   "source": [
    "sum(dataset.isnull().any(axis=1))"
   ]
  },
  {
   "cell_type": "code",
   "execution_count": 706,
   "metadata": {},
   "outputs": [
    {
     "name": "stdout",
     "output_type": "stream",
     "text": [
      "total rows: 16715\n"
     ]
    }
   ],
   "source": [
    "print(\"total rows:\", len(dataset))"
   ]
  },
  {
   "cell_type": "code",
   "execution_count": 707,
   "metadata": {},
   "outputs": [
    {
     "name": "stdout",
     "output_type": "stream",
     "text": [
      "0.9752 %\n"
     ]
    }
   ],
   "source": [
    "print(round(sum(dataset.isnull().any(axis=1))/len(dataset) * 100, 4), \"%\")"
   ]
  },
  {
   "cell_type": "markdown",
   "metadata": {},
   "source": [
    "is the percentage of rows that contain missing values"
   ]
  },
  {
   "cell_type": "markdown",
   "metadata": {},
   "source": [
    "Given that the proportion of missing values is not big, cutting them out could be a possible solution but, first, let's see if these missing values have a pattern or if they are missing randomly"
   ]
  },
  {
   "cell_type": "code",
   "execution_count": 708,
   "metadata": {
    "scrolled": true
   },
   "outputs": [
    {
     "data": {
      "text/plain": [
       "<matplotlib.axes._subplots.AxesSubplot at 0x1398a5128>"
      ]
     },
     "execution_count": 708,
     "metadata": {},
     "output_type": "execute_result"
    },
    {
     "data": {
      "image/png": "[encoded data removed]",
      "text/plain": [
       "<Figure size 1800x720 with 2 Axes>"
      ]
     },
     "metadata": {
      "needs_background": "light"
     },
     "output_type": "display_data"
    }
   ],
   "source": [
    "msno.matrix(dataset)"
   ]
  },
  {
   "cell_type": "markdown",
   "metadata": {},
   "source": [
    "## Possible ways to replace missing values"
   ]
  },
  {
   "cell_type": "markdown",
   "metadata": {},
   "source": [
    "In general, *total_bedrooms* must be a subset of *total_rooms*; on average, the proportion between the number of total bedrooms and total rooms is 0.21, and its standard deviation is approximately around 0.06, a possible solution in order to keep 1% of data, could be to randomly extract a value between 0.16 and 0.26 and multiply it with the number of *total_rooms* (at i-th row), in this way we won't recreate the exact value but we will have a chance of guessing a coherent value for *total_bedrooms*, because we assume there is a positive correlation between these values and *total_rooms*.\n",
    "For this project, we will try both approaches, and see if there is any benefit in final accuracy."
   ]
  },
  {
   "cell_type": "code",
   "execution_count": 709,
   "metadata": {},
   "outputs": [
    {
     "data": {
      "image/png": "[encoded data removed]",
      "text/plain": [
       "<Figure size 1080x504 with 1 Axes>"
      ]
     },
     "metadata": {
      "needs_background": "light"
     },
     "output_type": "display_data"
    },
    {
     "name": "stdout",
     "output_type": "stream",
     "text": [
      "0.8685028476672898\n"
     ]
    }
   ],
   "source": [
    "plt.figure(figsize=(15, 7))\n",
    "plt.title(\"Proportion of total bedrooms over total rooms\")\n",
    "plt.hist(dataset[-dataset.isnull().any(axis=1)][\"total_bedrooms\"]/dataset[-dataset.isnull().any(axis=1)][\"total_rooms\"])\n",
    "plt.grid()\n",
    "plt.show()\n",
    "print(pearsonr(dataset[-dataset.isnull().any(axis=1)][\"total_bedrooms\"], dataset[-dataset.isnull().any(axis=1)][\"total_rooms\"])[0])"
   ]
  },
  {
   "cell_type": "code",
   "execution_count": 710,
   "metadata": {},
   "outputs": [
    {
     "data": {
      "text/plain": [
       "(0.21315669268051768, 0.05027428526401439)"
      ]
     },
     "execution_count": 710,
     "metadata": {},
     "output_type": "execute_result"
    }
   ],
   "source": [
    "np.mean(dataset[-dataset.isnull().any(axis=1)][\"total_bedrooms\"]/dataset[-dataset.isnull().any(axis=1)][\"total_rooms\"]), np.std(dataset[-dataset.isnull().any(axis=1)][\"total_bedrooms\"]/dataset[-dataset.isnull().any(axis=1)][\"total_rooms\"])"
   ]
  },
  {
   "cell_type": "markdown",
   "metadata": {},
   "source": [
    "Another interesting approach could be considering *households* as a possible estimator of *total_bedrooms* but in this case there is a quite high standard deviation, so it wouldn't be the best method"
   ]
  },
  {
   "cell_type": "code",
   "execution_count": 711,
   "metadata": {
    "scrolled": true
   },
   "outputs": [
    {
     "data": {
      "text/plain": [
       "(1.0906315531829605, 0.4492873286018552)"
      ]
     },
     "execution_count": 711,
     "metadata": {},
     "output_type": "execute_result"
    }
   ],
   "source": [
    "np.mean(dataset[\"total_bedrooms\"]/dataset[\"households\"]), np.std(dataset[\"total_bedrooms\"]/dataset[\"households\"])"
   ]
  },
  {
   "cell_type": "markdown",
   "metadata": {},
   "source": [
    "Another helpful point of view is considering *population* as estimator because, on average, it is the double of *total_bedrooms* values but also in this case standard deviation is not sufficiently low."
   ]
  },
  {
   "cell_type": "code",
   "execution_count": 712,
   "metadata": {
    "scrolled": true
   },
   "outputs": [
    {
     "data": {
      "text/plain": [
       "(0.3981553504360808, 0.2350093579505213)"
      ]
     },
     "execution_count": 712,
     "metadata": {},
     "output_type": "execute_result"
    }
   ],
   "source": [
    "np.mean(dataset[\"total_bedrooms\"]/dataset[\"population\"]), np.std(dataset[\"total_bedrooms\"]/dataset[\"population\"])"
   ]
  },
  {
   "cell_type": "markdown",
   "metadata": {},
   "source": [
    "### Replacing missing values (stochastic regression imputation)"
   ]
  },
  {
   "cell_type": "markdown",
   "metadata": {},
   "source": [
    "Since standard deviation in the first approach is around 0.05 and mean is 0.21 we can define a range (0.16, 0.26) from which we can uniformly extract a number, with the aim of recreating a coherent value which can replace the missing one.\n",
    "In order to keep consistency, we have to round the value to an integer value, since we are dealing with bedrooms and they belong to a discrete set."
   ]
  },
  {
   "cell_type": "code",
   "execution_count": 713,
   "metadata": {},
   "outputs": [
    {
     "name": "stdout",
     "output_type": "stream",
     "text": [
      "285.0\n",
      "165.0\n",
      "151.0\n",
      "136.0\n",
      "568.0\n",
      "679.0\n",
      "620.0\n",
      "759.0\n",
      "525.0\n",
      "245.0\n",
      "821.0\n",
      "638.0\n",
      "261.0\n",
      "292.0\n",
      "282.0\n",
      "201.0\n",
      "679.0\n",
      "274.0\n",
      "701.0\n",
      "697.0\n",
      "1265.0\n",
      "586.0\n",
      "630.0\n",
      "758.0\n",
      "497.0\n",
      "349.0\n",
      "218.0\n",
      "324.0\n",
      "186.0\n",
      "592.0\n",
      "226.0\n",
      "410.0\n",
      "281.0\n",
      "386.0\n",
      "263.0\n",
      "444.0\n",
      "128.0\n",
      "342.0\n",
      "447.0\n",
      "293.0\n",
      "253.0\n",
      "912.0\n",
      "141.0\n",
      "489.0\n",
      "183.0\n",
      "442.0\n",
      "551.0\n",
      "520.0\n",
      "374.0\n",
      "792.0\n",
      "337.0\n",
      "748.0\n",
      "668.0\n",
      "574.0\n",
      "464.0\n",
      "453.0\n",
      "319.0\n",
      "998.0\n",
      "449.0\n",
      "364.0\n",
      "641.0\n",
      "315.0\n",
      "404.0\n",
      "261.0\n",
      "125.0\n",
      "248.0\n",
      "517.0\n",
      "280.0\n",
      "188.0\n",
      "164.0\n",
      "393.0\n",
      "696.0\n",
      "262.0\n",
      "113.0\n",
      "226.0\n",
      "466.0\n",
      "322.0\n",
      "669.0\n",
      "465.0\n",
      "238.0\n",
      "323.0\n",
      "295.0\n",
      "637.0\n",
      "569.0\n",
      "454.0\n",
      "412.0\n",
      "332.0\n",
      "957.0\n",
      "868.0\n",
      "252.0\n",
      "172.0\n",
      "688.0\n",
      "232.0\n",
      "890.0\n",
      "388.0\n",
      "983.0\n",
      "818.0\n",
      "373.0\n",
      "389.0\n",
      "508.0\n",
      "157.0\n",
      "918.0\n",
      "911.0\n",
      "242.0\n",
      "699.0\n",
      "453.0\n",
      "232.0\n",
      "340.0\n",
      "341.0\n",
      "528.0\n",
      "221.0\n",
      "145.0\n",
      "794.0\n",
      "382.0\n",
      "566.0\n",
      "753.0\n",
      "338.0\n",
      "1138.0\n",
      "800.0\n",
      "337.0\n",
      "197.0\n",
      "550.0\n",
      "448.0\n",
      "366.0\n",
      "410.0\n",
      "419.0\n",
      "295.0\n",
      "132.0\n",
      "1200.0\n",
      "535.0\n",
      "308.0\n",
      "834.0\n",
      "578.0\n",
      "469.0\n",
      "812.0\n",
      "986.0\n",
      "393.0\n",
      "271.0\n",
      "689.0\n",
      "231.0\n",
      "488.0\n",
      "1023.0\n",
      "380.0\n",
      "737.0\n",
      "704.0\n",
      "433.0\n",
      "520.0\n",
      "507.0\n",
      "204.0\n",
      "250.0\n",
      "229.0\n",
      "434.0\n",
      "188.0\n",
      "288.0\n",
      "250.0\n",
      "497.0\n",
      "286.0\n",
      "373.0\n",
      "330.0\n",
      "479.0\n",
      "1082.0\n",
      "1179.0\n",
      "499.0\n"
     ]
    }
   ],
   "source": [
    "for index, i in dataset[dataset.isnull().any(axis=1)].iterrows():\n",
    "    print(round(i[\"total_rooms\"] * uniform(0.16, 0.26))) # possible values for total_bedrooms"
   ]
  },
  {
   "cell_type": "markdown",
   "metadata": {},
   "source": [
    "In this way we probably won't have the original exact values but we are sure that they will be consistent, which is the most important thing when giving more examples to the model; in general, this is the same valid approach for data augmentation."
   ]
  },
  {
   "cell_type": "markdown",
   "metadata": {},
   "source": [
    "Let's build two datasets: one with NaNs removed"
   ]
  },
  {
   "cell_type": "code",
   "execution_count": 714,
   "metadata": {},
   "outputs": [],
   "source": [
    "reduced_dataset = dataset[-dataset.isnull().any(axis=1)]"
   ]
  },
  {
   "cell_type": "markdown",
   "metadata": {},
   "source": [
    "and one with its values replaced as explained above."
   ]
  },
  {
   "cell_type": "code",
   "execution_count": 715,
   "metadata": {},
   "outputs": [
    {
     "name": "stderr",
     "output_type": "stream",
     "text": [
      "/Library/Frameworks/Python.framework/Versions/3.7/lib/python3.7/site-packages/ipykernel_launcher.py:3: SettingWithCopyWarning: \n",
      "A value is trying to be set on a copy of a slice from a DataFrame\n",
      "\n",
      "See the caveats in the documentation: http://pandas.pydata.org/pandas-docs/stable/indexing.html#indexing-view-versus-copy\n",
      "  This is separate from the ipykernel package so we can avoid doing imports until\n"
     ]
    }
   ],
   "source": [
    "for index, i in dataset[[\"total_rooms\", \"total_bedrooms\"]].iterrows():\n",
    "    if math.isnan(i[1]):\n",
    "        dataset[\"total_bedrooms\"][index] = round(dataset[\"total_rooms\"][index] * uniform(0.16, 0.26))"
   ]
  },
  {
   "cell_type": "markdown",
   "metadata": {},
   "source": [
    "let's check again the presence of missing values..."
   ]
  },
  {
   "cell_type": "code",
   "execution_count": 716,
   "metadata": {},
   "outputs": [
    {
     "data": {
      "text/plain": [
       "False"
      ]
     },
     "execution_count": 716,
     "metadata": {},
     "output_type": "execute_result"
    }
   ],
   "source": [
    "dataset.isnull().values.any()"
   ]
  },
  {
   "cell_type": "markdown",
   "metadata": {},
   "source": [
    "and the size of the dataset is the same as before"
   ]
  },
  {
   "cell_type": "code",
   "execution_count": 717,
   "metadata": {},
   "outputs": [
    {
     "data": {
      "text/plain": [
       "16715"
      ]
     },
     "execution_count": 717,
     "metadata": {},
     "output_type": "execute_result"
    }
   ],
   "source": [
    "len(dataset)"
   ]
  },
  {
   "cell_type": "markdown",
   "metadata": {},
   "source": [
    "we can see that the previous cases of NaNs have been replaced by consistent values"
   ]
  },
  {
   "cell_type": "code",
   "execution_count": 718,
   "metadata": {},
   "outputs": [
    {
     "data": {
      "text/html": [
       "<div>\n",
       "<style scoped>\n",
       "    .dataframe tbody tr th:only-of-type {\n",
       "        vertical-align: middle;\n",
       "    }\n",
       "\n",
       "    .dataframe tbody tr th {\n",
       "        vertical-align: top;\n",
       "    }\n",
       "\n",
       "    .dataframe thead th {\n",
       "        text-align: right;\n",
       "    }\n",
       "</style>\n",
       "<table border=\"1\" class=\"dataframe\">\n",
       "  <thead>\n",
       "    <tr style=\"text-align: right;\">\n",
       "      <th></th>\n",
       "      <th>longitude</th>\n",
       "      <th>latitude</th>\n",
       "      <th>housing_median_age</th>\n",
       "      <th>total_rooms</th>\n",
       "      <th>total_bedrooms</th>\n",
       "      <th>population</th>\n",
       "      <th>households</th>\n",
       "      <th>median_income</th>\n",
       "      <th>median_house_value</th>\n",
       "      <th>&lt;1H OCEAN</th>\n",
       "      <th>INLAND</th>\n",
       "      <th>ISLAND</th>\n",
       "      <th>NEAR BAY</th>\n",
       "      <th>NEAR OCEAN</th>\n",
       "    </tr>\n",
       "  </thead>\n",
       "  <tbody>\n",
       "    <tr>\n",
       "      <th>333</th>\n",
       "      <td>-122.17</td>\n",
       "      <td>37.74</td>\n",
       "      <td>43.0</td>\n",
       "      <td>818.0</td>\n",
       "      <td>193.0</td>\n",
       "      <td>494.0</td>\n",
       "      <td>179.0</td>\n",
       "      <td>2.4776</td>\n",
       "      <td>101600.0</td>\n",
       "      <td>0</td>\n",
       "      <td>0</td>\n",
       "      <td>0</td>\n",
       "      <td>1</td>\n",
       "      <td>0</td>\n",
       "    </tr>\n",
       "    <tr>\n",
       "      <th>387</th>\n",
       "      <td>-122.29</td>\n",
       "      <td>37.89</td>\n",
       "      <td>52.0</td>\n",
       "      <td>2248.0</td>\n",
       "      <td>422.0</td>\n",
       "      <td>870.0</td>\n",
       "      <td>377.0</td>\n",
       "      <td>3.4732</td>\n",
       "      <td>246200.0</td>\n",
       "      <td>0</td>\n",
       "      <td>0</td>\n",
       "      <td>0</td>\n",
       "      <td>1</td>\n",
       "      <td>0</td>\n",
       "    </tr>\n",
       "    <tr>\n",
       "      <th>619</th>\n",
       "      <td>-122.17</td>\n",
       "      <td>37.73</td>\n",
       "      <td>46.0</td>\n",
       "      <td>2163.0</td>\n",
       "      <td>470.0</td>\n",
       "      <td>925.0</td>\n",
       "      <td>435.0</td>\n",
       "      <td>3.2500</td>\n",
       "      <td>177500.0</td>\n",
       "      <td>0</td>\n",
       "      <td>0</td>\n",
       "      <td>0</td>\n",
       "      <td>1</td>\n",
       "      <td>0</td>\n",
       "    </tr>\n",
       "    <tr>\n",
       "      <th>645</th>\n",
       "      <td>-122.13</td>\n",
       "      <td>37.72</td>\n",
       "      <td>26.0</td>\n",
       "      <td>2862.0</td>\n",
       "      <td>394.0</td>\n",
       "      <td>1030.0</td>\n",
       "      <td>397.0</td>\n",
       "      <td>7.9120</td>\n",
       "      <td>367300.0</td>\n",
       "      <td>0</td>\n",
       "      <td>0</td>\n",
       "      <td>0</td>\n",
       "      <td>1</td>\n",
       "      <td>0</td>\n",
       "    </tr>\n",
       "    <tr>\n",
       "      <th>790</th>\n",
       "      <td>-122.08</td>\n",
       "      <td>37.64</td>\n",
       "      <td>36.0</td>\n",
       "      <td>1340.0</td>\n",
       "      <td>245.0</td>\n",
       "      <td>789.0</td>\n",
       "      <td>248.0</td>\n",
       "      <td>3.8000</td>\n",
       "      <td>172000.0</td>\n",
       "      <td>0</td>\n",
       "      <td>0</td>\n",
       "      <td>0</td>\n",
       "      <td>1</td>\n",
       "      <td>0</td>\n",
       "    </tr>\n",
       "    <tr>\n",
       "      <th>836</th>\n",
       "      <td>-122.04</td>\n",
       "      <td>37.60</td>\n",
       "      <td>17.0</td>\n",
       "      <td>3314.0</td>\n",
       "      <td>638.0</td>\n",
       "      <td>1873.0</td>\n",
       "      <td>602.0</td>\n",
       "      <td>4.3875</td>\n",
       "      <td>238500.0</td>\n",
       "      <td>0</td>\n",
       "      <td>0</td>\n",
       "      <td>0</td>\n",
       "      <td>1</td>\n",
       "      <td>0</td>\n",
       "    </tr>\n",
       "    <tr>\n",
       "      <th>1273</th>\n",
       "      <td>-121.70</td>\n",
       "      <td>37.93</td>\n",
       "      <td>19.0</td>\n",
       "      <td>2005.0</td>\n",
       "      <td>405.0</td>\n",
       "      <td>972.0</td>\n",
       "      <td>403.0</td>\n",
       "      <td>2.2216</td>\n",
       "      <td>156700.0</td>\n",
       "      <td>0</td>\n",
       "      <td>1</td>\n",
       "      <td>0</td>\n",
       "      <td>0</td>\n",
       "      <td>0</td>\n",
       "    </tr>\n",
       "    <tr>\n",
       "      <th>1572</th>\n",
       "      <td>-122.00</td>\n",
       "      <td>37.82</td>\n",
       "      <td>20.0</td>\n",
       "      <td>2206.0</td>\n",
       "      <td>458.0</td>\n",
       "      <td>926.0</td>\n",
       "      <td>432.0</td>\n",
       "      <td>4.6042</td>\n",
       "      <td>256400.0</td>\n",
       "      <td>1</td>\n",
       "      <td>0</td>\n",
       "      <td>0</td>\n",
       "      <td>0</td>\n",
       "      <td>0</td>\n",
       "    </tr>\n",
       "    <tr>\n",
       "      <th>1738</th>\n",
       "      <td>-122.33</td>\n",
       "      <td>37.98</td>\n",
       "      <td>32.0</td>\n",
       "      <td>1967.0</td>\n",
       "      <td>348.0</td>\n",
       "      <td>1144.0</td>\n",
       "      <td>364.0</td>\n",
       "      <td>4.4135</td>\n",
       "      <td>150100.0</td>\n",
       "      <td>0</td>\n",
       "      <td>0</td>\n",
       "      <td>0</td>\n",
       "      <td>1</td>\n",
       "      <td>0</td>\n",
       "    </tr>\n",
       "    <tr>\n",
       "      <th>1776</th>\n",
       "      <td>-122.34</td>\n",
       "      <td>37.94</td>\n",
       "      <td>42.0</td>\n",
       "      <td>2206.0</td>\n",
       "      <td>451.0</td>\n",
       "      <td>989.0</td>\n",
       "      <td>444.0</td>\n",
       "      <td>3.1250</td>\n",
       "      <td>143900.0</td>\n",
       "      <td>0</td>\n",
       "      <td>0</td>\n",
       "      <td>0</td>\n",
       "      <td>1</td>\n",
       "      <td>0</td>\n",
       "    </tr>\n",
       "    <tr>\n",
       "      <th>1899</th>\n",
       "      <td>-120.01</td>\n",
       "      <td>38.89</td>\n",
       "      <td>24.0</td>\n",
       "      <td>1669.0</td>\n",
       "      <td>422.0</td>\n",
       "      <td>589.0</td>\n",
       "      <td>281.0</td>\n",
       "      <td>3.0089</td>\n",
       "      <td>100800.0</td>\n",
       "      <td>0</td>\n",
       "      <td>1</td>\n",
       "      <td>0</td>\n",
       "      <td>0</td>\n",
       "      <td>0</td>\n",
       "    </tr>\n",
       "  </tbody>\n",
       "</table>\n",
       "</div>"
      ],
      "text/plain": [
       "      longitude  latitude  housing_median_age  total_rooms  total_bedrooms  \\\n",
       "333     -122.17     37.74                43.0        818.0           193.0   \n",
       "387     -122.29     37.89                52.0       2248.0           422.0   \n",
       "619     -122.17     37.73                46.0       2163.0           470.0   \n",
       "645     -122.13     37.72                26.0       2862.0           394.0   \n",
       "790     -122.08     37.64                36.0       1340.0           245.0   \n",
       "836     -122.04     37.60                17.0       3314.0           638.0   \n",
       "1273    -121.70     37.93                19.0       2005.0           405.0   \n",
       "1572    -122.00     37.82                20.0       2206.0           458.0   \n",
       "1738    -122.33     37.98                32.0       1967.0           348.0   \n",
       "1776    -122.34     37.94                42.0       2206.0           451.0   \n",
       "1899    -120.01     38.89                24.0       1669.0           422.0   \n",
       "\n",
       "      population  households  median_income  median_house_value  <1H OCEAN  \\\n",
       "333        494.0       179.0         2.4776            101600.0          0   \n",
       "387        870.0       377.0         3.4732            246200.0          0   \n",
       "619        925.0       435.0         3.2500            177500.0          0   \n",
       "645       1030.0       397.0         7.9120            367300.0          0   \n",
       "790        789.0       248.0         3.8000            172000.0          0   \n",
       "836       1873.0       602.0         4.3875            238500.0          0   \n",
       "1273       972.0       403.0         2.2216            156700.0          0   \n",
       "1572       926.0       432.0         4.6042            256400.0          1   \n",
       "1738      1144.0       364.0         4.4135            150100.0          0   \n",
       "1776       989.0       444.0         3.1250            143900.0          0   \n",
       "1899       589.0       281.0         3.0089            100800.0          0   \n",
       "\n",
       "      INLAND  ISLAND  NEAR BAY  NEAR OCEAN  \n",
       "333        0       0         1           0  \n",
       "387        0       0         1           0  \n",
       "619        0       0         1           0  \n",
       "645        0       0         1           0  \n",
       "790        0       0         1           0  \n",
       "836        0       0         1           0  \n",
       "1273       1       0         0           0  \n",
       "1572       0       0         0           0  \n",
       "1738       0       0         1           0  \n",
       "1776       0       0         1           0  \n",
       "1899       1       0         0           0  "
      ]
     },
     "execution_count": 718,
     "metadata": {},
     "output_type": "execute_result"
    }
   ],
   "source": [
    "nans_indexes = [290, 341, 538, 563, 696, 738, 1097, 1350, 1456, 1493, 1606]\n",
    "\n",
    "dataset.iloc[nans_indexes]"
   ]
  },
  {
   "cell_type": "markdown",
   "metadata": {},
   "source": [
    "## Normalization"
   ]
  },
  {
   "cell_type": "markdown",
   "metadata": {},
   "source": [
    "As final step of preprocessing we perform normalization, basically, there are two main categories: min-max and z-score; we will try both to see which one is better for our data."
   ]
  },
  {
   "cell_type": "markdown",
   "metadata": {},
   "source": [
    "### Min-Max"
   ]
  },
  {
   "cell_type": "markdown",
   "metadata": {},
   "source": [
    " <img src=\"images/minmax.png\" width=\"200\"/>"
   ]
  },
  {
   "cell_type": "code",
   "execution_count": 719,
   "metadata": {},
   "outputs": [],
   "source": [
    "def simple_split(dataset):\n",
    "    y = dataset[\"median_house_value\"]\n",
    "    x = dataset.drop(\"median_house_value\", axis = 1)\n",
    "    return x, y"
   ]
  },
  {
   "cell_type": "code",
   "execution_count": 720,
   "metadata": {},
   "outputs": [
    {
     "data": {
      "text/html": [
       "<div>\n",
       "<style scoped>\n",
       "    .dataframe tbody tr th:only-of-type {\n",
       "        vertical-align: middle;\n",
       "    }\n",
       "\n",
       "    .dataframe tbody tr th {\n",
       "        vertical-align: top;\n",
       "    }\n",
       "\n",
       "    .dataframe thead th {\n",
       "        text-align: right;\n",
       "    }\n",
       "</style>\n",
       "<table border=\"1\" class=\"dataframe\">\n",
       "  <thead>\n",
       "    <tr style=\"text-align: right;\">\n",
       "      <th></th>\n",
       "      <th>longitude</th>\n",
       "      <th>latitude</th>\n",
       "      <th>housing_median_age</th>\n",
       "      <th>total_rooms</th>\n",
       "      <th>total_bedrooms</th>\n",
       "      <th>population</th>\n",
       "      <th>households</th>\n",
       "      <th>median_income</th>\n",
       "      <th>median_house_value</th>\n",
       "      <th>&lt;1H OCEAN</th>\n",
       "      <th>INLAND</th>\n",
       "      <th>ISLAND</th>\n",
       "      <th>NEAR BAY</th>\n",
       "      <th>NEAR OCEAN</th>\n",
       "    </tr>\n",
       "  </thead>\n",
       "  <tbody>\n",
       "    <tr>\n",
       "      <th>2</th>\n",
       "      <td>0.213996</td>\n",
       "      <td>0.564293</td>\n",
       "      <td>1.000000</td>\n",
       "      <td>0.170526</td>\n",
       "      <td>0.089202</td>\n",
       "      <td>0.151095</td>\n",
       "      <td>0.150418</td>\n",
       "      <td>0.899633</td>\n",
       "      <td>0.721533</td>\n",
       "      <td>0.0</td>\n",
       "      <td>0.0</td>\n",
       "      <td>0.0</td>\n",
       "      <td>1.0</td>\n",
       "      <td>0.0</td>\n",
       "    </tr>\n",
       "    <tr>\n",
       "      <th>3</th>\n",
       "      <td>0.212982</td>\n",
       "      <td>0.564293</td>\n",
       "      <td>1.000000</td>\n",
       "      <td>0.132653</td>\n",
       "      <td>0.124413</td>\n",
       "      <td>0.171070</td>\n",
       "      <td>0.189415</td>\n",
       "      <td>0.684719</td>\n",
       "      <td>0.698417</td>\n",
       "      <td>0.0</td>\n",
       "      <td>0.0</td>\n",
       "      <td>0.0</td>\n",
       "      <td>1.0</td>\n",
       "      <td>0.0</td>\n",
       "    </tr>\n",
       "    <tr>\n",
       "      <th>4</th>\n",
       "      <td>0.212982</td>\n",
       "      <td>0.564293</td>\n",
       "      <td>1.000000</td>\n",
       "      <td>0.201923</td>\n",
       "      <td>0.159624</td>\n",
       "      <td>0.173325</td>\n",
       "      <td>0.226555</td>\n",
       "      <td>0.445496</td>\n",
       "      <td>0.700343</td>\n",
       "      <td>0.0</td>\n",
       "      <td>0.0</td>\n",
       "      <td>0.0</td>\n",
       "      <td>1.0</td>\n",
       "      <td>0.0</td>\n",
       "    </tr>\n",
       "    <tr>\n",
       "      <th>5</th>\n",
       "      <td>0.212982</td>\n",
       "      <td>0.564293</td>\n",
       "      <td>1.000000</td>\n",
       "      <td>0.062991</td>\n",
       "      <td>0.107199</td>\n",
       "      <td>0.124356</td>\n",
       "      <td>0.165274</td>\n",
       "      <td>0.470871</td>\n",
       "      <td>0.545164</td>\n",
       "      <td>0.0</td>\n",
       "      <td>0.0</td>\n",
       "      <td>0.0</td>\n",
       "      <td>1.0</td>\n",
       "      <td>0.0</td>\n",
       "    </tr>\n",
       "    <tr>\n",
       "      <th>6</th>\n",
       "      <td>0.212982</td>\n",
       "      <td>0.563231</td>\n",
       "      <td>1.000000</td>\n",
       "      <td>0.380102</td>\n",
       "      <td>0.323161</td>\n",
       "      <td>0.343750</td>\n",
       "      <td>0.463324</td>\n",
       "      <td>0.420587</td>\n",
       "      <td>0.608306</td>\n",
       "      <td>0.0</td>\n",
       "      <td>0.0</td>\n",
       "      <td>0.0</td>\n",
       "      <td>1.0</td>\n",
       "      <td>0.0</td>\n",
       "    </tr>\n",
       "    <tr>\n",
       "      <th>7</th>\n",
       "      <td>0.212982</td>\n",
       "      <td>0.563231</td>\n",
       "      <td>1.000000</td>\n",
       "      <td>0.491758</td>\n",
       "      <td>0.478091</td>\n",
       "      <td>0.364046</td>\n",
       "      <td>0.586815</td>\n",
       "      <td>0.348816</td>\n",
       "      <td>0.484590</td>\n",
       "      <td>0.0</td>\n",
       "      <td>0.0</td>\n",
       "      <td>0.0</td>\n",
       "      <td>1.0</td>\n",
       "      <td>0.0</td>\n",
       "    </tr>\n",
       "    <tr>\n",
       "      <th>8</th>\n",
       "      <td>0.211968</td>\n",
       "      <td>0.563231</td>\n",
       "      <td>0.803922</td>\n",
       "      <td>0.384027</td>\n",
       "      <td>0.460876</td>\n",
       "      <td>0.379832</td>\n",
       "      <td>0.538533</td>\n",
       "      <td>0.210414</td>\n",
       "      <td>0.453126</td>\n",
       "      <td>0.0</td>\n",
       "      <td>0.0</td>\n",
       "      <td>0.0</td>\n",
       "      <td>1.0</td>\n",
       "      <td>0.0</td>\n",
       "    </tr>\n",
       "    <tr>\n",
       "      <th>9</th>\n",
       "      <td>0.212982</td>\n",
       "      <td>0.563231</td>\n",
       "      <td>1.000000</td>\n",
       "      <td>0.579082</td>\n",
       "      <td>0.493740</td>\n",
       "      <td>0.490979</td>\n",
       "      <td>0.649025</td>\n",
       "      <td>0.424861</td>\n",
       "      <td>0.526756</td>\n",
       "      <td>0.0</td>\n",
       "      <td>0.0</td>\n",
       "      <td>0.0</td>\n",
       "      <td>1.0</td>\n",
       "      <td>0.0</td>\n",
       "    </tr>\n",
       "    <tr>\n",
       "      <th>10</th>\n",
       "      <td>0.211968</td>\n",
       "      <td>0.564293</td>\n",
       "      <td>1.000000</td>\n",
       "      <td>0.314757</td>\n",
       "      <td>0.280125</td>\n",
       "      <td>0.284472</td>\n",
       "      <td>0.359331</td>\n",
       "      <td>0.359880</td>\n",
       "      <td>0.570420</td>\n",
       "      <td>0.0</td>\n",
       "      <td>0.0</td>\n",
       "      <td>0.0</td>\n",
       "      <td>1.0</td>\n",
       "      <td>0.0</td>\n",
       "    </tr>\n",
       "    <tr>\n",
       "      <th>11</th>\n",
       "      <td>0.211968</td>\n",
       "      <td>0.564293</td>\n",
       "      <td>1.000000</td>\n",
       "      <td>0.570055</td>\n",
       "      <td>0.528951</td>\n",
       "      <td>0.475838</td>\n",
       "      <td>0.667595</td>\n",
       "      <td>0.368853</td>\n",
       "      <td>0.485446</td>\n",
       "      <td>0.0</td>\n",
       "      <td>0.0</td>\n",
       "      <td>0.0</td>\n",
       "      <td>1.0</td>\n",
       "      <td>0.0</td>\n",
       "    </tr>\n",
       "  </tbody>\n",
       "</table>\n",
       "</div>"
      ],
      "text/plain": [
       "    longitude  latitude  housing_median_age  total_rooms  total_bedrooms  \\\n",
       "2    0.213996  0.564293            1.000000     0.170526        0.089202   \n",
       "3    0.212982  0.564293            1.000000     0.132653        0.124413   \n",
       "4    0.212982  0.564293            1.000000     0.201923        0.159624   \n",
       "5    0.212982  0.564293            1.000000     0.062991        0.107199   \n",
       "6    0.212982  0.563231            1.000000     0.380102        0.323161   \n",
       "7    0.212982  0.563231            1.000000     0.491758        0.478091   \n",
       "8    0.211968  0.563231            0.803922     0.384027        0.460876   \n",
       "9    0.212982  0.563231            1.000000     0.579082        0.493740   \n",
       "10   0.211968  0.564293            1.000000     0.314757        0.280125   \n",
       "11   0.211968  0.564293            1.000000     0.570055        0.528951   \n",
       "\n",
       "    population  households  median_income  median_house_value  <1H OCEAN  \\\n",
       "2     0.151095    0.150418       0.899633            0.721533        0.0   \n",
       "3     0.171070    0.189415       0.684719            0.698417        0.0   \n",
       "4     0.173325    0.226555       0.445496            0.700343        0.0   \n",
       "5     0.124356    0.165274       0.470871            0.545164        0.0   \n",
       "6     0.343750    0.463324       0.420587            0.608306        0.0   \n",
       "7     0.364046    0.586815       0.348816            0.484590        0.0   \n",
       "8     0.379832    0.538533       0.210414            0.453126        0.0   \n",
       "9     0.490979    0.649025       0.424861            0.526756        0.0   \n",
       "10    0.284472    0.359331       0.359880            0.570420        0.0   \n",
       "11    0.475838    0.667595       0.368853            0.485446        0.0   \n",
       "\n",
       "    INLAND  ISLAND  NEAR BAY  NEAR OCEAN  \n",
       "2      0.0     0.0       1.0         0.0  \n",
       "3      0.0     0.0       1.0         0.0  \n",
       "4      0.0     0.0       1.0         0.0  \n",
       "5      0.0     0.0       1.0         0.0  \n",
       "6      0.0     0.0       1.0         0.0  \n",
       "7      0.0     0.0       1.0         0.0  \n",
       "8      0.0     0.0       1.0         0.0  \n",
       "9      0.0     0.0       1.0         0.0  \n",
       "10     0.0     0.0       1.0         0.0  \n",
       "11     0.0     0.0       1.0         0.0  "
      ]
     },
     "execution_count": 720,
     "metadata": {},
     "output_type": "execute_result"
    }
   ],
   "source": [
    "min_max_norm_dataset = dataset\n",
    "#X, y = simple_split(min_max_norm_dataset)\n",
    "#X = ((X - X.min()) / (X.max() - X.min()))\n",
    "#X[\"median_house_value\"] = y\n",
    "#min_max_norm_dataset = X\n",
    "min_max_norm_dataset = (min_max_norm_dataset - min_max_norm_dataset.min()) / (min_max_norm_dataset.max() - min_max_norm_dataset.min())\n",
    "min_max_norm_dataset.head(10)"
   ]
  },
  {
   "cell_type": "markdown",
   "metadata": {},
   "source": [
    "Now we apply the same normalization for the reduced dataset"
   ]
  },
  {
   "cell_type": "code",
   "execution_count": 721,
   "metadata": {},
   "outputs": [
    {
     "data": {
      "text/html": [
       "<div>\n",
       "<style scoped>\n",
       "    .dataframe tbody tr th:only-of-type {\n",
       "        vertical-align: middle;\n",
       "    }\n",
       "\n",
       "    .dataframe tbody tr th {\n",
       "        vertical-align: top;\n",
       "    }\n",
       "\n",
       "    .dataframe thead th {\n",
       "        text-align: right;\n",
       "    }\n",
       "</style>\n",
       "<table border=\"1\" class=\"dataframe\">\n",
       "  <thead>\n",
       "    <tr style=\"text-align: right;\">\n",
       "      <th></th>\n",
       "      <th>longitude</th>\n",
       "      <th>latitude</th>\n",
       "      <th>housing_median_age</th>\n",
       "      <th>total_rooms</th>\n",
       "      <th>total_bedrooms</th>\n",
       "      <th>population</th>\n",
       "      <th>households</th>\n",
       "      <th>median_income</th>\n",
       "      <th>median_house_value</th>\n",
       "      <th>&lt;1H OCEAN</th>\n",
       "      <th>INLAND</th>\n",
       "      <th>ISLAND</th>\n",
       "      <th>NEAR BAY</th>\n",
       "      <th>NEAR OCEAN</th>\n",
       "    </tr>\n",
       "  </thead>\n",
       "  <tbody>\n",
       "    <tr>\n",
       "      <th>2</th>\n",
       "      <td>0.213996</td>\n",
       "      <td>0.564293</td>\n",
       "      <td>1.000000</td>\n",
       "      <td>0.170526</td>\n",
       "      <td>0.103920</td>\n",
       "      <td>0.151095</td>\n",
       "      <td>0.150418</td>\n",
       "      <td>0.899633</td>\n",
       "      <td>0.721533</td>\n",
       "      <td>0.0</td>\n",
       "      <td>0.0</td>\n",
       "      <td>0.0</td>\n",
       "      <td>1.0</td>\n",
       "      <td>0.0</td>\n",
       "    </tr>\n",
       "    <tr>\n",
       "      <th>3</th>\n",
       "      <td>0.212982</td>\n",
       "      <td>0.564293</td>\n",
       "      <td>1.000000</td>\n",
       "      <td>0.132653</td>\n",
       "      <td>0.144941</td>\n",
       "      <td>0.171070</td>\n",
       "      <td>0.189415</td>\n",
       "      <td>0.684719</td>\n",
       "      <td>0.698417</td>\n",
       "      <td>0.0</td>\n",
       "      <td>0.0</td>\n",
       "      <td>0.0</td>\n",
       "      <td>1.0</td>\n",
       "      <td>0.0</td>\n",
       "    </tr>\n",
       "    <tr>\n",
       "      <th>4</th>\n",
       "      <td>0.212982</td>\n",
       "      <td>0.564293</td>\n",
       "      <td>1.000000</td>\n",
       "      <td>0.201923</td>\n",
       "      <td>0.185962</td>\n",
       "      <td>0.173325</td>\n",
       "      <td>0.226555</td>\n",
       "      <td>0.445496</td>\n",
       "      <td>0.700343</td>\n",
       "      <td>0.0</td>\n",
       "      <td>0.0</td>\n",
       "      <td>0.0</td>\n",
       "      <td>1.0</td>\n",
       "      <td>0.0</td>\n",
       "    </tr>\n",
       "    <tr>\n",
       "      <th>5</th>\n",
       "      <td>0.212982</td>\n",
       "      <td>0.564293</td>\n",
       "      <td>1.000000</td>\n",
       "      <td>0.062991</td>\n",
       "      <td>0.124886</td>\n",
       "      <td>0.124356</td>\n",
       "      <td>0.165274</td>\n",
       "      <td>0.470871</td>\n",
       "      <td>0.545164</td>\n",
       "      <td>0.0</td>\n",
       "      <td>0.0</td>\n",
       "      <td>0.0</td>\n",
       "      <td>1.0</td>\n",
       "      <td>0.0</td>\n",
       "    </tr>\n",
       "    <tr>\n",
       "      <th>6</th>\n",
       "      <td>0.212982</td>\n",
       "      <td>0.563231</td>\n",
       "      <td>1.000000</td>\n",
       "      <td>0.380102</td>\n",
       "      <td>0.376481</td>\n",
       "      <td>0.343750</td>\n",
       "      <td>0.463324</td>\n",
       "      <td>0.420587</td>\n",
       "      <td>0.608306</td>\n",
       "      <td>0.0</td>\n",
       "      <td>0.0</td>\n",
       "      <td>0.0</td>\n",
       "      <td>1.0</td>\n",
       "      <td>0.0</td>\n",
       "    </tr>\n",
       "    <tr>\n",
       "      <th>7</th>\n",
       "      <td>0.212982</td>\n",
       "      <td>0.563231</td>\n",
       "      <td>1.000000</td>\n",
       "      <td>0.491758</td>\n",
       "      <td>0.556974</td>\n",
       "      <td>0.364046</td>\n",
       "      <td>0.586815</td>\n",
       "      <td>0.348816</td>\n",
       "      <td>0.484590</td>\n",
       "      <td>0.0</td>\n",
       "      <td>0.0</td>\n",
       "      <td>0.0</td>\n",
       "      <td>1.0</td>\n",
       "      <td>0.0</td>\n",
       "    </tr>\n",
       "    <tr>\n",
       "      <th>8</th>\n",
       "      <td>0.211968</td>\n",
       "      <td>0.563231</td>\n",
       "      <td>0.803922</td>\n",
       "      <td>0.384027</td>\n",
       "      <td>0.536919</td>\n",
       "      <td>0.379832</td>\n",
       "      <td>0.538533</td>\n",
       "      <td>0.210414</td>\n",
       "      <td>0.453126</td>\n",
       "      <td>0.0</td>\n",
       "      <td>0.0</td>\n",
       "      <td>0.0</td>\n",
       "      <td>1.0</td>\n",
       "      <td>0.0</td>\n",
       "    </tr>\n",
       "    <tr>\n",
       "      <th>9</th>\n",
       "      <td>0.212982</td>\n",
       "      <td>0.563231</td>\n",
       "      <td>1.000000</td>\n",
       "      <td>0.579082</td>\n",
       "      <td>0.575205</td>\n",
       "      <td>0.490979</td>\n",
       "      <td>0.649025</td>\n",
       "      <td>0.424861</td>\n",
       "      <td>0.526756</td>\n",
       "      <td>0.0</td>\n",
       "      <td>0.0</td>\n",
       "      <td>0.0</td>\n",
       "      <td>1.0</td>\n",
       "      <td>0.0</td>\n",
       "    </tr>\n",
       "    <tr>\n",
       "      <th>10</th>\n",
       "      <td>0.211968</td>\n",
       "      <td>0.564293</td>\n",
       "      <td>1.000000</td>\n",
       "      <td>0.314757</td>\n",
       "      <td>0.326345</td>\n",
       "      <td>0.284472</td>\n",
       "      <td>0.359331</td>\n",
       "      <td>0.359880</td>\n",
       "      <td>0.570420</td>\n",
       "      <td>0.0</td>\n",
       "      <td>0.0</td>\n",
       "      <td>0.0</td>\n",
       "      <td>1.0</td>\n",
       "      <td>0.0</td>\n",
       "    </tr>\n",
       "    <tr>\n",
       "      <th>11</th>\n",
       "      <td>0.211968</td>\n",
       "      <td>0.564293</td>\n",
       "      <td>1.000000</td>\n",
       "      <td>0.570055</td>\n",
       "      <td>0.616226</td>\n",
       "      <td>0.475838</td>\n",
       "      <td>0.667595</td>\n",
       "      <td>0.368853</td>\n",
       "      <td>0.485446</td>\n",
       "      <td>0.0</td>\n",
       "      <td>0.0</td>\n",
       "      <td>0.0</td>\n",
       "      <td>1.0</td>\n",
       "      <td>0.0</td>\n",
       "    </tr>\n",
       "  </tbody>\n",
       "</table>\n",
       "</div>"
      ],
      "text/plain": [
       "    longitude  latitude  housing_median_age  total_rooms  total_bedrooms  \\\n",
       "2    0.213996  0.564293            1.000000     0.170526        0.103920   \n",
       "3    0.212982  0.564293            1.000000     0.132653        0.144941   \n",
       "4    0.212982  0.564293            1.000000     0.201923        0.185962   \n",
       "5    0.212982  0.564293            1.000000     0.062991        0.124886   \n",
       "6    0.212982  0.563231            1.000000     0.380102        0.376481   \n",
       "7    0.212982  0.563231            1.000000     0.491758        0.556974   \n",
       "8    0.211968  0.563231            0.803922     0.384027        0.536919   \n",
       "9    0.212982  0.563231            1.000000     0.579082        0.575205   \n",
       "10   0.211968  0.564293            1.000000     0.314757        0.326345   \n",
       "11   0.211968  0.564293            1.000000     0.570055        0.616226   \n",
       "\n",
       "    population  households  median_income  median_house_value  <1H OCEAN  \\\n",
       "2     0.151095    0.150418       0.899633            0.721533        0.0   \n",
       "3     0.171070    0.189415       0.684719            0.698417        0.0   \n",
       "4     0.173325    0.226555       0.445496            0.700343        0.0   \n",
       "5     0.124356    0.165274       0.470871            0.545164        0.0   \n",
       "6     0.343750    0.463324       0.420587            0.608306        0.0   \n",
       "7     0.364046    0.586815       0.348816            0.484590        0.0   \n",
       "8     0.379832    0.538533       0.210414            0.453126        0.0   \n",
       "9     0.490979    0.649025       0.424861            0.526756        0.0   \n",
       "10    0.284472    0.359331       0.359880            0.570420        0.0   \n",
       "11    0.475838    0.667595       0.368853            0.485446        0.0   \n",
       "\n",
       "    INLAND  ISLAND  NEAR BAY  NEAR OCEAN  \n",
       "2      0.0     0.0       1.0         0.0  \n",
       "3      0.0     0.0       1.0         0.0  \n",
       "4      0.0     0.0       1.0         0.0  \n",
       "5      0.0     0.0       1.0         0.0  \n",
       "6      0.0     0.0       1.0         0.0  \n",
       "7      0.0     0.0       1.0         0.0  \n",
       "8      0.0     0.0       1.0         0.0  \n",
       "9      0.0     0.0       1.0         0.0  \n",
       "10     0.0     0.0       1.0         0.0  \n",
       "11     0.0     0.0       1.0         0.0  "
      ]
     },
     "execution_count": 721,
     "metadata": {},
     "output_type": "execute_result"
    }
   ],
   "source": [
    "min_max_norm_reduced_dataset = reduced_dataset\n",
    "#X, y = simple_split(min_max_norm_reduced_dataset)\n",
    "#X = ((X - X.min()) / (X.max() - X.min()))\n",
    "#X[\"median_house_value\"] = y\n",
    "#min_max_norm_reduced_dataset = X\n",
    "min_max_norm_reduced_dataset = (min_max_norm_reduced_dataset - min_max_norm_reduced_dataset.min()) / (min_max_norm_reduced_dataset.max() - min_max_norm_reduced_dataset.min())\n",
    "min_max_norm_reduced_dataset.head(10)"
   ]
  },
  {
   "cell_type": "markdown",
   "metadata": {},
   "source": [
    "### Z-score"
   ]
  },
  {
   "cell_type": "markdown",
   "metadata": {},
   "source": [
    " <img src=\"images/zscore.png\" width=\"200\"/>"
   ]
  },
  {
   "cell_type": "code",
   "execution_count": 722,
   "metadata": {},
   "outputs": [
    {
     "data": {
      "text/html": [
       "<div>\n",
       "<style scoped>\n",
       "    .dataframe tbody tr th:only-of-type {\n",
       "        vertical-align: middle;\n",
       "    }\n",
       "\n",
       "    .dataframe tbody tr th {\n",
       "        vertical-align: top;\n",
       "    }\n",
       "\n",
       "    .dataframe thead th {\n",
       "        text-align: right;\n",
       "    }\n",
       "</style>\n",
       "<table border=\"1\" class=\"dataframe\">\n",
       "  <thead>\n",
       "    <tr style=\"text-align: right;\">\n",
       "      <th></th>\n",
       "      <th>longitude</th>\n",
       "      <th>latitude</th>\n",
       "      <th>housing_median_age</th>\n",
       "      <th>total_rooms</th>\n",
       "      <th>total_bedrooms</th>\n",
       "      <th>population</th>\n",
       "      <th>households</th>\n",
       "      <th>median_income</th>\n",
       "      <th>median_house_value</th>\n",
       "      <th>&lt;1H OCEAN</th>\n",
       "      <th>INLAND</th>\n",
       "      <th>ISLAND</th>\n",
       "      <th>NEAR BAY</th>\n",
       "      <th>NEAR OCEAN</th>\n",
       "    </tr>\n",
       "  </thead>\n",
       "  <tbody>\n",
       "    <tr>\n",
       "      <th>2</th>\n",
       "      <td>-1.319182</td>\n",
       "      <td>0.999125</td>\n",
       "      <td>1.869305</td>\n",
       "      <td>-0.752144</td>\n",
       "      <td>-1.305628</td>\n",
       "      <td>-1.305431</td>\n",
       "      <td>-1.324942</td>\n",
       "      <td>2.547547</td>\n",
       "      <td>1.743141</td>\n",
       "      <td>-0.882688</td>\n",
       "      <td>-0.696125</td>\n",
       "      <td>-0.017298</td>\n",
       "      <td>2.875876</td>\n",
       "      <td>-0.382255</td>\n",
       "    </tr>\n",
       "    <tr>\n",
       "      <th>3</th>\n",
       "      <td>-1.324179</td>\n",
       "      <td>0.999125</td>\n",
       "      <td>1.869305</td>\n",
       "      <td>-0.938804</td>\n",
       "      <td>-1.092339</td>\n",
       "      <td>-1.197896</td>\n",
       "      <td>-1.109645</td>\n",
       "      <td>1.419003</td>\n",
       "      <td>1.627918</td>\n",
       "      <td>-0.882688</td>\n",
       "      <td>-0.696125</td>\n",
       "      <td>-0.017298</td>\n",
       "      <td>2.875876</td>\n",
       "      <td>-0.382255</td>\n",
       "    </tr>\n",
       "    <tr>\n",
       "      <th>4</th>\n",
       "      <td>-1.324179</td>\n",
       "      <td>0.999125</td>\n",
       "      <td>1.869305</td>\n",
       "      <td>-0.597401</td>\n",
       "      <td>-0.879051</td>\n",
       "      <td>-1.185755</td>\n",
       "      <td>-0.904601</td>\n",
       "      <td>0.162805</td>\n",
       "      <td>1.637520</td>\n",
       "      <td>-0.882688</td>\n",
       "      <td>-0.696125</td>\n",
       "      <td>-0.017298</td>\n",
       "      <td>2.875876</td>\n",
       "      <td>-0.382255</td>\n",
       "    </tr>\n",
       "    <tr>\n",
       "      <th>5</th>\n",
       "      <td>-1.324179</td>\n",
       "      <td>0.999125</td>\n",
       "      <td>1.869305</td>\n",
       "      <td>-1.282142</td>\n",
       "      <td>-1.196614</td>\n",
       "      <td>-1.449390</td>\n",
       "      <td>-1.242924</td>\n",
       "      <td>0.296052</td>\n",
       "      <td>0.864035</td>\n",
       "      <td>-0.882688</td>\n",
       "      <td>-0.696125</td>\n",
       "      <td>-0.017298</td>\n",
       "      <td>2.875876</td>\n",
       "      <td>-0.382255</td>\n",
       "    </tr>\n",
       "    <tr>\n",
       "      <th>6</th>\n",
       "      <td>-1.324179</td>\n",
       "      <td>0.994511</td>\n",
       "      <td>1.869305</td>\n",
       "      <td>0.280771</td>\n",
       "      <td>0.111556</td>\n",
       "      <td>-0.268235</td>\n",
       "      <td>0.402558</td>\n",
       "      <td>0.032005</td>\n",
       "      <td>1.178764</td>\n",
       "      <td>-0.882688</td>\n",
       "      <td>-0.696125</td>\n",
       "      <td>-0.017298</td>\n",
       "      <td>2.875876</td>\n",
       "      <td>-0.382255</td>\n",
       "    </tr>\n",
       "    <tr>\n",
       "      <th>7</th>\n",
       "      <td>-1.324179</td>\n",
       "      <td>0.994511</td>\n",
       "      <td>1.869305</td>\n",
       "      <td>0.831078</td>\n",
       "      <td>1.050025</td>\n",
       "      <td>-0.158966</td>\n",
       "      <td>1.084330</td>\n",
       "      <td>-0.344875</td>\n",
       "      <td>0.562110</td>\n",
       "      <td>-0.882688</td>\n",
       "      <td>-0.696125</td>\n",
       "      <td>-0.017298</td>\n",
       "      <td>2.875876</td>\n",
       "      <td>-0.382255</td>\n",
       "    </tr>\n",
       "    <tr>\n",
       "      <th>8</th>\n",
       "      <td>-1.329175</td>\n",
       "      <td>0.994511</td>\n",
       "      <td>1.044328</td>\n",
       "      <td>0.300114</td>\n",
       "      <td>0.945751</td>\n",
       "      <td>-0.073978</td>\n",
       "      <td>0.817773</td>\n",
       "      <td>-1.071651</td>\n",
       "      <td>0.405279</td>\n",
       "      <td>-0.882688</td>\n",
       "      <td>-0.696125</td>\n",
       "      <td>-0.017298</td>\n",
       "      <td>2.875876</td>\n",
       "      <td>-0.382255</td>\n",
       "    </tr>\n",
       "    <tr>\n",
       "      <th>9</th>\n",
       "      <td>-1.324179</td>\n",
       "      <td>0.994511</td>\n",
       "      <td>1.869305</td>\n",
       "      <td>1.261459</td>\n",
       "      <td>1.144820</td>\n",
       "      <td>0.524404</td>\n",
       "      <td>1.427780</td>\n",
       "      <td>0.054446</td>\n",
       "      <td>0.772284</td>\n",
       "      <td>-0.882688</td>\n",
       "      <td>-0.696125</td>\n",
       "      <td>-0.017298</td>\n",
       "      <td>2.875876</td>\n",
       "      <td>-0.382255</td>\n",
       "    </tr>\n",
       "    <tr>\n",
       "      <th>10</th>\n",
       "      <td>-1.329175</td>\n",
       "      <td>0.999125</td>\n",
       "      <td>1.869305</td>\n",
       "      <td>-0.041290</td>\n",
       "      <td>-0.149130</td>\n",
       "      <td>-0.587373</td>\n",
       "      <td>-0.171567</td>\n",
       "      <td>-0.286780</td>\n",
       "      <td>0.989927</td>\n",
       "      <td>-0.882688</td>\n",
       "      <td>-0.696125</td>\n",
       "      <td>-0.017298</td>\n",
       "      <td>2.875876</td>\n",
       "      <td>-0.382255</td>\n",
       "    </tr>\n",
       "    <tr>\n",
       "      <th>11</th>\n",
       "      <td>-1.329175</td>\n",
       "      <td>0.999125</td>\n",
       "      <td>1.869305</td>\n",
       "      <td>1.216971</td>\n",
       "      <td>1.358108</td>\n",
       "      <td>0.442886</td>\n",
       "      <td>1.530302</td>\n",
       "      <td>-0.239662</td>\n",
       "      <td>0.566377</td>\n",
       "      <td>-0.882688</td>\n",
       "      <td>-0.696125</td>\n",
       "      <td>-0.017298</td>\n",
       "      <td>2.875876</td>\n",
       "      <td>-0.382255</td>\n",
       "    </tr>\n",
       "  </tbody>\n",
       "</table>\n",
       "</div>"
      ],
      "text/plain": [
       "    longitude  latitude  housing_median_age  total_rooms  total_bedrooms  \\\n",
       "2   -1.319182  0.999125            1.869305    -0.752144       -1.305628   \n",
       "3   -1.324179  0.999125            1.869305    -0.938804       -1.092339   \n",
       "4   -1.324179  0.999125            1.869305    -0.597401       -0.879051   \n",
       "5   -1.324179  0.999125            1.869305    -1.282142       -1.196614   \n",
       "6   -1.324179  0.994511            1.869305     0.280771        0.111556   \n",
       "7   -1.324179  0.994511            1.869305     0.831078        1.050025   \n",
       "8   -1.329175  0.994511            1.044328     0.300114        0.945751   \n",
       "9   -1.324179  0.994511            1.869305     1.261459        1.144820   \n",
       "10  -1.329175  0.999125            1.869305    -0.041290       -0.149130   \n",
       "11  -1.329175  0.999125            1.869305     1.216971        1.358108   \n",
       "\n",
       "    population  households  median_income  median_house_value  <1H OCEAN  \\\n",
       "2    -1.305431   -1.324942       2.547547            1.743141  -0.882688   \n",
       "3    -1.197896   -1.109645       1.419003            1.627918  -0.882688   \n",
       "4    -1.185755   -0.904601       0.162805            1.637520  -0.882688   \n",
       "5    -1.449390   -1.242924       0.296052            0.864035  -0.882688   \n",
       "6    -0.268235    0.402558       0.032005            1.178764  -0.882688   \n",
       "7    -0.158966    1.084330      -0.344875            0.562110  -0.882688   \n",
       "8    -0.073978    0.817773      -1.071651            0.405279  -0.882688   \n",
       "9     0.524404    1.427780       0.054446            0.772284  -0.882688   \n",
       "10   -0.587373   -0.171567      -0.286780            0.989927  -0.882688   \n",
       "11    0.442886    1.530302      -0.239662            0.566377  -0.882688   \n",
       "\n",
       "      INLAND    ISLAND  NEAR BAY  NEAR OCEAN  \n",
       "2  -0.696125 -0.017298  2.875876   -0.382255  \n",
       "3  -0.696125 -0.017298  2.875876   -0.382255  \n",
       "4  -0.696125 -0.017298  2.875876   -0.382255  \n",
       "5  -0.696125 -0.017298  2.875876   -0.382255  \n",
       "6  -0.696125 -0.017298  2.875876   -0.382255  \n",
       "7  -0.696125 -0.017298  2.875876   -0.382255  \n",
       "8  -0.696125 -0.017298  2.875876   -0.382255  \n",
       "9  -0.696125 -0.017298  2.875876   -0.382255  \n",
       "10 -0.696125 -0.017298  2.875876   -0.382255  \n",
       "11 -0.696125 -0.017298  2.875876   -0.382255  "
      ]
     },
     "execution_count": 722,
     "metadata": {},
     "output_type": "execute_result"
    }
   ],
   "source": [
    "zscore_norm_dataset = dataset\n",
    "#X, y = simple_split(zscore_norm_dataset)\n",
    "#X = (X - np.mean(X)) / np.std(X)\n",
    "#X[\"median_house_value\"] = y\n",
    "#zscore_norm_dataset = X\n",
    "zscore_norm_dataset = (zscore_norm_dataset - np.mean(zscore_norm_dataset)) / np.std(zscore_norm_dataset)\n",
    "zscore_norm_dataset.head(10)"
   ]
  },
  {
   "cell_type": "markdown",
   "metadata": {},
   "source": [
    "and, again, let's apply the same to the reduced dataset"
   ]
  },
  {
   "cell_type": "code",
   "execution_count": 723,
   "metadata": {},
   "outputs": [
    {
     "data": {
      "text/html": [
       "<div>\n",
       "<style scoped>\n",
       "    .dataframe tbody tr th:only-of-type {\n",
       "        vertical-align: middle;\n",
       "    }\n",
       "\n",
       "    .dataframe tbody tr th {\n",
       "        vertical-align: top;\n",
       "    }\n",
       "\n",
       "    .dataframe thead th {\n",
       "        text-align: right;\n",
       "    }\n",
       "</style>\n",
       "<table border=\"1\" class=\"dataframe\">\n",
       "  <thead>\n",
       "    <tr style=\"text-align: right;\">\n",
       "      <th></th>\n",
       "      <th>longitude</th>\n",
       "      <th>latitude</th>\n",
       "      <th>housing_median_age</th>\n",
       "      <th>total_rooms</th>\n",
       "      <th>total_bedrooms</th>\n",
       "      <th>population</th>\n",
       "      <th>households</th>\n",
       "      <th>median_income</th>\n",
       "      <th>median_house_value</th>\n",
       "      <th>&lt;1H OCEAN</th>\n",
       "      <th>INLAND</th>\n",
       "      <th>ISLAND</th>\n",
       "      <th>NEAR BAY</th>\n",
       "      <th>NEAR OCEAN</th>\n",
       "    </tr>\n",
       "  </thead>\n",
       "  <tbody>\n",
       "    <tr>\n",
       "      <th>2</th>\n",
       "      <td>-1.318009</td>\n",
       "      <td>0.997875</td>\n",
       "      <td>1.868229</td>\n",
       "      <td>-0.752970</td>\n",
       "      <td>-1.308807</td>\n",
       "      <td>-1.305524</td>\n",
       "      <td>-1.325364</td>\n",
       "      <td>2.547422</td>\n",
       "      <td>1.743782</td>\n",
       "      <td>-0.881863</td>\n",
       "      <td>-0.696814</td>\n",
       "      <td>-0.017383</td>\n",
       "      <td>2.872646</td>\n",
       "      <td>-0.381921</td>\n",
       "    </tr>\n",
       "    <tr>\n",
       "      <th>3</th>\n",
       "      <td>-1.323005</td>\n",
       "      <td>0.997875</td>\n",
       "      <td>1.868229</td>\n",
       "      <td>-0.939910</td>\n",
       "      <td>-1.094874</td>\n",
       "      <td>-1.197902</td>\n",
       "      <td>-1.109937</td>\n",
       "      <td>1.418899</td>\n",
       "      <td>1.628533</td>\n",
       "      <td>-0.881863</td>\n",
       "      <td>-0.696814</td>\n",
       "      <td>-0.017383</td>\n",
       "      <td>2.872646</td>\n",
       "      <td>-0.381921</td>\n",
       "    </tr>\n",
       "    <tr>\n",
       "      <th>4</th>\n",
       "      <td>-1.323005</td>\n",
       "      <td>0.997875</td>\n",
       "      <td>1.868229</td>\n",
       "      <td>-0.597994</td>\n",
       "      <td>-0.880940</td>\n",
       "      <td>-1.185751</td>\n",
       "      <td>-0.904768</td>\n",
       "      <td>0.162724</td>\n",
       "      <td>1.638137</td>\n",
       "      <td>-0.881863</td>\n",
       "      <td>-0.696814</td>\n",
       "      <td>-0.017383</td>\n",
       "      <td>2.872646</td>\n",
       "      <td>-0.381921</td>\n",
       "    </tr>\n",
       "    <tr>\n",
       "      <th>5</th>\n",
       "      <td>-1.323005</td>\n",
       "      <td>0.997875</td>\n",
       "      <td>1.868229</td>\n",
       "      <td>-1.283763</td>\n",
       "      <td>-1.199463</td>\n",
       "      <td>-1.449598</td>\n",
       "      <td>-1.243297</td>\n",
       "      <td>0.295968</td>\n",
       "      <td>0.864470</td>\n",
       "      <td>-0.881863</td>\n",
       "      <td>-0.696814</td>\n",
       "      <td>-0.017383</td>\n",
       "      <td>2.872646</td>\n",
       "      <td>-0.381921</td>\n",
       "    </tr>\n",
       "    <tr>\n",
       "      <th>6</th>\n",
       "      <td>-1.323005</td>\n",
       "      <td>0.993261</td>\n",
       "      <td>1.868229</td>\n",
       "      <td>0.281496</td>\n",
       "      <td>0.112662</td>\n",
       "      <td>-0.267492</td>\n",
       "      <td>0.403182</td>\n",
       "      <td>0.031926</td>\n",
       "      <td>1.179273</td>\n",
       "      <td>-0.881863</td>\n",
       "      <td>-0.696814</td>\n",
       "      <td>-0.017383</td>\n",
       "      <td>2.872646</td>\n",
       "      <td>-0.381921</td>\n",
       "    </tr>\n",
       "    <tr>\n",
       "      <th>7</th>\n",
       "      <td>-1.323005</td>\n",
       "      <td>0.993261</td>\n",
       "      <td>1.868229</td>\n",
       "      <td>0.832629</td>\n",
       "      <td>1.053969</td>\n",
       "      <td>-0.158134</td>\n",
       "      <td>1.085368</td>\n",
       "      <td>-0.344948</td>\n",
       "      <td>0.562473</td>\n",
       "      <td>-0.881863</td>\n",
       "      <td>-0.696814</td>\n",
       "      <td>-0.017383</td>\n",
       "      <td>2.872646</td>\n",
       "      <td>-0.381921</td>\n",
       "    </tr>\n",
       "    <tr>\n",
       "      <th>8</th>\n",
       "      <td>-1.328001</td>\n",
       "      <td>0.993261</td>\n",
       "      <td>1.043756</td>\n",
       "      <td>0.300868</td>\n",
       "      <td>0.949380</td>\n",
       "      <td>-0.073078</td>\n",
       "      <td>0.818649</td>\n",
       "      <td>-1.071710</td>\n",
       "      <td>0.405606</td>\n",
       "      <td>-0.881863</td>\n",
       "      <td>-0.696814</td>\n",
       "      <td>-0.017383</td>\n",
       "      <td>2.872646</td>\n",
       "      <td>-0.381921</td>\n",
       "    </tr>\n",
       "    <tr>\n",
       "      <th>9</th>\n",
       "      <td>-1.323005</td>\n",
       "      <td>0.993261</td>\n",
       "      <td>1.868229</td>\n",
       "      <td>1.263657</td>\n",
       "      <td>1.149051</td>\n",
       "      <td>0.525787</td>\n",
       "      <td>1.429026</td>\n",
       "      <td>0.054366</td>\n",
       "      <td>0.772697</td>\n",
       "      <td>-0.881863</td>\n",
       "      <td>-0.696814</td>\n",
       "      <td>-0.017383</td>\n",
       "      <td>2.872646</td>\n",
       "      <td>-0.381921</td>\n",
       "    </tr>\n",
       "    <tr>\n",
       "      <th>10</th>\n",
       "      <td>-1.328001</td>\n",
       "      <td>0.997875</td>\n",
       "      <td>1.868229</td>\n",
       "      <td>-0.041048</td>\n",
       "      <td>-0.148812</td>\n",
       "      <td>-0.586886</td>\n",
       "      <td>-0.171290</td>\n",
       "      <td>-0.286854</td>\n",
       "      <td>0.990391</td>\n",
       "      <td>-0.881863</td>\n",
       "      <td>-0.696814</td>\n",
       "      <td>-0.017383</td>\n",
       "      <td>2.872646</td>\n",
       "      <td>-0.381921</td>\n",
       "    </tr>\n",
       "    <tr>\n",
       "      <th>11</th>\n",
       "      <td>-1.328001</td>\n",
       "      <td>0.997875</td>\n",
       "      <td>1.868229</td>\n",
       "      <td>1.219101</td>\n",
       "      <td>1.362984</td>\n",
       "      <td>0.444202</td>\n",
       "      <td>1.531610</td>\n",
       "      <td>-0.239736</td>\n",
       "      <td>0.566742</td>\n",
       "      <td>-0.881863</td>\n",
       "      <td>-0.696814</td>\n",
       "      <td>-0.017383</td>\n",
       "      <td>2.872646</td>\n",
       "      <td>-0.381921</td>\n",
       "    </tr>\n",
       "  </tbody>\n",
       "</table>\n",
       "</div>"
      ],
      "text/plain": [
       "    longitude  latitude  housing_median_age  total_rooms  total_bedrooms  \\\n",
       "2   -1.318009  0.997875            1.868229    -0.752970       -1.308807   \n",
       "3   -1.323005  0.997875            1.868229    -0.939910       -1.094874   \n",
       "4   -1.323005  0.997875            1.868229    -0.597994       -0.880940   \n",
       "5   -1.323005  0.997875            1.868229    -1.283763       -1.199463   \n",
       "6   -1.323005  0.993261            1.868229     0.281496        0.112662   \n",
       "7   -1.323005  0.993261            1.868229     0.832629        1.053969   \n",
       "8   -1.328001  0.993261            1.043756     0.300868        0.949380   \n",
       "9   -1.323005  0.993261            1.868229     1.263657        1.149051   \n",
       "10  -1.328001  0.997875            1.868229    -0.041048       -0.148812   \n",
       "11  -1.328001  0.997875            1.868229     1.219101        1.362984   \n",
       "\n",
       "    population  households  median_income  median_house_value  <1H OCEAN  \\\n",
       "2    -1.305524   -1.325364       2.547422            1.743782  -0.881863   \n",
       "3    -1.197902   -1.109937       1.418899            1.628533  -0.881863   \n",
       "4    -1.185751   -0.904768       0.162724            1.638137  -0.881863   \n",
       "5    -1.449598   -1.243297       0.295968            0.864470  -0.881863   \n",
       "6    -0.267492    0.403182       0.031926            1.179273  -0.881863   \n",
       "7    -0.158134    1.085368      -0.344948            0.562473  -0.881863   \n",
       "8    -0.073078    0.818649      -1.071710            0.405606  -0.881863   \n",
       "9     0.525787    1.429026       0.054366            0.772697  -0.881863   \n",
       "10   -0.586886   -0.171290      -0.286854            0.990391  -0.881863   \n",
       "11    0.444202    1.531610      -0.239736            0.566742  -0.881863   \n",
       "\n",
       "      INLAND    ISLAND  NEAR BAY  NEAR OCEAN  \n",
       "2  -0.696814 -0.017383  2.872646   -0.381921  \n",
       "3  -0.696814 -0.017383  2.872646   -0.381921  \n",
       "4  -0.696814 -0.017383  2.872646   -0.381921  \n",
       "5  -0.696814 -0.017383  2.872646   -0.381921  \n",
       "6  -0.696814 -0.017383  2.872646   -0.381921  \n",
       "7  -0.696814 -0.017383  2.872646   -0.381921  \n",
       "8  -0.696814 -0.017383  2.872646   -0.381921  \n",
       "9  -0.696814 -0.017383  2.872646   -0.381921  \n",
       "10 -0.696814 -0.017383  2.872646   -0.381921  \n",
       "11 -0.696814 -0.017383  2.872646   -0.381921  "
      ]
     },
     "execution_count": 723,
     "metadata": {},
     "output_type": "execute_result"
    }
   ],
   "source": [
    "zscore_norm_reduced_dataset = reduced_dataset\n",
    "#X, y = simple_split(zscore_norm_reduced_dataset)\n",
    "#X = (X - np.mean(X)) / np.std(X)\n",
    "#X[\"median_house_value\"] = y\n",
    "#zscore_norm_reduced_dataset = X\n",
    "zscore_norm_reduced_dataset = (zscore_norm_reduced_dataset - np.mean(zscore_norm_reduced_dataset)) / np.std(zscore_norm_reduced_dataset)\n",
    "zscore_norm_reduced_dataset.head(10)"
   ]
  },
  {
   "cell_type": "markdown",
   "metadata": {},
   "source": [
    "We compute mean of standard deviations to see the maximum value that loss will reach"
   ]
  },
  {
   "cell_type": "code",
   "execution_count": 724,
   "metadata": {},
   "outputs": [],
   "source": [
    "def compute_stds(dataset):\n",
    "    std_dev = []\n",
    "    for index, i in dataset.iteritems():\n",
    "        std_dev.append(np.std(i))\n",
    "\n",
    "    return np.mean(std_dev)"
   ]
  },
  {
   "cell_type": "code",
   "execution_count": 725,
   "metadata": {},
   "outputs": [
    {
     "data": {
      "text/plain": [
       "0.9999999999999686"
      ]
     },
     "execution_count": 725,
     "metadata": {},
     "output_type": "execute_result"
    }
   ],
   "source": [
    "compute_stds(zscore_norm_dataset)"
   ]
  },
  {
   "cell_type": "code",
   "execution_count": 726,
   "metadata": {},
   "outputs": [
    {
     "data": {
      "text/plain": [
       "0.9999999999999972"
      ]
     },
     "execution_count": 726,
     "metadata": {},
     "output_type": "execute_result"
    }
   ],
   "source": [
    "compute_stds(zscore_norm_reduced_dataset)"
   ]
  },
  {
   "cell_type": "markdown",
   "metadata": {},
   "source": [
    "Let's add a constant feature of 1's in order to add the intercept"
   ]
  },
  {
   "cell_type": "code",
   "execution_count": 727,
   "metadata": {},
   "outputs": [],
   "source": [
    "min_max_norm_dataset[\"intercept\"] = 1\n",
    "min_max_norm_reduced_dataset[\"intercept\"] = 1\n",
    "zscore_norm_dataset[\"intercept\"] = 1\n",
    "zscore_norm_reduced_dataset[\"intercept\"] = 1"
   ]
  },
  {
   "cell_type": "markdown",
   "metadata": {},
   "source": [
    "# Writing preprocessed datasets"
   ]
  },
  {
   "cell_type": "code",
   "execution_count": 728,
   "metadata": {},
   "outputs": [],
   "source": [
    "min_max_norm_dataset.to_csv(\"datasets/min_max_norm_dataset\")\n",
    "min_max_norm_reduced_dataset.to_csv(\"datasets/min_max_norm_reduced_dataset\")\n",
    "\n",
    "zscore_norm_dataset.to_csv(\"datasets/zscore_norm_dataset\")\n",
    "zscore_norm_reduced_dataset.to_csv(\"datasets/zscore_norm_reduced_dataset\")"
   ]
  },
  {
   "cell_type": "code",
   "execution_count": 729,
   "metadata": {},
   "outputs": [
    {
     "data": {
      "text/html": [
       "<div>\n",
       "<style scoped>\n",
       "    .dataframe tbody tr th:only-of-type {\n",
       "        vertical-align: middle;\n",
       "    }\n",
       "\n",
       "    .dataframe tbody tr th {\n",
       "        vertical-align: top;\n",
       "    }\n",
       "\n",
       "    .dataframe thead th {\n",
       "        text-align: right;\n",
       "    }\n",
       "</style>\n",
       "<table border=\"1\" class=\"dataframe\">\n",
       "  <thead>\n",
       "    <tr style=\"text-align: right;\">\n",
       "      <th></th>\n",
       "      <th>longitude</th>\n",
       "      <th>latitude</th>\n",
       "      <th>housing_median_age</th>\n",
       "      <th>total_rooms</th>\n",
       "      <th>total_bedrooms</th>\n",
       "      <th>population</th>\n",
       "      <th>households</th>\n",
       "      <th>median_income</th>\n",
       "      <th>median_house_value</th>\n",
       "      <th>&lt;1H OCEAN</th>\n",
       "      <th>INLAND</th>\n",
       "      <th>ISLAND</th>\n",
       "      <th>NEAR BAY</th>\n",
       "      <th>NEAR OCEAN</th>\n",
       "      <th>intercept</th>\n",
       "    </tr>\n",
       "  </thead>\n",
       "  <tbody>\n",
       "    <tr>\n",
       "      <th>2</th>\n",
       "      <td>0.213996</td>\n",
       "      <td>0.564293</td>\n",
       "      <td>1.000000</td>\n",
       "      <td>0.170526</td>\n",
       "      <td>0.089202</td>\n",
       "      <td>0.151095</td>\n",
       "      <td>0.150418</td>\n",
       "      <td>0.899633</td>\n",
       "      <td>0.721533</td>\n",
       "      <td>0.0</td>\n",
       "      <td>0.0</td>\n",
       "      <td>0.0</td>\n",
       "      <td>1.0</td>\n",
       "      <td>0.0</td>\n",
       "      <td>1</td>\n",
       "    </tr>\n",
       "    <tr>\n",
       "      <th>3</th>\n",
       "      <td>0.212982</td>\n",
       "      <td>0.564293</td>\n",
       "      <td>1.000000</td>\n",
       "      <td>0.132653</td>\n",
       "      <td>0.124413</td>\n",
       "      <td>0.171070</td>\n",
       "      <td>0.189415</td>\n",
       "      <td>0.684719</td>\n",
       "      <td>0.698417</td>\n",
       "      <td>0.0</td>\n",
       "      <td>0.0</td>\n",
       "      <td>0.0</td>\n",
       "      <td>1.0</td>\n",
       "      <td>0.0</td>\n",
       "      <td>1</td>\n",
       "    </tr>\n",
       "    <tr>\n",
       "      <th>4</th>\n",
       "      <td>0.212982</td>\n",
       "      <td>0.564293</td>\n",
       "      <td>1.000000</td>\n",
       "      <td>0.201923</td>\n",
       "      <td>0.159624</td>\n",
       "      <td>0.173325</td>\n",
       "      <td>0.226555</td>\n",
       "      <td>0.445496</td>\n",
       "      <td>0.700343</td>\n",
       "      <td>0.0</td>\n",
       "      <td>0.0</td>\n",
       "      <td>0.0</td>\n",
       "      <td>1.0</td>\n",
       "      <td>0.0</td>\n",
       "      <td>1</td>\n",
       "    </tr>\n",
       "    <tr>\n",
       "      <th>5</th>\n",
       "      <td>0.212982</td>\n",
       "      <td>0.564293</td>\n",
       "      <td>1.000000</td>\n",
       "      <td>0.062991</td>\n",
       "      <td>0.107199</td>\n",
       "      <td>0.124356</td>\n",
       "      <td>0.165274</td>\n",
       "      <td>0.470871</td>\n",
       "      <td>0.545164</td>\n",
       "      <td>0.0</td>\n",
       "      <td>0.0</td>\n",
       "      <td>0.0</td>\n",
       "      <td>1.0</td>\n",
       "      <td>0.0</td>\n",
       "      <td>1</td>\n",
       "    </tr>\n",
       "    <tr>\n",
       "      <th>6</th>\n",
       "      <td>0.212982</td>\n",
       "      <td>0.563231</td>\n",
       "      <td>1.000000</td>\n",
       "      <td>0.380102</td>\n",
       "      <td>0.323161</td>\n",
       "      <td>0.343750</td>\n",
       "      <td>0.463324</td>\n",
       "      <td>0.420587</td>\n",
       "      <td>0.608306</td>\n",
       "      <td>0.0</td>\n",
       "      <td>0.0</td>\n",
       "      <td>0.0</td>\n",
       "      <td>1.0</td>\n",
       "      <td>0.0</td>\n",
       "      <td>1</td>\n",
       "    </tr>\n",
       "    <tr>\n",
       "      <th>7</th>\n",
       "      <td>0.212982</td>\n",
       "      <td>0.563231</td>\n",
       "      <td>1.000000</td>\n",
       "      <td>0.491758</td>\n",
       "      <td>0.478091</td>\n",
       "      <td>0.364046</td>\n",
       "      <td>0.586815</td>\n",
       "      <td>0.348816</td>\n",
       "      <td>0.484590</td>\n",
       "      <td>0.0</td>\n",
       "      <td>0.0</td>\n",
       "      <td>0.0</td>\n",
       "      <td>1.0</td>\n",
       "      <td>0.0</td>\n",
       "      <td>1</td>\n",
       "    </tr>\n",
       "    <tr>\n",
       "      <th>8</th>\n",
       "      <td>0.211968</td>\n",
       "      <td>0.563231</td>\n",
       "      <td>0.803922</td>\n",
       "      <td>0.384027</td>\n",
       "      <td>0.460876</td>\n",
       "      <td>0.379832</td>\n",
       "      <td>0.538533</td>\n",
       "      <td>0.210414</td>\n",
       "      <td>0.453126</td>\n",
       "      <td>0.0</td>\n",
       "      <td>0.0</td>\n",
       "      <td>0.0</td>\n",
       "      <td>1.0</td>\n",
       "      <td>0.0</td>\n",
       "      <td>1</td>\n",
       "    </tr>\n",
       "    <tr>\n",
       "      <th>9</th>\n",
       "      <td>0.212982</td>\n",
       "      <td>0.563231</td>\n",
       "      <td>1.000000</td>\n",
       "      <td>0.579082</td>\n",
       "      <td>0.493740</td>\n",
       "      <td>0.490979</td>\n",
       "      <td>0.649025</td>\n",
       "      <td>0.424861</td>\n",
       "      <td>0.526756</td>\n",
       "      <td>0.0</td>\n",
       "      <td>0.0</td>\n",
       "      <td>0.0</td>\n",
       "      <td>1.0</td>\n",
       "      <td>0.0</td>\n",
       "      <td>1</td>\n",
       "    </tr>\n",
       "    <tr>\n",
       "      <th>10</th>\n",
       "      <td>0.211968</td>\n",
       "      <td>0.564293</td>\n",
       "      <td>1.000000</td>\n",
       "      <td>0.314757</td>\n",
       "      <td>0.280125</td>\n",
       "      <td>0.284472</td>\n",
       "      <td>0.359331</td>\n",
       "      <td>0.359880</td>\n",
       "      <td>0.570420</td>\n",
       "      <td>0.0</td>\n",
       "      <td>0.0</td>\n",
       "      <td>0.0</td>\n",
       "      <td>1.0</td>\n",
       "      <td>0.0</td>\n",
       "      <td>1</td>\n",
       "    </tr>\n",
       "    <tr>\n",
       "      <th>11</th>\n",
       "      <td>0.211968</td>\n",
       "      <td>0.564293</td>\n",
       "      <td>1.000000</td>\n",
       "      <td>0.570055</td>\n",
       "      <td>0.528951</td>\n",
       "      <td>0.475838</td>\n",
       "      <td>0.667595</td>\n",
       "      <td>0.368853</td>\n",
       "      <td>0.485446</td>\n",
       "      <td>0.0</td>\n",
       "      <td>0.0</td>\n",
       "      <td>0.0</td>\n",
       "      <td>1.0</td>\n",
       "      <td>0.0</td>\n",
       "      <td>1</td>\n",
       "    </tr>\n",
       "  </tbody>\n",
       "</table>\n",
       "</div>"
      ],
      "text/plain": [
       "    longitude  latitude  housing_median_age  total_rooms  total_bedrooms  \\\n",
       "2    0.213996  0.564293            1.000000     0.170526        0.089202   \n",
       "3    0.212982  0.564293            1.000000     0.132653        0.124413   \n",
       "4    0.212982  0.564293            1.000000     0.201923        0.159624   \n",
       "5    0.212982  0.564293            1.000000     0.062991        0.107199   \n",
       "6    0.212982  0.563231            1.000000     0.380102        0.323161   \n",
       "7    0.212982  0.563231            1.000000     0.491758        0.478091   \n",
       "8    0.211968  0.563231            0.803922     0.384027        0.460876   \n",
       "9    0.212982  0.563231            1.000000     0.579082        0.493740   \n",
       "10   0.211968  0.564293            1.000000     0.314757        0.280125   \n",
       "11   0.211968  0.564293            1.000000     0.570055        0.528951   \n",
       "\n",
       "    population  households  median_income  median_house_value  <1H OCEAN  \\\n",
       "2     0.151095    0.150418       0.899633            0.721533        0.0   \n",
       "3     0.171070    0.189415       0.684719            0.698417        0.0   \n",
       "4     0.173325    0.226555       0.445496            0.700343        0.0   \n",
       "5     0.124356    0.165274       0.470871            0.545164        0.0   \n",
       "6     0.343750    0.463324       0.420587            0.608306        0.0   \n",
       "7     0.364046    0.586815       0.348816            0.484590        0.0   \n",
       "8     0.379832    0.538533       0.210414            0.453126        0.0   \n",
       "9     0.490979    0.649025       0.424861            0.526756        0.0   \n",
       "10    0.284472    0.359331       0.359880            0.570420        0.0   \n",
       "11    0.475838    0.667595       0.368853            0.485446        0.0   \n",
       "\n",
       "    INLAND  ISLAND  NEAR BAY  NEAR OCEAN  intercept  \n",
       "2      0.0     0.0       1.0         0.0          1  \n",
       "3      0.0     0.0       1.0         0.0          1  \n",
       "4      0.0     0.0       1.0         0.0          1  \n",
       "5      0.0     0.0       1.0         0.0          1  \n",
       "6      0.0     0.0       1.0         0.0          1  \n",
       "7      0.0     0.0       1.0         0.0          1  \n",
       "8      0.0     0.0       1.0         0.0          1  \n",
       "9      0.0     0.0       1.0         0.0          1  \n",
       "10     0.0     0.0       1.0         0.0          1  \n",
       "11     0.0     0.0       1.0         0.0          1  "
      ]
     },
     "execution_count": 729,
     "metadata": {},
     "output_type": "execute_result"
    }
   ],
   "source": [
    "min_max_norm_dataset.head(10)"
   ]
  },
  {
   "cell_type": "code",
   "execution_count": 730,
   "metadata": {},
   "outputs": [
    {
     "data": {
      "text/html": [
       "<div>\n",
       "<style scoped>\n",
       "    .dataframe tbody tr th:only-of-type {\n",
       "        vertical-align: middle;\n",
       "    }\n",
       "\n",
       "    .dataframe tbody tr th {\n",
       "        vertical-align: top;\n",
       "    }\n",
       "\n",
       "    .dataframe thead th {\n",
       "        text-align: right;\n",
       "    }\n",
       "</style>\n",
       "<table border=\"1\" class=\"dataframe\">\n",
       "  <thead>\n",
       "    <tr style=\"text-align: right;\">\n",
       "      <th></th>\n",
       "      <th>longitude</th>\n",
       "      <th>latitude</th>\n",
       "      <th>housing_median_age</th>\n",
       "      <th>total_rooms</th>\n",
       "      <th>total_bedrooms</th>\n",
       "      <th>population</th>\n",
       "      <th>households</th>\n",
       "      <th>median_income</th>\n",
       "      <th>median_house_value</th>\n",
       "      <th>&lt;1H OCEAN</th>\n",
       "      <th>INLAND</th>\n",
       "      <th>ISLAND</th>\n",
       "      <th>NEAR BAY</th>\n",
       "      <th>NEAR OCEAN</th>\n",
       "      <th>intercept</th>\n",
       "    </tr>\n",
       "  </thead>\n",
       "  <tbody>\n",
       "    <tr>\n",
       "      <th>2</th>\n",
       "      <td>0.213996</td>\n",
       "      <td>0.564293</td>\n",
       "      <td>1.000000</td>\n",
       "      <td>0.170526</td>\n",
       "      <td>0.103920</td>\n",
       "      <td>0.151095</td>\n",
       "      <td>0.150418</td>\n",
       "      <td>0.899633</td>\n",
       "      <td>0.721533</td>\n",
       "      <td>0.0</td>\n",
       "      <td>0.0</td>\n",
       "      <td>0.0</td>\n",
       "      <td>1.0</td>\n",
       "      <td>0.0</td>\n",
       "      <td>1</td>\n",
       "    </tr>\n",
       "    <tr>\n",
       "      <th>3</th>\n",
       "      <td>0.212982</td>\n",
       "      <td>0.564293</td>\n",
       "      <td>1.000000</td>\n",
       "      <td>0.132653</td>\n",
       "      <td>0.144941</td>\n",
       "      <td>0.171070</td>\n",
       "      <td>0.189415</td>\n",
       "      <td>0.684719</td>\n",
       "      <td>0.698417</td>\n",
       "      <td>0.0</td>\n",
       "      <td>0.0</td>\n",
       "      <td>0.0</td>\n",
       "      <td>1.0</td>\n",
       "      <td>0.0</td>\n",
       "      <td>1</td>\n",
       "    </tr>\n",
       "    <tr>\n",
       "      <th>4</th>\n",
       "      <td>0.212982</td>\n",
       "      <td>0.564293</td>\n",
       "      <td>1.000000</td>\n",
       "      <td>0.201923</td>\n",
       "      <td>0.185962</td>\n",
       "      <td>0.173325</td>\n",
       "      <td>0.226555</td>\n",
       "      <td>0.445496</td>\n",
       "      <td>0.700343</td>\n",
       "      <td>0.0</td>\n",
       "      <td>0.0</td>\n",
       "      <td>0.0</td>\n",
       "      <td>1.0</td>\n",
       "      <td>0.0</td>\n",
       "      <td>1</td>\n",
       "    </tr>\n",
       "    <tr>\n",
       "      <th>5</th>\n",
       "      <td>0.212982</td>\n",
       "      <td>0.564293</td>\n",
       "      <td>1.000000</td>\n",
       "      <td>0.062991</td>\n",
       "      <td>0.124886</td>\n",
       "      <td>0.124356</td>\n",
       "      <td>0.165274</td>\n",
       "      <td>0.470871</td>\n",
       "      <td>0.545164</td>\n",
       "      <td>0.0</td>\n",
       "      <td>0.0</td>\n",
       "      <td>0.0</td>\n",
       "      <td>1.0</td>\n",
       "      <td>0.0</td>\n",
       "      <td>1</td>\n",
       "    </tr>\n",
       "    <tr>\n",
       "      <th>6</th>\n",
       "      <td>0.212982</td>\n",
       "      <td>0.563231</td>\n",
       "      <td>1.000000</td>\n",
       "      <td>0.380102</td>\n",
       "      <td>0.376481</td>\n",
       "      <td>0.343750</td>\n",
       "      <td>0.463324</td>\n",
       "      <td>0.420587</td>\n",
       "      <td>0.608306</td>\n",
       "      <td>0.0</td>\n",
       "      <td>0.0</td>\n",
       "      <td>0.0</td>\n",
       "      <td>1.0</td>\n",
       "      <td>0.0</td>\n",
       "      <td>1</td>\n",
       "    </tr>\n",
       "    <tr>\n",
       "      <th>7</th>\n",
       "      <td>0.212982</td>\n",
       "      <td>0.563231</td>\n",
       "      <td>1.000000</td>\n",
       "      <td>0.491758</td>\n",
       "      <td>0.556974</td>\n",
       "      <td>0.364046</td>\n",
       "      <td>0.586815</td>\n",
       "      <td>0.348816</td>\n",
       "      <td>0.484590</td>\n",
       "      <td>0.0</td>\n",
       "      <td>0.0</td>\n",
       "      <td>0.0</td>\n",
       "      <td>1.0</td>\n",
       "      <td>0.0</td>\n",
       "      <td>1</td>\n",
       "    </tr>\n",
       "    <tr>\n",
       "      <th>8</th>\n",
       "      <td>0.211968</td>\n",
       "      <td>0.563231</td>\n",
       "      <td>0.803922</td>\n",
       "      <td>0.384027</td>\n",
       "      <td>0.536919</td>\n",
       "      <td>0.379832</td>\n",
       "      <td>0.538533</td>\n",
       "      <td>0.210414</td>\n",
       "      <td>0.453126</td>\n",
       "      <td>0.0</td>\n",
       "      <td>0.0</td>\n",
       "      <td>0.0</td>\n",
       "      <td>1.0</td>\n",
       "      <td>0.0</td>\n",
       "      <td>1</td>\n",
       "    </tr>\n",
       "    <tr>\n",
       "      <th>9</th>\n",
       "      <td>0.212982</td>\n",
       "      <td>0.563231</td>\n",
       "      <td>1.000000</td>\n",
       "      <td>0.579082</td>\n",
       "      <td>0.575205</td>\n",
       "      <td>0.490979</td>\n",
       "      <td>0.649025</td>\n",
       "      <td>0.424861</td>\n",
       "      <td>0.526756</td>\n",
       "      <td>0.0</td>\n",
       "      <td>0.0</td>\n",
       "      <td>0.0</td>\n",
       "      <td>1.0</td>\n",
       "      <td>0.0</td>\n",
       "      <td>1</td>\n",
       "    </tr>\n",
       "    <tr>\n",
       "      <th>10</th>\n",
       "      <td>0.211968</td>\n",
       "      <td>0.564293</td>\n",
       "      <td>1.000000</td>\n",
       "      <td>0.314757</td>\n",
       "      <td>0.326345</td>\n",
       "      <td>0.284472</td>\n",
       "      <td>0.359331</td>\n",
       "      <td>0.359880</td>\n",
       "      <td>0.570420</td>\n",
       "      <td>0.0</td>\n",
       "      <td>0.0</td>\n",
       "      <td>0.0</td>\n",
       "      <td>1.0</td>\n",
       "      <td>0.0</td>\n",
       "      <td>1</td>\n",
       "    </tr>\n",
       "    <tr>\n",
       "      <th>11</th>\n",
       "      <td>0.211968</td>\n",
       "      <td>0.564293</td>\n",
       "      <td>1.000000</td>\n",
       "      <td>0.570055</td>\n",
       "      <td>0.616226</td>\n",
       "      <td>0.475838</td>\n",
       "      <td>0.667595</td>\n",
       "      <td>0.368853</td>\n",
       "      <td>0.485446</td>\n",
       "      <td>0.0</td>\n",
       "      <td>0.0</td>\n",
       "      <td>0.0</td>\n",
       "      <td>1.0</td>\n",
       "      <td>0.0</td>\n",
       "      <td>1</td>\n",
       "    </tr>\n",
       "  </tbody>\n",
       "</table>\n",
       "</div>"
      ],
      "text/plain": [
       "    longitude  latitude  housing_median_age  total_rooms  total_bedrooms  \\\n",
       "2    0.213996  0.564293            1.000000     0.170526        0.103920   \n",
       "3    0.212982  0.564293            1.000000     0.132653        0.144941   \n",
       "4    0.212982  0.564293            1.000000     0.201923        0.185962   \n",
       "5    0.212982  0.564293            1.000000     0.062991        0.124886   \n",
       "6    0.212982  0.563231            1.000000     0.380102        0.376481   \n",
       "7    0.212982  0.563231            1.000000     0.491758        0.556974   \n",
       "8    0.211968  0.563231            0.803922     0.384027        0.536919   \n",
       "9    0.212982  0.563231            1.000000     0.579082        0.575205   \n",
       "10   0.211968  0.564293            1.000000     0.314757        0.326345   \n",
       "11   0.211968  0.564293            1.000000     0.570055        0.616226   \n",
       "\n",
       "    population  households  median_income  median_house_value  <1H OCEAN  \\\n",
       "2     0.151095    0.150418       0.899633            0.721533        0.0   \n",
       "3     0.171070    0.189415       0.684719            0.698417        0.0   \n",
       "4     0.173325    0.226555       0.445496            0.700343        0.0   \n",
       "5     0.124356    0.165274       0.470871            0.545164        0.0   \n",
       "6     0.343750    0.463324       0.420587            0.608306        0.0   \n",
       "7     0.364046    0.586815       0.348816            0.484590        0.0   \n",
       "8     0.379832    0.538533       0.210414            0.453126        0.0   \n",
       "9     0.490979    0.649025       0.424861            0.526756        0.0   \n",
       "10    0.284472    0.359331       0.359880            0.570420        0.0   \n",
       "11    0.475838    0.667595       0.368853            0.485446        0.0   \n",
       "\n",
       "    INLAND  ISLAND  NEAR BAY  NEAR OCEAN  intercept  \n",
       "2      0.0     0.0       1.0         0.0          1  \n",
       "3      0.0     0.0       1.0         0.0          1  \n",
       "4      0.0     0.0       1.0         0.0          1  \n",
       "5      0.0     0.0       1.0         0.0          1  \n",
       "6      0.0     0.0       1.0         0.0          1  \n",
       "7      0.0     0.0       1.0         0.0          1  \n",
       "8      0.0     0.0       1.0         0.0          1  \n",
       "9      0.0     0.0       1.0         0.0          1  \n",
       "10     0.0     0.0       1.0         0.0          1  \n",
       "11     0.0     0.0       1.0         0.0          1  "
      ]
     },
     "execution_count": 730,
     "metadata": {},
     "output_type": "execute_result"
    }
   ],
   "source": [
    "min_max_norm_reduced_dataset.head(10)"
   ]
  },
  {
   "cell_type": "code",
   "execution_count": null,
   "metadata": {},
   "outputs": [],
   "source": []
  }
 ],
 "metadata": {
  "kernelspec": {
   "display_name": "Python 3",
   "language": "python",
   "name": "python3"
  },
  "language_info": {
   "codemirror_mode": {
    "name": "ipython",
    "version": 3
   },
   "file_extension": ".py",
   "mimetype": "text/x-python",
   "name": "python",
   "nbconvert_exporter": "python",
   "pygments_lexer": "ipython3",
   "version": "3.7.1"
  }
 },
 "nbformat": 4,
 "nbformat_minor": 2
}
