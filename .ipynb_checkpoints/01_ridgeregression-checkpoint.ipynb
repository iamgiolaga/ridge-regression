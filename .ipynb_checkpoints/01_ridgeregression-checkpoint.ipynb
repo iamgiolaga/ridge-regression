{
 "cells": [
  {
   "cell_type": "markdown",
   "metadata": {},
   "source": [
    "# First part: ridge regression"
   ]
  },
  {
   "cell_type": "code",
   "execution_count": 577,
   "metadata": {},
   "outputs": [],
   "source": [
    "import pandas as pd\n",
    "import seaborn\n",
    "import matplotlib.pyplot as plt\n",
    "import numpy as np\n",
    "import math\n",
    "import sklearn\n",
    "import random\n",
    "from sklearn.model_selection import train_test_split, cross_val_score\n",
    "from sklearn.decomposition import PCA\n",
    "from sklearn import decomposition\n",
    "from scipy.stats.stats import pearsonr   \n",
    "from numpy import linalg"
   ]
  },
  {
   "cell_type": "markdown",
   "metadata": {},
   "source": [
    "## Ridge regression"
   ]
  },
  {
   "cell_type": "markdown",
   "metadata": {},
   "source": [
    "Ridge regression is a type of regression that introduces the concept of regularization through the alpha parameter in the ERM; at the end of this project we will see how to calibrate the value of this parameter"
   ]
  },
  {
   "cell_type": "markdown",
   "metadata": {},
   "source": [
    "A regressor is a function"
   ]
  },
  {
   "cell_type": "markdown",
   "metadata": {},
   "source": [
    "<img src = \"images/regressor.png\" width = \"200\">"
   ]
  },
  {
   "cell_type": "markdown",
   "metadata": {},
   "source": [
    " where <em>w</em> is a vector of real coefficients (weights), and <em>x</em> refers to the <em>x</em> component of training set"
   ]
  },
  {
   "cell_type": "markdown",
   "metadata": {},
   "source": [
    "As anticipated before, the ERM is regularized by parameter <b>$\\alpha$</b>"
   ]
  },
  {
   "cell_type": "markdown",
   "metadata": {},
   "source": [
    "<img src= \"images/ridge_regression.png\" width = \"350\"/>"
   ]
  },
  {
   "cell_type": "markdown",
   "metadata": {},
   "source": [
    "where S is the <b>design matrix</b>, the matrix of examples without labels"
   ]
  },
  {
   "cell_type": "markdown",
   "metadata": {},
   "source": [
    "$\\nabla(\\left \\| Sw - y \\right \\|^2 + \\alpha \\left \\| w \\right \\|^2) = 2(S^TSw - S^Ty) + 2\\alpha w$"
   ]
  },
  {
   "cell_type": "markdown",
   "metadata": {},
   "source": [
    "since we want to minimize this function, let's set it equal to 0 and we obtain"
   ]
  },
  {
   "cell_type": "markdown",
   "metadata": {},
   "source": [
    "$(S^TS + \\alpha I)w = S^Ty$"
   ]
  },
  {
   "cell_type": "markdown",
   "metadata": {},
   "source": [
    "$w = (S^TS + \\alpha I)^{-1} S^Ty$"
   ]
  },
  {
   "cell_type": "markdown",
   "metadata": {},
   "source": [
    "The regularization is needed since, without it, the vector is unstable; in particular, it can change a lot when the dataset is perturbed and let's keep in mind that we had to deal with missing values, hence we changed a fex examples and this could have led to a variance error."
   ]
  },
  {
   "cell_type": "markdown",
   "metadata": {},
   "source": [
    "### Estimator"
   ]
  },
  {
   "cell_type": "code",
   "execution_count": 457,
   "metadata": {},
   "outputs": [],
   "source": [
    "class myRidgeRegressor(object):\n",
    "    def __init__(self):\n",
    "        pass\n",
    "    \n",
    "    def fit(self, S, y, alfa):\n",
    "        self.w = linalg.inv(S.T.dot(S) + alfa * np.eye(S.shape[1])).dot(S.T.dot(y))\n",
    "    \n",
    "    def predict(self, x):\n",
    "        return x.dot(self.w)"
   ]
  },
  {
   "cell_type": "code",
   "execution_count": 458,
   "metadata": {},
   "outputs": [],
   "source": [
    "def square_loss(prediction, y):\n",
    "    return (y - prediction) ** 2"
   ]
  },
  {
   "cell_type": "code",
   "execution_count": 459,
   "metadata": {},
   "outputs": [],
   "source": [
    "def MSE(prediction, y):\n",
    "    loss = square_loss(prediction, y)\n",
    "    return 1/len(loss) * sum(loss)"
   ]
  },
  {
   "cell_type": "markdown",
   "metadata": {},
   "source": [
    "### Loading preprocessed datasets"
   ]
  },
  {
   "cell_type": "markdown",
   "metadata": {},
   "source": [
    "Let's load the preprocessed datasets, we will handle 4 cases:\n",
    "1. the complete dataset with replaced missing values normalized with min-max\n",
    "2. the reduced dataset (missing values have been removed) with min-max normalization\n",
    "3. the complete dataset with z-score normalization\n",
    "4. the reduced dataset normalized with z-score"
   ]
  },
  {
   "cell_type": "code",
   "execution_count": 460,
   "metadata": {},
   "outputs": [],
   "source": [
    "min_max_norm_dataset = pd.read_csv(\"datasets/min_max_norm_dataset\")\n",
    "min_max_norm_reduced_dataset = pd.read_csv(\"datasets/min_max_norm_reduced_dataset\")\n",
    "\n",
    "zscore_norm_dataset = pd.read_csv(\"datasets/zscore_norm_dataset\")\n",
    "zscore_norm_reduced_dataset = pd.read_csv(\"datasets/zscore_norm_reduced_dataset\")"
   ]
  },
  {
   "cell_type": "code",
   "execution_count": 461,
   "metadata": {},
   "outputs": [],
   "source": [
    "del min_max_norm_dataset[\"Unnamed: 0\"]\n",
    "del min_max_norm_reduced_dataset[\"Unnamed: 0\"]\n",
    "del zscore_norm_dataset[\"Unnamed: 0\"]\n",
    "del zscore_norm_reduced_dataset[\"Unnamed: 0\"]"
   ]
  },
  {
   "cell_type": "markdown",
   "metadata": {},
   "source": [
    "### Splitting in training and test set"
   ]
  },
  {
   "cell_type": "code",
   "execution_count": 462,
   "metadata": {},
   "outputs": [],
   "source": [
    "def split_dataset(dataset):\n",
    "    y = dataset[\"median_house_value\"]\n",
    "    x = dataset.drop(\"median_house_value\", axis = 1)\n",
    "    return train_test_split(x, y, test_size = 0.2)"
   ]
  },
  {
   "cell_type": "markdown",
   "metadata": {},
   "source": [
    "Now we apply the ridge regressor for the 4 datasets and compute predictions, for this part it will be used $\\alpha$ = 0.1"
   ]
  },
  {
   "cell_type": "code",
   "execution_count": 463,
   "metadata": {},
   "outputs": [],
   "source": [
    "ridge_regressor = myRidgeRegressor()"
   ]
  },
  {
   "cell_type": "markdown",
   "metadata": {},
   "source": [
    "### First dataset"
   ]
  },
  {
   "cell_type": "code",
   "execution_count": 464,
   "metadata": {},
   "outputs": [],
   "source": [
    "x_train, x_test, y_train, y_test = split_dataset(min_max_norm_dataset)"
   ]
  },
  {
   "cell_type": "markdown",
   "metadata": {},
   "source": [
    "We fit the regressor with the training set, we obtain a w vector of weights that depends on alpha parameter"
   ]
  },
  {
   "cell_type": "code",
   "execution_count": 465,
   "metadata": {},
   "outputs": [
    {
     "data": {
      "text/plain": [
       "array([-0.14569451, -0.08665406,  0.17007631, -0.78491867,  1.24334029,\n",
       "       -2.44173652,  0.89234576,  1.27737501,  0.21986717])"
      ]
     },
     "execution_count": 465,
     "metadata": {},
     "output_type": "execute_result"
    }
   ],
   "source": [
    "ridge_regressor.fit(x_train, y_train, 0.1)\n",
    "ridge_regressor.w"
   ]
  },
  {
   "cell_type": "markdown",
   "metadata": {},
   "source": [
    "and we can test the regressor on the test set to see how good predictions are done"
   ]
  },
  {
   "cell_type": "code",
   "execution_count": 466,
   "metadata": {},
   "outputs": [
    {
     "data": {
      "text/plain": [
       "1814     0.445300\n",
       "10166    0.922344\n",
       "7325     0.269788\n",
       "15390    0.744863\n",
       "15116    0.503955\n",
       "11888    0.158391\n",
       "19396    0.187018\n",
       "1501     0.420180\n",
       "14552    0.532448\n",
       "11506    0.627069\n",
       "dtype: float64"
      ]
     },
     "execution_count": 466,
     "metadata": {},
     "output_type": "execute_result"
    }
   ],
   "source": [
    "predictions = ridge_regressor.predict(x_test)\n",
    "predictions[:10]"
   ]
  },
  {
   "cell_type": "code",
   "execution_count": 467,
   "metadata": {},
   "outputs": [],
   "source": [
    "loss = square_loss(predictions, y_test)"
   ]
  },
  {
   "cell_type": "code",
   "execution_count": 468,
   "metadata": {
    "scrolled": true
   },
   "outputs": [
    {
     "data": {
      "image/png": "[encoded data removed]",
      "text/plain": [
       "<Figure size 1080x504 with 1 Axes>"
      ]
     },
     "metadata": {
      "needs_background": "light"
     },
     "output_type": "display_data"
    }
   ],
   "source": [
    "plt.figure(figsize=(15, 7))\n",
    "plt.title('Loss distribution')\n",
    "seaborn.distplot(loss.values)\n",
    "plt.grid()\n",
    "plt.show()"
   ]
  },
  {
   "cell_type": "code",
   "execution_count": 469,
   "metadata": {
    "scrolled": true
   },
   "outputs": [
    {
     "data": {
      "text/plain": [
       "0.02167747824861947"
      ]
     },
     "execution_count": 469,
     "metadata": {},
     "output_type": "execute_result"
    }
   ],
   "source": [
    "test_error = MSE(predictions, y_test)\n",
    "test_error"
   ]
  },
  {
   "cell_type": "markdown",
   "metadata": {},
   "source": [
    "### Second dataset"
   ]
  },
  {
   "cell_type": "code",
   "execution_count": 470,
   "metadata": {},
   "outputs": [],
   "source": [
    "x_train, x_test, y_train, y_test = split_dataset(min_max_norm_reduced_dataset)"
   ]
  },
  {
   "cell_type": "code",
   "execution_count": 471,
   "metadata": {},
   "outputs": [
    {
     "data": {
      "text/plain": [
       "array([-0.1408016 , -0.08792775,  0.17155865, -0.70678404,  1.21868934,\n",
       "       -2.88192006,  1.05892539,  1.26897064,  0.2175561 ])"
      ]
     },
     "execution_count": 471,
     "metadata": {},
     "output_type": "execute_result"
    }
   ],
   "source": [
    "ridge_regressor.fit(x_train, y_train, 0.1)\n",
    "ridge_regressor.w"
   ]
  },
  {
   "cell_type": "code",
   "execution_count": 472,
   "metadata": {},
   "outputs": [
    {
     "data": {
      "text/plain": [
       "8133     0.490591\n",
       "12139    0.116201\n",
       "20416    0.654586\n",
       "9695     0.317714\n",
       "11774    0.288704\n",
       "19422    0.324278\n",
       "8203     0.308779\n",
       "11770    0.286985\n",
       "13135    0.303291\n",
       "11738    0.208563\n",
       "dtype: float64"
      ]
     },
     "execution_count": 472,
     "metadata": {},
     "output_type": "execute_result"
    }
   ],
   "source": [
    "predictions = ridge_regressor.predict(x_test)\n",
    "predictions[:10]"
   ]
  },
  {
   "cell_type": "code",
   "execution_count": 473,
   "metadata": {},
   "outputs": [],
   "source": [
    "loss = square_loss(predictions, y_test)"
   ]
  },
  {
   "cell_type": "code",
   "execution_count": 474,
   "metadata": {
    "scrolled": true
   },
   "outputs": [
    {
     "data": {
      "image/png": "[encoded data removed]",
      "text/plain": [
       "<Figure size 1080x504 with 1 Axes>"
      ]
     },
     "metadata": {
      "needs_background": "light"
     },
     "output_type": "display_data"
    }
   ],
   "source": [
    "plt.figure(figsize=(15, 7))\n",
    "plt.title('Loss distribution')\n",
    "seaborn.distplot(loss.values)\n",
    "plt.grid()\n",
    "plt.show()"
   ]
  },
  {
   "cell_type": "code",
   "execution_count": 475,
   "metadata": {
    "scrolled": true
   },
   "outputs": [
    {
     "data": {
      "text/plain": [
       "0.022282712614530388"
      ]
     },
     "execution_count": 475,
     "metadata": {},
     "output_type": "execute_result"
    }
   ],
   "source": [
    "test_error = MSE(predictions, y_test)\n",
    "test_error"
   ]
  },
  {
   "cell_type": "markdown",
   "metadata": {},
   "source": [
    "### Third dataset"
   ]
  },
  {
   "cell_type": "code",
   "execution_count": 476,
   "metadata": {},
   "outputs": [],
   "source": [
    "x_train, x_test, y_train, y_test = split_dataset(zscore_norm_dataset)"
   ]
  },
  {
   "cell_type": "code",
   "execution_count": 477,
   "metadata": {},
   "outputs": [
    {
     "data": {
      "text/plain": [
       "array([-0.54583739, -0.55195171,  0.12639928, -0.13418757,  0.33339354,\n",
       "       -0.42550371,  0.25754775,  0.65512302,  0.12346891])"
      ]
     },
     "execution_count": 477,
     "metadata": {},
     "output_type": "execute_result"
    }
   ],
   "source": [
    "ridge_regressor.fit(x_train, y_train, 0.1)\n",
    "ridge_regressor.w"
   ]
  },
  {
   "cell_type": "code",
   "execution_count": 478,
   "metadata": {},
   "outputs": [
    {
     "data": {
      "text/plain": [
       "17602    0.610206\n",
       "939      0.058842\n",
       "9063    -0.405460\n",
       "1528     0.731372\n",
       "20108   -1.147893\n",
       "10447    0.997204\n",
       "14016    0.107507\n",
       "15726    0.507478\n",
       "20007   -1.281609\n",
       "6768     0.762443\n",
       "dtype: float64"
      ]
     },
     "execution_count": 478,
     "metadata": {},
     "output_type": "execute_result"
    }
   ],
   "source": [
    "predictions = ridge_regressor.predict(x_test)\n",
    "predictions[:10]"
   ]
  },
  {
   "cell_type": "code",
   "execution_count": 479,
   "metadata": {},
   "outputs": [],
   "source": [
    "loss = square_loss(predictions, y_test)"
   ]
  },
  {
   "cell_type": "code",
   "execution_count": 480,
   "metadata": {},
   "outputs": [
    {
     "data": {
      "image/png": "[encoded data removed]",
      "text/plain": [
       "<Figure size 1080x504 with 1 Axes>"
      ]
     },
     "metadata": {
      "needs_background": "light"
     },
     "output_type": "display_data"
    }
   ],
   "source": [
    "plt.figure(figsize=(15, 7))\n",
    "plt.title('Loss distribution')\n",
    "seaborn.distplot(loss.values)\n",
    "plt.grid()\n",
    "plt.show()"
   ]
  },
  {
   "cell_type": "code",
   "execution_count": 481,
   "metadata": {},
   "outputs": [
    {
     "data": {
      "text/plain": [
       "0.37105146239427766"
      ]
     },
     "execution_count": 481,
     "metadata": {},
     "output_type": "execute_result"
    }
   ],
   "source": [
    "test_error = MSE(predictions, y_test)\n",
    "test_error"
   ]
  },
  {
   "cell_type": "markdown",
   "metadata": {},
   "source": [
    "### Fourth dataset"
   ]
  },
  {
   "cell_type": "code",
   "execution_count": 562,
   "metadata": {},
   "outputs": [],
   "source": [
    "x_train, x_test, y_train, y_test = split_dataset(zscore_norm_reduced_dataset)"
   ]
  },
  {
   "cell_type": "code",
   "execution_count": 563,
   "metadata": {},
   "outputs": [
    {
     "data": {
      "text/plain": [
       "array([-0.55153237, -0.55446046,  0.12705103, -0.12665415,  0.37110585,\n",
       "       -0.36623178,  0.16967969,  0.65097136,  0.12467535])"
      ]
     },
     "execution_count": 563,
     "metadata": {},
     "output_type": "execute_result"
    }
   ],
   "source": [
    "ridge_regressor.fit(x_train, y_train, 0.1)\n",
    "ridge_regressor.w"
   ]
  },
  {
   "cell_type": "code",
   "execution_count": 564,
   "metadata": {},
   "outputs": [
    {
     "data": {
      "text/plain": [
       "8979     0.749151\n",
       "5643     0.598165\n",
       "15845    0.507629\n",
       "10633    0.591776\n",
       "11799   -0.537096\n",
       "16863    0.187546\n",
       "13402   -1.642435\n",
       "9025     1.341372\n",
       "11050    0.271461\n",
       "14755   -0.905055\n",
       "dtype: float64"
      ]
     },
     "execution_count": 564,
     "metadata": {},
     "output_type": "execute_result"
    }
   ],
   "source": [
    "predictions = ridge_regressor.predict(x_test)\n",
    "predictions[:10]"
   ]
  },
  {
   "cell_type": "code",
   "execution_count": 565,
   "metadata": {},
   "outputs": [],
   "source": [
    "loss = square_loss(predictions, y_test)"
   ]
  },
  {
   "cell_type": "code",
   "execution_count": 566,
   "metadata": {},
   "outputs": [
    {
     "data": {
      "image/png": "[encoded data removed]",
      "text/plain": [
       "<Figure size 1080x504 with 1 Axes>"
      ]
     },
     "metadata": {
      "needs_background": "light"
     },
     "output_type": "display_data"
    }
   ],
   "source": [
    "plt.figure(figsize=(15, 7))\n",
    "plt.title('Loss distribution')\n",
    "seaborn.distplot(loss.values)\n",
    "plt.grid()\n",
    "plt.show()"
   ]
  },
  {
   "cell_type": "code",
   "execution_count": 567,
   "metadata": {},
   "outputs": [
    {
     "data": {
      "text/plain": [
       "0.3525441791538137"
      ]
     },
     "execution_count": 567,
     "metadata": {},
     "output_type": "execute_result"
    }
   ],
   "source": [
    "test_error = MSE(predictions, y_test)\n",
    "test_error"
   ]
  },
  {
   "cell_type": "markdown",
   "metadata": {},
   "source": [
    "We notice a relevant difference in test error between the first two datasets with respect to the last twos, which reveals that min max normalization produces better result than z-score.\n",
    "For what it concerns the replacement of missing values, we notice very little difference."
   ]
  },
  {
   "cell_type": "markdown",
   "metadata": {},
   "source": [
    "# Second part: analysis"
   ]
  },
  {
   "cell_type": "markdown",
   "metadata": {},
   "source": [
    "We are dealing with a learning problem $(D, l)$ where $l$ is the square loss:\n",
    "\n",
    "- Let $h(S)$ be the prediction of predictor $h$ on training set $S$\n",
    "- Let $l_D(h(S))$ be the risk of $h(S)$\n",
    "- Let $E[l_D(h)]$ be the expected risk of $h(S)$ where the expectation is with respect to the random draw of training set $S$\n",
    "\n",
    "Hence, $E[l_D(h)]$ measures the performance of $h$ on a random training set whereas $l_D(h(S))$ measures the performance of $h$ when the training set is $S$"
   ]
  },
  {
   "cell_type": "markdown",
   "metadata": {},
   "source": [
    "## K-fold cross validation"
   ]
  },
  {
   "cell_type": "markdown",
   "metadata": {},
   "source": [
    "We would like to estimate $E[l_D(h)]$ to see, in general, the goodness of our predictor; in order to do this, we can use k-fold cross validation:  \n",
    "let $S$ be the entire dataset, we partition $S$ in $K$ subsets (called folds) $D_1, D_2, ..., D_K$ of size $m/K$ each where $m$ is the size of $S$ and we use $S^{(k)}$ as <b>training part</b> with $S^{(k)} \\equiv S \\setminus D_k$ where $D_k$ is the <b>testing part</b>;\n",
    "we iterate this process for $k = 1 ... K$."
   ]
  },
  {
   "cell_type": "code",
   "execution_count": 488,
   "metadata": {},
   "outputs": [
    {
     "name": "stdout",
     "output_type": "stream",
     "text": [
      "20640 5\n"
     ]
    }
   ],
   "source": [
    "m = len(min_max_norm_reduced_dataset)\n",
    "K = 5\n",
    "\n",
    "print(m, K)"
   ]
  },
  {
   "cell_type": "markdown",
   "metadata": {},
   "source": [
    "we choose $K$ such that $m$ is divisible with $K$"
   ]
  },
  {
   "cell_type": "code",
   "execution_count": 489,
   "metadata": {},
   "outputs": [],
   "source": [
    "def k_fold_split(dataset, m, K):\n",
    "    partitions = {}\n",
    "    shift = int(m/K)\n",
    "    pivot = 0\n",
    "    for i in range(1, K+1):\n",
    "        partitions[i] = dataset.iloc[pivot : pivot + shift]\n",
    "        pivot = pivot + shift\n",
    "    return partitions"
   ]
  },
  {
   "cell_type": "code",
   "execution_count": 490,
   "metadata": {},
   "outputs": [],
   "source": [
    "partitions = k_fold_split(min_max_norm_reduced_dataset, m, K)"
   ]
  },
  {
   "cell_type": "markdown",
   "metadata": {},
   "source": [
    "Now that we have $K$ folds we can proceed by iterating over them choosing the training and the testing part"
   ]
  },
  {
   "cell_type": "markdown",
   "metadata": {},
   "source": [
    "In order to handle all the possible combinations of training and test set splitting, we convert the vector into a set, such that we can consider all combinations easily"
   ]
  },
  {
   "cell_type": "code",
   "execution_count": 491,
   "metadata": {},
   "outputs": [],
   "source": [
    "def cross_correlation(partitions, alfa):   \n",
    "    K = len(partitions)\n",
    "    vec = []\n",
    "\n",
    "    for i in range(1, K+1):\n",
    "        vec.append(i)\n",
    "\n",
    "    vec_set = set(vec)\n",
    "\n",
    "    scores = []\n",
    "    alfa = alfa\n",
    "\n",
    "    for i in vec:\n",
    "        # S^(i) means using fold i as testing part and the rest as training\n",
    "\n",
    "        testing_part = partitions[i]\n",
    "        vec_set.remove(i)\n",
    "        training_part = pd.DataFrame()\n",
    "\n",
    "        for j in vec_set:\n",
    "            training_part = training_part.append(partitions[j])\n",
    "\n",
    "        # in this point we compute scores\n",
    "        y_train = training_part[\"median_house_value\"]\n",
    "        x_train = training_part.drop(\"median_house_value\", axis = 1)\n",
    "\n",
    "        y_test = testing_part[\"median_house_value\"]\n",
    "        x_test = testing_part.drop(\"median_house_value\", axis = 1)\n",
    "\n",
    "        # learning with training part\n",
    "        ridge_regressor.fit(x_train, y_train, alfa)\n",
    "\n",
    "        # testing with testing part\n",
    "        result = ridge_regressor.predict(x_test)\n",
    "        scores.append(MSE(result, y_test))\n",
    "\n",
    "        vec_set.add(i)\n",
    "    return scores"
   ]
  },
  {
   "cell_type": "code",
   "execution_count": 492,
   "metadata": {
    "scrolled": true
   },
   "outputs": [
    {
     "data": {
      "text/plain": [
       "[0.016334408980828476,\n",
       " 0.024807804268176907,\n",
       " 0.024831508424911997,\n",
       " 0.027057542059790624,\n",
       " 0.01953182731251065]"
      ]
     },
     "execution_count": 492,
     "metadata": {},
     "output_type": "execute_result"
    }
   ],
   "source": [
    "scores = cross_correlation(partitions, 0.1)\n",
    "scores"
   ]
  },
  {
   "cell_type": "code",
   "execution_count": 493,
   "metadata": {},
   "outputs": [
    {
     "data": {
      "text/plain": [
       "0.022512618209243728"
      ]
     },
     "execution_count": 493,
     "metadata": {},
     "output_type": "execute_result"
    }
   ],
   "source": [
    "cv_estimate = np.mean(scores)\n",
    "cv_estimate"
   ]
  },
  {
   "cell_type": "markdown",
   "metadata": {},
   "source": [
    "Now let's compare the cv estimate for all 4 datasets we had before"
   ]
  },
  {
   "cell_type": "code",
   "execution_count": 494,
   "metadata": {},
   "outputs": [
    {
     "name": "stdout",
     "output_type": "stream",
     "text": [
      "0.022512618209243728 0.022512618209243728 0.38066404248835073 0.38066404248835073\n"
     ]
    }
   ],
   "source": [
    "partitions = k_fold_split(min_max_norm_dataset, m, K)\n",
    "cv_1 = np.mean(cross_correlation(partitions, 0.1))\n",
    "\n",
    "partitions = k_fold_split(min_max_norm_reduced_dataset, m, K)\n",
    "cv_2 = np.mean(cross_correlation(partitions, 0.1))\n",
    "\n",
    "partitions = k_fold_split(zscore_norm_dataset, m, K)\n",
    "cv_3 = np.mean(cross_correlation(partitions, 0.1))\n",
    "\n",
    "partitions = k_fold_split(zscore_norm_reduced_dataset, m, K)\n",
    "cv_4 = np.mean(cross_correlation(partitions, 0.1))\n",
    "\n",
    "print(cv_1, cv_2, cv_3, cv_4)"
   ]
  },
  {
   "cell_type": "markdown",
   "metadata": {},
   "source": [
    "## Dependence of the cross-validated risk estimate on the parameter alpha"
   ]
  },
  {
   "cell_type": "markdown",
   "metadata": {},
   "source": [
    "For simplicity, let's consider only one dataset, we will choose the one that showed the best performance with $ \\alpha = 0.1$"
   ]
  },
  {
   "cell_type": "markdown",
   "metadata": {},
   "source": [
    "We will test 5000 values for $\\alpha$, from 0 to 499 with a step of 0.1"
   ]
  },
  {
   "cell_type": "code",
   "execution_count": 532,
   "metadata": {},
   "outputs": [
    {
     "data": {
      "image/png": "[encoded data removed]",
      "text/plain": [
       "<Figure size 1080x504 with 1 Axes>"
      ]
     },
     "metadata": {
      "needs_background": "light"
     },
     "output_type": "display_data"
    }
   ],
   "source": [
    "cv_scores = []\n",
    "partitions = k_fold_split(min_max_norm_dataset, m, K)\n",
    "alfas = np.linspace(0, 500, 5000)\n",
    "\n",
    "for i in alfas:\n",
    "    cv_scores.append(np.mean(cross_correlation(partitions, i)))\n",
    "    \n",
    "plt.figure(figsize=(15, 7))\n",
    "plt.title('Dependence of the cv risk estimate on the parameter alpha - dataset 1')\n",
    "plt.plot(alfas, cv_scores)\n",
    "plt.xlabel(\"ɑ\")\n",
    "plt.ylabel(\"cv risk estimate\")\n",
    "plt.grid()\n",
    "plt.show()"
   ]
  },
  {
   "cell_type": "markdown",
   "metadata": {},
   "source": [
    "From this plot we can conclude that the cv risk estimate diverges for $\\alpha \\rightarrow \\infty$"
   ]
  },
  {
   "cell_type": "markdown",
   "metadata": {},
   "source": [
    "Let's study the behavior of the risk estimate with the other 3 datasets"
   ]
  },
  {
   "cell_type": "code",
   "execution_count": 533,
   "metadata": {},
   "outputs": [
    {
     "data": {
      "image/png": "[encoded data removed]",
      "text/plain": [
       "<Figure size 1080x504 with 1 Axes>"
      ]
     },
     "metadata": {
      "needs_background": "light"
     },
     "output_type": "display_data"
    }
   ],
   "source": [
    "cv_scores = []\n",
    "partitions = k_fold_split(min_max_norm_reduced_dataset, m, K)\n",
    "alfas = np.linspace(0, 500, 5000)\n",
    "\n",
    "for i in alfas:\n",
    "    cv_scores.append(np.mean(cross_correlation(partitions, i)))\n",
    "    \n",
    "plt.figure(figsize=(15, 7))\n",
    "plt.title('Dependence of the cv risk estimate on the parameter alpha - dataset 2')\n",
    "plt.plot(alfas, cv_scores)\n",
    "plt.xlabel(\"ɑ\")\n",
    "plt.ylabel(\"cv risk estimate\")\n",
    "plt.grid()\n",
    "plt.show()"
   ]
  },
  {
   "cell_type": "code",
   "execution_count": 534,
   "metadata": {},
   "outputs": [
    {
     "data": {
      "image/png": "[encoded data removed]",
      "text/plain": [
       "<Figure size 1080x504 with 1 Axes>"
      ]
     },
     "metadata": {
      "needs_background": "light"
     },
     "output_type": "display_data"
    }
   ],
   "source": [
    "cv_scores = []\n",
    "partitions = k_fold_split(zscore_norm_dataset, m, K)\n",
    "alfas = np.linspace(0, 500, 5000)\n",
    "\n",
    "for i in alfas:\n",
    "    cv_scores.append(np.mean(cross_correlation(partitions, i)))\n",
    "    \n",
    "plt.figure(figsize=(15, 7))\n",
    "plt.title('Dependence of the cv risk estimate on the parameter alpha - dataset 3')\n",
    "plt.plot(alfas, cv_scores)\n",
    "plt.xlabel(\"ɑ\")\n",
    "plt.ylabel(\"cv risk estimate\")\n",
    "plt.grid()\n",
    "plt.show()"
   ]
  },
  {
   "cell_type": "code",
   "execution_count": 535,
   "metadata": {},
   "outputs": [
    {
     "data": {
      "image/png": "[encoded data removed]",
      "text/plain": [
       "<Figure size 1080x504 with 1 Axes>"
      ]
     },
     "metadata": {
      "needs_background": "light"
     },
     "output_type": "display_data"
    }
   ],
   "source": [
    "cv_scores = []\n",
    "partitions = k_fold_split(zscore_norm_reduced_dataset, m, K)\n",
    "alfas = np.linspace(0, 500, 5000)\n",
    "\n",
    "for i in alfas:\n",
    "    cv_scores.append(np.mean(cross_correlation(partitions, i)))\n",
    "  \n",
    "plt.figure(figsize=(15, 7))\n",
    "plt.title('Dependence of the cv risk estimate on the parameter alpha - dataset 4')\n",
    "plt.plot(alfas, cv_scores)\n",
    "plt.xlabel(\"ɑ\")\n",
    "plt.ylabel(\"cv risk estimate\")\n",
    "plt.grid()\n",
    "plt.show()"
   ]
  },
  {
   "cell_type": "markdown",
   "metadata": {},
   "source": [
    "We see that for the last two datasets (z-score) there is a slight improvement by increasing alpha, so after normalizing with z-score, it's not true anymore that values towards 0 mean more accurate regressor, anyway, also in this case we have that the cv risk estimate diverges as $\\alpha \\rightarrow \\infty$ "
   ]
  },
  {
   "cell_type": "markdown",
   "metadata": {},
   "source": [
    "This means that there is a dependence of positive linear relationship between cv risk estimate and parameter alpha, in order to confirm this let's compute the correlation coefficient:"
   ]
  },
  {
   "cell_type": "code",
   "execution_count": 542,
   "metadata": {},
   "outputs": [
    {
     "data": {
      "text/plain": [
       "0.9449166069844904"
      ]
     },
     "execution_count": 542,
     "metadata": {},
     "output_type": "execute_result"
    }
   ],
   "source": [
    "pearsonr(alfas, cv_scores)[0]"
   ]
  },
  {
   "cell_type": "markdown",
   "metadata": {},
   "source": [
    "This is highly confirmed by the Pearson coefficient."
   ]
  },
  {
   "cell_type": "markdown",
   "metadata": {},
   "source": [
    "## Using PCA"
   ]
  },
  {
   "cell_type": "code",
   "execution_count": 622,
   "metadata": {},
   "outputs": [],
   "source": [
    "def prediction_with_PCA(alfa, x_train, y_train, x_test, y_test):\n",
    "    pca = decomposition.PCA(n_components=7)\n",
    "    pca.fit(x_train)\n",
    "    x_train_pca = pca.transform(x_train)\n",
    "    x_test_pca = pca.transform(x_test)\n",
    "    ridge_regressor.fit(x_train_pca, y_train, alfa = 0.1)\n",
    "    predictions = ridge_regressor.predict(x_test_pca)\n",
    "    test_error = MSE(predictions, y_test)\n",
    "    return test_error"
   ]
  },
  {
   "cell_type": "markdown",
   "metadata": {},
   "source": [
    "Now we can update our previous function of cross correlation by adding the PCA procedure"
   ]
  },
  {
   "cell_type": "code",
   "execution_count": 623,
   "metadata": {},
   "outputs": [],
   "source": [
    "def cross_correlation_with_PCA(partitions, alfa):   \n",
    "    K = len(partitions)\n",
    "    vec = []\n",
    "\n",
    "    for i in range(1, K+1):\n",
    "        vec.append(i)\n",
    "\n",
    "    vec_set = set(vec)\n",
    "\n",
    "    scores = []\n",
    "    alfa = alfa\n",
    "\n",
    "    for i in vec:\n",
    "        # S^(i) means using fold i as testing part and the rest as training\n",
    "\n",
    "        testing_part = partitions[i]\n",
    "        vec_set.remove(i)\n",
    "        training_part = pd.DataFrame()\n",
    "\n",
    "        for j in vec_set:\n",
    "            training_part = training_part.append(partitions[j])\n",
    "\n",
    "        # in this point we compute scores\n",
    "        y_train = training_part[\"median_house_value\"]\n",
    "        x_train = training_part.drop(\"median_house_value\", axis = 1)\n",
    "\n",
    "        y_test = testing_part[\"median_house_value\"]\n",
    "        x_test = testing_part.drop(\"median_house_value\", axis = 1)\n",
    "\n",
    "        # UPDATE\n",
    "        pca_score = prediction_with_PCA(alfa, x_train, y_train, x_test, y_test)\n",
    "        \n",
    "        scores.append(pca_score)\n",
    "\n",
    "        vec_set.add(i)\n",
    "    return scores"
   ]
  },
  {
   "cell_type": "code",
   "execution_count": 624,
   "metadata": {},
   "outputs": [
    {
     "name": "stdout",
     "output_type": "stream",
     "text": [
      "0.17920032810052122 0.1792003281005211 0.38486956652424487 0.38486956652424487\n"
     ]
    }
   ],
   "source": [
    "partitions = k_fold_split(min_max_norm_dataset, m, K)\n",
    "cv_1 = np.mean(cross_correlation_with_PCA(partitions, 0.1))\n",
    "\n",
    "partitions = k_fold_split(min_max_norm_reduced_dataset, m, K)\n",
    "cv_2 = np.mean(cross_correlation_with_PCA(partitions, 0.1))\n",
    "\n",
    "partitions = k_fold_split(zscore_norm_dataset, m, K)\n",
    "cv_3 = np.mean(cross_correlation_with_PCA(partitions, 0.1))\n",
    "\n",
    "partitions = k_fold_split(zscore_norm_reduced_dataset, m, K)\n",
    "cv_4 = np.mean(cross_correlation_with_PCA(partitions, 0.1))\n",
    "\n",
    "print(cv_1, cv_2, cv_3, cv_4)"
   ]
  },
  {
   "cell_type": "code",
   "execution_count": 625,
   "metadata": {},
   "outputs": [
    {
     "data": {
      "text/plain": [
       "[0.28970530807491135,\n",
       " 0.41933300963769393,\n",
       " 0.4268904041605672,\n",
       " 0.4420233601385337,\n",
       " 0.3253681304300473]"
      ]
     },
     "execution_count": 625,
     "metadata": {},
     "output_type": "execute_result"
    }
   ],
   "source": [
    "cross_correlation(partitions, 0.1)"
   ]
  },
  {
   "cell_type": "code",
   "execution_count": 626,
   "metadata": {},
   "outputs": [
    {
     "data": {
      "text/plain": [
       "[0.2644092842363309,\n",
       " 0.42583824435637124,\n",
       " 0.421447947328869,\n",
       " 0.4734612045917226,\n",
       " 0.33919115210793044]"
      ]
     },
     "execution_count": 626,
     "metadata": {},
     "output_type": "execute_result"
    }
   ],
   "source": [
    "cross_correlation_with_PCA(partitions, 0.1)"
   ]
  },
  {
   "cell_type": "markdown",
   "metadata": {},
   "source": [
    "## optional: try nested CV to avoid choosing alpha"
   ]
  },
  {
   "cell_type": "code",
   "execution_count": null,
   "metadata": {},
   "outputs": [],
   "source": []
  }
 ],
 "metadata": {
  "kernelspec": {
   "display_name": "Python 3",
   "language": "python",
   "name": "python3"
  },
  "language_info": {
   "codemirror_mode": {
    "name": "ipython",
    "version": 3
   },
   "file_extension": ".py",
   "mimetype": "text/x-python",
   "name": "python",
   "nbconvert_exporter": "python",
   "pygments_lexer": "ipython3",
   "version": "3.7.1"
  }
 },
 "nbformat": 4,
 "nbformat_minor": 2
}
