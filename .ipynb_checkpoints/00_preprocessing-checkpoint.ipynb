{
 "cells": [
  {
   "cell_type": "markdown",
   "metadata": {},
   "source": [
    "# Data loading"
   ]
  },
  {
   "cell_type": "code",
   "execution_count": 91,
   "metadata": {},
   "outputs": [],
   "source": [
    "import pandas as pd\n",
    "import matplotlib.pyplot as plt\n",
    "import numpy as np\n",
    "import math\n",
    "import random\n",
    "import missingno as msno \n",
    "from scipy import stats\n",
    "from random import uniform"
   ]
  },
  {
   "cell_type": "code",
   "execution_count": 92,
   "metadata": {},
   "outputs": [],
   "source": [
    "dataset = pd.read_csv(\"datasets/cal-housing.csv\")"
   ]
  },
  {
   "cell_type": "markdown",
   "metadata": {},
   "source": [
    "# Data visualization and anomalies detection"
   ]
  },
  {
   "cell_type": "code",
   "execution_count": 93,
   "metadata": {
    "scrolled": true
   },
   "outputs": [
    {
     "data": {
      "text/html": [
       "<div>\n",
       "<style scoped>\n",
       "    .dataframe tbody tr th:only-of-type {\n",
       "        vertical-align: middle;\n",
       "    }\n",
       "\n",
       "    .dataframe tbody tr th {\n",
       "        vertical-align: top;\n",
       "    }\n",
       "\n",
       "    .dataframe thead th {\n",
       "        text-align: right;\n",
       "    }\n",
       "</style>\n",
       "<table border=\"1\" class=\"dataframe\">\n",
       "  <thead>\n",
       "    <tr style=\"text-align: right;\">\n",
       "      <th></th>\n",
       "      <th>longitude</th>\n",
       "      <th>latitude</th>\n",
       "      <th>housing_median_age</th>\n",
       "      <th>total_rooms</th>\n",
       "      <th>total_bedrooms</th>\n",
       "      <th>population</th>\n",
       "      <th>households</th>\n",
       "      <th>median_income</th>\n",
       "      <th>median_house_value</th>\n",
       "      <th>ocean_proximity</th>\n",
       "    </tr>\n",
       "  </thead>\n",
       "  <tbody>\n",
       "    <tr>\n",
       "      <th>0</th>\n",
       "      <td>-122.23</td>\n",
       "      <td>37.88</td>\n",
       "      <td>41.0</td>\n",
       "      <td>880.0</td>\n",
       "      <td>129.0</td>\n",
       "      <td>322.0</td>\n",
       "      <td>126.0</td>\n",
       "      <td>8.3252</td>\n",
       "      <td>452600.0</td>\n",
       "      <td>NEAR BAY</td>\n",
       "    </tr>\n",
       "    <tr>\n",
       "      <th>1</th>\n",
       "      <td>-122.22</td>\n",
       "      <td>37.86</td>\n",
       "      <td>21.0</td>\n",
       "      <td>7099.0</td>\n",
       "      <td>1106.0</td>\n",
       "      <td>2401.0</td>\n",
       "      <td>1138.0</td>\n",
       "      <td>8.3014</td>\n",
       "      <td>358500.0</td>\n",
       "      <td>NEAR BAY</td>\n",
       "    </tr>\n",
       "    <tr>\n",
       "      <th>2</th>\n",
       "      <td>-122.24</td>\n",
       "      <td>37.85</td>\n",
       "      <td>52.0</td>\n",
       "      <td>1467.0</td>\n",
       "      <td>190.0</td>\n",
       "      <td>496.0</td>\n",
       "      <td>177.0</td>\n",
       "      <td>7.2574</td>\n",
       "      <td>352100.0</td>\n",
       "      <td>NEAR BAY</td>\n",
       "    </tr>\n",
       "    <tr>\n",
       "      <th>3</th>\n",
       "      <td>-122.25</td>\n",
       "      <td>37.85</td>\n",
       "      <td>52.0</td>\n",
       "      <td>1274.0</td>\n",
       "      <td>235.0</td>\n",
       "      <td>558.0</td>\n",
       "      <td>219.0</td>\n",
       "      <td>5.6431</td>\n",
       "      <td>341300.0</td>\n",
       "      <td>NEAR BAY</td>\n",
       "    </tr>\n",
       "    <tr>\n",
       "      <th>4</th>\n",
       "      <td>-122.25</td>\n",
       "      <td>37.85</td>\n",
       "      <td>52.0</td>\n",
       "      <td>1627.0</td>\n",
       "      <td>280.0</td>\n",
       "      <td>565.0</td>\n",
       "      <td>259.0</td>\n",
       "      <td>3.8462</td>\n",
       "      <td>342200.0</td>\n",
       "      <td>NEAR BAY</td>\n",
       "    </tr>\n",
       "    <tr>\n",
       "      <th>5</th>\n",
       "      <td>-122.25</td>\n",
       "      <td>37.85</td>\n",
       "      <td>52.0</td>\n",
       "      <td>919.0</td>\n",
       "      <td>213.0</td>\n",
       "      <td>413.0</td>\n",
       "      <td>193.0</td>\n",
       "      <td>4.0368</td>\n",
       "      <td>269700.0</td>\n",
       "      <td>NEAR BAY</td>\n",
       "    </tr>\n",
       "    <tr>\n",
       "      <th>6</th>\n",
       "      <td>-122.25</td>\n",
       "      <td>37.84</td>\n",
       "      <td>52.0</td>\n",
       "      <td>2535.0</td>\n",
       "      <td>489.0</td>\n",
       "      <td>1094.0</td>\n",
       "      <td>514.0</td>\n",
       "      <td>3.6591</td>\n",
       "      <td>299200.0</td>\n",
       "      <td>NEAR BAY</td>\n",
       "    </tr>\n",
       "    <tr>\n",
       "      <th>7</th>\n",
       "      <td>-122.25</td>\n",
       "      <td>37.84</td>\n",
       "      <td>52.0</td>\n",
       "      <td>3104.0</td>\n",
       "      <td>687.0</td>\n",
       "      <td>1157.0</td>\n",
       "      <td>647.0</td>\n",
       "      <td>3.1200</td>\n",
       "      <td>241400.0</td>\n",
       "      <td>NEAR BAY</td>\n",
       "    </tr>\n",
       "    <tr>\n",
       "      <th>8</th>\n",
       "      <td>-122.26</td>\n",
       "      <td>37.84</td>\n",
       "      <td>42.0</td>\n",
       "      <td>2555.0</td>\n",
       "      <td>665.0</td>\n",
       "      <td>1206.0</td>\n",
       "      <td>595.0</td>\n",
       "      <td>2.0804</td>\n",
       "      <td>226700.0</td>\n",
       "      <td>NEAR BAY</td>\n",
       "    </tr>\n",
       "    <tr>\n",
       "      <th>9</th>\n",
       "      <td>-122.25</td>\n",
       "      <td>37.84</td>\n",
       "      <td>52.0</td>\n",
       "      <td>3549.0</td>\n",
       "      <td>707.0</td>\n",
       "      <td>1551.0</td>\n",
       "      <td>714.0</td>\n",
       "      <td>3.6912</td>\n",
       "      <td>261100.0</td>\n",
       "      <td>NEAR BAY</td>\n",
       "    </tr>\n",
       "  </tbody>\n",
       "</table>\n",
       "</div>"
      ],
      "text/plain": [
       "   longitude  latitude  housing_median_age  total_rooms  total_bedrooms  \\\n",
       "0    -122.23     37.88                41.0        880.0           129.0   \n",
       "1    -122.22     37.86                21.0       7099.0          1106.0   \n",
       "2    -122.24     37.85                52.0       1467.0           190.0   \n",
       "3    -122.25     37.85                52.0       1274.0           235.0   \n",
       "4    -122.25     37.85                52.0       1627.0           280.0   \n",
       "5    -122.25     37.85                52.0        919.0           213.0   \n",
       "6    -122.25     37.84                52.0       2535.0           489.0   \n",
       "7    -122.25     37.84                52.0       3104.0           687.0   \n",
       "8    -122.26     37.84                42.0       2555.0           665.0   \n",
       "9    -122.25     37.84                52.0       3549.0           707.0   \n",
       "\n",
       "   population  households  median_income  median_house_value ocean_proximity  \n",
       "0       322.0       126.0         8.3252            452600.0        NEAR BAY  \n",
       "1      2401.0      1138.0         8.3014            358500.0        NEAR BAY  \n",
       "2       496.0       177.0         7.2574            352100.0        NEAR BAY  \n",
       "3       558.0       219.0         5.6431            341300.0        NEAR BAY  \n",
       "4       565.0       259.0         3.8462            342200.0        NEAR BAY  \n",
       "5       413.0       193.0         4.0368            269700.0        NEAR BAY  \n",
       "6      1094.0       514.0         3.6591            299200.0        NEAR BAY  \n",
       "7      1157.0       647.0         3.1200            241400.0        NEAR BAY  \n",
       "8      1206.0       595.0         2.0804            226700.0        NEAR BAY  \n",
       "9      1551.0       714.0         3.6912            261100.0        NEAR BAY  "
      ]
     },
     "execution_count": 93,
     "metadata": {},
     "output_type": "execute_result"
    }
   ],
   "source": [
    "dataset.head(10)"
   ]
  },
  {
   "cell_type": "code",
   "execution_count": 94,
   "metadata": {
    "scrolled": true
   },
   "outputs": [
    {
     "name": "stdout",
     "output_type": "stream",
     "text": [
      "20640 10\n"
     ]
    }
   ],
   "source": [
    "row, col = dataset.shape\n",
    "print(row, col)"
   ]
  },
  {
   "cell_type": "markdown",
   "metadata": {},
   "source": [
    "### Longitude"
   ]
  },
  {
   "cell_type": "code",
   "execution_count": 95,
   "metadata": {},
   "outputs": [
    {
     "data": {
      "image/png": "[encoded data removed]",
      "text/plain": [
       "<Figure size 1080x504 with 1 Axes>"
      ]
     },
     "metadata": {
      "needs_background": "light"
     },
     "output_type": "display_data"
    }
   ],
   "source": [
    "plt.figure(figsize=(15, 7))\n",
    "plt.hist(dataset[\"longitude\"])\n",
    "plt.grid()\n",
    "plt.title(\"Longitude\")\n",
    "plt.show()"
   ]
  },
  {
   "cell_type": "code",
   "execution_count": 96,
   "metadata": {},
   "outputs": [
    {
     "data": {
      "image/png": "[encoded data removed]",
      "text/plain": [
       "<Figure size 1080x504 with 1 Axes>"
      ]
     },
     "metadata": {
      "needs_background": "light"
     },
     "output_type": "display_data"
    }
   ],
   "source": [
    "plt.figure(figsize=(15, 7))\n",
    "plt.boxplot(dataset[\"longitude\"])\n",
    "plt.grid()\n",
    "plt.title(\"Longitude\")\n",
    "plt.show()"
   ]
  },
  {
   "cell_type": "code",
   "execution_count": 97,
   "metadata": {},
   "outputs": [
    {
     "data": {
      "text/plain": [
       "count    20640.000000\n",
       "mean      -119.569704\n",
       "std          2.003532\n",
       "min       -124.350000\n",
       "25%       -121.800000\n",
       "50%       -118.490000\n",
       "75%       -118.010000\n",
       "max       -114.310000\n",
       "Name: longitude, dtype: float64"
      ]
     },
     "execution_count": 97,
     "metadata": {},
     "output_type": "execute_result"
    }
   ],
   "source": [
    "dataset[\"longitude\"].describe()"
   ]
  },
  {
   "cell_type": "markdown",
   "metadata": {},
   "source": [
    "### Latitude"
   ]
  },
  {
   "cell_type": "code",
   "execution_count": 98,
   "metadata": {},
   "outputs": [
    {
     "data": {
      "image/png": "[encoded data removed]",
      "text/plain": [
       "<Figure size 1080x504 with 1 Axes>"
      ]
     },
     "metadata": {
      "needs_background": "light"
     },
     "output_type": "display_data"
    }
   ],
   "source": [
    "plt.figure(figsize=(15, 7))\n",
    "plt.hist(dataset[\"latitude\"])\n",
    "plt.grid()\n",
    "plt.title(\"Latitude\")\n",
    "plt.show()"
   ]
  },
  {
   "cell_type": "code",
   "execution_count": 99,
   "metadata": {},
   "outputs": [
    {
     "data": {
      "image/png": "[encoded data removed]",
      "text/plain": [
       "<Figure size 1080x504 with 1 Axes>"
      ]
     },
     "metadata": {
      "needs_background": "light"
     },
     "output_type": "display_data"
    }
   ],
   "source": [
    "plt.figure(figsize=(15, 7))\n",
    "plt.boxplot(dataset[\"latitude\"])\n",
    "plt.grid()\n",
    "plt.title(\"Latitude\")\n",
    "plt.show()"
   ]
  },
  {
   "cell_type": "code",
   "execution_count": 100,
   "metadata": {},
   "outputs": [
    {
     "data": {
      "text/plain": [
       "count    20640.000000\n",
       "mean        35.631861\n",
       "std          2.135952\n",
       "min         32.540000\n",
       "25%         33.930000\n",
       "50%         34.260000\n",
       "75%         37.710000\n",
       "max         41.950000\n",
       "Name: latitude, dtype: float64"
      ]
     },
     "execution_count": 100,
     "metadata": {},
     "output_type": "execute_result"
    }
   ],
   "source": [
    "dataset[\"latitude\"].describe()"
   ]
  },
  {
   "cell_type": "markdown",
   "metadata": {},
   "source": [
    "### Housing median age"
   ]
  },
  {
   "cell_type": "code",
   "execution_count": 101,
   "metadata": {},
   "outputs": [
    {
     "data": {
      "image/png": "[encoded data removed]",
      "text/plain": [
       "<Figure size 1080x504 with 1 Axes>"
      ]
     },
     "metadata": {
      "needs_background": "light"
     },
     "output_type": "display_data"
    }
   ],
   "source": [
    "plt.figure(figsize=(15, 7))\n",
    "plt.hist(dataset[\"housing_median_age\"])\n",
    "plt.grid()\n",
    "plt.title(\"Housing median age\")\n",
    "plt.show()"
   ]
  },
  {
   "cell_type": "code",
   "execution_count": 102,
   "metadata": {},
   "outputs": [
    {
     "data": {
      "image/png": "[encoded data removed]",
      "text/plain": [
       "<Figure size 1080x504 with 1 Axes>"
      ]
     },
     "metadata": {
      "needs_background": "light"
     },
     "output_type": "display_data"
    }
   ],
   "source": [
    "plt.figure(figsize=(15, 7))\n",
    "plt.boxplot(dataset[\"housing_median_age\"])\n",
    "plt.grid()\n",
    "plt.title(\"Housing median age\")\n",
    "plt.show()"
   ]
  },
  {
   "cell_type": "code",
   "execution_count": 103,
   "metadata": {
    "scrolled": true
   },
   "outputs": [
    {
     "data": {
      "text/plain": [
       "count    20640.000000\n",
       "mean        28.639486\n",
       "std         12.585558\n",
       "min          1.000000\n",
       "25%         18.000000\n",
       "50%         29.000000\n",
       "75%         37.000000\n",
       "max         52.000000\n",
       "Name: housing_median_age, dtype: float64"
      ]
     },
     "execution_count": 103,
     "metadata": {},
     "output_type": "execute_result"
    }
   ],
   "source": [
    "dataset[\"housing_median_age\"].describe()"
   ]
  },
  {
   "cell_type": "markdown",
   "metadata": {},
   "source": [
    "### Total rooms"
   ]
  },
  {
   "cell_type": "code",
   "execution_count": 104,
   "metadata": {},
   "outputs": [
    {
     "data": {
      "image/png": "[encoded data removed]",
      "text/plain": [
       "<Figure size 1080x504 with 1 Axes>"
      ]
     },
     "metadata": {
      "needs_background": "light"
     },
     "output_type": "display_data"
    }
   ],
   "source": [
    "plt.figure(figsize=(15, 7))\n",
    "plt.hist(dataset[\"total_rooms\"])\n",
    "plt.grid()\n",
    "plt.title(\"Total rooms\")\n",
    "plt.show()"
   ]
  },
  {
   "cell_type": "code",
   "execution_count": 105,
   "metadata": {},
   "outputs": [
    {
     "data": {
      "image/png": "[encoded data removed]",
      "text/plain": [
       "<Figure size 1080x504 with 1 Axes>"
      ]
     },
     "metadata": {
      "needs_background": "light"
     },
     "output_type": "display_data"
    }
   ],
   "source": [
    "plt.figure(figsize=(15, 7))\n",
    "plt.boxplot(dataset[\"total_rooms\"])\n",
    "plt.grid()\n",
    "plt.title(\"Total rooms\")\n",
    "plt.show()"
   ]
  },
  {
   "cell_type": "code",
   "execution_count": 106,
   "metadata": {},
   "outputs": [
    {
     "data": {
      "text/plain": [
       "count    20640.000000\n",
       "mean      2635.763081\n",
       "std       2181.615252\n",
       "min          2.000000\n",
       "25%       1447.750000\n",
       "50%       2127.000000\n",
       "75%       3148.000000\n",
       "max      39320.000000\n",
       "Name: total_rooms, dtype: float64"
      ]
     },
     "execution_count": 106,
     "metadata": {},
     "output_type": "execute_result"
    }
   ],
   "source": [
    "dataset[\"total_rooms\"].describe()"
   ]
  },
  {
   "cell_type": "markdown",
   "metadata": {},
   "source": [
    "### Total bedrooms"
   ]
  },
  {
   "cell_type": "code",
   "execution_count": 107,
   "metadata": {},
   "outputs": [
    {
     "name": "stderr",
     "output_type": "stream",
     "text": [
      "/Library/Frameworks/Python.framework/Versions/3.7/lib/python3.7/site-packages/numpy/lib/histograms.py:839: RuntimeWarning: invalid value encountered in greater_equal\n",
      "  keep = (tmp_a >= first_edge)\n",
      "/Library/Frameworks/Python.framework/Versions/3.7/lib/python3.7/site-packages/numpy/lib/histograms.py:840: RuntimeWarning: invalid value encountered in less_equal\n",
      "  keep &= (tmp_a <= last_edge)\n"
     ]
    },
    {
     "data": {
      "image/png": "[encoded data removed]",
      "text/plain": [
       "<Figure size 1080x504 with 1 Axes>"
      ]
     },
     "metadata": {
      "needs_background": "light"
     },
     "output_type": "display_data"
    }
   ],
   "source": [
    "plt.figure(figsize=(15, 7))\n",
    "plt.hist(dataset[\"total_bedrooms\"])\n",
    "plt.grid()\n",
    "plt.title(\"Total bedrooms\")\n",
    "plt.show()"
   ]
  },
  {
   "cell_type": "code",
   "execution_count": 108,
   "metadata": {
    "scrolled": false
   },
   "outputs": [
    {
     "name": "stderr",
     "output_type": "stream",
     "text": [
      "/Library/Frameworks/Python.framework/Versions/3.7/lib/python3.7/site-packages/matplotlib/cbook/__init__.py:1246: RuntimeWarning: invalid value encountered in less_equal\n",
      "  wiskhi = np.compress(x <= hival, x)\n",
      "/Library/Frameworks/Python.framework/Versions/3.7/lib/python3.7/site-packages/matplotlib/cbook/__init__.py:1253: RuntimeWarning: invalid value encountered in greater_equal\n",
      "  wisklo = np.compress(x >= loval, x)\n",
      "/Library/Frameworks/Python.framework/Versions/3.7/lib/python3.7/site-packages/matplotlib/cbook/__init__.py:1261: RuntimeWarning: invalid value encountered in less\n",
      "  np.compress(x < stats['whislo'], x),\n",
      "/Library/Frameworks/Python.framework/Versions/3.7/lib/python3.7/site-packages/matplotlib/cbook/__init__.py:1262: RuntimeWarning: invalid value encountered in greater\n",
      "  np.compress(x > stats['whishi'], x)\n"
     ]
    },
    {
     "data": {
      "image/png": "[encoded data removed]",
      "text/plain": [
       "<Figure size 1080x504 with 1 Axes>"
      ]
     },
     "metadata": {
      "needs_background": "light"
     },
     "output_type": "display_data"
    }
   ],
   "source": [
    "plt.figure(figsize=(15, 7))\n",
    "plt.boxplot(dataset[\"total_bedrooms\"])\n",
    "plt.grid()\n",
    "plt.title(\"Total bedrooms\")\n",
    "plt.show()"
   ]
  },
  {
   "cell_type": "markdown",
   "metadata": {},
   "source": [
    "<b>Note</b>: we will discover later that this exception was thrown due to NaNs presence in <em>total_bedrooms</em>"
   ]
  },
  {
   "cell_type": "markdown",
   "metadata": {},
   "source": [
    "In order to complete the analysis, let's visualize the boxplot of <em>total_bedrooms</em> without missing values, we will handle their presence later"
   ]
  },
  {
   "cell_type": "code",
   "execution_count": 109,
   "metadata": {
    "scrolled": false
   },
   "outputs": [
    {
     "data": {
      "image/png": "[encoded data removed]",
      "text/plain": [
       "<Figure size 1080x504 with 1 Axes>"
      ]
     },
     "metadata": {
      "needs_background": "light"
     },
     "output_type": "display_data"
    }
   ],
   "source": [
    "plt.figure(figsize=(15, 7))\n",
    "plt.boxplot(dataset[-dataset.isnull().any(axis=1)][\"total_bedrooms\"])\n",
    "plt.grid()\n",
    "plt.title(\"Total bedrooms without missing values\")\n",
    "plt.show()"
   ]
  },
  {
   "cell_type": "markdown",
   "metadata": {},
   "source": [
    "And we add <em>total_bedrooms</em> to the list of columns which show outliers"
   ]
  },
  {
   "cell_type": "code",
   "execution_count": 110,
   "metadata": {},
   "outputs": [
    {
     "data": {
      "text/plain": [
       "count    20433.000000\n",
       "mean       537.870553\n",
       "std        421.385070\n",
       "min          1.000000\n",
       "25%        296.000000\n",
       "50%        435.000000\n",
       "75%        647.000000\n",
       "max       6445.000000\n",
       "Name: total_bedrooms, dtype: float64"
      ]
     },
     "execution_count": 110,
     "metadata": {},
     "output_type": "execute_result"
    }
   ],
   "source": [
    "dataset[\"total_bedrooms\"].describe()"
   ]
  },
  {
   "cell_type": "markdown",
   "metadata": {},
   "source": [
    "### Population"
   ]
  },
  {
   "cell_type": "code",
   "execution_count": 111,
   "metadata": {},
   "outputs": [
    {
     "data": {
      "image/png": "[encoded data removed]",
      "text/plain": [
       "<Figure size 1080x504 with 1 Axes>"
      ]
     },
     "metadata": {
      "needs_background": "light"
     },
     "output_type": "display_data"
    }
   ],
   "source": [
    "plt.figure(figsize=(15, 7))\n",
    "plt.hist(dataset[\"population\"])\n",
    "plt.grid()\n",
    "plt.title(\"Population\")\n",
    "plt.show()"
   ]
  },
  {
   "cell_type": "code",
   "execution_count": 112,
   "metadata": {},
   "outputs": [
    {
     "data": {
      "image/png": "[encoded data removed]",
      "text/plain": [
       "<Figure size 1080x504 with 1 Axes>"
      ]
     },
     "metadata": {
      "needs_background": "light"
     },
     "output_type": "display_data"
    }
   ],
   "source": [
    "plt.figure(figsize=(15, 7))\n",
    "plt.boxplot(dataset[\"population\"])\n",
    "plt.grid()\n",
    "plt.title(\"Population\")\n",
    "plt.show()"
   ]
  },
  {
   "cell_type": "code",
   "execution_count": 113,
   "metadata": {},
   "outputs": [
    {
     "data": {
      "text/plain": [
       "count    20640.000000\n",
       "mean      1425.476744\n",
       "std       1132.462122\n",
       "min          3.000000\n",
       "25%        787.000000\n",
       "50%       1166.000000\n",
       "75%       1725.000000\n",
       "max      35682.000000\n",
       "Name: population, dtype: float64"
      ]
     },
     "execution_count": 113,
     "metadata": {},
     "output_type": "execute_result"
    }
   ],
   "source": [
    "dataset[\"population\"].describe()"
   ]
  },
  {
   "cell_type": "markdown",
   "metadata": {},
   "source": [
    "### Households"
   ]
  },
  {
   "cell_type": "code",
   "execution_count": 114,
   "metadata": {},
   "outputs": [
    {
     "data": {
      "image/png": "[encoded data removed]",
      "text/plain": [
       "<Figure size 1080x504 with 1 Axes>"
      ]
     },
     "metadata": {
      "needs_background": "light"
     },
     "output_type": "display_data"
    }
   ],
   "source": [
    "plt.figure(figsize=(15, 7))\n",
    "plt.hist(dataset[\"households\"])\n",
    "plt.grid()\n",
    "plt.title(\"Households\")\n",
    "plt.show()"
   ]
  },
  {
   "cell_type": "code",
   "execution_count": 115,
   "metadata": {},
   "outputs": [
    {
     "data": {
      "image/png": "[encoded data removed]",
      "text/plain": [
       "<Figure size 1080x504 with 1 Axes>"
      ]
     },
     "metadata": {
      "needs_background": "light"
     },
     "output_type": "display_data"
    }
   ],
   "source": [
    "plt.figure(figsize=(15, 7))\n",
    "plt.boxplot(dataset[\"households\"])\n",
    "plt.grid()\n",
    "plt.title(\"Households\")\n",
    "plt.show()"
   ]
  },
  {
   "cell_type": "code",
   "execution_count": 116,
   "metadata": {},
   "outputs": [
    {
     "data": {
      "text/plain": [
       "count    20640.000000\n",
       "mean       499.539680\n",
       "std        382.329753\n",
       "min          1.000000\n",
       "25%        280.000000\n",
       "50%        409.000000\n",
       "75%        605.000000\n",
       "max       6082.000000\n",
       "Name: households, dtype: float64"
      ]
     },
     "execution_count": 116,
     "metadata": {},
     "output_type": "execute_result"
    }
   ],
   "source": [
    "dataset[\"households\"].describe()"
   ]
  },
  {
   "cell_type": "markdown",
   "metadata": {},
   "source": [
    "### Median income"
   ]
  },
  {
   "cell_type": "code",
   "execution_count": 117,
   "metadata": {},
   "outputs": [
    {
     "data": {
      "image/png": "[encoded data removed]",
      "text/plain": [
       "<Figure size 1080x504 with 1 Axes>"
      ]
     },
     "metadata": {
      "needs_background": "light"
     },
     "output_type": "display_data"
    }
   ],
   "source": [
    "plt.figure(figsize=(15, 7))\n",
    "plt.hist(dataset[\"median_income\"])\n",
    "plt.grid()\n",
    "plt.title(\"Median income\")\n",
    "plt.show()"
   ]
  },
  {
   "cell_type": "code",
   "execution_count": 118,
   "metadata": {},
   "outputs": [
    {
     "data": {
      "image/png": "[encoded data removed]",
      "text/plain": [
       "<Figure size 1080x504 with 1 Axes>"
      ]
     },
     "metadata": {
      "needs_background": "light"
     },
     "output_type": "display_data"
    }
   ],
   "source": [
    "plt.figure(figsize=(15, 7))\n",
    "plt.boxplot(dataset[\"median_income\"])\n",
    "plt.grid()\n",
    "plt.title(\"Median income\")\n",
    "plt.show()"
   ]
  },
  {
   "cell_type": "code",
   "execution_count": 119,
   "metadata": {},
   "outputs": [
    {
     "data": {
      "text/plain": [
       "count    20640.000000\n",
       "mean         3.870671\n",
       "std          1.899822\n",
       "min          0.499900\n",
       "25%          2.563400\n",
       "50%          3.534800\n",
       "75%          4.743250\n",
       "max         15.000100\n",
       "Name: median_income, dtype: float64"
      ]
     },
     "execution_count": 119,
     "metadata": {},
     "output_type": "execute_result"
    }
   ],
   "source": [
    "dataset[\"median_income\"].describe()"
   ]
  },
  {
   "cell_type": "markdown",
   "metadata": {},
   "source": [
    "### Median house value"
   ]
  },
  {
   "cell_type": "code",
   "execution_count": 120,
   "metadata": {},
   "outputs": [
    {
     "data": {
      "image/png": "[encoded data removed]",
      "text/plain": [
       "<Figure size 1080x504 with 1 Axes>"
      ]
     },
     "metadata": {
      "needs_background": "light"
     },
     "output_type": "display_data"
    }
   ],
   "source": [
    "plt.figure(figsize=(15, 7))\n",
    "plt.hist(dataset[\"median_house_value\"])\n",
    "plt.grid()\n",
    "plt.title(\"Median house value\")\n",
    "plt.show()"
   ]
  },
  {
   "cell_type": "code",
   "execution_count": 121,
   "metadata": {},
   "outputs": [
    {
     "data": {
      "image/png": "[encoded data removed]",
      "text/plain": [
       "<Figure size 1080x504 with 1 Axes>"
      ]
     },
     "metadata": {
      "needs_background": "light"
     },
     "output_type": "display_data"
    }
   ],
   "source": [
    "plt.figure(figsize=(15, 7))\n",
    "plt.boxplot(dataset[\"median_house_value\"])\n",
    "plt.grid()\n",
    "plt.title(\"Median house value\")\n",
    "plt.show()"
   ]
  },
  {
   "cell_type": "code",
   "execution_count": 122,
   "metadata": {},
   "outputs": [
    {
     "data": {
      "text/plain": [
       "count     20640.000000\n",
       "mean     206855.816909\n",
       "std      115395.615874\n",
       "min       14999.000000\n",
       "25%      119600.000000\n",
       "50%      179700.000000\n",
       "75%      264725.000000\n",
       "max      500001.000000\n",
       "Name: median_house_value, dtype: float64"
      ]
     },
     "execution_count": 122,
     "metadata": {},
     "output_type": "execute_result"
    }
   ],
   "source": [
    "dataset[\"median_house_value\"].describe()"
   ]
  },
  {
   "cell_type": "markdown",
   "metadata": {},
   "source": [
    "### Ocean proximity"
   ]
  },
  {
   "cell_type": "code",
   "execution_count": 123,
   "metadata": {},
   "outputs": [
    {
     "data": {
      "image/png": "[encoded data removed]",
      "text/plain": [
       "<Figure size 1080x504 with 1 Axes>"
      ]
     },
     "metadata": {
      "needs_background": "light"
     },
     "output_type": "display_data"
    }
   ],
   "source": [
    "plt.figure(figsize=(15, 7))\n",
    "plt.title(\"Ocean proximity\")\n",
    "dataset[\"ocean_proximity\"].value_counts().plot(kind=\"bar\")\n",
    "plt.show()"
   ]
  },
  {
   "cell_type": "code",
   "execution_count": 124,
   "metadata": {
    "scrolled": true
   },
   "outputs": [
    {
     "data": {
      "text/plain": [
       "array(['NEAR BAY', '<1H OCEAN', 'INLAND', 'NEAR OCEAN', 'ISLAND'],\n",
       "      dtype=object)"
      ]
     },
     "execution_count": 124,
     "metadata": {},
     "output_type": "execute_result"
    }
   ],
   "source": [
    "dataset[\"ocean_proximity\"].unique()"
   ]
  },
  {
   "cell_type": "code",
   "execution_count": 125,
   "metadata": {
    "scrolled": true
   },
   "outputs": [
    {
     "data": {
      "text/plain": [
       "<1H OCEAN     9136\n",
       "INLAND        6551\n",
       "NEAR OCEAN    2658\n",
       "NEAR BAY      2290\n",
       "ISLAND           5\n",
       "Name: ocean_proximity, dtype: int64"
      ]
     },
     "execution_count": 125,
     "metadata": {},
     "output_type": "execute_result"
    }
   ],
   "source": [
    "dataset[\"ocean_proximity\"].value_counts()"
   ]
  },
  {
   "cell_type": "markdown",
   "metadata": {},
   "source": [
    "At the end of this section we noticed some outliers in <em>total_rooms</em>, <em>population</em>, <em>households</em>, <em>median_income</em> and <em>median_house_value</em>"
   ]
  },
  {
   "cell_type": "markdown",
   "metadata": {},
   "source": [
    "# Preprocessing and Data Wrangling"
   ]
  },
  {
   "cell_type": "markdown",
   "metadata": {},
   "source": [
    "## Duplicate removal"
   ]
  },
  {
   "cell_type": "code",
   "execution_count": 126,
   "metadata": {},
   "outputs": [
    {
     "data": {
      "text/plain": [
       "20640"
      ]
     },
     "execution_count": 126,
     "metadata": {},
     "output_type": "execute_result"
    }
   ],
   "source": [
    "len(dataset)"
   ]
  },
  {
   "cell_type": "code",
   "execution_count": 127,
   "metadata": {},
   "outputs": [
    {
     "data": {
      "text/plain": [
       "20640"
      ]
     },
     "execution_count": 127,
     "metadata": {},
     "output_type": "execute_result"
    }
   ],
   "source": [
    "dataset = dataset.drop_duplicates()\n",
    "len(dataset)"
   ]
  },
  {
   "cell_type": "markdown",
   "metadata": {},
   "source": [
    "Fortunately, in this dataset there are no duplicates"
   ]
  },
  {
   "cell_type": "markdown",
   "metadata": {},
   "source": [
    "## Handling categorical values"
   ]
  },
  {
   "cell_type": "markdown",
   "metadata": {},
   "source": [
    "In this dataset *ocean proximity* has categorical (nominal) values, and they are not usable for our next regression, since it takes in input values belonging to $ℝ^d$.\n",
    "We don't know the impact that this column / feature can have on the final accuracy, but not taking into account its values just by deleting them might be an error.\n",
    "A better solution is to convert these values to a numeric domain:"
   ]
  },
  {
   "cell_type": "markdown",
   "metadata": {},
   "source": [
    "there are a lot of categorical values encoding, but we will priviledge the one which doesn't increase the dimension of the dataset, since we know that ridge regression suffers of the curse of dimensionality.\n",
    "For this reason we will replace the <em>k</em> categories with numeric values on a range from 1 to *k*."
   ]
  },
  {
   "cell_type": "markdown",
   "metadata": {},
   "source": [
    "### Label encoding"
   ]
  },
  {
   "cell_type": "markdown",
   "metadata": {},
   "source": [
    "The assignment goes from <em>1</em> to <em>k</em>, and it is done in a way that reproduces the location of the house from INLAND = 1 to ISLAND = 5; i think this will be useful when normalizing data, because it will keep consistency on this information."
   ]
  },
  {
   "cell_type": "code",
   "execution_count": 128,
   "metadata": {},
   "outputs": [],
   "source": [
    "replace_map = {'ocean_proximity': {'INLAND': 1, 'NEAR BAY': 2, '<1H OCEAN': 3, 'NEAR OCEAN': 4,'ISLAND': 5}}\n",
    "dataset.replace(replace_map, inplace=True)"
   ]
  },
  {
   "cell_type": "code",
   "execution_count": 129,
   "metadata": {},
   "outputs": [
    {
     "data": {
      "text/html": [
       "<div>\n",
       "<style scoped>\n",
       "    .dataframe tbody tr th:only-of-type {\n",
       "        vertical-align: middle;\n",
       "    }\n",
       "\n",
       "    .dataframe tbody tr th {\n",
       "        vertical-align: top;\n",
       "    }\n",
       "\n",
       "    .dataframe thead th {\n",
       "        text-align: right;\n",
       "    }\n",
       "</style>\n",
       "<table border=\"1\" class=\"dataframe\">\n",
       "  <thead>\n",
       "    <tr style=\"text-align: right;\">\n",
       "      <th></th>\n",
       "      <th>longitude</th>\n",
       "      <th>latitude</th>\n",
       "      <th>housing_median_age</th>\n",
       "      <th>total_rooms</th>\n",
       "      <th>total_bedrooms</th>\n",
       "      <th>population</th>\n",
       "      <th>households</th>\n",
       "      <th>median_income</th>\n",
       "      <th>median_house_value</th>\n",
       "      <th>ocean_proximity</th>\n",
       "    </tr>\n",
       "  </thead>\n",
       "  <tbody>\n",
       "    <tr>\n",
       "      <th>0</th>\n",
       "      <td>-122.23</td>\n",
       "      <td>37.88</td>\n",
       "      <td>41.0</td>\n",
       "      <td>880.0</td>\n",
       "      <td>129.0</td>\n",
       "      <td>322.0</td>\n",
       "      <td>126.0</td>\n",
       "      <td>8.3252</td>\n",
       "      <td>452600.0</td>\n",
       "      <td>2</td>\n",
       "    </tr>\n",
       "    <tr>\n",
       "      <th>1</th>\n",
       "      <td>-122.22</td>\n",
       "      <td>37.86</td>\n",
       "      <td>21.0</td>\n",
       "      <td>7099.0</td>\n",
       "      <td>1106.0</td>\n",
       "      <td>2401.0</td>\n",
       "      <td>1138.0</td>\n",
       "      <td>8.3014</td>\n",
       "      <td>358500.0</td>\n",
       "      <td>2</td>\n",
       "    </tr>\n",
       "    <tr>\n",
       "      <th>2</th>\n",
       "      <td>-122.24</td>\n",
       "      <td>37.85</td>\n",
       "      <td>52.0</td>\n",
       "      <td>1467.0</td>\n",
       "      <td>190.0</td>\n",
       "      <td>496.0</td>\n",
       "      <td>177.0</td>\n",
       "      <td>7.2574</td>\n",
       "      <td>352100.0</td>\n",
       "      <td>2</td>\n",
       "    </tr>\n",
       "    <tr>\n",
       "      <th>3</th>\n",
       "      <td>-122.25</td>\n",
       "      <td>37.85</td>\n",
       "      <td>52.0</td>\n",
       "      <td>1274.0</td>\n",
       "      <td>235.0</td>\n",
       "      <td>558.0</td>\n",
       "      <td>219.0</td>\n",
       "      <td>5.6431</td>\n",
       "      <td>341300.0</td>\n",
       "      <td>2</td>\n",
       "    </tr>\n",
       "    <tr>\n",
       "      <th>4</th>\n",
       "      <td>-122.25</td>\n",
       "      <td>37.85</td>\n",
       "      <td>52.0</td>\n",
       "      <td>1627.0</td>\n",
       "      <td>280.0</td>\n",
       "      <td>565.0</td>\n",
       "      <td>259.0</td>\n",
       "      <td>3.8462</td>\n",
       "      <td>342200.0</td>\n",
       "      <td>2</td>\n",
       "    </tr>\n",
       "    <tr>\n",
       "      <th>5</th>\n",
       "      <td>-122.25</td>\n",
       "      <td>37.85</td>\n",
       "      <td>52.0</td>\n",
       "      <td>919.0</td>\n",
       "      <td>213.0</td>\n",
       "      <td>413.0</td>\n",
       "      <td>193.0</td>\n",
       "      <td>4.0368</td>\n",
       "      <td>269700.0</td>\n",
       "      <td>2</td>\n",
       "    </tr>\n",
       "    <tr>\n",
       "      <th>6</th>\n",
       "      <td>-122.25</td>\n",
       "      <td>37.84</td>\n",
       "      <td>52.0</td>\n",
       "      <td>2535.0</td>\n",
       "      <td>489.0</td>\n",
       "      <td>1094.0</td>\n",
       "      <td>514.0</td>\n",
       "      <td>3.6591</td>\n",
       "      <td>299200.0</td>\n",
       "      <td>2</td>\n",
       "    </tr>\n",
       "    <tr>\n",
       "      <th>7</th>\n",
       "      <td>-122.25</td>\n",
       "      <td>37.84</td>\n",
       "      <td>52.0</td>\n",
       "      <td>3104.0</td>\n",
       "      <td>687.0</td>\n",
       "      <td>1157.0</td>\n",
       "      <td>647.0</td>\n",
       "      <td>3.1200</td>\n",
       "      <td>241400.0</td>\n",
       "      <td>2</td>\n",
       "    </tr>\n",
       "    <tr>\n",
       "      <th>8</th>\n",
       "      <td>-122.26</td>\n",
       "      <td>37.84</td>\n",
       "      <td>42.0</td>\n",
       "      <td>2555.0</td>\n",
       "      <td>665.0</td>\n",
       "      <td>1206.0</td>\n",
       "      <td>595.0</td>\n",
       "      <td>2.0804</td>\n",
       "      <td>226700.0</td>\n",
       "      <td>2</td>\n",
       "    </tr>\n",
       "    <tr>\n",
       "      <th>9</th>\n",
       "      <td>-122.25</td>\n",
       "      <td>37.84</td>\n",
       "      <td>52.0</td>\n",
       "      <td>3549.0</td>\n",
       "      <td>707.0</td>\n",
       "      <td>1551.0</td>\n",
       "      <td>714.0</td>\n",
       "      <td>3.6912</td>\n",
       "      <td>261100.0</td>\n",
       "      <td>2</td>\n",
       "    </tr>\n",
       "  </tbody>\n",
       "</table>\n",
       "</div>"
      ],
      "text/plain": [
       "   longitude  latitude  housing_median_age  total_rooms  total_bedrooms  \\\n",
       "0    -122.23     37.88                41.0        880.0           129.0   \n",
       "1    -122.22     37.86                21.0       7099.0          1106.0   \n",
       "2    -122.24     37.85                52.0       1467.0           190.0   \n",
       "3    -122.25     37.85                52.0       1274.0           235.0   \n",
       "4    -122.25     37.85                52.0       1627.0           280.0   \n",
       "5    -122.25     37.85                52.0        919.0           213.0   \n",
       "6    -122.25     37.84                52.0       2535.0           489.0   \n",
       "7    -122.25     37.84                52.0       3104.0           687.0   \n",
       "8    -122.26     37.84                42.0       2555.0           665.0   \n",
       "9    -122.25     37.84                52.0       3549.0           707.0   \n",
       "\n",
       "   population  households  median_income  median_house_value  ocean_proximity  \n",
       "0       322.0       126.0         8.3252            452600.0                2  \n",
       "1      2401.0      1138.0         8.3014            358500.0                2  \n",
       "2       496.0       177.0         7.2574            352100.0                2  \n",
       "3       558.0       219.0         5.6431            341300.0                2  \n",
       "4       565.0       259.0         3.8462            342200.0                2  \n",
       "5       413.0       193.0         4.0368            269700.0                2  \n",
       "6      1094.0       514.0         3.6591            299200.0                2  \n",
       "7      1157.0       647.0         3.1200            241400.0                2  \n",
       "8      1206.0       595.0         2.0804            226700.0                2  \n",
       "9      1551.0       714.0         3.6912            261100.0                2  "
      ]
     },
     "execution_count": 129,
     "metadata": {},
     "output_type": "execute_result"
    }
   ],
   "source": [
    "dataset.head(10)"
   ]
  },
  {
   "cell_type": "markdown",
   "metadata": {},
   "source": [
    "## Outliers removal"
   ]
  },
  {
   "cell_type": "markdown",
   "metadata": {},
   "source": [
    "Outliers are values which show huge variance with respect to the rest of the distribution, this means that\n",
    "1. they could be due to an error\n",
    "2. they could be due to a legitimate property but, they could mislead the regressor in catching wrong dependencies between features\n",
    "\n",
    "in both cases leaving them wouldn't be an acceptable solution, usually data scientist choose to cut them out or to replace them with consistent values.\n",
    "I think that it will be better to cut them out, since we can't distinguish errors from correct values that have this peculiarity and, by replacing them we could mislead the regressor anyway."
   ]
  },
  {
   "cell_type": "markdown",
   "metadata": {},
   "source": [
    "As introduced in the first section, there are some outliers whose presence may impact on the final behavior of our regressor, so it's better to remove them, in particular, they are contained in <em>total_rooms</em>, <em>total_bedrooms</em>, <em>population</em>, <em>households</em>, <em>median_income</em> and <em>median_house_value</em> so we will investigate these columns"
   ]
  },
  {
   "cell_type": "markdown",
   "metadata": {},
   "source": [
    "We will first identify them, then evaluate their fraction over the entire dataset, and then remove them."
   ]
  },
  {
   "cell_type": "markdown",
   "metadata": {},
   "source": [
    "With the aim of identifying outliers, we tried to plot boxplots with quantile percentage over 0.9 and saw for which treshold the boxplot didn't show outlier anymore plus the percentage with respect to the whole dataset, this is the result"
   ]
  },
  {
   "cell_type": "code",
   "execution_count": 130,
   "metadata": {
    "scrolled": true
   },
   "outputs": [
    {
     "data": {
      "image/png": "[encoded data removed]",
      "text/plain": [
       "<Figure size 432x288 with 1 Axes>"
      ]
     },
     "metadata": {
      "needs_background": "light"
     },
     "output_type": "display_data"
    },
    {
     "name": "stdout",
     "output_type": "stream",
     "text": [
      "9.002 %\n"
     ]
    }
   ],
   "source": [
    "threshold = dataset[\"total_rooms\"].quantile(0.91)\n",
    "\n",
    "plt.boxplot(dataset[dataset[\"total_rooms\"] <= threshold][\"total_rooms\"])\n",
    "plt.show()\n",
    "\n",
    "print(round(len(dataset[dataset[\"total_rooms\"] > threshold][\"total_rooms\"]) / len(dataset) * 100, 3), \"%\")"
   ]
  },
  {
   "cell_type": "code",
   "execution_count": 131,
   "metadata": {
    "scrolled": true
   },
   "outputs": [
    {
     "data": {
      "image/png": "[encoded data removed]",
      "text/plain": [
       "<Figure size 432x288 with 1 Axes>"
      ]
     },
     "metadata": {
      "needs_background": "light"
     },
     "output_type": "display_data"
    },
    {
     "name": "stdout",
     "output_type": "stream",
     "text": [
      "8.891 %\n"
     ]
    }
   ],
   "source": [
    "threshold = dataset[\"total_bedrooms\"].quantile(0.91)\n",
    "\n",
    "plt.boxplot(dataset[dataset[\"total_bedrooms\"] <= threshold][\"total_bedrooms\"])\n",
    "plt.show()\n",
    "\n",
    "print(round(len(dataset[dataset[\"total_bedrooms\"] > threshold][\"total_bedrooms\"]) / len(dataset) * 100, 3), \"%\")"
   ]
  },
  {
   "cell_type": "code",
   "execution_count": 132,
   "metadata": {
    "scrolled": true
   },
   "outputs": [
    {
     "data": {
      "image/png": "[encoded data removed]",
      "text/plain": [
       "<Figure size 432x288 with 1 Axes>"
      ]
     },
     "metadata": {
      "needs_background": "light"
     },
     "output_type": "display_data"
    },
    {
     "name": "stdout",
     "output_type": "stream",
     "text": [
      "8.978 %\n"
     ]
    }
   ],
   "source": [
    "threshold = dataset[\"households\"].quantile(0.91)\n",
    "\n",
    "plt.boxplot(dataset[dataset[\"households\"] <= threshold][\"households\"])\n",
    "plt.show()\n",
    "\n",
    "print(round(len(dataset[dataset[\"households\"] > threshold][\"households\"]) / len(dataset) * 100, 3), \"%\")"
   ]
  },
  {
   "cell_type": "code",
   "execution_count": 133,
   "metadata": {},
   "outputs": [
    {
     "data": {
      "image/png": "[encoded data removed]",
      "text/plain": [
       "<Figure size 432x288 with 1 Axes>"
      ]
     },
     "metadata": {
      "needs_background": "light"
     },
     "output_type": "display_data"
    },
    {
     "name": "stdout",
     "output_type": "stream",
     "text": [
      "5.0 %\n"
     ]
    }
   ],
   "source": [
    "threshold = dataset[\"median_income\"].quantile(0.95)\n",
    "\n",
    "plt.boxplot(dataset[dataset[\"median_income\"] <= threshold][\"median_income\"])\n",
    "plt.show()\n",
    "\n",
    "print(round(len(dataset[dataset[\"median_income\"] > threshold][\"median_income\"]) / len(dataset) * 100, 3), \"%\")"
   ]
  },
  {
   "cell_type": "code",
   "execution_count": 134,
   "metadata": {
    "scrolled": false
   },
   "outputs": [
    {
     "data": {
      "image/png": "[encoded data removed]",
      "text/plain": [
       "<Figure size 432x288 with 1 Axes>"
      ]
     },
     "metadata": {
      "needs_background": "light"
     },
     "output_type": "display_data"
    },
    {
     "name": "stdout",
     "output_type": "stream",
     "text": [
      "8.004 %\n"
     ]
    }
   ],
   "source": [
    "threshold = dataset[\"median_house_value\"].quantile(0.92)\n",
    "\n",
    "plt.boxplot(dataset[dataset[\"median_house_value\"] <= threshold][\"median_house_value\"])\n",
    "plt.show()\n",
    "\n",
    "print(round(len(dataset[dataset[\"median_house_value\"] > threshold][\"median_house_value\"]) / len(dataset) * 100, 3), \"%\")"
   ]
  },
  {
   "cell_type": "markdown",
   "metadata": {},
   "source": [
    "From this we see that the proportion of outliers is not the same for every column, this means that not all of the outliers involved are belonging to the same row"
   ]
  },
  {
   "cell_type": "code",
   "execution_count": 135,
   "metadata": {},
   "outputs": [],
   "source": [
    "totalrooms_threshold = dataset[\"total_rooms\"].quantile(0.91)\n",
    "totalbedrooms_threshold = dataset[\"total_bedrooms\"].quantile(0.91)\n",
    "households_threshold = dataset[\"households\"].quantile(0.91)\n",
    "medianincome_threshold = dataset[\"median_income\"].quantile(0.95)\n",
    "medianhousevalue_threshold = dataset[\"median_house_value\"].quantile(0.92)"
   ]
  },
  {
   "cell_type": "markdown",
   "metadata": {},
   "source": [
    "<b>Note</b>: now there is an issue, because we contemporary want to:\n",
    "1. remove outliers without collateral effects due to the presence of missing values (i.e. NaNs affect the threshold result)\n",
    "2. replace missing values without being affected by outliers\n",
    "\n",
    "for this reason, the order of our pipeline is crucial: we first apply outliers removal and then missing values replacement.\n",
    "So, in order to satisfy the first point we replace NaNs with a special value (-1), which is impossible for <em>total_bedrooms</em>, we apply outliers removal, and we replace -1s with NaNs again so that we will handle their replacement later in a proper way satisfying the second one."
   ]
  },
  {
   "cell_type": "code",
   "execution_count": 136,
   "metadata": {
    "scrolled": true
   },
   "outputs": [
    {
     "name": "stderr",
     "output_type": "stream",
     "text": [
      "/Library/Frameworks/Python.framework/Versions/3.7/lib/python3.7/site-packages/ipykernel_launcher.py:3: SettingWithCopyWarning: \n",
      "A value is trying to be set on a copy of a slice from a DataFrame\n",
      "\n",
      "See the caveats in the documentation: http://pandas.pydata.org/pandas-docs/stable/indexing.html#indexing-view-versus-copy\n",
      "  This is separate from the ipykernel package so we can avoid doing imports until\n"
     ]
    }
   ],
   "source": [
    "for index, i in dataset[[\"total_bedrooms\"]].iterrows():\n",
    "    if math.isnan(i[0]):\n",
    "        dataset[\"total_bedrooms\"][index] = -1"
   ]
  },
  {
   "cell_type": "markdown",
   "metadata": {},
   "source": [
    "We notice that we temporary replaced all missing values"
   ]
  },
  {
   "cell_type": "code",
   "execution_count": 137,
   "metadata": {},
   "outputs": [
    {
     "data": {
      "text/plain": [
       "False"
      ]
     },
     "execution_count": 137,
     "metadata": {},
     "output_type": "execute_result"
    }
   ],
   "source": [
    "dataset.isnull().values.any()"
   ]
  },
  {
   "cell_type": "markdown",
   "metadata": {},
   "source": [
    "We discover that part of outliers removal involves also NaNs, this means that there are some rows which present at the same time missing value and outliers (we tested with all features involved in outliers and they all have this issue)"
   ]
  },
  {
   "cell_type": "code",
   "execution_count": 138,
   "metadata": {},
   "outputs": [
    {
     "data": {
      "text/html": [
       "<div>\n",
       "<style scoped>\n",
       "    .dataframe tbody tr th:only-of-type {\n",
       "        vertical-align: middle;\n",
       "    }\n",
       "\n",
       "    .dataframe tbody tr th {\n",
       "        vertical-align: top;\n",
       "    }\n",
       "\n",
       "    .dataframe thead th {\n",
       "        text-align: right;\n",
       "    }\n",
       "</style>\n",
       "<table border=\"1\" class=\"dataframe\">\n",
       "  <thead>\n",
       "    <tr style=\"text-align: right;\">\n",
       "      <th></th>\n",
       "      <th>longitude</th>\n",
       "      <th>latitude</th>\n",
       "      <th>housing_median_age</th>\n",
       "      <th>total_rooms</th>\n",
       "      <th>total_bedrooms</th>\n",
       "      <th>population</th>\n",
       "      <th>households</th>\n",
       "      <th>median_income</th>\n",
       "      <th>median_house_value</th>\n",
       "      <th>ocean_proximity</th>\n",
       "    </tr>\n",
       "  </thead>\n",
       "  <tbody>\n",
       "    <tr>\n",
       "      <th>3485</th>\n",
       "      <td>-118.55</td>\n",
       "      <td>34.28</td>\n",
       "      <td>16.0</td>\n",
       "      <td>8879.0</td>\n",
       "      <td>-1.0</td>\n",
       "      <td>3468.0</td>\n",
       "      <td>1200.0</td>\n",
       "      <td>8.1125</td>\n",
       "      <td>428600.0</td>\n",
       "      <td>3</td>\n",
       "    </tr>\n",
       "    <tr>\n",
       "      <th>4046</th>\n",
       "      <td>-118.49</td>\n",
       "      <td>34.13</td>\n",
       "      <td>24.0</td>\n",
       "      <td>4394.0</td>\n",
       "      <td>-1.0</td>\n",
       "      <td>1443.0</td>\n",
       "      <td>528.0</td>\n",
       "      <td>11.2979</td>\n",
       "      <td>500001.0</td>\n",
       "      <td>3</td>\n",
       "    </tr>\n",
       "    <tr>\n",
       "      <th>5723</th>\n",
       "      <td>-118.23</td>\n",
       "      <td>34.18</td>\n",
       "      <td>45.0</td>\n",
       "      <td>2332.0</td>\n",
       "      <td>-1.0</td>\n",
       "      <td>943.0</td>\n",
       "      <td>339.0</td>\n",
       "      <td>8.1132</td>\n",
       "      <td>446600.0</td>\n",
       "      <td>3</td>\n",
       "    </tr>\n",
       "    <tr>\n",
       "      <th>6590</th>\n",
       "      <td>-118.18</td>\n",
       "      <td>34.19</td>\n",
       "      <td>48.0</td>\n",
       "      <td>1371.0</td>\n",
       "      <td>-1.0</td>\n",
       "      <td>528.0</td>\n",
       "      <td>155.0</td>\n",
       "      <td>15.0001</td>\n",
       "      <td>500001.0</td>\n",
       "      <td>3</td>\n",
       "    </tr>\n",
       "    <tr>\n",
       "      <th>10761</th>\n",
       "      <td>-117.87</td>\n",
       "      <td>33.62</td>\n",
       "      <td>8.0</td>\n",
       "      <td>1266.0</td>\n",
       "      <td>-1.0</td>\n",
       "      <td>375.0</td>\n",
       "      <td>183.0</td>\n",
       "      <td>9.8020</td>\n",
       "      <td>500001.0</td>\n",
       "      <td>3</td>\n",
       "    </tr>\n",
       "    <tr>\n",
       "      <th>11512</th>\n",
       "      <td>-118.10</td>\n",
       "      <td>33.74</td>\n",
       "      <td>32.0</td>\n",
       "      <td>2035.0</td>\n",
       "      <td>-1.0</td>\n",
       "      <td>934.0</td>\n",
       "      <td>512.0</td>\n",
       "      <td>4.2287</td>\n",
       "      <td>500001.0</td>\n",
       "      <td>4</td>\n",
       "    </tr>\n",
       "    <tr>\n",
       "      <th>14462</th>\n",
       "      <td>-117.27</td>\n",
       "      <td>32.85</td>\n",
       "      <td>26.0</td>\n",
       "      <td>1373.0</td>\n",
       "      <td>-1.0</td>\n",
       "      <td>608.0</td>\n",
       "      <td>268.0</td>\n",
       "      <td>4.4250</td>\n",
       "      <td>475000.0</td>\n",
       "      <td>4</td>\n",
       "    </tr>\n",
       "    <tr>\n",
       "      <th>15663</th>\n",
       "      <td>-122.44</td>\n",
       "      <td>37.80</td>\n",
       "      <td>52.0</td>\n",
       "      <td>3830.0</td>\n",
       "      <td>-1.0</td>\n",
       "      <td>1310.0</td>\n",
       "      <td>963.0</td>\n",
       "      <td>3.4801</td>\n",
       "      <td>500001.0</td>\n",
       "      <td>2</td>\n",
       "    </tr>\n",
       "    <tr>\n",
       "      <th>16880</th>\n",
       "      <td>-122.39</td>\n",
       "      <td>37.59</td>\n",
       "      <td>32.0</td>\n",
       "      <td>4497.0</td>\n",
       "      <td>-1.0</td>\n",
       "      <td>1846.0</td>\n",
       "      <td>715.0</td>\n",
       "      <td>6.1323</td>\n",
       "      <td>500001.0</td>\n",
       "      <td>4</td>\n",
       "    </tr>\n",
       "    <tr>\n",
       "      <th>16885</th>\n",
       "      <td>-122.40</td>\n",
       "      <td>37.58</td>\n",
       "      <td>26.0</td>\n",
       "      <td>3281.0</td>\n",
       "      <td>-1.0</td>\n",
       "      <td>1145.0</td>\n",
       "      <td>480.0</td>\n",
       "      <td>6.3580</td>\n",
       "      <td>500001.0</td>\n",
       "      <td>4</td>\n",
       "    </tr>\n",
       "  </tbody>\n",
       "</table>\n",
       "</div>"
      ],
      "text/plain": [
       "       longitude  latitude  housing_median_age  total_rooms  total_bedrooms  \\\n",
       "3485     -118.55     34.28                16.0       8879.0            -1.0   \n",
       "4046     -118.49     34.13                24.0       4394.0            -1.0   \n",
       "5723     -118.23     34.18                45.0       2332.0            -1.0   \n",
       "6590     -118.18     34.19                48.0       1371.0            -1.0   \n",
       "10761    -117.87     33.62                 8.0       1266.0            -1.0   \n",
       "11512    -118.10     33.74                32.0       2035.0            -1.0   \n",
       "14462    -117.27     32.85                26.0       1373.0            -1.0   \n",
       "15663    -122.44     37.80                52.0       3830.0            -1.0   \n",
       "16880    -122.39     37.59                32.0       4497.0            -1.0   \n",
       "16885    -122.40     37.58                26.0       3281.0            -1.0   \n",
       "\n",
       "       population  households  median_income  median_house_value  \\\n",
       "3485       3468.0      1200.0         8.1125            428600.0   \n",
       "4046       1443.0       528.0        11.2979            500001.0   \n",
       "5723        943.0       339.0         8.1132            446600.0   \n",
       "6590        528.0       155.0        15.0001            500001.0   \n",
       "10761       375.0       183.0         9.8020            500001.0   \n",
       "11512       934.0       512.0         4.2287            500001.0   \n",
       "14462       608.0       268.0         4.4250            475000.0   \n",
       "15663      1310.0       963.0         3.4801            500001.0   \n",
       "16880      1846.0       715.0         6.1323            500001.0   \n",
       "16885      1145.0       480.0         6.3580            500001.0   \n",
       "\n",
       "       ocean_proximity  \n",
       "3485                 3  \n",
       "4046                 3  \n",
       "5723                 3  \n",
       "6590                 3  \n",
       "10761                3  \n",
       "11512                4  \n",
       "14462                4  \n",
       "15663                2  \n",
       "16880                4  \n",
       "16885                4  "
      ]
     },
     "execution_count": 138,
     "metadata": {},
     "output_type": "execute_result"
    }
   ],
   "source": [
    "dataset[(dataset[\"median_house_value\"] > medianhousevalue_threshold) & (dataset[\"total_bedrooms\"] == -1)].head(10)"
   ]
  },
  {
   "cell_type": "markdown",
   "metadata": {},
   "source": [
    "it can be possible also that multiple feature have outliers at the same time and missing value,  \n",
    "in this example we can see outliers both for <em>median_house_value</em> and <em>households</em> and a missing value"
   ]
  },
  {
   "cell_type": "code",
   "execution_count": 139,
   "metadata": {},
   "outputs": [
    {
     "data": {
      "text/plain": [
       "(410288.0000000001, 935.0)"
      ]
     },
     "execution_count": 139,
     "metadata": {},
     "output_type": "execute_result"
    }
   ],
   "source": [
    "medianhousevalue_threshold, households_threshold"
   ]
  },
  {
   "cell_type": "code",
   "execution_count": 140,
   "metadata": {},
   "outputs": [
    {
     "data": {
      "text/html": [
       "<div>\n",
       "<style scoped>\n",
       "    .dataframe tbody tr th:only-of-type {\n",
       "        vertical-align: middle;\n",
       "    }\n",
       "\n",
       "    .dataframe tbody tr th {\n",
       "        vertical-align: top;\n",
       "    }\n",
       "\n",
       "    .dataframe thead th {\n",
       "        text-align: right;\n",
       "    }\n",
       "</style>\n",
       "<table border=\"1\" class=\"dataframe\">\n",
       "  <thead>\n",
       "    <tr style=\"text-align: right;\">\n",
       "      <th></th>\n",
       "      <th>longitude</th>\n",
       "      <th>latitude</th>\n",
       "      <th>housing_median_age</th>\n",
       "      <th>total_rooms</th>\n",
       "      <th>total_bedrooms</th>\n",
       "      <th>population</th>\n",
       "      <th>households</th>\n",
       "      <th>median_income</th>\n",
       "      <th>median_house_value</th>\n",
       "      <th>ocean_proximity</th>\n",
       "    </tr>\n",
       "  </thead>\n",
       "  <tbody>\n",
       "    <tr>\n",
       "      <th>3485</th>\n",
       "      <td>-118.55</td>\n",
       "      <td>34.28</td>\n",
       "      <td>16.0</td>\n",
       "      <td>8879.0</td>\n",
       "      <td>-1.0</td>\n",
       "      <td>3468.0</td>\n",
       "      <td>1200.0</td>\n",
       "      <td>8.1125</td>\n",
       "      <td>428600.0</td>\n",
       "      <td>3</td>\n",
       "    </tr>\n",
       "    <tr>\n",
       "      <th>15663</th>\n",
       "      <td>-122.44</td>\n",
       "      <td>37.80</td>\n",
       "      <td>52.0</td>\n",
       "      <td>3830.0</td>\n",
       "      <td>-1.0</td>\n",
       "      <td>1310.0</td>\n",
       "      <td>963.0</td>\n",
       "      <td>3.4801</td>\n",
       "      <td>500001.0</td>\n",
       "      <td>2</td>\n",
       "    </tr>\n",
       "    <tr>\n",
       "      <th>18332</th>\n",
       "      <td>-122.16</td>\n",
       "      <td>37.45</td>\n",
       "      <td>47.0</td>\n",
       "      <td>4234.0</td>\n",
       "      <td>-1.0</td>\n",
       "      <td>1808.0</td>\n",
       "      <td>1093.0</td>\n",
       "      <td>4.2297</td>\n",
       "      <td>425000.0</td>\n",
       "      <td>2</td>\n",
       "    </tr>\n",
       "  </tbody>\n",
       "</table>\n",
       "</div>"
      ],
      "text/plain": [
       "       longitude  latitude  housing_median_age  total_rooms  total_bedrooms  \\\n",
       "3485     -118.55     34.28                16.0       8879.0            -1.0   \n",
       "15663    -122.44     37.80                52.0       3830.0            -1.0   \n",
       "18332    -122.16     37.45                47.0       4234.0            -1.0   \n",
       "\n",
       "       population  households  median_income  median_house_value  \\\n",
       "3485       3468.0      1200.0         8.1125            428600.0   \n",
       "15663      1310.0       963.0         3.4801            500001.0   \n",
       "18332      1808.0      1093.0         4.2297            425000.0   \n",
       "\n",
       "       ocean_proximity  \n",
       "3485                 3  \n",
       "15663                2  \n",
       "18332                2  "
      ]
     },
     "execution_count": 140,
     "metadata": {},
     "output_type": "execute_result"
    }
   ],
   "source": [
    "dataset[(dataset[\"median_house_value\"] > medianhousevalue_threshold) & (dataset[\"households\"] > households_threshold) & (dataset[\"total_bedrooms\"] == -1)]"
   ]
  },
  {
   "cell_type": "markdown",
   "metadata": {},
   "source": [
    "We apply safe outliers removal"
   ]
  },
  {
   "cell_type": "code",
   "execution_count": 141,
   "metadata": {},
   "outputs": [],
   "source": [
    "dataset = dataset[dataset[\"total_rooms\"] <= totalrooms_threshold]\n",
    "dataset = dataset[dataset[\"total_bedrooms\"] <= totalbedrooms_threshold]\n",
    "dataset = dataset[dataset[\"households\"] <= households_threshold]\n",
    "dataset = dataset[dataset[\"median_income\"] <= medianincome_threshold]\n",
    "dataset = dataset[dataset[\"median_house_value\"] <= medianhousevalue_threshold]"
   ]
  },
  {
   "cell_type": "code",
   "execution_count": 142,
   "metadata": {},
   "outputs": [
    {
     "data": {
      "text/plain": [
       "16595"
      ]
     },
     "execution_count": 142,
     "metadata": {},
     "output_type": "execute_result"
    }
   ],
   "source": [
    "len(dataset)"
   ]
  },
  {
   "cell_type": "markdown",
   "metadata": {},
   "source": [
    "And we restore the initial situation"
   ]
  },
  {
   "cell_type": "code",
   "execution_count": 143,
   "metadata": {},
   "outputs": [
    {
     "name": "stderr",
     "output_type": "stream",
     "text": [
      "/Library/Frameworks/Python.framework/Versions/3.7/lib/python3.7/site-packages/ipykernel_launcher.py:3: SettingWithCopyWarning: \n",
      "A value is trying to be set on a copy of a slice from a DataFrame\n",
      "\n",
      "See the caveats in the documentation: http://pandas.pydata.org/pandas-docs/stable/indexing.html#indexing-view-versus-copy\n",
      "  This is separate from the ipykernel package so we can avoid doing imports until\n"
     ]
    }
   ],
   "source": [
    "for index, i in dataset[[\"total_bedrooms\"]].iterrows():\n",
    "    if i[0] == -1:\n",
    "        dataset[\"total_bedrooms\"][index] = math.nan"
   ]
  },
  {
   "cell_type": "markdown",
   "metadata": {},
   "source": [
    "## Missing values"
   ]
  },
  {
   "cell_type": "markdown",
   "metadata": {},
   "source": [
    "Now, as seen previously, we know that another anomaly in this dataset is missing values"
   ]
  },
  {
   "cell_type": "code",
   "execution_count": 144,
   "metadata": {},
   "outputs": [
    {
     "data": {
      "text/plain": [
       "True"
      ]
     },
     "execution_count": 144,
     "metadata": {},
     "output_type": "execute_result"
    }
   ],
   "source": [
    "dataset.isnull().values.any()"
   ]
  },
  {
   "cell_type": "code",
   "execution_count": 145,
   "metadata": {},
   "outputs": [
    {
     "name": "stdout",
     "output_type": "stream",
     "text": [
      "longitude:  False\n",
      "latitude:  False\n",
      "housing_median_age:  False\n",
      "total_rooms:  False\n",
      "total_bedrooms:  True\n",
      "population:  False\n",
      "households:  False\n",
      "median_income:  False\n",
      "median_house_value:  False\n",
      "ocean_proximity:  False\n"
     ]
    }
   ],
   "source": [
    "col = ['longitude', 'latitude', 'housing_median_age', 'total_rooms', 'total_bedrooms', 'population', 'households', 'median_income', 'median_house_value', 'ocean_proximity']\n",
    "\n",
    "for i in col:\n",
    "    print(i + \": \", dataset[i].isnull().values.any())"
   ]
  },
  {
   "cell_type": "code",
   "execution_count": 146,
   "metadata": {
    "scrolled": true
   },
   "outputs": [
    {
     "data": {
      "text/html": [
       "<div>\n",
       "<style scoped>\n",
       "    .dataframe tbody tr th:only-of-type {\n",
       "        vertical-align: middle;\n",
       "    }\n",
       "\n",
       "    .dataframe tbody tr th {\n",
       "        vertical-align: top;\n",
       "    }\n",
       "\n",
       "    .dataframe thead th {\n",
       "        text-align: right;\n",
       "    }\n",
       "</style>\n",
       "<table border=\"1\" class=\"dataframe\">\n",
       "  <thead>\n",
       "    <tr style=\"text-align: right;\">\n",
       "      <th></th>\n",
       "      <th>longitude</th>\n",
       "      <th>latitude</th>\n",
       "      <th>housing_median_age</th>\n",
       "      <th>total_rooms</th>\n",
       "      <th>total_bedrooms</th>\n",
       "      <th>population</th>\n",
       "      <th>households</th>\n",
       "      <th>median_income</th>\n",
       "      <th>median_house_value</th>\n",
       "      <th>ocean_proximity</th>\n",
       "    </tr>\n",
       "  </thead>\n",
       "  <tbody>\n",
       "    <tr>\n",
       "      <th>290</th>\n",
       "      <td>-122.16</td>\n",
       "      <td>37.77</td>\n",
       "      <td>47.0</td>\n",
       "      <td>1256.0</td>\n",
       "      <td>NaN</td>\n",
       "      <td>570.0</td>\n",
       "      <td>218.0</td>\n",
       "      <td>4.3750</td>\n",
       "      <td>161900.0</td>\n",
       "      <td>2</td>\n",
       "    </tr>\n",
       "    <tr>\n",
       "      <th>341</th>\n",
       "      <td>-122.17</td>\n",
       "      <td>37.75</td>\n",
       "      <td>38.0</td>\n",
       "      <td>992.0</td>\n",
       "      <td>NaN</td>\n",
       "      <td>732.0</td>\n",
       "      <td>259.0</td>\n",
       "      <td>1.6196</td>\n",
       "      <td>85100.0</td>\n",
       "      <td>2</td>\n",
       "    </tr>\n",
       "    <tr>\n",
       "      <th>563</th>\n",
       "      <td>-122.24</td>\n",
       "      <td>37.75</td>\n",
       "      <td>45.0</td>\n",
       "      <td>891.0</td>\n",
       "      <td>NaN</td>\n",
       "      <td>384.0</td>\n",
       "      <td>146.0</td>\n",
       "      <td>4.9489</td>\n",
       "      <td>247100.0</td>\n",
       "      <td>2</td>\n",
       "    </tr>\n",
       "    <tr>\n",
       "      <th>696</th>\n",
       "      <td>-122.10</td>\n",
       "      <td>37.69</td>\n",
       "      <td>41.0</td>\n",
       "      <td>746.0</td>\n",
       "      <td>NaN</td>\n",
       "      <td>387.0</td>\n",
       "      <td>161.0</td>\n",
       "      <td>3.9063</td>\n",
       "      <td>178400.0</td>\n",
       "      <td>2</td>\n",
       "    </tr>\n",
       "    <tr>\n",
       "      <th>738</th>\n",
       "      <td>-122.14</td>\n",
       "      <td>37.67</td>\n",
       "      <td>37.0</td>\n",
       "      <td>3342.0</td>\n",
       "      <td>NaN</td>\n",
       "      <td>1635.0</td>\n",
       "      <td>557.0</td>\n",
       "      <td>4.7933</td>\n",
       "      <td>186900.0</td>\n",
       "      <td>2</td>\n",
       "    </tr>\n",
       "    <tr>\n",
       "      <th>1097</th>\n",
       "      <td>-121.77</td>\n",
       "      <td>39.66</td>\n",
       "      <td>20.0</td>\n",
       "      <td>3759.0</td>\n",
       "      <td>NaN</td>\n",
       "      <td>1705.0</td>\n",
       "      <td>600.0</td>\n",
       "      <td>4.7120</td>\n",
       "      <td>158600.0</td>\n",
       "      <td>1</td>\n",
       "    </tr>\n",
       "    <tr>\n",
       "      <th>1456</th>\n",
       "      <td>-121.98</td>\n",
       "      <td>37.96</td>\n",
       "      <td>22.0</td>\n",
       "      <td>2987.0</td>\n",
       "      <td>NaN</td>\n",
       "      <td>1420.0</td>\n",
       "      <td>540.0</td>\n",
       "      <td>3.6500</td>\n",
       "      <td>204100.0</td>\n",
       "      <td>1</td>\n",
       "    </tr>\n",
       "    <tr>\n",
       "      <th>1493</th>\n",
       "      <td>-122.01</td>\n",
       "      <td>37.94</td>\n",
       "      <td>23.0</td>\n",
       "      <td>3741.0</td>\n",
       "      <td>NaN</td>\n",
       "      <td>1339.0</td>\n",
       "      <td>499.0</td>\n",
       "      <td>6.7061</td>\n",
       "      <td>322300.0</td>\n",
       "      <td>2</td>\n",
       "    </tr>\n",
       "    <tr>\n",
       "      <th>1606</th>\n",
       "      <td>-122.08</td>\n",
       "      <td>37.88</td>\n",
       "      <td>26.0</td>\n",
       "      <td>2947.0</td>\n",
       "      <td>NaN</td>\n",
       "      <td>825.0</td>\n",
       "      <td>626.0</td>\n",
       "      <td>2.9330</td>\n",
       "      <td>85000.0</td>\n",
       "      <td>2</td>\n",
       "    </tr>\n",
       "    <tr>\n",
       "      <th>2028</th>\n",
       "      <td>-119.75</td>\n",
       "      <td>36.71</td>\n",
       "      <td>38.0</td>\n",
       "      <td>1481.0</td>\n",
       "      <td>NaN</td>\n",
       "      <td>1543.0</td>\n",
       "      <td>372.0</td>\n",
       "      <td>1.4577</td>\n",
       "      <td>49800.0</td>\n",
       "      <td>1</td>\n",
       "    </tr>\n",
       "    <tr>\n",
       "      <th>2323</th>\n",
       "      <td>-119.73</td>\n",
       "      <td>36.83</td>\n",
       "      <td>8.0</td>\n",
       "      <td>3602.0</td>\n",
       "      <td>NaN</td>\n",
       "      <td>1959.0</td>\n",
       "      <td>580.0</td>\n",
       "      <td>5.3478</td>\n",
       "      <td>138800.0</td>\n",
       "      <td>1</td>\n",
       "    </tr>\n",
       "    <tr>\n",
       "      <th>2334</th>\n",
       "      <td>-119.69</td>\n",
       "      <td>36.83</td>\n",
       "      <td>32.0</td>\n",
       "      <td>1098.0</td>\n",
       "      <td>NaN</td>\n",
       "      <td>726.0</td>\n",
       "      <td>224.0</td>\n",
       "      <td>1.4913</td>\n",
       "      <td>54600.0</td>\n",
       "      <td>1</td>\n",
       "    </tr>\n",
       "    <tr>\n",
       "      <th>2351</th>\n",
       "      <td>-119.68</td>\n",
       "      <td>36.79</td>\n",
       "      <td>16.0</td>\n",
       "      <td>1551.0</td>\n",
       "      <td>NaN</td>\n",
       "      <td>1010.0</td>\n",
       "      <td>292.0</td>\n",
       "      <td>3.5417</td>\n",
       "      <td>71300.0</td>\n",
       "      <td>1</td>\n",
       "    </tr>\n",
       "    <tr>\n",
       "      <th>2412</th>\n",
       "      <td>-119.45</td>\n",
       "      <td>36.61</td>\n",
       "      <td>24.0</td>\n",
       "      <td>1302.0</td>\n",
       "      <td>NaN</td>\n",
       "      <td>693.0</td>\n",
       "      <td>243.0</td>\n",
       "      <td>3.7917</td>\n",
       "      <td>90500.0</td>\n",
       "      <td>1</td>\n",
       "    </tr>\n",
       "    <tr>\n",
       "      <th>2420</th>\n",
       "      <td>-119.44</td>\n",
       "      <td>36.58</td>\n",
       "      <td>37.0</td>\n",
       "      <td>1054.0</td>\n",
       "      <td>NaN</td>\n",
       "      <td>879.0</td>\n",
       "      <td>257.0</td>\n",
       "      <td>2.5234</td>\n",
       "      <td>63500.0</td>\n",
       "      <td>1</td>\n",
       "    </tr>\n",
       "    <tr>\n",
       "      <th>2578</th>\n",
       "      <td>-124.06</td>\n",
       "      <td>40.86</td>\n",
       "      <td>34.0</td>\n",
       "      <td>4183.0</td>\n",
       "      <td>NaN</td>\n",
       "      <td>1891.0</td>\n",
       "      <td>669.0</td>\n",
       "      <td>3.2216</td>\n",
       "      <td>98100.0</td>\n",
       "      <td>4</td>\n",
       "    </tr>\n",
       "    <tr>\n",
       "      <th>2608</th>\n",
       "      <td>-124.00</td>\n",
       "      <td>40.92</td>\n",
       "      <td>29.0</td>\n",
       "      <td>1429.0</td>\n",
       "      <td>NaN</td>\n",
       "      <td>672.0</td>\n",
       "      <td>266.0</td>\n",
       "      <td>2.9485</td>\n",
       "      <td>98800.0</td>\n",
       "      <td>3</td>\n",
       "    </tr>\n",
       "    <tr>\n",
       "      <th>2647</th>\n",
       "      <td>-124.13</td>\n",
       "      <td>40.55</td>\n",
       "      <td>38.0</td>\n",
       "      <td>544.0</td>\n",
       "      <td>NaN</td>\n",
       "      <td>240.0</td>\n",
       "      <td>91.0</td>\n",
       "      <td>3.2500</td>\n",
       "      <td>94800.0</td>\n",
       "      <td>3</td>\n",
       "    </tr>\n",
       "    <tr>\n",
       "      <th>3024</th>\n",
       "      <td>-119.46</td>\n",
       "      <td>35.14</td>\n",
       "      <td>30.0</td>\n",
       "      <td>2943.0</td>\n",
       "      <td>NaN</td>\n",
       "      <td>1565.0</td>\n",
       "      <td>584.0</td>\n",
       "      <td>2.5313</td>\n",
       "      <td>45800.0</td>\n",
       "      <td>1</td>\n",
       "    </tr>\n",
       "    <tr>\n",
       "      <th>3328</th>\n",
       "      <td>-122.72</td>\n",
       "      <td>38.88</td>\n",
       "      <td>29.0</td>\n",
       "      <td>2781.0</td>\n",
       "      <td>NaN</td>\n",
       "      <td>890.0</td>\n",
       "      <td>310.0</td>\n",
       "      <td>1.9906</td>\n",
       "      <td>96600.0</td>\n",
       "      <td>1</td>\n",
       "    </tr>\n",
       "    <tr>\n",
       "      <th>3376</th>\n",
       "      <td>-118.28</td>\n",
       "      <td>34.25</td>\n",
       "      <td>29.0</td>\n",
       "      <td>2559.0</td>\n",
       "      <td>NaN</td>\n",
       "      <td>1886.0</td>\n",
       "      <td>769.0</td>\n",
       "      <td>2.6036</td>\n",
       "      <td>162100.0</td>\n",
       "      <td>3</td>\n",
       "    </tr>\n",
       "    <tr>\n",
       "      <th>3482</th>\n",
       "      <td>-118.45</td>\n",
       "      <td>34.30</td>\n",
       "      <td>27.0</td>\n",
       "      <td>2676.0</td>\n",
       "      <td>NaN</td>\n",
       "      <td>2661.0</td>\n",
       "      <td>623.0</td>\n",
       "      <td>4.3047</td>\n",
       "      <td>152100.0</td>\n",
       "      <td>3</td>\n",
       "    </tr>\n",
       "    <tr>\n",
       "      <th>3721</th>\n",
       "      <td>-118.43</td>\n",
       "      <td>34.20</td>\n",
       "      <td>28.0</td>\n",
       "      <td>3386.0</td>\n",
       "      <td>NaN</td>\n",
       "      <td>2240.0</td>\n",
       "      <td>737.0</td>\n",
       "      <td>3.0221</td>\n",
       "      <td>290100.0</td>\n",
       "      <td>3</td>\n",
       "    </tr>\n",
       "    <tr>\n",
       "      <th>3921</th>\n",
       "      <td>-118.56</td>\n",
       "      <td>34.20</td>\n",
       "      <td>35.0</td>\n",
       "      <td>2273.0</td>\n",
       "      <td>NaN</td>\n",
       "      <td>1431.0</td>\n",
       "      <td>403.0</td>\n",
       "      <td>4.0789</td>\n",
       "      <td>196700.0</td>\n",
       "      <td>3</td>\n",
       "    </tr>\n",
       "    <tr>\n",
       "      <th>3958</th>\n",
       "      <td>-118.59</td>\n",
       "      <td>34.20</td>\n",
       "      <td>21.0</td>\n",
       "      <td>1789.0</td>\n",
       "      <td>NaN</td>\n",
       "      <td>2300.0</td>\n",
       "      <td>677.0</td>\n",
       "      <td>2.7540</td>\n",
       "      <td>179800.0</td>\n",
       "      <td>3</td>\n",
       "    </tr>\n",
       "    <tr>\n",
       "      <th>4043</th>\n",
       "      <td>-118.50</td>\n",
       "      <td>34.17</td>\n",
       "      <td>37.0</td>\n",
       "      <td>880.0</td>\n",
       "      <td>NaN</td>\n",
       "      <td>369.0</td>\n",
       "      <td>155.0</td>\n",
       "      <td>4.1429</td>\n",
       "      <td>303600.0</td>\n",
       "      <td>3</td>\n",
       "    </tr>\n",
       "    <tr>\n",
       "      <th>4186</th>\n",
       "      <td>-118.23</td>\n",
       "      <td>34.13</td>\n",
       "      <td>48.0</td>\n",
       "      <td>1308.0</td>\n",
       "      <td>NaN</td>\n",
       "      <td>835.0</td>\n",
       "      <td>294.0</td>\n",
       "      <td>4.2891</td>\n",
       "      <td>214800.0</td>\n",
       "      <td>3</td>\n",
       "    </tr>\n",
       "    <tr>\n",
       "      <th>4279</th>\n",
       "      <td>-118.31</td>\n",
       "      <td>34.09</td>\n",
       "      <td>37.0</td>\n",
       "      <td>773.0</td>\n",
       "      <td>NaN</td>\n",
       "      <td>835.0</td>\n",
       "      <td>312.0</td>\n",
       "      <td>1.8576</td>\n",
       "      <td>193800.0</td>\n",
       "      <td>3</td>\n",
       "    </tr>\n",
       "    <tr>\n",
       "      <th>4309</th>\n",
       "      <td>-118.32</td>\n",
       "      <td>34.09</td>\n",
       "      <td>44.0</td>\n",
       "      <td>2666.0</td>\n",
       "      <td>NaN</td>\n",
       "      <td>2297.0</td>\n",
       "      <td>726.0</td>\n",
       "      <td>1.6760</td>\n",
       "      <td>208800.0</td>\n",
       "      <td>3</td>\n",
       "    </tr>\n",
       "    <tr>\n",
       "      <th>4391</th>\n",
       "      <td>-118.27</td>\n",
       "      <td>34.07</td>\n",
       "      <td>27.0</td>\n",
       "      <td>1190.0</td>\n",
       "      <td>NaN</td>\n",
       "      <td>1795.0</td>\n",
       "      <td>422.0</td>\n",
       "      <td>1.7016</td>\n",
       "      <td>160000.0</td>\n",
       "      <td>3</td>\n",
       "    </tr>\n",
       "    <tr>\n",
       "      <th>...</th>\n",
       "      <td>...</td>\n",
       "      <td>...</td>\n",
       "      <td>...</td>\n",
       "      <td>...</td>\n",
       "      <td>...</td>\n",
       "      <td>...</td>\n",
       "      <td>...</td>\n",
       "      <td>...</td>\n",
       "      <td>...</td>\n",
       "      <td>...</td>\n",
       "    </tr>\n",
       "    <tr>\n",
       "      <th>17639</th>\n",
       "      <td>-121.90</td>\n",
       "      <td>37.28</td>\n",
       "      <td>26.0</td>\n",
       "      <td>3756.0</td>\n",
       "      <td>NaN</td>\n",
       "      <td>1408.0</td>\n",
       "      <td>535.0</td>\n",
       "      <td>5.6427</td>\n",
       "      <td>320000.0</td>\n",
       "      <td>3</td>\n",
       "    </tr>\n",
       "    <tr>\n",
       "      <th>17923</th>\n",
       "      <td>-121.97</td>\n",
       "      <td>37.35</td>\n",
       "      <td>30.0</td>\n",
       "      <td>1955.0</td>\n",
       "      <td>NaN</td>\n",
       "      <td>999.0</td>\n",
       "      <td>386.0</td>\n",
       "      <td>4.6328</td>\n",
       "      <td>287100.0</td>\n",
       "      <td>3</td>\n",
       "    </tr>\n",
       "    <tr>\n",
       "      <th>17928</th>\n",
       "      <td>-121.97</td>\n",
       "      <td>37.34</td>\n",
       "      <td>33.0</td>\n",
       "      <td>3162.0</td>\n",
       "      <td>NaN</td>\n",
       "      <td>1553.0</td>\n",
       "      <td>686.0</td>\n",
       "      <td>3.6682</td>\n",
       "      <td>266100.0</td>\n",
       "      <td>3</td>\n",
       "    </tr>\n",
       "    <tr>\n",
       "      <th>17973</th>\n",
       "      <td>-121.95</td>\n",
       "      <td>37.31</td>\n",
       "      <td>27.0</td>\n",
       "      <td>4140.0</td>\n",
       "      <td>NaN</td>\n",
       "      <td>2135.0</td>\n",
       "      <td>893.0</td>\n",
       "      <td>3.6292</td>\n",
       "      <td>264600.0</td>\n",
       "      <td>3</td>\n",
       "    </tr>\n",
       "    <tr>\n",
       "      <th>18246</th>\n",
       "      <td>-122.08</td>\n",
       "      <td>37.39</td>\n",
       "      <td>4.0</td>\n",
       "      <td>2292.0</td>\n",
       "      <td>NaN</td>\n",
       "      <td>1050.0</td>\n",
       "      <td>584.0</td>\n",
       "      <td>4.8036</td>\n",
       "      <td>340000.0</td>\n",
       "      <td>2</td>\n",
       "    </tr>\n",
       "    <tr>\n",
       "      <th>18786</th>\n",
       "      <td>-122.42</td>\n",
       "      <td>40.44</td>\n",
       "      <td>16.0</td>\n",
       "      <td>994.0</td>\n",
       "      <td>NaN</td>\n",
       "      <td>495.0</td>\n",
       "      <td>181.0</td>\n",
       "      <td>2.1875</td>\n",
       "      <td>76400.0</td>\n",
       "      <td>1</td>\n",
       "    </tr>\n",
       "    <tr>\n",
       "      <th>18873</th>\n",
       "      <td>-122.22</td>\n",
       "      <td>38.08</td>\n",
       "      <td>37.0</td>\n",
       "      <td>2811.0</td>\n",
       "      <td>NaN</td>\n",
       "      <td>1574.0</td>\n",
       "      <td>516.0</td>\n",
       "      <td>3.1053</td>\n",
       "      <td>96700.0</td>\n",
       "      <td>2</td>\n",
       "    </tr>\n",
       "    <tr>\n",
       "      <th>19060</th>\n",
       "      <td>-122.41</td>\n",
       "      <td>38.16</td>\n",
       "      <td>37.0</td>\n",
       "      <td>1549.0</td>\n",
       "      <td>NaN</td>\n",
       "      <td>863.0</td>\n",
       "      <td>275.0</td>\n",
       "      <td>2.7457</td>\n",
       "      <td>254700.0</td>\n",
       "      <td>2</td>\n",
       "    </tr>\n",
       "    <tr>\n",
       "      <th>19071</th>\n",
       "      <td>-122.53</td>\n",
       "      <td>38.32</td>\n",
       "      <td>22.0</td>\n",
       "      <td>3577.0</td>\n",
       "      <td>NaN</td>\n",
       "      <td>1371.0</td>\n",
       "      <td>501.0</td>\n",
       "      <td>5.7950</td>\n",
       "      <td>332300.0</td>\n",
       "      <td>3</td>\n",
       "    </tr>\n",
       "    <tr>\n",
       "      <th>19122</th>\n",
       "      <td>-122.65</td>\n",
       "      <td>38.25</td>\n",
       "      <td>23.0</td>\n",
       "      <td>4030.0</td>\n",
       "      <td>NaN</td>\n",
       "      <td>1852.0</td>\n",
       "      <td>778.0</td>\n",
       "      <td>3.4020</td>\n",
       "      <td>193300.0</td>\n",
       "      <td>3</td>\n",
       "    </tr>\n",
       "    <tr>\n",
       "      <th>19150</th>\n",
       "      <td>-122.70</td>\n",
       "      <td>38.35</td>\n",
       "      <td>14.0</td>\n",
       "      <td>2313.0</td>\n",
       "      <td>NaN</td>\n",
       "      <td>954.0</td>\n",
       "      <td>397.0</td>\n",
       "      <td>3.7813</td>\n",
       "      <td>146500.0</td>\n",
       "      <td>3</td>\n",
       "    </tr>\n",
       "    <tr>\n",
       "      <th>19332</th>\n",
       "      <td>-122.91</td>\n",
       "      <td>38.46</td>\n",
       "      <td>18.0</td>\n",
       "      <td>2021.0</td>\n",
       "      <td>NaN</td>\n",
       "      <td>912.0</td>\n",
       "      <td>329.0</td>\n",
       "      <td>4.5000</td>\n",
       "      <td>251900.0</td>\n",
       "      <td>3</td>\n",
       "    </tr>\n",
       "    <tr>\n",
       "      <th>19391</th>\n",
       "      <td>-120.85</td>\n",
       "      <td>37.78</td>\n",
       "      <td>25.0</td>\n",
       "      <td>421.0</td>\n",
       "      <td>NaN</td>\n",
       "      <td>303.0</td>\n",
       "      <td>106.0</td>\n",
       "      <td>2.2679</td>\n",
       "      <td>71300.0</td>\n",
       "      <td>1</td>\n",
       "    </tr>\n",
       "    <tr>\n",
       "      <th>19402</th>\n",
       "      <td>-120.93</td>\n",
       "      <td>37.73</td>\n",
       "      <td>14.0</td>\n",
       "      <td>2799.0</td>\n",
       "      <td>NaN</td>\n",
       "      <td>2294.0</td>\n",
       "      <td>596.0</td>\n",
       "      <td>2.6343</td>\n",
       "      <td>81500.0</td>\n",
       "      <td>1</td>\n",
       "    </tr>\n",
       "    <tr>\n",
       "      <th>19485</th>\n",
       "      <td>-120.98</td>\n",
       "      <td>37.66</td>\n",
       "      <td>10.0</td>\n",
       "      <td>934.0</td>\n",
       "      <td>NaN</td>\n",
       "      <td>401.0</td>\n",
       "      <td>255.0</td>\n",
       "      <td>0.9336</td>\n",
       "      <td>127100.0</td>\n",
       "      <td>1</td>\n",
       "    </tr>\n",
       "    <tr>\n",
       "      <th>19559</th>\n",
       "      <td>-120.98</td>\n",
       "      <td>37.60</td>\n",
       "      <td>36.0</td>\n",
       "      <td>1437.0</td>\n",
       "      <td>NaN</td>\n",
       "      <td>1073.0</td>\n",
       "      <td>320.0</td>\n",
       "      <td>2.1779</td>\n",
       "      <td>58400.0</td>\n",
       "      <td>1</td>\n",
       "    </tr>\n",
       "    <tr>\n",
       "      <th>19607</th>\n",
       "      <td>-121.02</td>\n",
       "      <td>37.48</td>\n",
       "      <td>26.0</td>\n",
       "      <td>467.0</td>\n",
       "      <td>NaN</td>\n",
       "      <td>244.0</td>\n",
       "      <td>83.0</td>\n",
       "      <td>4.1346</td>\n",
       "      <td>187500.0</td>\n",
       "      <td>1</td>\n",
       "    </tr>\n",
       "    <tr>\n",
       "      <th>19638</th>\n",
       "      <td>-120.97</td>\n",
       "      <td>37.43</td>\n",
       "      <td>27.0</td>\n",
       "      <td>1380.0</td>\n",
       "      <td>NaN</td>\n",
       "      <td>810.0</td>\n",
       "      <td>262.0</td>\n",
       "      <td>2.1875</td>\n",
       "      <td>137500.0</td>\n",
       "      <td>1</td>\n",
       "    </tr>\n",
       "    <tr>\n",
       "      <th>19766</th>\n",
       "      <td>-122.10</td>\n",
       "      <td>40.03</td>\n",
       "      <td>25.0</td>\n",
       "      <td>2516.0</td>\n",
       "      <td>NaN</td>\n",
       "      <td>1266.0</td>\n",
       "      <td>494.0</td>\n",
       "      <td>1.7566</td>\n",
       "      <td>58400.0</td>\n",
       "      <td>1</td>\n",
       "    </tr>\n",
       "    <tr>\n",
       "      <th>19818</th>\n",
       "      <td>-119.30</td>\n",
       "      <td>36.57</td>\n",
       "      <td>32.0</td>\n",
       "      <td>728.0</td>\n",
       "      <td>NaN</td>\n",
       "      <td>461.0</td>\n",
       "      <td>149.0</td>\n",
       "      <td>3.0156</td>\n",
       "      <td>109100.0</td>\n",
       "      <td>1</td>\n",
       "    </tr>\n",
       "    <tr>\n",
       "      <th>19833</th>\n",
       "      <td>-119.38</td>\n",
       "      <td>36.53</td>\n",
       "      <td>38.0</td>\n",
       "      <td>1281.0</td>\n",
       "      <td>NaN</td>\n",
       "      <td>1423.0</td>\n",
       "      <td>293.0</td>\n",
       "      <td>1.9602</td>\n",
       "      <td>51400.0</td>\n",
       "      <td>1</td>\n",
       "    </tr>\n",
       "    <tr>\n",
       "      <th>19890</th>\n",
       "      <td>-119.15</td>\n",
       "      <td>36.29</td>\n",
       "      <td>18.0</td>\n",
       "      <td>1435.0</td>\n",
       "      <td>NaN</td>\n",
       "      <td>657.0</td>\n",
       "      <td>254.0</td>\n",
       "      <td>2.4281</td>\n",
       "      <td>72500.0</td>\n",
       "      <td>1</td>\n",
       "    </tr>\n",
       "    <tr>\n",
       "      <th>19932</th>\n",
       "      <td>-119.33</td>\n",
       "      <td>36.30</td>\n",
       "      <td>11.0</td>\n",
       "      <td>3045.0</td>\n",
       "      <td>NaN</td>\n",
       "      <td>1563.0</td>\n",
       "      <td>516.0</td>\n",
       "      <td>5.4337</td>\n",
       "      <td>133800.0</td>\n",
       "      <td>1</td>\n",
       "    </tr>\n",
       "    <tr>\n",
       "      <th>19959</th>\n",
       "      <td>-119.32</td>\n",
       "      <td>36.25</td>\n",
       "      <td>21.0</td>\n",
       "      <td>1231.0</td>\n",
       "      <td>NaN</td>\n",
       "      <td>609.0</td>\n",
       "      <td>206.0</td>\n",
       "      <td>2.8365</td>\n",
       "      <td>90000.0</td>\n",
       "      <td>1</td>\n",
       "    </tr>\n",
       "    <tr>\n",
       "      <th>20046</th>\n",
       "      <td>-119.01</td>\n",
       "      <td>36.06</td>\n",
       "      <td>25.0</td>\n",
       "      <td>1505.0</td>\n",
       "      <td>NaN</td>\n",
       "      <td>1392.0</td>\n",
       "      <td>359.0</td>\n",
       "      <td>1.6812</td>\n",
       "      <td>47700.0</td>\n",
       "      <td>1</td>\n",
       "    </tr>\n",
       "    <tr>\n",
       "      <th>20069</th>\n",
       "      <td>-120.37</td>\n",
       "      <td>38.01</td>\n",
       "      <td>30.0</td>\n",
       "      <td>473.0</td>\n",
       "      <td>NaN</td>\n",
       "      <td>242.0</td>\n",
       "      <td>93.0</td>\n",
       "      <td>2.5417</td>\n",
       "      <td>123200.0</td>\n",
       "      <td>1</td>\n",
       "    </tr>\n",
       "    <tr>\n",
       "      <th>20125</th>\n",
       "      <td>-118.80</td>\n",
       "      <td>34.41</td>\n",
       "      <td>45.0</td>\n",
       "      <td>1610.0</td>\n",
       "      <td>NaN</td>\n",
       "      <td>1148.0</td>\n",
       "      <td>347.0</td>\n",
       "      <td>2.7000</td>\n",
       "      <td>120400.0</td>\n",
       "      <td>3</td>\n",
       "    </tr>\n",
       "    <tr>\n",
       "      <th>20267</th>\n",
       "      <td>-119.19</td>\n",
       "      <td>34.20</td>\n",
       "      <td>18.0</td>\n",
       "      <td>3620.0</td>\n",
       "      <td>NaN</td>\n",
       "      <td>3171.0</td>\n",
       "      <td>779.0</td>\n",
       "      <td>3.3409</td>\n",
       "      <td>220500.0</td>\n",
       "      <td>4</td>\n",
       "    </tr>\n",
       "    <tr>\n",
       "      <th>20268</th>\n",
       "      <td>-119.18</td>\n",
       "      <td>34.19</td>\n",
       "      <td>19.0</td>\n",
       "      <td>2393.0</td>\n",
       "      <td>NaN</td>\n",
       "      <td>1938.0</td>\n",
       "      <td>762.0</td>\n",
       "      <td>1.6953</td>\n",
       "      <td>167400.0</td>\n",
       "      <td>4</td>\n",
       "    </tr>\n",
       "    <tr>\n",
       "      <th>20484</th>\n",
       "      <td>-118.72</td>\n",
       "      <td>34.28</td>\n",
       "      <td>17.0</td>\n",
       "      <td>3051.0</td>\n",
       "      <td>NaN</td>\n",
       "      <td>1705.0</td>\n",
       "      <td>495.0</td>\n",
       "      <td>5.7376</td>\n",
       "      <td>218600.0</td>\n",
       "      <td>3</td>\n",
       "    </tr>\n",
       "  </tbody>\n",
       "</table>\n",
       "<p>162 rows × 10 columns</p>\n",
       "</div>"
      ],
      "text/plain": [
       "       longitude  latitude  housing_median_age  total_rooms  total_bedrooms  \\\n",
       "290      -122.16     37.77                47.0       1256.0             NaN   \n",
       "341      -122.17     37.75                38.0        992.0             NaN   \n",
       "563      -122.24     37.75                45.0        891.0             NaN   \n",
       "696      -122.10     37.69                41.0        746.0             NaN   \n",
       "738      -122.14     37.67                37.0       3342.0             NaN   \n",
       "1097     -121.77     39.66                20.0       3759.0             NaN   \n",
       "1456     -121.98     37.96                22.0       2987.0             NaN   \n",
       "1493     -122.01     37.94                23.0       3741.0             NaN   \n",
       "1606     -122.08     37.88                26.0       2947.0             NaN   \n",
       "2028     -119.75     36.71                38.0       1481.0             NaN   \n",
       "2323     -119.73     36.83                 8.0       3602.0             NaN   \n",
       "2334     -119.69     36.83                32.0       1098.0             NaN   \n",
       "2351     -119.68     36.79                16.0       1551.0             NaN   \n",
       "2412     -119.45     36.61                24.0       1302.0             NaN   \n",
       "2420     -119.44     36.58                37.0       1054.0             NaN   \n",
       "2578     -124.06     40.86                34.0       4183.0             NaN   \n",
       "2608     -124.00     40.92                29.0       1429.0             NaN   \n",
       "2647     -124.13     40.55                38.0        544.0             NaN   \n",
       "3024     -119.46     35.14                30.0       2943.0             NaN   \n",
       "3328     -122.72     38.88                29.0       2781.0             NaN   \n",
       "3376     -118.28     34.25                29.0       2559.0             NaN   \n",
       "3482     -118.45     34.30                27.0       2676.0             NaN   \n",
       "3721     -118.43     34.20                28.0       3386.0             NaN   \n",
       "3921     -118.56     34.20                35.0       2273.0             NaN   \n",
       "3958     -118.59     34.20                21.0       1789.0             NaN   \n",
       "4043     -118.50     34.17                37.0        880.0             NaN   \n",
       "4186     -118.23     34.13                48.0       1308.0             NaN   \n",
       "4279     -118.31     34.09                37.0        773.0             NaN   \n",
       "4309     -118.32     34.09                44.0       2666.0             NaN   \n",
       "4391     -118.27     34.07                27.0       1190.0             NaN   \n",
       "...          ...       ...                 ...          ...             ...   \n",
       "17639    -121.90     37.28                26.0       3756.0             NaN   \n",
       "17923    -121.97     37.35                30.0       1955.0             NaN   \n",
       "17928    -121.97     37.34                33.0       3162.0             NaN   \n",
       "17973    -121.95     37.31                27.0       4140.0             NaN   \n",
       "18246    -122.08     37.39                 4.0       2292.0             NaN   \n",
       "18786    -122.42     40.44                16.0        994.0             NaN   \n",
       "18873    -122.22     38.08                37.0       2811.0             NaN   \n",
       "19060    -122.41     38.16                37.0       1549.0             NaN   \n",
       "19071    -122.53     38.32                22.0       3577.0             NaN   \n",
       "19122    -122.65     38.25                23.0       4030.0             NaN   \n",
       "19150    -122.70     38.35                14.0       2313.0             NaN   \n",
       "19332    -122.91     38.46                18.0       2021.0             NaN   \n",
       "19391    -120.85     37.78                25.0        421.0             NaN   \n",
       "19402    -120.93     37.73                14.0       2799.0             NaN   \n",
       "19485    -120.98     37.66                10.0        934.0             NaN   \n",
       "19559    -120.98     37.60                36.0       1437.0             NaN   \n",
       "19607    -121.02     37.48                26.0        467.0             NaN   \n",
       "19638    -120.97     37.43                27.0       1380.0             NaN   \n",
       "19766    -122.10     40.03                25.0       2516.0             NaN   \n",
       "19818    -119.30     36.57                32.0        728.0             NaN   \n",
       "19833    -119.38     36.53                38.0       1281.0             NaN   \n",
       "19890    -119.15     36.29                18.0       1435.0             NaN   \n",
       "19932    -119.33     36.30                11.0       3045.0             NaN   \n",
       "19959    -119.32     36.25                21.0       1231.0             NaN   \n",
       "20046    -119.01     36.06                25.0       1505.0             NaN   \n",
       "20069    -120.37     38.01                30.0        473.0             NaN   \n",
       "20125    -118.80     34.41                45.0       1610.0             NaN   \n",
       "20267    -119.19     34.20                18.0       3620.0             NaN   \n",
       "20268    -119.18     34.19                19.0       2393.0             NaN   \n",
       "20484    -118.72     34.28                17.0       3051.0             NaN   \n",
       "\n",
       "       population  households  median_income  median_house_value  \\\n",
       "290         570.0       218.0         4.3750            161900.0   \n",
       "341         732.0       259.0         1.6196             85100.0   \n",
       "563         384.0       146.0         4.9489            247100.0   \n",
       "696         387.0       161.0         3.9063            178400.0   \n",
       "738        1635.0       557.0         4.7933            186900.0   \n",
       "1097       1705.0       600.0         4.7120            158600.0   \n",
       "1456       1420.0       540.0         3.6500            204100.0   \n",
       "1493       1339.0       499.0         6.7061            322300.0   \n",
       "1606        825.0       626.0         2.9330             85000.0   \n",
       "2028       1543.0       372.0         1.4577             49800.0   \n",
       "2323       1959.0       580.0         5.3478            138800.0   \n",
       "2334        726.0       224.0         1.4913             54600.0   \n",
       "2351       1010.0       292.0         3.5417             71300.0   \n",
       "2412        693.0       243.0         3.7917             90500.0   \n",
       "2420        879.0       257.0         2.5234             63500.0   \n",
       "2578       1891.0       669.0         3.2216             98100.0   \n",
       "2608        672.0       266.0         2.9485             98800.0   \n",
       "2647        240.0        91.0         3.2500             94800.0   \n",
       "3024       1565.0       584.0         2.5313             45800.0   \n",
       "3328        890.0       310.0         1.9906             96600.0   \n",
       "3376       1886.0       769.0         2.6036            162100.0   \n",
       "3482       2661.0       623.0         4.3047            152100.0   \n",
       "3721       2240.0       737.0         3.0221            290100.0   \n",
       "3921       1431.0       403.0         4.0789            196700.0   \n",
       "3958       2300.0       677.0         2.7540            179800.0   \n",
       "4043        369.0       155.0         4.1429            303600.0   \n",
       "4186        835.0       294.0         4.2891            214800.0   \n",
       "4279        835.0       312.0         1.8576            193800.0   \n",
       "4309       2297.0       726.0         1.6760            208800.0   \n",
       "4391       1795.0       422.0         1.7016            160000.0   \n",
       "...           ...         ...            ...                 ...   \n",
       "17639      1408.0       535.0         5.6427            320000.0   \n",
       "17923       999.0       386.0         4.6328            287100.0   \n",
       "17928      1553.0       686.0         3.6682            266100.0   \n",
       "17973      2135.0       893.0         3.6292            264600.0   \n",
       "18246      1050.0       584.0         4.8036            340000.0   \n",
       "18786       495.0       181.0         2.1875             76400.0   \n",
       "18873      1574.0       516.0         3.1053             96700.0   \n",
       "19060       863.0       275.0         2.7457            254700.0   \n",
       "19071      1371.0       501.0         5.7950            332300.0   \n",
       "19122      1852.0       778.0         3.4020            193300.0   \n",
       "19150       954.0       397.0         3.7813            146500.0   \n",
       "19332       912.0       329.0         4.5000            251900.0   \n",
       "19391       303.0       106.0         2.2679             71300.0   \n",
       "19402      2294.0       596.0         2.6343             81500.0   \n",
       "19485       401.0       255.0         0.9336            127100.0   \n",
       "19559      1073.0       320.0         2.1779             58400.0   \n",
       "19607       244.0        83.0         4.1346            187500.0   \n",
       "19638       810.0       262.0         2.1875            137500.0   \n",
       "19766      1266.0       494.0         1.7566             58400.0   \n",
       "19818       461.0       149.0         3.0156            109100.0   \n",
       "19833      1423.0       293.0         1.9602             51400.0   \n",
       "19890       657.0       254.0         2.4281             72500.0   \n",
       "19932      1563.0       516.0         5.4337            133800.0   \n",
       "19959       609.0       206.0         2.8365             90000.0   \n",
       "20046      1392.0       359.0         1.6812             47700.0   \n",
       "20069       242.0        93.0         2.5417            123200.0   \n",
       "20125      1148.0       347.0         2.7000            120400.0   \n",
       "20267      3171.0       779.0         3.3409            220500.0   \n",
       "20268      1938.0       762.0         1.6953            167400.0   \n",
       "20484      1705.0       495.0         5.7376            218600.0   \n",
       "\n",
       "       ocean_proximity  \n",
       "290                  2  \n",
       "341                  2  \n",
       "563                  2  \n",
       "696                  2  \n",
       "738                  2  \n",
       "1097                 1  \n",
       "1456                 1  \n",
       "1493                 2  \n",
       "1606                 2  \n",
       "2028                 1  \n",
       "2323                 1  \n",
       "2334                 1  \n",
       "2351                 1  \n",
       "2412                 1  \n",
       "2420                 1  \n",
       "2578                 4  \n",
       "2608                 3  \n",
       "2647                 3  \n",
       "3024                 1  \n",
       "3328                 1  \n",
       "3376                 3  \n",
       "3482                 3  \n",
       "3721                 3  \n",
       "3921                 3  \n",
       "3958                 3  \n",
       "4043                 3  \n",
       "4186                 3  \n",
       "4279                 3  \n",
       "4309                 3  \n",
       "4391                 3  \n",
       "...                ...  \n",
       "17639                3  \n",
       "17923                3  \n",
       "17928                3  \n",
       "17973                3  \n",
       "18246                2  \n",
       "18786                1  \n",
       "18873                2  \n",
       "19060                2  \n",
       "19071                3  \n",
       "19122                3  \n",
       "19150                3  \n",
       "19332                3  \n",
       "19391                1  \n",
       "19402                1  \n",
       "19485                1  \n",
       "19559                1  \n",
       "19607                1  \n",
       "19638                1  \n",
       "19766                1  \n",
       "19818                1  \n",
       "19833                1  \n",
       "19890                1  \n",
       "19932                1  \n",
       "19959                1  \n",
       "20046                1  \n",
       "20069                1  \n",
       "20125                3  \n",
       "20267                4  \n",
       "20268                4  \n",
       "20484                3  \n",
       "\n",
       "[162 rows x 10 columns]"
      ]
     },
     "execution_count": 146,
     "metadata": {},
     "output_type": "execute_result"
    }
   ],
   "source": [
    "dataset[dataset.isnull().any(axis=1)]"
   ]
  },
  {
   "cell_type": "markdown",
   "metadata": {},
   "source": [
    "After this first analysis we have highlighted the presence of missing values only in the *total_bedrooms* column.  \n",
    "The two main ways of handling missing values are: cutting them out or replacing them with other values"
   ]
  },
  {
   "cell_type": "markdown",
   "metadata": {},
   "source": [
    "In order to choose the best criterion, let's evaluate the real proportion of missing values with respect to the entire dataset"
   ]
  },
  {
   "cell_type": "markdown",
   "metadata": {},
   "source": [
    "This is the number of rows which contain a missing value at *total_bedrooms* column"
   ]
  },
  {
   "cell_type": "code",
   "execution_count": 147,
   "metadata": {},
   "outputs": [
    {
     "data": {
      "text/plain": [
       "162"
      ]
     },
     "execution_count": 147,
     "metadata": {},
     "output_type": "execute_result"
    }
   ],
   "source": [
    "sum(dataset.isnull().any(axis=1))"
   ]
  },
  {
   "cell_type": "code",
   "execution_count": 148,
   "metadata": {},
   "outputs": [
    {
     "name": "stdout",
     "output_type": "stream",
     "text": [
      "total rows: 16595\n"
     ]
    }
   ],
   "source": [
    "print(\"total rows:\", len(dataset))"
   ]
  },
  {
   "cell_type": "code",
   "execution_count": 149,
   "metadata": {},
   "outputs": [
    {
     "name": "stdout",
     "output_type": "stream",
     "text": [
      "0.9762 %\n"
     ]
    }
   ],
   "source": [
    "print(round(sum(dataset.isnull().any(axis=1))/len(dataset) * 100, 4), \"%\")"
   ]
  },
  {
   "cell_type": "markdown",
   "metadata": {},
   "source": [
    "is the percentage of rows that contain missing values"
   ]
  },
  {
   "cell_type": "markdown",
   "metadata": {},
   "source": [
    "Given that the proportion of missing values is not big, cutting them out could be a possible solution but, first, let's see if these missing values have a pattern or if they are missing randomly"
   ]
  },
  {
   "cell_type": "code",
   "execution_count": 150,
   "metadata": {
    "scrolled": true
   },
   "outputs": [
    {
     "data": {
      "text/plain": [
       "<matplotlib.axes._subplots.AxesSubplot at 0x123d34048>"
      ]
     },
     "execution_count": 150,
     "metadata": {},
     "output_type": "execute_result"
    },
    {
     "data": {
      "image/png": "[encoded data removed]",
      "text/plain": [
       "<Figure size 1800x720 with 2 Axes>"
      ]
     },
     "metadata": {
      "needs_background": "light"
     },
     "output_type": "display_data"
    }
   ],
   "source": [
    "msno.matrix(dataset)"
   ]
  },
  {
   "cell_type": "markdown",
   "metadata": {},
   "source": [
    "## Possible ways to replace missing values"
   ]
  },
  {
   "cell_type": "markdown",
   "metadata": {},
   "source": [
    "In general, *total_bedrooms* must be a subset of *total_rooms*; on average, the proportion between the number of total bedrooms and total rooms is 0.21, and its standard deviation is approximately around 0.06, a possible solution in order to keep 1% of data, could be to randomly extract a value between 0.16 and 0.26 and multiply it with the number of *total_rooms* (at i-th row), in this way we won't recreate the exact value but we will have a chance of guessing a coherent value for *total_bedrooms*, because we assume there is a positive correlation between these values and *total_rooms*.\n",
    "For this project, we will try both approaches, and see if there is any benefit in final accuracy."
   ]
  },
  {
   "cell_type": "code",
   "execution_count": 151,
   "metadata": {},
   "outputs": [
    {
     "data": {
      "image/png": "[encoded data removed]",
      "text/plain": [
       "<Figure size 1080x504 with 1 Axes>"
      ]
     },
     "metadata": {
      "needs_background": "light"
     },
     "output_type": "display_data"
    }
   ],
   "source": [
    "plt.figure(figsize=(15, 7))\n",
    "plt.title(\"Proportion of total bedrooms over total rooms\")\n",
    "plt.hist(dataset[-dataset.isnull().any(axis=1)][\"total_bedrooms\"]/dataset[-dataset.isnull().any(axis=1)][\"total_rooms\"])\n",
    "plt.grid()\n",
    "plt.show()"
   ]
  },
  {
   "cell_type": "code",
   "execution_count": 152,
   "metadata": {},
   "outputs": [
    {
     "data": {
      "text/plain": [
       "(0.2169928706887672, 0.055076879058943456)"
      ]
     },
     "execution_count": 152,
     "metadata": {},
     "output_type": "execute_result"
    }
   ],
   "source": [
    "np.mean(dataset[-dataset.isnull().any(axis=1)][\"total_bedrooms\"]/dataset[-dataset.isnull().any(axis=1)][\"total_rooms\"]), np.std(dataset[-dataset.isnull().any(axis=1)][\"total_bedrooms\"]/dataset[-dataset.isnull().any(axis=1)][\"total_rooms\"])"
   ]
  },
  {
   "cell_type": "markdown",
   "metadata": {},
   "source": [
    "Another interesting approach could be considering *households* as a possible estimator of *total_bedrooms* but in this case there is a quite high standard deviation, so it wouldn't be the best method"
   ]
  },
  {
   "cell_type": "code",
   "execution_count": 153,
   "metadata": {
    "scrolled": true
   },
   "outputs": [
    {
     "data": {
      "text/plain": [
       "(1.0919646023288745, 0.4506312178501225)"
      ]
     },
     "execution_count": 153,
     "metadata": {},
     "output_type": "execute_result"
    }
   ],
   "source": [
    "np.mean(dataset[\"total_bedrooms\"]/dataset[\"households\"]), np.std(dataset[\"total_bedrooms\"]/dataset[\"households\"])"
   ]
  },
  {
   "cell_type": "markdown",
   "metadata": {},
   "source": [
    "Another helpful point of view is considering *population* as estimator because, on average, it is the double of *total_bedrooms* values but also in this case standard deviation is not sufficiently low."
   ]
  },
  {
   "cell_type": "code",
   "execution_count": 154,
   "metadata": {
    "scrolled": true
   },
   "outputs": [
    {
     "data": {
      "text/plain": [
       "(0.3927190818624187, 0.23849861703014277)"
      ]
     },
     "execution_count": 154,
     "metadata": {},
     "output_type": "execute_result"
    }
   ],
   "source": [
    "np.mean(dataset[\"total_bedrooms\"]/dataset[\"population\"]), np.std(dataset[\"total_bedrooms\"]/dataset[\"population\"])"
   ]
  },
  {
   "cell_type": "markdown",
   "metadata": {},
   "source": [
    "### Replacing missing values"
   ]
  },
  {
   "cell_type": "markdown",
   "metadata": {},
   "source": [
    "Since standard deviation in the first approach is around 0.05 and mean is 0.21 we can define a range (0.16, 0.26) from which we can uniformly extract a number, with the aim of recreating a coherent value which can replace the missing one.\n",
    "In order to keep consistency, we have to round the value to an integer value, since we are dealing with bedrooms and they belong to a discrete set."
   ]
  },
  {
   "cell_type": "code",
   "execution_count": 155,
   "metadata": {},
   "outputs": [
    {
     "name": "stdout",
     "output_type": "stream",
     "text": [
      "307.0\n",
      "206.0\n",
      "185.0\n",
      "123.0\n",
      "748.0\n",
      "623.0\n",
      "718.0\n",
      "867.0\n",
      "664.0\n",
      "261.0\n",
      "835.0\n",
      "272.0\n",
      "379.0\n",
      "316.0\n",
      "243.0\n",
      "714.0\n",
      "264.0\n",
      "92.0\n",
      "569.0\n",
      "512.0\n",
      "574.0\n",
      "658.0\n",
      "552.0\n",
      "380.0\n",
      "444.0\n",
      "219.0\n",
      "211.0\n",
      "195.0\n",
      "512.0\n",
      "195.0\n",
      "373.0\n",
      "232.0\n",
      "441.0\n",
      "178.0\n",
      "478.0\n",
      "151.0\n",
      "235.0\n",
      "533.0\n",
      "309.0\n",
      "228.0\n",
      "739.0\n",
      "185.0\n",
      "445.0\n",
      "284.0\n",
      "442.0\n",
      "684.0\n",
      "463.0\n",
      "492.0\n",
      "827.0\n",
      "374.0\n",
      "1003.0\n",
      "655.0\n",
      "538.0\n",
      "490.0\n",
      "429.0\n",
      "338.0\n",
      "557.0\n",
      "360.0\n",
      "888.0\n",
      "346.0\n",
      "114.0\n",
      "387.0\n",
      "306.0\n",
      "169.0\n",
      "283.0\n",
      "590.0\n",
      "305.0\n",
      "124.0\n",
      "212.0\n",
      "321.0\n",
      "358.0\n",
      "120.0\n",
      "163.0\n",
      "362.0\n",
      "135.0\n",
      "570.0\n",
      "284.0\n",
      "39.0\n",
      "77.0\n",
      "627.0\n",
      "463.0\n",
      "275.0\n",
      "333.0\n",
      "345.0\n",
      "554.0\n",
      "573.0\n",
      "400.0\n",
      "535.0\n",
      "347.0\n",
      "924.0\n",
      "282.0\n",
      "175.0\n",
      "620.0\n",
      "227.0\n",
      "1034.0\n",
      "320.0\n",
      "764.0\n",
      "679.0\n",
      "280.0\n",
      "79.0\n",
      "459.0\n",
      "614.0\n",
      "190.0\n",
      "741.0\n",
      "852.0\n",
      "221.0\n",
      "518.0\n",
      "378.0\n",
      "123.0\n",
      "321.0\n",
      "310.0\n",
      "754.0\n",
      "254.0\n",
      "195.0\n",
      "669.0\n",
      "426.0\n",
      "652.0\n",
      "602.0\n",
      "253.0\n",
      "303.0\n",
      "189.0\n",
      "123.0\n",
      "447.0\n",
      "377.0\n",
      "520.0\n",
      "317.0\n",
      "366.0\n",
      "336.0\n",
      "114.0\n",
      "1058.0\n",
      "613.0\n",
      "413.0\n",
      "919.0\n",
      "351.0\n",
      "536.0\n",
      "878.0\n",
      "593.0\n",
      "181.0\n",
      "669.0\n",
      "284.0\n",
      "710.0\n",
      "948.0\n",
      "456.0\n",
      "371.0\n",
      "83.0\n",
      "722.0\n",
      "201.0\n",
      "253.0\n",
      "99.0\n",
      "270.0\n",
      "532.0\n",
      "188.0\n",
      "215.0\n",
      "291.0\n",
      "512.0\n",
      "271.0\n",
      "269.0\n",
      "119.0\n",
      "367.0\n",
      "719.0\n",
      "549.0\n",
      "618.0\n"
     ]
    }
   ],
   "source": [
    "for index, i in dataset[dataset.isnull().any(axis=1)].iterrows():\n",
    "    print(round(i[\"total_rooms\"] * uniform(0.16, 0.26))) # possible values for total_bedrooms"
   ]
  },
  {
   "cell_type": "markdown",
   "metadata": {},
   "source": [
    "In this way we probably won't have the original exact values but we are sure that they will be consistent, which is the most important thing when giving more examples to the model; in general, this is the same valid approach for data augmentation."
   ]
  },
  {
   "cell_type": "markdown",
   "metadata": {},
   "source": [
    "Let's build two datasets: one with NaNs removed"
   ]
  },
  {
   "cell_type": "code",
   "execution_count": 156,
   "metadata": {},
   "outputs": [],
   "source": [
    "reduced_dataset = dataset[-dataset.isnull().any(axis=1)]"
   ]
  },
  {
   "cell_type": "markdown",
   "metadata": {},
   "source": [
    "and one with its values replaced as explained above."
   ]
  },
  {
   "cell_type": "code",
   "execution_count": 157,
   "metadata": {},
   "outputs": [
    {
     "name": "stderr",
     "output_type": "stream",
     "text": [
      "/Library/Frameworks/Python.framework/Versions/3.7/lib/python3.7/site-packages/ipykernel_launcher.py:3: SettingWithCopyWarning: \n",
      "A value is trying to be set on a copy of a slice from a DataFrame\n",
      "\n",
      "See the caveats in the documentation: http://pandas.pydata.org/pandas-docs/stable/indexing.html#indexing-view-versus-copy\n",
      "  This is separate from the ipykernel package so we can avoid doing imports until\n"
     ]
    }
   ],
   "source": [
    "for index, i in dataset[[\"total_rooms\", \"total_bedrooms\"]].iterrows():\n",
    "    if math.isnan(i[1]):\n",
    "        dataset[\"total_bedrooms\"][index] = round(dataset[\"total_rooms\"][index] * uniform(0.16, 0.26))"
   ]
  },
  {
   "cell_type": "markdown",
   "metadata": {},
   "source": [
    "let's check again the presence of missing values..."
   ]
  },
  {
   "cell_type": "code",
   "execution_count": 158,
   "metadata": {},
   "outputs": [
    {
     "data": {
      "text/plain": [
       "False"
      ]
     },
     "execution_count": 158,
     "metadata": {},
     "output_type": "execute_result"
    }
   ],
   "source": [
    "dataset.isnull().values.any()"
   ]
  },
  {
   "cell_type": "markdown",
   "metadata": {},
   "source": [
    "and the size of the dataset is the same as before"
   ]
  },
  {
   "cell_type": "code",
   "execution_count": 159,
   "metadata": {},
   "outputs": [
    {
     "data": {
      "text/plain": [
       "16595"
      ]
     },
     "execution_count": 159,
     "metadata": {},
     "output_type": "execute_result"
    }
   ],
   "source": [
    "len(dataset)"
   ]
  },
  {
   "cell_type": "markdown",
   "metadata": {},
   "source": [
    "we can see that the previous cases of NaNs have been replaced by consistent values"
   ]
  },
  {
   "cell_type": "code",
   "execution_count": 160,
   "metadata": {},
   "outputs": [
    {
     "data": {
      "text/html": [
       "<div>\n",
       "<style scoped>\n",
       "    .dataframe tbody tr th:only-of-type {\n",
       "        vertical-align: middle;\n",
       "    }\n",
       "\n",
       "    .dataframe tbody tr th {\n",
       "        vertical-align: top;\n",
       "    }\n",
       "\n",
       "    .dataframe thead th {\n",
       "        text-align: right;\n",
       "    }\n",
       "</style>\n",
       "<table border=\"1\" class=\"dataframe\">\n",
       "  <thead>\n",
       "    <tr style=\"text-align: right;\">\n",
       "      <th></th>\n",
       "      <th>longitude</th>\n",
       "      <th>latitude</th>\n",
       "      <th>housing_median_age</th>\n",
       "      <th>total_rooms</th>\n",
       "      <th>total_bedrooms</th>\n",
       "      <th>population</th>\n",
       "      <th>households</th>\n",
       "      <th>median_income</th>\n",
       "      <th>median_house_value</th>\n",
       "      <th>ocean_proximity</th>\n",
       "    </tr>\n",
       "  </thead>\n",
       "  <tbody>\n",
       "    <tr>\n",
       "      <th>320</th>\n",
       "      <td>-122.19</td>\n",
       "      <td>37.75</td>\n",
       "      <td>28.0</td>\n",
       "      <td>856.0</td>\n",
       "      <td>189.0</td>\n",
       "      <td>435.0</td>\n",
       "      <td>162.0</td>\n",
       "      <td>0.8012</td>\n",
       "      <td>81800.0</td>\n",
       "      <td>2</td>\n",
       "    </tr>\n",
       "    <tr>\n",
       "      <th>372</th>\n",
       "      <td>-122.16</td>\n",
       "      <td>37.75</td>\n",
       "      <td>24.0</td>\n",
       "      <td>1790.0</td>\n",
       "      <td>454.0</td>\n",
       "      <td>1137.0</td>\n",
       "      <td>386.0</td>\n",
       "      <td>2.5370</td>\n",
       "      <td>107900.0</td>\n",
       "      <td>2</td>\n",
       "    </tr>\n",
       "    <tr>\n",
       "      <th>610</th>\n",
       "      <td>-122.09</td>\n",
       "      <td>37.69</td>\n",
       "      <td>20.0</td>\n",
       "      <td>4296.0</td>\n",
       "      <td>817.0</td>\n",
       "      <td>1732.0</td>\n",
       "      <td>800.0</td>\n",
       "      <td>4.8036</td>\n",
       "      <td>188300.0</td>\n",
       "      <td>2</td>\n",
       "    </tr>\n",
       "    <tr>\n",
       "      <th>635</th>\n",
       "      <td>-122.16</td>\n",
       "      <td>37.71</td>\n",
       "      <td>36.0</td>\n",
       "      <td>666.0</td>\n",
       "      <td>132.0</td>\n",
       "      <td>366.0</td>\n",
       "      <td>134.0</td>\n",
       "      <td>3.4643</td>\n",
       "      <td>175000.0</td>\n",
       "      <td>2</td>\n",
       "    </tr>\n",
       "    <tr>\n",
       "      <th>779</th>\n",
       "      <td>-122.12</td>\n",
       "      <td>37.65</td>\n",
       "      <td>26.0</td>\n",
       "      <td>162.0</td>\n",
       "      <td>27.0</td>\n",
       "      <td>86.0</td>\n",
       "      <td>25.0</td>\n",
       "      <td>2.3750</td>\n",
       "      <td>137500.0</td>\n",
       "      <td>2</td>\n",
       "    </tr>\n",
       "    <tr>\n",
       "      <th>825</th>\n",
       "      <td>-122.08</td>\n",
       "      <td>37.63</td>\n",
       "      <td>35.0</td>\n",
       "      <td>517.0</td>\n",
       "      <td>108.0</td>\n",
       "      <td>391.0</td>\n",
       "      <td>107.0</td>\n",
       "      <td>4.0682</td>\n",
       "      <td>156900.0</td>\n",
       "      <td>2</td>\n",
       "    </tr>\n",
       "    <tr>\n",
       "      <th>1266</th>\n",
       "      <td>-121.67</td>\n",
       "      <td>37.99</td>\n",
       "      <td>22.0</td>\n",
       "      <td>1046.0</td>\n",
       "      <td>195.0</td>\n",
       "      <td>527.0</td>\n",
       "      <td>164.0</td>\n",
       "      <td>4.3750</td>\n",
       "      <td>213500.0</td>\n",
       "      <td>1</td>\n",
       "    </tr>\n",
       "    <tr>\n",
       "      <th>1597</th>\n",
       "      <td>-122.11</td>\n",
       "      <td>37.89</td>\n",
       "      <td>32.0</td>\n",
       "      <td>2372.0</td>\n",
       "      <td>516.0</td>\n",
       "      <td>1067.0</td>\n",
       "      <td>492.0</td>\n",
       "      <td>4.3235</td>\n",
       "      <td>279500.0</td>\n",
       "      <td>2</td>\n",
       "    </tr>\n",
       "    <tr>\n",
       "      <th>1755</th>\n",
       "      <td>-122.32</td>\n",
       "      <td>37.94</td>\n",
       "      <td>46.0</td>\n",
       "      <td>1901.0</td>\n",
       "      <td>295.0</td>\n",
       "      <td>833.0</td>\n",
       "      <td>352.0</td>\n",
       "      <td>5.5196</td>\n",
       "      <td>210800.0</td>\n",
       "      <td>2</td>\n",
       "    </tr>\n",
       "    <tr>\n",
       "      <th>1792</th>\n",
       "      <td>-122.38</td>\n",
       "      <td>37.91</td>\n",
       "      <td>18.0</td>\n",
       "      <td>3507.0</td>\n",
       "      <td>711.0</td>\n",
       "      <td>1224.0</td>\n",
       "      <td>676.0</td>\n",
       "      <td>5.0524</td>\n",
       "      <td>269800.0</td>\n",
       "      <td>2</td>\n",
       "    </tr>\n",
       "    <tr>\n",
       "      <th>1908</th>\n",
       "      <td>-120.03</td>\n",
       "      <td>38.89</td>\n",
       "      <td>15.0</td>\n",
       "      <td>3042.0</td>\n",
       "      <td>588.0</td>\n",
       "      <td>918.0</td>\n",
       "      <td>336.0</td>\n",
       "      <td>3.8333</td>\n",
       "      <td>118800.0</td>\n",
       "      <td>1</td>\n",
       "    </tr>\n",
       "  </tbody>\n",
       "</table>\n",
       "</div>"
      ],
      "text/plain": [
       "      longitude  latitude  housing_median_age  total_rooms  total_bedrooms  \\\n",
       "320     -122.19     37.75                28.0        856.0           189.0   \n",
       "372     -122.16     37.75                24.0       1790.0           454.0   \n",
       "610     -122.09     37.69                20.0       4296.0           817.0   \n",
       "635     -122.16     37.71                36.0        666.0           132.0   \n",
       "779     -122.12     37.65                26.0        162.0            27.0   \n",
       "825     -122.08     37.63                35.0        517.0           108.0   \n",
       "1266    -121.67     37.99                22.0       1046.0           195.0   \n",
       "1597    -122.11     37.89                32.0       2372.0           516.0   \n",
       "1755    -122.32     37.94                46.0       1901.0           295.0   \n",
       "1792    -122.38     37.91                18.0       3507.0           711.0   \n",
       "1908    -120.03     38.89                15.0       3042.0           588.0   \n",
       "\n",
       "      population  households  median_income  median_house_value  \\\n",
       "320        435.0       162.0         0.8012             81800.0   \n",
       "372       1137.0       386.0         2.5370            107900.0   \n",
       "610       1732.0       800.0         4.8036            188300.0   \n",
       "635        366.0       134.0         3.4643            175000.0   \n",
       "779         86.0        25.0         2.3750            137500.0   \n",
       "825        391.0       107.0         4.0682            156900.0   \n",
       "1266       527.0       164.0         4.3750            213500.0   \n",
       "1597      1067.0       492.0         4.3235            279500.0   \n",
       "1755       833.0       352.0         5.5196            210800.0   \n",
       "1792      1224.0       676.0         5.0524            269800.0   \n",
       "1908       918.0       336.0         3.8333            118800.0   \n",
       "\n",
       "      ocean_proximity  \n",
       "320                 2  \n",
       "372                 2  \n",
       "610                 2  \n",
       "635                 2  \n",
       "779                 2  \n",
       "825                 2  \n",
       "1266                1  \n",
       "1597                2  \n",
       "1755                2  \n",
       "1792                2  \n",
       "1908                1  "
      ]
     },
     "execution_count": 160,
     "metadata": {},
     "output_type": "execute_result"
    }
   ],
   "source": [
    "nans_indexes = [290, 341, 538, 563, 696, 738, 1097, 1350, 1456, 1493, 1606]\n",
    "\n",
    "dataset.iloc[nans_indexes]"
   ]
  },
  {
   "cell_type": "markdown",
   "metadata": {},
   "source": [
    "## (optional) Data augmentation?"
   ]
  },
  {
   "cell_type": "code",
   "execution_count": 161,
   "metadata": {},
   "outputs": [],
   "source": [
    "# we may consider to augment data if the dataset is not enough rich of examples"
   ]
  },
  {
   "cell_type": "markdown",
   "metadata": {},
   "source": [
    "## Normalization"
   ]
  },
  {
   "cell_type": "markdown",
   "metadata": {},
   "source": [
    "As final step of preprocessing we perform normalization, basically, there are two main categories: min-max and z-score; we will try both to see which one is better for our data."
   ]
  },
  {
   "cell_type": "markdown",
   "metadata": {},
   "source": [
    "### Min-Max"
   ]
  },
  {
   "cell_type": "markdown",
   "metadata": {},
   "source": [
    " <img src=\"images/minmax.png\" width=\"200\"/>"
   ]
  },
  {
   "cell_type": "code",
   "execution_count": 162,
   "metadata": {},
   "outputs": [],
   "source": [
    "min_max_norm_dataset = dataset"
   ]
  },
  {
   "cell_type": "code",
   "execution_count": 163,
   "metadata": {},
   "outputs": [],
   "source": [
    "min_max_norm_dataset = ((min_max_norm_dataset - min_max_norm_dataset.min()) / (min_max_norm_dataset.max() - min_max_norm_dataset.min()))"
   ]
  },
  {
   "cell_type": "code",
   "execution_count": 164,
   "metadata": {},
   "outputs": [
    {
     "data": {
      "text/html": [
       "<div>\n",
       "<style scoped>\n",
       "    .dataframe tbody tr th:only-of-type {\n",
       "        vertical-align: middle;\n",
       "    }\n",
       "\n",
       "    .dataframe tbody tr th {\n",
       "        vertical-align: top;\n",
       "    }\n",
       "\n",
       "    .dataframe thead th {\n",
       "        text-align: right;\n",
       "    }\n",
       "</style>\n",
       "<table border=\"1\" class=\"dataframe\">\n",
       "  <thead>\n",
       "    <tr style=\"text-align: right;\">\n",
       "      <th></th>\n",
       "      <th>longitude</th>\n",
       "      <th>latitude</th>\n",
       "      <th>housing_median_age</th>\n",
       "      <th>total_rooms</th>\n",
       "      <th>total_bedrooms</th>\n",
       "      <th>population</th>\n",
       "      <th>households</th>\n",
       "      <th>median_income</th>\n",
       "      <th>median_house_value</th>\n",
       "      <th>ocean_proximity</th>\n",
       "    </tr>\n",
       "  </thead>\n",
       "  <tbody>\n",
       "    <tr>\n",
       "      <th>2</th>\n",
       "      <td>0.213996</td>\n",
       "      <td>0.564293</td>\n",
       "      <td>1.000000</td>\n",
       "      <td>0.299898</td>\n",
       "      <td>0.165493</td>\n",
       "      <td>0.056472</td>\n",
       "      <td>0.187567</td>\n",
       "      <td>0.994774</td>\n",
       "      <td>0.852986</td>\n",
       "      <td>0.25</td>\n",
       "    </tr>\n",
       "    <tr>\n",
       "      <th>3</th>\n",
       "      <td>0.212982</td>\n",
       "      <td>0.564293</td>\n",
       "      <td>1.000000</td>\n",
       "      <td>0.260389</td>\n",
       "      <td>0.205106</td>\n",
       "      <td>0.063574</td>\n",
       "      <td>0.232583</td>\n",
       "      <td>0.757132</td>\n",
       "      <td>0.825658</td>\n",
       "      <td>0.25</td>\n",
       "    </tr>\n",
       "    <tr>\n",
       "      <th>4</th>\n",
       "      <td>0.212982</td>\n",
       "      <td>0.564293</td>\n",
       "      <td>1.000000</td>\n",
       "      <td>0.332651</td>\n",
       "      <td>0.244718</td>\n",
       "      <td>0.064376</td>\n",
       "      <td>0.275456</td>\n",
       "      <td>0.492610</td>\n",
       "      <td>0.827936</td>\n",
       "      <td>0.25</td>\n",
       "    </tr>\n",
       "    <tr>\n",
       "      <th>5</th>\n",
       "      <td>0.212982</td>\n",
       "      <td>0.564293</td>\n",
       "      <td>1.000000</td>\n",
       "      <td>0.187718</td>\n",
       "      <td>0.185739</td>\n",
       "      <td>0.046964</td>\n",
       "      <td>0.204716</td>\n",
       "      <td>0.520668</td>\n",
       "      <td>0.644485</td>\n",
       "      <td>0.25</td>\n",
       "    </tr>\n",
       "    <tr>\n",
       "      <th>6</th>\n",
       "      <td>0.212982</td>\n",
       "      <td>0.563231</td>\n",
       "      <td>1.000000</td>\n",
       "      <td>0.518526</td>\n",
       "      <td>0.428697</td>\n",
       "      <td>0.124971</td>\n",
       "      <td>0.548767</td>\n",
       "      <td>0.465067</td>\n",
       "      <td>0.719130</td>\n",
       "      <td>0.25</td>\n",
       "    </tr>\n",
       "    <tr>\n",
       "      <th>7</th>\n",
       "      <td>0.212982</td>\n",
       "      <td>0.563231</td>\n",
       "      <td>1.000000</td>\n",
       "      <td>0.635005</td>\n",
       "      <td>0.602993</td>\n",
       "      <td>0.132188</td>\n",
       "      <td>0.691318</td>\n",
       "      <td>0.385706</td>\n",
       "      <td>0.572876</td>\n",
       "      <td>0.25</td>\n",
       "    </tr>\n",
       "    <tr>\n",
       "      <th>8</th>\n",
       "      <td>0.211968</td>\n",
       "      <td>0.563231</td>\n",
       "      <td>0.803922</td>\n",
       "      <td>0.522620</td>\n",
       "      <td>0.583627</td>\n",
       "      <td>0.137801</td>\n",
       "      <td>0.635584</td>\n",
       "      <td>0.232666</td>\n",
       "      <td>0.535679</td>\n",
       "      <td>0.25</td>\n",
       "    </tr>\n",
       "    <tr>\n",
       "      <th>9</th>\n",
       "      <td>0.212982</td>\n",
       "      <td>0.563231</td>\n",
       "      <td>1.000000</td>\n",
       "      <td>0.726100</td>\n",
       "      <td>0.620599</td>\n",
       "      <td>0.177320</td>\n",
       "      <td>0.763130</td>\n",
       "      <td>0.469792</td>\n",
       "      <td>0.622724</td>\n",
       "      <td>0.25</td>\n",
       "    </tr>\n",
       "    <tr>\n",
       "      <th>10</th>\n",
       "      <td>0.211968</td>\n",
       "      <td>0.564293</td>\n",
       "      <td>1.000000</td>\n",
       "      <td>0.450358</td>\n",
       "      <td>0.380282</td>\n",
       "      <td>0.103895</td>\n",
       "      <td>0.428725</td>\n",
       "      <td>0.397939</td>\n",
       "      <td>0.674343</td>\n",
       "      <td>0.25</td>\n",
       "    </tr>\n",
       "    <tr>\n",
       "      <th>11</th>\n",
       "      <td>0.211968</td>\n",
       "      <td>0.564293</td>\n",
       "      <td>1.000000</td>\n",
       "      <td>0.716684</td>\n",
       "      <td>0.660211</td>\n",
       "      <td>0.171936</td>\n",
       "      <td>0.784566</td>\n",
       "      <td>0.407861</td>\n",
       "      <td>0.573888</td>\n",
       "      <td>0.25</td>\n",
       "    </tr>\n",
       "  </tbody>\n",
       "</table>\n",
       "</div>"
      ],
      "text/plain": [
       "    longitude  latitude  housing_median_age  total_rooms  total_bedrooms  \\\n",
       "2    0.213996  0.564293            1.000000     0.299898        0.165493   \n",
       "3    0.212982  0.564293            1.000000     0.260389        0.205106   \n",
       "4    0.212982  0.564293            1.000000     0.332651        0.244718   \n",
       "5    0.212982  0.564293            1.000000     0.187718        0.185739   \n",
       "6    0.212982  0.563231            1.000000     0.518526        0.428697   \n",
       "7    0.212982  0.563231            1.000000     0.635005        0.602993   \n",
       "8    0.211968  0.563231            0.803922     0.522620        0.583627   \n",
       "9    0.212982  0.563231            1.000000     0.726100        0.620599   \n",
       "10   0.211968  0.564293            1.000000     0.450358        0.380282   \n",
       "11   0.211968  0.564293            1.000000     0.716684        0.660211   \n",
       "\n",
       "    population  households  median_income  median_house_value  ocean_proximity  \n",
       "2     0.056472    0.187567       0.994774            0.852986             0.25  \n",
       "3     0.063574    0.232583       0.757132            0.825658             0.25  \n",
       "4     0.064376    0.275456       0.492610            0.827936             0.25  \n",
       "5     0.046964    0.204716       0.520668            0.644485             0.25  \n",
       "6     0.124971    0.548767       0.465067            0.719130             0.25  \n",
       "7     0.132188    0.691318       0.385706            0.572876             0.25  \n",
       "8     0.137801    0.635584       0.232666            0.535679             0.25  \n",
       "9     0.177320    0.763130       0.469792            0.622724             0.25  \n",
       "10    0.103895    0.428725       0.397939            0.674343             0.25  \n",
       "11    0.171936    0.784566       0.407861            0.573888             0.25  "
      ]
     },
     "execution_count": 164,
     "metadata": {},
     "output_type": "execute_result"
    }
   ],
   "source": [
    "min_max_norm_dataset.head(10)"
   ]
  },
  {
   "cell_type": "markdown",
   "metadata": {},
   "source": [
    "Now we apply the same normalization for the reduced dataset"
   ]
  },
  {
   "cell_type": "code",
   "execution_count": 165,
   "metadata": {},
   "outputs": [],
   "source": [
    "min_max_norm_reduced_dataset = reduced_dataset"
   ]
  },
  {
   "cell_type": "code",
   "execution_count": 166,
   "metadata": {},
   "outputs": [],
   "source": [
    "min_max_norm_reduced_dataset = ((min_max_norm_reduced_dataset - min_max_norm_reduced_dataset.min()) / (min_max_norm_reduced_dataset.max() - min_max_norm_reduced_dataset.min()))"
   ]
  },
  {
   "cell_type": "code",
   "execution_count": 167,
   "metadata": {},
   "outputs": [
    {
     "data": {
      "text/html": [
       "<div>\n",
       "<style scoped>\n",
       "    .dataframe tbody tr th:only-of-type {\n",
       "        vertical-align: middle;\n",
       "    }\n",
       "\n",
       "    .dataframe tbody tr th {\n",
       "        vertical-align: top;\n",
       "    }\n",
       "\n",
       "    .dataframe thead th {\n",
       "        text-align: right;\n",
       "    }\n",
       "</style>\n",
       "<table border=\"1\" class=\"dataframe\">\n",
       "  <thead>\n",
       "    <tr style=\"text-align: right;\">\n",
       "      <th></th>\n",
       "      <th>longitude</th>\n",
       "      <th>latitude</th>\n",
       "      <th>housing_median_age</th>\n",
       "      <th>total_rooms</th>\n",
       "      <th>total_bedrooms</th>\n",
       "      <th>population</th>\n",
       "      <th>households</th>\n",
       "      <th>median_income</th>\n",
       "      <th>median_house_value</th>\n",
       "      <th>ocean_proximity</th>\n",
       "    </tr>\n",
       "  </thead>\n",
       "  <tbody>\n",
       "    <tr>\n",
       "      <th>2</th>\n",
       "      <td>0.213996</td>\n",
       "      <td>0.564293</td>\n",
       "      <td>1.000000</td>\n",
       "      <td>0.299898</td>\n",
       "      <td>0.186879</td>\n",
       "      <td>0.056472</td>\n",
       "      <td>0.187567</td>\n",
       "      <td>0.994774</td>\n",
       "      <td>0.852986</td>\n",
       "      <td>0.25</td>\n",
       "    </tr>\n",
       "    <tr>\n",
       "      <th>3</th>\n",
       "      <td>0.212982</td>\n",
       "      <td>0.564293</td>\n",
       "      <td>1.000000</td>\n",
       "      <td>0.260389</td>\n",
       "      <td>0.231610</td>\n",
       "      <td>0.063574</td>\n",
       "      <td>0.232583</td>\n",
       "      <td>0.757132</td>\n",
       "      <td>0.825658</td>\n",
       "      <td>0.25</td>\n",
       "    </tr>\n",
       "    <tr>\n",
       "      <th>4</th>\n",
       "      <td>0.212982</td>\n",
       "      <td>0.564293</td>\n",
       "      <td>1.000000</td>\n",
       "      <td>0.332651</td>\n",
       "      <td>0.276342</td>\n",
       "      <td>0.064376</td>\n",
       "      <td>0.275456</td>\n",
       "      <td>0.492610</td>\n",
       "      <td>0.827936</td>\n",
       "      <td>0.25</td>\n",
       "    </tr>\n",
       "    <tr>\n",
       "      <th>5</th>\n",
       "      <td>0.212982</td>\n",
       "      <td>0.564293</td>\n",
       "      <td>1.000000</td>\n",
       "      <td>0.187718</td>\n",
       "      <td>0.209742</td>\n",
       "      <td>0.046964</td>\n",
       "      <td>0.204716</td>\n",
       "      <td>0.520668</td>\n",
       "      <td>0.644485</td>\n",
       "      <td>0.25</td>\n",
       "    </tr>\n",
       "    <tr>\n",
       "      <th>6</th>\n",
       "      <td>0.212982</td>\n",
       "      <td>0.563231</td>\n",
       "      <td>1.000000</td>\n",
       "      <td>0.518526</td>\n",
       "      <td>0.484095</td>\n",
       "      <td>0.124971</td>\n",
       "      <td>0.548767</td>\n",
       "      <td>0.465067</td>\n",
       "      <td>0.719130</td>\n",
       "      <td>0.25</td>\n",
       "    </tr>\n",
       "    <tr>\n",
       "      <th>7</th>\n",
       "      <td>0.212982</td>\n",
       "      <td>0.563231</td>\n",
       "      <td>1.000000</td>\n",
       "      <td>0.635005</td>\n",
       "      <td>0.680915</td>\n",
       "      <td>0.132188</td>\n",
       "      <td>0.691318</td>\n",
       "      <td>0.385706</td>\n",
       "      <td>0.572876</td>\n",
       "      <td>0.25</td>\n",
       "    </tr>\n",
       "    <tr>\n",
       "      <th>8</th>\n",
       "      <td>0.211968</td>\n",
       "      <td>0.563231</td>\n",
       "      <td>0.803922</td>\n",
       "      <td>0.522620</td>\n",
       "      <td>0.659046</td>\n",
       "      <td>0.137801</td>\n",
       "      <td>0.635584</td>\n",
       "      <td>0.232666</td>\n",
       "      <td>0.535679</td>\n",
       "      <td>0.25</td>\n",
       "    </tr>\n",
       "    <tr>\n",
       "      <th>9</th>\n",
       "      <td>0.212982</td>\n",
       "      <td>0.563231</td>\n",
       "      <td>1.000000</td>\n",
       "      <td>0.726100</td>\n",
       "      <td>0.700795</td>\n",
       "      <td>0.177320</td>\n",
       "      <td>0.763130</td>\n",
       "      <td>0.469792</td>\n",
       "      <td>0.622724</td>\n",
       "      <td>0.25</td>\n",
       "    </tr>\n",
       "    <tr>\n",
       "      <th>10</th>\n",
       "      <td>0.211968</td>\n",
       "      <td>0.564293</td>\n",
       "      <td>1.000000</td>\n",
       "      <td>0.450358</td>\n",
       "      <td>0.429423</td>\n",
       "      <td>0.103895</td>\n",
       "      <td>0.428725</td>\n",
       "      <td>0.397939</td>\n",
       "      <td>0.674343</td>\n",
       "      <td>0.25</td>\n",
       "    </tr>\n",
       "    <tr>\n",
       "      <th>11</th>\n",
       "      <td>0.211968</td>\n",
       "      <td>0.564293</td>\n",
       "      <td>1.000000</td>\n",
       "      <td>0.716684</td>\n",
       "      <td>0.745527</td>\n",
       "      <td>0.171936</td>\n",
       "      <td>0.784566</td>\n",
       "      <td>0.407861</td>\n",
       "      <td>0.573888</td>\n",
       "      <td>0.25</td>\n",
       "    </tr>\n",
       "  </tbody>\n",
       "</table>\n",
       "</div>"
      ],
      "text/plain": [
       "    longitude  latitude  housing_median_age  total_rooms  total_bedrooms  \\\n",
       "2    0.213996  0.564293            1.000000     0.299898        0.186879   \n",
       "3    0.212982  0.564293            1.000000     0.260389        0.231610   \n",
       "4    0.212982  0.564293            1.000000     0.332651        0.276342   \n",
       "5    0.212982  0.564293            1.000000     0.187718        0.209742   \n",
       "6    0.212982  0.563231            1.000000     0.518526        0.484095   \n",
       "7    0.212982  0.563231            1.000000     0.635005        0.680915   \n",
       "8    0.211968  0.563231            0.803922     0.522620        0.659046   \n",
       "9    0.212982  0.563231            1.000000     0.726100        0.700795   \n",
       "10   0.211968  0.564293            1.000000     0.450358        0.429423   \n",
       "11   0.211968  0.564293            1.000000     0.716684        0.745527   \n",
       "\n",
       "    population  households  median_income  median_house_value  ocean_proximity  \n",
       "2     0.056472    0.187567       0.994774            0.852986             0.25  \n",
       "3     0.063574    0.232583       0.757132            0.825658             0.25  \n",
       "4     0.064376    0.275456       0.492610            0.827936             0.25  \n",
       "5     0.046964    0.204716       0.520668            0.644485             0.25  \n",
       "6     0.124971    0.548767       0.465067            0.719130             0.25  \n",
       "7     0.132188    0.691318       0.385706            0.572876             0.25  \n",
       "8     0.137801    0.635584       0.232666            0.535679             0.25  \n",
       "9     0.177320    0.763130       0.469792            0.622724             0.25  \n",
       "10    0.103895    0.428725       0.397939            0.674343             0.25  \n",
       "11    0.171936    0.784566       0.407861            0.573888             0.25  "
      ]
     },
     "execution_count": 167,
     "metadata": {},
     "output_type": "execute_result"
    }
   ],
   "source": [
    "min_max_norm_reduced_dataset.head(10)"
   ]
  },
  {
   "cell_type": "markdown",
   "metadata": {},
   "source": [
    "### Z-score"
   ]
  },
  {
   "cell_type": "markdown",
   "metadata": {},
   "source": [
    " <img src=\"images/zscore.png\" width=\"200\"/>"
   ]
  },
  {
   "cell_type": "code",
   "execution_count": 168,
   "metadata": {},
   "outputs": [
    {
     "data": {
      "text/html": [
       "<div>\n",
       "<style scoped>\n",
       "    .dataframe tbody tr th:only-of-type {\n",
       "        vertical-align: middle;\n",
       "    }\n",
       "\n",
       "    .dataframe tbody tr th {\n",
       "        vertical-align: top;\n",
       "    }\n",
       "\n",
       "    .dataframe thead th {\n",
       "        text-align: right;\n",
       "    }\n",
       "</style>\n",
       "<table border=\"1\" class=\"dataframe\">\n",
       "  <thead>\n",
       "    <tr style=\"text-align: right;\">\n",
       "      <th></th>\n",
       "      <th>longitude</th>\n",
       "      <th>latitude</th>\n",
       "      <th>housing_median_age</th>\n",
       "      <th>total_rooms</th>\n",
       "      <th>total_bedrooms</th>\n",
       "      <th>population</th>\n",
       "      <th>households</th>\n",
       "      <th>median_income</th>\n",
       "      <th>median_house_value</th>\n",
       "      <th>ocean_proximity</th>\n",
       "    </tr>\n",
       "  </thead>\n",
       "  <tbody>\n",
       "    <tr>\n",
       "      <th>0</th>\n",
       "      <td>-1.326788</td>\n",
       "      <td>0.988873</td>\n",
       "      <td>1.843011</td>\n",
       "      <td>-0.595078</td>\n",
       "      <td>-1.183066</td>\n",
       "      <td>-1.114802</td>\n",
       "      <td>-1.195432</td>\n",
       "      <td>2.795332</td>\n",
       "      <td>2.081178</td>\n",
       "      <td>-0.313998</td>\n",
       "    </tr>\n",
       "    <tr>\n",
       "      <th>1</th>\n",
       "      <td>-1.331790</td>\n",
       "      <td>0.988873</td>\n",
       "      <td>1.843011</td>\n",
       "      <td>-0.790323</td>\n",
       "      <td>-0.961812</td>\n",
       "      <td>-1.014966</td>\n",
       "      <td>-0.973758</td>\n",
       "      <td>1.603394</td>\n",
       "      <td>1.952385</td>\n",
       "      <td>-0.313998</td>\n",
       "    </tr>\n",
       "    <tr>\n",
       "      <th>2</th>\n",
       "      <td>-1.331790</td>\n",
       "      <td>0.988873</td>\n",
       "      <td>1.843011</td>\n",
       "      <td>-0.433217</td>\n",
       "      <td>-0.740558</td>\n",
       "      <td>-1.003694</td>\n",
       "      <td>-0.762640</td>\n",
       "      <td>0.276632</td>\n",
       "      <td>1.963118</td>\n",
       "      <td>-0.313998</td>\n",
       "    </tr>\n",
       "    <tr>\n",
       "      <th>3</th>\n",
       "      <td>-1.331790</td>\n",
       "      <td>0.988873</td>\n",
       "      <td>1.843011</td>\n",
       "      <td>-1.149452</td>\n",
       "      <td>-1.069981</td>\n",
       "      <td>-1.248454</td>\n",
       "      <td>-1.110985</td>\n",
       "      <td>0.417363</td>\n",
       "      <td>1.098538</td>\n",
       "      <td>-0.313998</td>\n",
       "    </tr>\n",
       "    <tr>\n",
       "      <th>4</th>\n",
       "      <td>-1.331790</td>\n",
       "      <td>0.984278</td>\n",
       "      <td>1.843011</td>\n",
       "      <td>0.485346</td>\n",
       "      <td>0.287046</td>\n",
       "      <td>-0.151865</td>\n",
       "      <td>0.583236</td>\n",
       "      <td>0.138484</td>\n",
       "      <td>1.450332</td>\n",
       "      <td>-0.313998</td>\n",
       "    </tr>\n",
       "    <tr>\n",
       "      <th>5</th>\n",
       "      <td>-1.331790</td>\n",
       "      <td>0.984278</td>\n",
       "      <td>1.843011</td>\n",
       "      <td>1.060964</td>\n",
       "      <td>1.260565</td>\n",
       "      <td>-0.050418</td>\n",
       "      <td>1.285202</td>\n",
       "      <td>-0.259567</td>\n",
       "      <td>0.761053</td>\n",
       "      <td>-0.313998</td>\n",
       "    </tr>\n",
       "    <tr>\n",
       "      <th>6</th>\n",
       "      <td>-1.336791</td>\n",
       "      <td>0.984278</td>\n",
       "      <td>1.017025</td>\n",
       "      <td>0.505578</td>\n",
       "      <td>1.152396</td>\n",
       "      <td>0.028485</td>\n",
       "      <td>1.010749</td>\n",
       "      <td>-1.027168</td>\n",
       "      <td>0.585752</td>\n",
       "      <td>-0.313998</td>\n",
       "    </tr>\n",
       "    <tr>\n",
       "      <th>7</th>\n",
       "      <td>-1.331790</td>\n",
       "      <td>0.984278</td>\n",
       "      <td>1.843011</td>\n",
       "      <td>1.511141</td>\n",
       "      <td>1.358900</td>\n",
       "      <td>0.584026</td>\n",
       "      <td>1.638825</td>\n",
       "      <td>0.162185</td>\n",
       "      <td>0.995981</td>\n",
       "      <td>-0.313998</td>\n",
       "    </tr>\n",
       "    <tr>\n",
       "      <th>8</th>\n",
       "      <td>-1.336791</td>\n",
       "      <td>0.988873</td>\n",
       "      <td>1.843011</td>\n",
       "      <td>0.148472</td>\n",
       "      <td>0.016624</td>\n",
       "      <td>-0.448153</td>\n",
       "      <td>-0.007894</td>\n",
       "      <td>-0.198209</td>\n",
       "      <td>1.239256</td>\n",
       "      <td>-0.313998</td>\n",
       "    </tr>\n",
       "    <tr>\n",
       "      <th>9</th>\n",
       "      <td>-1.336791</td>\n",
       "      <td>0.988873</td>\n",
       "      <td>1.843011</td>\n",
       "      <td>1.464606</td>\n",
       "      <td>1.580155</td>\n",
       "      <td>0.508343</td>\n",
       "      <td>1.744383</td>\n",
       "      <td>-0.148443</td>\n",
       "      <td>0.765823</td>\n",
       "      <td>-0.313998</td>\n",
       "    </tr>\n",
       "  </tbody>\n",
       "</table>\n",
       "</div>"
      ],
      "text/plain": [
       "   longitude  latitude  housing_median_age  total_rooms  total_bedrooms  \\\n",
       "0  -1.326788  0.988873            1.843011    -0.595078       -1.183066   \n",
       "1  -1.331790  0.988873            1.843011    -0.790323       -0.961812   \n",
       "2  -1.331790  0.988873            1.843011    -0.433217       -0.740558   \n",
       "3  -1.331790  0.988873            1.843011    -1.149452       -1.069981   \n",
       "4  -1.331790  0.984278            1.843011     0.485346        0.287046   \n",
       "5  -1.331790  0.984278            1.843011     1.060964        1.260565   \n",
       "6  -1.336791  0.984278            1.017025     0.505578        1.152396   \n",
       "7  -1.331790  0.984278            1.843011     1.511141        1.358900   \n",
       "8  -1.336791  0.988873            1.843011     0.148472        0.016624   \n",
       "9  -1.336791  0.988873            1.843011     1.464606        1.580155   \n",
       "\n",
       "   population  households  median_income  median_house_value  ocean_proximity  \n",
       "0   -1.114802   -1.195432       2.795332            2.081178        -0.313998  \n",
       "1   -1.014966   -0.973758       1.603394            1.952385        -0.313998  \n",
       "2   -1.003694   -0.762640       0.276632            1.963118        -0.313998  \n",
       "3   -1.248454   -1.110985       0.417363            1.098538        -0.313998  \n",
       "4   -0.151865    0.583236       0.138484            1.450332        -0.313998  \n",
       "5   -0.050418    1.285202      -0.259567            0.761053        -0.313998  \n",
       "6    0.028485    1.010749      -1.027168            0.585752        -0.313998  \n",
       "7    0.584026    1.638825       0.162185            0.995981        -0.313998  \n",
       "8   -0.448153   -0.007894      -0.198209            1.239256        -0.313998  \n",
       "9    0.508343    1.744383      -0.148443            0.765823        -0.313998  "
      ]
     },
     "execution_count": 168,
     "metadata": {},
     "output_type": "execute_result"
    }
   ],
   "source": [
    "zscore_norm_dataset = dataset\n",
    "\n",
    "zscore_norm_dataset = stats.zscore(zscore_norm_dataset)\n",
    "zscore_norm_dataset = pd.DataFrame(zscore_norm_dataset)\n",
    "zscore_norm_dataset.columns = col\n",
    "zscore_norm_dataset.head(10)"
   ]
  },
  {
   "cell_type": "markdown",
   "metadata": {},
   "source": [
    "and, again, let's apply the same to the reduced dataset"
   ]
  },
  {
   "cell_type": "code",
   "execution_count": 169,
   "metadata": {},
   "outputs": [
    {
     "data": {
      "text/html": [
       "<div>\n",
       "<style scoped>\n",
       "    .dataframe tbody tr th:only-of-type {\n",
       "        vertical-align: middle;\n",
       "    }\n",
       "\n",
       "    .dataframe tbody tr th {\n",
       "        vertical-align: top;\n",
       "    }\n",
       "\n",
       "    .dataframe thead th {\n",
       "        text-align: right;\n",
       "    }\n",
       "</style>\n",
       "<table border=\"1\" class=\"dataframe\">\n",
       "  <thead>\n",
       "    <tr style=\"text-align: right;\">\n",
       "      <th></th>\n",
       "      <th>longitude</th>\n",
       "      <th>latitude</th>\n",
       "      <th>housing_median_age</th>\n",
       "      <th>total_rooms</th>\n",
       "      <th>total_bedrooms</th>\n",
       "      <th>population</th>\n",
       "      <th>households</th>\n",
       "      <th>median_income</th>\n",
       "      <th>median_house_value</th>\n",
       "      <th>ocean_proximity</th>\n",
       "    </tr>\n",
       "  </thead>\n",
       "  <tbody>\n",
       "    <tr>\n",
       "      <th>0</th>\n",
       "      <td>-1.326151</td>\n",
       "      <td>0.987856</td>\n",
       "      <td>1.842902</td>\n",
       "      <td>-0.596190</td>\n",
       "      <td>-1.185582</td>\n",
       "      <td>-1.114800</td>\n",
       "      <td>-1.196141</td>\n",
       "      <td>2.794099</td>\n",
       "      <td>2.082002</td>\n",
       "      <td>-0.312879</td>\n",
       "    </tr>\n",
       "    <tr>\n",
       "      <th>1</th>\n",
       "      <td>-1.331153</td>\n",
       "      <td>0.987856</td>\n",
       "      <td>1.842902</td>\n",
       "      <td>-0.791634</td>\n",
       "      <td>-0.963948</td>\n",
       "      <td>-1.014977</td>\n",
       "      <td>-0.974406</td>\n",
       "      <td>1.602430</td>\n",
       "      <td>1.953176</td>\n",
       "      <td>-0.312879</td>\n",
       "    </tr>\n",
       "    <tr>\n",
       "      <th>2</th>\n",
       "      <td>-1.331153</td>\n",
       "      <td>0.987856</td>\n",
       "      <td>1.842902</td>\n",
       "      <td>-0.434163</td>\n",
       "      <td>-0.742314</td>\n",
       "      <td>-1.003707</td>\n",
       "      <td>-0.763230</td>\n",
       "      <td>0.275967</td>\n",
       "      <td>1.963911</td>\n",
       "      <td>-0.312879</td>\n",
       "    </tr>\n",
       "    <tr>\n",
       "      <th>3</th>\n",
       "      <td>-1.331153</td>\n",
       "      <td>0.987856</td>\n",
       "      <td>1.842902</td>\n",
       "      <td>-1.151130</td>\n",
       "      <td>-1.072302</td>\n",
       "      <td>-1.248434</td>\n",
       "      <td>-1.111670</td>\n",
       "      <td>0.416667</td>\n",
       "      <td>1.099107</td>\n",
       "      <td>-0.312879</td>\n",
       "    </tr>\n",
       "    <tr>\n",
       "      <th>4</th>\n",
       "      <td>-1.331153</td>\n",
       "      <td>0.983262</td>\n",
       "      <td>1.842902</td>\n",
       "      <td>0.485337</td>\n",
       "      <td>0.287053</td>\n",
       "      <td>-0.151992</td>\n",
       "      <td>0.583017</td>\n",
       "      <td>0.137851</td>\n",
       "      <td>1.450993</td>\n",
       "      <td>-0.312879</td>\n",
       "    </tr>\n",
       "    <tr>\n",
       "      <th>5</th>\n",
       "      <td>-1.331153</td>\n",
       "      <td>0.983262</td>\n",
       "      <td>1.842902</td>\n",
       "      <td>1.061543</td>\n",
       "      <td>1.262243</td>\n",
       "      <td>-0.050559</td>\n",
       "      <td>1.285178</td>\n",
       "      <td>-0.260110</td>\n",
       "      <td>0.761536</td>\n",
       "      <td>-0.312879</td>\n",
       "    </tr>\n",
       "    <tr>\n",
       "      <th>6</th>\n",
       "      <td>-1.336155</td>\n",
       "      <td>0.983262</td>\n",
       "      <td>1.017442</td>\n",
       "      <td>0.505590</td>\n",
       "      <td>1.153889</td>\n",
       "      <td>0.028334</td>\n",
       "      <td>1.010649</td>\n",
       "      <td>-1.027538</td>\n",
       "      <td>0.586189</td>\n",
       "      <td>-0.312879</td>\n",
       "    </tr>\n",
       "    <tr>\n",
       "      <th>7</th>\n",
       "      <td>-1.331153</td>\n",
       "      <td>0.983262</td>\n",
       "      <td>1.842902</td>\n",
       "      <td>1.512179</td>\n",
       "      <td>1.360747</td>\n",
       "      <td>0.583800</td>\n",
       "      <td>1.638898</td>\n",
       "      <td>0.161547</td>\n",
       "      <td>0.996524</td>\n",
       "      <td>-0.312879</td>\n",
       "    </tr>\n",
       "    <tr>\n",
       "      <th>8</th>\n",
       "      <td>-1.336155</td>\n",
       "      <td>0.987856</td>\n",
       "      <td>1.842902</td>\n",
       "      <td>0.148119</td>\n",
       "      <td>0.016167</td>\n",
       "      <td>-0.448241</td>\n",
       "      <td>-0.008276</td>\n",
       "      <td>-0.198766</td>\n",
       "      <td>1.239862</td>\n",
       "      <td>-0.312879</td>\n",
       "    </tr>\n",
       "    <tr>\n",
       "      <th>9</th>\n",
       "      <td>-1.336155</td>\n",
       "      <td>0.987856</td>\n",
       "      <td>1.842902</td>\n",
       "      <td>1.465596</td>\n",
       "      <td>1.582381</td>\n",
       "      <td>0.508128</td>\n",
       "      <td>1.744486</td>\n",
       "      <td>-0.149012</td>\n",
       "      <td>0.766307</td>\n",
       "      <td>-0.312879</td>\n",
       "    </tr>\n",
       "  </tbody>\n",
       "</table>\n",
       "</div>"
      ],
      "text/plain": [
       "   longitude  latitude  housing_median_age  total_rooms  total_bedrooms  \\\n",
       "0  -1.326151  0.987856            1.842902    -0.596190       -1.185582   \n",
       "1  -1.331153  0.987856            1.842902    -0.791634       -0.963948   \n",
       "2  -1.331153  0.987856            1.842902    -0.434163       -0.742314   \n",
       "3  -1.331153  0.987856            1.842902    -1.151130       -1.072302   \n",
       "4  -1.331153  0.983262            1.842902     0.485337        0.287053   \n",
       "5  -1.331153  0.983262            1.842902     1.061543        1.262243   \n",
       "6  -1.336155  0.983262            1.017442     0.505590        1.153889   \n",
       "7  -1.331153  0.983262            1.842902     1.512179        1.360747   \n",
       "8  -1.336155  0.987856            1.842902     0.148119        0.016167   \n",
       "9  -1.336155  0.987856            1.842902     1.465596        1.582381   \n",
       "\n",
       "   population  households  median_income  median_house_value  ocean_proximity  \n",
       "0   -1.114800   -1.196141       2.794099            2.082002        -0.312879  \n",
       "1   -1.014977   -0.974406       1.602430            1.953176        -0.312879  \n",
       "2   -1.003707   -0.763230       0.275967            1.963911        -0.312879  \n",
       "3   -1.248434   -1.111670       0.416667            1.099107        -0.312879  \n",
       "4   -0.151992    0.583017       0.137851            1.450993        -0.312879  \n",
       "5   -0.050559    1.285178      -0.260110            0.761536        -0.312879  \n",
       "6    0.028334    1.010649      -1.027538            0.586189        -0.312879  \n",
       "7    0.583800    1.638898       0.161547            0.996524        -0.312879  \n",
       "8   -0.448241   -0.008276      -0.198766            1.239862        -0.312879  \n",
       "9    0.508128    1.744486      -0.149012            0.766307        -0.312879  "
      ]
     },
     "execution_count": 169,
     "metadata": {},
     "output_type": "execute_result"
    }
   ],
   "source": [
    "zscore_norm_reduced_dataset = reduced_dataset\n",
    "\n",
    "zscore_norm_reduced_dataset = stats.zscore(zscore_norm_reduced_dataset)\n",
    "zscore_norm_reduced_dataset = pd.DataFrame(zscore_norm_reduced_dataset)\n",
    "zscore_norm_reduced_dataset.columns = col\n",
    "zscore_norm_reduced_dataset.head(10)"
   ]
  },
  {
   "cell_type": "markdown",
   "metadata": {},
   "source": [
    "# Writing preprocessed datasets"
   ]
  },
  {
   "cell_type": "code",
   "execution_count": 170,
   "metadata": {},
   "outputs": [],
   "source": [
    "min_max_norm_dataset.to_csv(\"datasets/min_max_norm_dataset\")\n",
    "min_max_norm_reduced_dataset.to_csv(\"datasets/min_max_norm_reduced_dataset\")\n",
    "\n",
    "zscore_norm_dataset.to_csv(\"datasets/zscore_norm_dataset\")\n",
    "zscore_norm_reduced_dataset.to_csv(\"datasets/zscore_norm_reduced_dataset\")"
   ]
  },
  {
   "cell_type": "code",
   "execution_count": null,
   "metadata": {},
   "outputs": [],
   "source": []
  }
 ],
 "metadata": {
  "kernelspec": {
   "display_name": "Python 3",
   "language": "python",
   "name": "python3"
  },
  "language_info": {
   "codemirror_mode": {
    "name": "ipython",
    "version": 3
   },
   "file_extension": ".py",
   "mimetype": "text/x-python",
   "name": "python",
   "nbconvert_exporter": "python",
   "pygments_lexer": "ipython3",
   "version": "3.7.1"
  }
 },
 "nbformat": 4,
 "nbformat_minor": 2
}
