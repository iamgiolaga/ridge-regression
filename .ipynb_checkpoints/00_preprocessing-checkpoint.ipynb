{
 "cells": [
  {
   "cell_type": "markdown",
   "metadata": {},
   "source": [
    "# Data loading"
   ]
  },
  {
   "cell_type": "code",
   "execution_count": 2,
   "metadata": {},
   "outputs": [],
   "source": [
    "import pandas as pd\n",
    "import matplotlib.pyplot as plt\n",
    "import numpy as np\n",
    "import math"
   ]
  },
  {
   "cell_type": "code",
   "execution_count": 3,
   "metadata": {},
   "outputs": [],
   "source": [
    "dataset = pd.read_csv(\"datasets/cal-housing.csv\")"
   ]
  },
  {
   "cell_type": "markdown",
   "metadata": {},
   "source": [
    "# Data visualization"
   ]
  },
  {
   "cell_type": "code",
   "execution_count": 4,
   "metadata": {
    "scrolled": true
   },
   "outputs": [
    {
     "data": {
      "text/html": [
       "<div>\n",
       "<style scoped>\n",
       "    .dataframe tbody tr th:only-of-type {\n",
       "        vertical-align: middle;\n",
       "    }\n",
       "\n",
       "    .dataframe tbody tr th {\n",
       "        vertical-align: top;\n",
       "    }\n",
       "\n",
       "    .dataframe thead th {\n",
       "        text-align: right;\n",
       "    }\n",
       "</style>\n",
       "<table border=\"1\" class=\"dataframe\">\n",
       "  <thead>\n",
       "    <tr style=\"text-align: right;\">\n",
       "      <th></th>\n",
       "      <th>longitude</th>\n",
       "      <th>latitude</th>\n",
       "      <th>housing_median_age</th>\n",
       "      <th>total_rooms</th>\n",
       "      <th>total_bedrooms</th>\n",
       "      <th>population</th>\n",
       "      <th>households</th>\n",
       "      <th>median_income</th>\n",
       "      <th>median_house_value</th>\n",
       "      <th>ocean_proximity</th>\n",
       "    </tr>\n",
       "  </thead>\n",
       "  <tbody>\n",
       "    <tr>\n",
       "      <th>0</th>\n",
       "      <td>-122.23</td>\n",
       "      <td>37.88</td>\n",
       "      <td>41.0</td>\n",
       "      <td>880.0</td>\n",
       "      <td>129.0</td>\n",
       "      <td>322.0</td>\n",
       "      <td>126.0</td>\n",
       "      <td>8.3252</td>\n",
       "      <td>452600.0</td>\n",
       "      <td>NEAR BAY</td>\n",
       "    </tr>\n",
       "    <tr>\n",
       "      <th>1</th>\n",
       "      <td>-122.22</td>\n",
       "      <td>37.86</td>\n",
       "      <td>21.0</td>\n",
       "      <td>7099.0</td>\n",
       "      <td>1106.0</td>\n",
       "      <td>2401.0</td>\n",
       "      <td>1138.0</td>\n",
       "      <td>8.3014</td>\n",
       "      <td>358500.0</td>\n",
       "      <td>NEAR BAY</td>\n",
       "    </tr>\n",
       "    <tr>\n",
       "      <th>2</th>\n",
       "      <td>-122.24</td>\n",
       "      <td>37.85</td>\n",
       "      <td>52.0</td>\n",
       "      <td>1467.0</td>\n",
       "      <td>190.0</td>\n",
       "      <td>496.0</td>\n",
       "      <td>177.0</td>\n",
       "      <td>7.2574</td>\n",
       "      <td>352100.0</td>\n",
       "      <td>NEAR BAY</td>\n",
       "    </tr>\n",
       "    <tr>\n",
       "      <th>3</th>\n",
       "      <td>-122.25</td>\n",
       "      <td>37.85</td>\n",
       "      <td>52.0</td>\n",
       "      <td>1274.0</td>\n",
       "      <td>235.0</td>\n",
       "      <td>558.0</td>\n",
       "      <td>219.0</td>\n",
       "      <td>5.6431</td>\n",
       "      <td>341300.0</td>\n",
       "      <td>NEAR BAY</td>\n",
       "    </tr>\n",
       "    <tr>\n",
       "      <th>4</th>\n",
       "      <td>-122.25</td>\n",
       "      <td>37.85</td>\n",
       "      <td>52.0</td>\n",
       "      <td>1627.0</td>\n",
       "      <td>280.0</td>\n",
       "      <td>565.0</td>\n",
       "      <td>259.0</td>\n",
       "      <td>3.8462</td>\n",
       "      <td>342200.0</td>\n",
       "      <td>NEAR BAY</td>\n",
       "    </tr>\n",
       "    <tr>\n",
       "      <th>5</th>\n",
       "      <td>-122.25</td>\n",
       "      <td>37.85</td>\n",
       "      <td>52.0</td>\n",
       "      <td>919.0</td>\n",
       "      <td>213.0</td>\n",
       "      <td>413.0</td>\n",
       "      <td>193.0</td>\n",
       "      <td>4.0368</td>\n",
       "      <td>269700.0</td>\n",
       "      <td>NEAR BAY</td>\n",
       "    </tr>\n",
       "    <tr>\n",
       "      <th>6</th>\n",
       "      <td>-122.25</td>\n",
       "      <td>37.84</td>\n",
       "      <td>52.0</td>\n",
       "      <td>2535.0</td>\n",
       "      <td>489.0</td>\n",
       "      <td>1094.0</td>\n",
       "      <td>514.0</td>\n",
       "      <td>3.6591</td>\n",
       "      <td>299200.0</td>\n",
       "      <td>NEAR BAY</td>\n",
       "    </tr>\n",
       "    <tr>\n",
       "      <th>7</th>\n",
       "      <td>-122.25</td>\n",
       "      <td>37.84</td>\n",
       "      <td>52.0</td>\n",
       "      <td>3104.0</td>\n",
       "      <td>687.0</td>\n",
       "      <td>1157.0</td>\n",
       "      <td>647.0</td>\n",
       "      <td>3.1200</td>\n",
       "      <td>241400.0</td>\n",
       "      <td>NEAR BAY</td>\n",
       "    </tr>\n",
       "    <tr>\n",
       "      <th>8</th>\n",
       "      <td>-122.26</td>\n",
       "      <td>37.84</td>\n",
       "      <td>42.0</td>\n",
       "      <td>2555.0</td>\n",
       "      <td>665.0</td>\n",
       "      <td>1206.0</td>\n",
       "      <td>595.0</td>\n",
       "      <td>2.0804</td>\n",
       "      <td>226700.0</td>\n",
       "      <td>NEAR BAY</td>\n",
       "    </tr>\n",
       "    <tr>\n",
       "      <th>9</th>\n",
       "      <td>-122.25</td>\n",
       "      <td>37.84</td>\n",
       "      <td>52.0</td>\n",
       "      <td>3549.0</td>\n",
       "      <td>707.0</td>\n",
       "      <td>1551.0</td>\n",
       "      <td>714.0</td>\n",
       "      <td>3.6912</td>\n",
       "      <td>261100.0</td>\n",
       "      <td>NEAR BAY</td>\n",
       "    </tr>\n",
       "  </tbody>\n",
       "</table>\n",
       "</div>"
      ],
      "text/plain": [
       "   longitude  latitude  housing_median_age  total_rooms  total_bedrooms  \\\n",
       "0    -122.23     37.88                41.0        880.0           129.0   \n",
       "1    -122.22     37.86                21.0       7099.0          1106.0   \n",
       "2    -122.24     37.85                52.0       1467.0           190.0   \n",
       "3    -122.25     37.85                52.0       1274.0           235.0   \n",
       "4    -122.25     37.85                52.0       1627.0           280.0   \n",
       "5    -122.25     37.85                52.0        919.0           213.0   \n",
       "6    -122.25     37.84                52.0       2535.0           489.0   \n",
       "7    -122.25     37.84                52.0       3104.0           687.0   \n",
       "8    -122.26     37.84                42.0       2555.0           665.0   \n",
       "9    -122.25     37.84                52.0       3549.0           707.0   \n",
       "\n",
       "   population  households  median_income  median_house_value ocean_proximity  \n",
       "0       322.0       126.0         8.3252            452600.0        NEAR BAY  \n",
       "1      2401.0      1138.0         8.3014            358500.0        NEAR BAY  \n",
       "2       496.0       177.0         7.2574            352100.0        NEAR BAY  \n",
       "3       558.0       219.0         5.6431            341300.0        NEAR BAY  \n",
       "4       565.0       259.0         3.8462            342200.0        NEAR BAY  \n",
       "5       413.0       193.0         4.0368            269700.0        NEAR BAY  \n",
       "6      1094.0       514.0         3.6591            299200.0        NEAR BAY  \n",
       "7      1157.0       647.0         3.1200            241400.0        NEAR BAY  \n",
       "8      1206.0       595.0         2.0804            226700.0        NEAR BAY  \n",
       "9      1551.0       714.0         3.6912            261100.0        NEAR BAY  "
      ]
     },
     "execution_count": 4,
     "metadata": {},
     "output_type": "execute_result"
    }
   ],
   "source": [
    "dataset.head(10)"
   ]
  },
  {
   "cell_type": "code",
   "execution_count": 5,
   "metadata": {
    "scrolled": true
   },
   "outputs": [
    {
     "name": "stdout",
     "output_type": "stream",
     "text": [
      "20640 10\n"
     ]
    }
   ],
   "source": [
    "row, col = dataset.shape\n",
    "print(row, col)"
   ]
  },
  {
   "cell_type": "markdown",
   "metadata": {},
   "source": [
    "### Longitude"
   ]
  },
  {
   "cell_type": "code",
   "execution_count": 6,
   "metadata": {},
   "outputs": [
    {
     "data": {
      "image/png": "[encoded data removed]",
      "text/plain": [
       "<Figure size 432x288 with 1 Axes>"
      ]
     },
     "metadata": {
      "needs_background": "light"
     },
     "output_type": "display_data"
    }
   ],
   "source": [
    "plt.plot(dataset[\"longitude\"])\n",
    "plt.show()"
   ]
  },
  {
   "cell_type": "code",
   "execution_count": 7,
   "metadata": {},
   "outputs": [
    {
     "data": {
      "text/plain": [
       "(-124.35, -114.31)"
      ]
     },
     "execution_count": 7,
     "metadata": {},
     "output_type": "execute_result"
    }
   ],
   "source": [
    "min_longitude, max_longitude = min(dataset[\"longitude\"]), max(dataset[\"longitude\"])\n",
    "min_longitude, max_longitude"
   ]
  },
  {
   "cell_type": "markdown",
   "metadata": {},
   "source": [
    "### Latitude"
   ]
  },
  {
   "cell_type": "code",
   "execution_count": 8,
   "metadata": {},
   "outputs": [
    {
     "data": {
      "image/png": "[encoded data removed]",
      "text/plain": [
       "<Figure size 432x288 with 1 Axes>"
      ]
     },
     "metadata": {
      "needs_background": "light"
     },
     "output_type": "display_data"
    }
   ],
   "source": [
    "plt.plot(dataset[\"latitude\"])\n",
    "plt.show()"
   ]
  },
  {
   "cell_type": "code",
   "execution_count": 9,
   "metadata": {},
   "outputs": [
    {
     "data": {
      "text/plain": [
       "(32.54, 41.95)"
      ]
     },
     "execution_count": 9,
     "metadata": {},
     "output_type": "execute_result"
    }
   ],
   "source": [
    "min_latitude, max_latitude = min(dataset[\"latitude\"]), max(dataset[\"latitude\"])\n",
    "min_latitude, max_latitude"
   ]
  },
  {
   "cell_type": "markdown",
   "metadata": {},
   "source": [
    "### Housing median age"
   ]
  },
  {
   "cell_type": "code",
   "execution_count": 10,
   "metadata": {},
   "outputs": [
    {
     "data": {
      "image/png": "[encoded data removed]",
      "text/plain": [
       "<Figure size 432x288 with 1 Axes>"
      ]
     },
     "metadata": {
      "needs_background": "light"
     },
     "output_type": "display_data"
    }
   ],
   "source": [
    "plt.plot(dataset[\"housing_median_age\"])\n",
    "plt.show()"
   ]
  },
  {
   "cell_type": "code",
   "execution_count": 11,
   "metadata": {
    "scrolled": true
   },
   "outputs": [
    {
     "data": {
      "text/plain": [
       "(1.0, 52.0)"
      ]
     },
     "execution_count": 11,
     "metadata": {},
     "output_type": "execute_result"
    }
   ],
   "source": [
    "min_housing_median_age, max_housing_median_age =  min(dataset[\"housing_median_age\"]), max(dataset[\"housing_median_age\"])\n",
    "min_housing_median_age, max_housing_median_age"
   ]
  },
  {
   "cell_type": "markdown",
   "metadata": {},
   "source": [
    "### Total rooms"
   ]
  },
  {
   "cell_type": "code",
   "execution_count": 12,
   "metadata": {},
   "outputs": [
    {
     "data": {
      "image/png": "[encoded data removed]",
      "text/plain": [
       "<Figure size 432x288 with 1 Axes>"
      ]
     },
     "metadata": {
      "needs_background": "light"
     },
     "output_type": "display_data"
    }
   ],
   "source": [
    "plt.plot(dataset[\"total_rooms\"])\n",
    "plt.show()"
   ]
  },
  {
   "cell_type": "code",
   "execution_count": 13,
   "metadata": {},
   "outputs": [
    {
     "data": {
      "text/plain": [
       "(2.0, 39320.0)"
      ]
     },
     "execution_count": 13,
     "metadata": {},
     "output_type": "execute_result"
    }
   ],
   "source": [
    "min_total_rooms, max_total_rooms = min(dataset[\"total_rooms\"]), max(dataset[\"total_rooms\"])\n",
    "min_total_rooms, max_total_rooms"
   ]
  },
  {
   "cell_type": "markdown",
   "metadata": {},
   "source": [
    "### Total bedrooms"
   ]
  },
  {
   "cell_type": "code",
   "execution_count": 14,
   "metadata": {},
   "outputs": [
    {
     "data": {
      "image/png": "[encoded data removed]",
      "text/plain": [
       "<Figure size 432x288 with 1 Axes>"
      ]
     },
     "metadata": {
      "needs_background": "light"
     },
     "output_type": "display_data"
    }
   ],
   "source": [
    "plt.plot(dataset[\"total_bedrooms\"])\n",
    "plt.show()"
   ]
  },
  {
   "cell_type": "code",
   "execution_count": 15,
   "metadata": {},
   "outputs": [
    {
     "data": {
      "text/plain": [
       "(1.0, 6445.0)"
      ]
     },
     "execution_count": 15,
     "metadata": {},
     "output_type": "execute_result"
    }
   ],
   "source": [
    "min_total_bedrooms, max_total_bedrooms = min(dataset[\"total_bedrooms\"]), max(dataset[\"total_bedrooms\"])\n",
    "min_total_bedrooms, max_total_bedrooms"
   ]
  },
  {
   "cell_type": "markdown",
   "metadata": {},
   "source": [
    "### Population"
   ]
  },
  {
   "cell_type": "code",
   "execution_count": 16,
   "metadata": {},
   "outputs": [
    {
     "data": {
      "image/png": "[encoded data removed]",
      "text/plain": [
       "<Figure size 432x288 with 1 Axes>"
      ]
     },
     "metadata": {
      "needs_background": "light"
     },
     "output_type": "display_data"
    }
   ],
   "source": [
    "plt.plot(dataset[\"population\"])\n",
    "plt.show()"
   ]
  },
  {
   "cell_type": "code",
   "execution_count": 17,
   "metadata": {},
   "outputs": [
    {
     "data": {
      "text/plain": [
       "(3.0, 35682.0)"
      ]
     },
     "execution_count": 17,
     "metadata": {},
     "output_type": "execute_result"
    }
   ],
   "source": [
    "min_population, max_population = min(dataset[\"population\"]), max(dataset[\"population\"])\n",
    "min_population, max_population"
   ]
  },
  {
   "cell_type": "markdown",
   "metadata": {},
   "source": [
    "### Households"
   ]
  },
  {
   "cell_type": "code",
   "execution_count": 18,
   "metadata": {},
   "outputs": [
    {
     "data": {
      "image/png": "[encoded data removed]",
      "text/plain": [
       "<Figure size 432x288 with 1 Axes>"
      ]
     },
     "metadata": {
      "needs_background": "light"
     },
     "output_type": "display_data"
    }
   ],
   "source": [
    "plt.plot(dataset[\"households\"])\n",
    "plt.show()"
   ]
  },
  {
   "cell_type": "code",
   "execution_count": 19,
   "metadata": {},
   "outputs": [
    {
     "data": {
      "text/plain": [
       "(1.0, 6082.0)"
      ]
     },
     "execution_count": 19,
     "metadata": {},
     "output_type": "execute_result"
    }
   ],
   "source": [
    "min_households, max_households = min(dataset[\"households\"]), max(dataset[\"households\"])\n",
    "min_households, max_households"
   ]
  },
  {
   "cell_type": "markdown",
   "metadata": {},
   "source": [
    "### Median income"
   ]
  },
  {
   "cell_type": "code",
   "execution_count": 20,
   "metadata": {},
   "outputs": [
    {
     "data": {
      "image/png": "[encoded data removed]",
      "text/plain": [
       "<Figure size 432x288 with 1 Axes>"
      ]
     },
     "metadata": {
      "needs_background": "light"
     },
     "output_type": "display_data"
    }
   ],
   "source": [
    "plt.plot(dataset[\"median_income\"])\n",
    "plt.show()"
   ]
  },
  {
   "cell_type": "code",
   "execution_count": 21,
   "metadata": {},
   "outputs": [
    {
     "data": {
      "text/plain": [
       "(0.4999, 15.0001)"
      ]
     },
     "execution_count": 21,
     "metadata": {},
     "output_type": "execute_result"
    }
   ],
   "source": [
    "min_median_income, max_median_income = min(dataset[\"median_income\"]), max(dataset[\"median_income\"])\n",
    "min_median_income, max_median_income"
   ]
  },
  {
   "cell_type": "markdown",
   "metadata": {},
   "source": [
    "### Median house value"
   ]
  },
  {
   "cell_type": "code",
   "execution_count": 22,
   "metadata": {},
   "outputs": [
    {
     "data": {
      "image/png": "[encoded data removed]",
      "text/plain": [
       "<Figure size 432x288 with 1 Axes>"
      ]
     },
     "metadata": {
      "needs_background": "light"
     },
     "output_type": "display_data"
    }
   ],
   "source": [
    "plt.plot(dataset[\"median_income\"])\n",
    "plt.show()"
   ]
  },
  {
   "cell_type": "code",
   "execution_count": 23,
   "metadata": {},
   "outputs": [
    {
     "data": {
      "text/plain": [
       "(14999.0, 500001.0)"
      ]
     },
     "execution_count": 23,
     "metadata": {},
     "output_type": "execute_result"
    }
   ],
   "source": [
    "min_median_house_value, max_median_house_value = min(dataset[\"median_house_value\"]), max(dataset[\"median_house_value\"])\n",
    "min_median_house_value, max_median_house_value"
   ]
  },
  {
   "cell_type": "markdown",
   "metadata": {},
   "source": [
    "### Ocean proximity"
   ]
  },
  {
   "cell_type": "code",
   "execution_count": 24,
   "metadata": {},
   "outputs": [
    {
     "data": {
      "image/png": "[encoded data removed]",
      "text/plain": [
       "<Figure size 432x288 with 1 Axes>"
      ]
     },
     "metadata": {
      "needs_background": "light"
     },
     "output_type": "display_data"
    }
   ],
   "source": [
    "plt.plot(dataset[\"ocean_proximity\"])\n",
    "plt.show()"
   ]
  },
  {
   "cell_type": "code",
   "execution_count": 25,
   "metadata": {},
   "outputs": [
    {
     "data": {
      "text/plain": [
       "array(['NEAR BAY', '<1H OCEAN', 'INLAND', 'NEAR OCEAN', 'ISLAND'],\n",
       "      dtype=object)"
      ]
     },
     "execution_count": 25,
     "metadata": {},
     "output_type": "execute_result"
    }
   ],
   "source": [
    "dataset[\"ocean_proximity\"].unique()"
   ]
  },
  {
   "cell_type": "markdown",
   "metadata": {},
   "source": [
    "# Preprocessing and Data Wrangling"
   ]
  },
  {
   "cell_type": "markdown",
   "metadata": {},
   "source": [
    "Which kind of preprocessing can we perform? How much?"
   ]
  },
  {
   "cell_type": "markdown",
   "metadata": {},
   "source": [
    " <img src=\"images/table_preprocessing.png\">"
   ]
  },
  {
   "cell_type": "markdown",
   "metadata": {},
   "source": [
    "## Duplicate removal"
   ]
  },
  {
   "cell_type": "code",
   "execution_count": 26,
   "metadata": {},
   "outputs": [
    {
     "data": {
      "text/plain": [
       "20640"
      ]
     },
     "execution_count": 26,
     "metadata": {},
     "output_type": "execute_result"
    }
   ],
   "source": [
    "len(dataset)"
   ]
  },
  {
   "cell_type": "code",
   "execution_count": 27,
   "metadata": {},
   "outputs": [
    {
     "data": {
      "text/plain": [
       "20640"
      ]
     },
     "execution_count": 27,
     "metadata": {},
     "output_type": "execute_result"
    }
   ],
   "source": [
    "dataset = dataset.drop_duplicates()\n",
    "len(dataset)"
   ]
  },
  {
   "cell_type": "markdown",
   "metadata": {},
   "source": [
    "Fortunately, in this dataset there are no duplicates"
   ]
  },
  {
   "cell_type": "markdown",
   "metadata": {},
   "source": [
    "## Missing values"
   ]
  },
  {
   "cell_type": "markdown",
   "metadata": {},
   "source": [
    "In order to handle the presence of outliers and difference of scales, normalization will be effective, on the other hand there are missing values"
   ]
  },
  {
   "cell_type": "code",
   "execution_count": 28,
   "metadata": {},
   "outputs": [
    {
     "data": {
      "text/plain": [
       "True"
      ]
     },
     "execution_count": 28,
     "metadata": {},
     "output_type": "execute_result"
    }
   ],
   "source": [
    "dataset.isnull().values.any()"
   ]
  },
  {
   "cell_type": "code",
   "execution_count": 29,
   "metadata": {},
   "outputs": [
    {
     "name": "stdout",
     "output_type": "stream",
     "text": [
      "longitude:  False\n",
      "latitude:  False\n",
      "housing_median_age:  False\n",
      "total_rooms:  False\n",
      "total_bedrooms:  True\n",
      "population:  False\n",
      "households:  False\n",
      "median_income:  False\n",
      "median_house_value:  False\n",
      "ocean_proximity:  False\n"
     ]
    }
   ],
   "source": [
    "col = ['longitude', 'latitude', 'housing_median_age', 'total_rooms', 'total_bedrooms', 'population', 'households', 'median_income', 'median_house_value', 'ocean_proximity']\n",
    "\n",
    "for i in col:\n",
    "    print(i + \": \", dataset[i].isnull().values.any())"
   ]
  },
  {
   "cell_type": "code",
   "execution_count": 30,
   "metadata": {
    "scrolled": true
   },
   "outputs": [
    {
     "data": {
      "text/html": [
       "<div>\n",
       "<style scoped>\n",
       "    .dataframe tbody tr th:only-of-type {\n",
       "        vertical-align: middle;\n",
       "    }\n",
       "\n",
       "    .dataframe tbody tr th {\n",
       "        vertical-align: top;\n",
       "    }\n",
       "\n",
       "    .dataframe thead th {\n",
       "        text-align: right;\n",
       "    }\n",
       "</style>\n",
       "<table border=\"1\" class=\"dataframe\">\n",
       "  <thead>\n",
       "    <tr style=\"text-align: right;\">\n",
       "      <th></th>\n",
       "      <th>longitude</th>\n",
       "      <th>latitude</th>\n",
       "      <th>housing_median_age</th>\n",
       "      <th>total_rooms</th>\n",
       "      <th>total_bedrooms</th>\n",
       "      <th>population</th>\n",
       "      <th>households</th>\n",
       "      <th>median_income</th>\n",
       "      <th>median_house_value</th>\n",
       "      <th>ocean_proximity</th>\n",
       "    </tr>\n",
       "  </thead>\n",
       "  <tbody>\n",
       "    <tr>\n",
       "      <th>290</th>\n",
       "      <td>-122.16</td>\n",
       "      <td>37.77</td>\n",
       "      <td>47.0</td>\n",
       "      <td>1256.0</td>\n",
       "      <td>NaN</td>\n",
       "      <td>570.0</td>\n",
       "      <td>218.0</td>\n",
       "      <td>4.3750</td>\n",
       "      <td>161900.0</td>\n",
       "      <td>NEAR BAY</td>\n",
       "    </tr>\n",
       "    <tr>\n",
       "      <th>341</th>\n",
       "      <td>-122.17</td>\n",
       "      <td>37.75</td>\n",
       "      <td>38.0</td>\n",
       "      <td>992.0</td>\n",
       "      <td>NaN</td>\n",
       "      <td>732.0</td>\n",
       "      <td>259.0</td>\n",
       "      <td>1.6196</td>\n",
       "      <td>85100.0</td>\n",
       "      <td>NEAR BAY</td>\n",
       "    </tr>\n",
       "    <tr>\n",
       "      <th>538</th>\n",
       "      <td>-122.28</td>\n",
       "      <td>37.78</td>\n",
       "      <td>29.0</td>\n",
       "      <td>5154.0</td>\n",
       "      <td>NaN</td>\n",
       "      <td>3741.0</td>\n",
       "      <td>1273.0</td>\n",
       "      <td>2.5762</td>\n",
       "      <td>173400.0</td>\n",
       "      <td>NEAR BAY</td>\n",
       "    </tr>\n",
       "    <tr>\n",
       "      <th>563</th>\n",
       "      <td>-122.24</td>\n",
       "      <td>37.75</td>\n",
       "      <td>45.0</td>\n",
       "      <td>891.0</td>\n",
       "      <td>NaN</td>\n",
       "      <td>384.0</td>\n",
       "      <td>146.0</td>\n",
       "      <td>4.9489</td>\n",
       "      <td>247100.0</td>\n",
       "      <td>NEAR BAY</td>\n",
       "    </tr>\n",
       "    <tr>\n",
       "      <th>696</th>\n",
       "      <td>-122.10</td>\n",
       "      <td>37.69</td>\n",
       "      <td>41.0</td>\n",
       "      <td>746.0</td>\n",
       "      <td>NaN</td>\n",
       "      <td>387.0</td>\n",
       "      <td>161.0</td>\n",
       "      <td>3.9063</td>\n",
       "      <td>178400.0</td>\n",
       "      <td>NEAR BAY</td>\n",
       "    </tr>\n",
       "    <tr>\n",
       "      <th>738</th>\n",
       "      <td>-122.14</td>\n",
       "      <td>37.67</td>\n",
       "      <td>37.0</td>\n",
       "      <td>3342.0</td>\n",
       "      <td>NaN</td>\n",
       "      <td>1635.0</td>\n",
       "      <td>557.0</td>\n",
       "      <td>4.7933</td>\n",
       "      <td>186900.0</td>\n",
       "      <td>NEAR BAY</td>\n",
       "    </tr>\n",
       "    <tr>\n",
       "      <th>1097</th>\n",
       "      <td>-121.77</td>\n",
       "      <td>39.66</td>\n",
       "      <td>20.0</td>\n",
       "      <td>3759.0</td>\n",
       "      <td>NaN</td>\n",
       "      <td>1705.0</td>\n",
       "      <td>600.0</td>\n",
       "      <td>4.7120</td>\n",
       "      <td>158600.0</td>\n",
       "      <td>INLAND</td>\n",
       "    </tr>\n",
       "    <tr>\n",
       "      <th>1350</th>\n",
       "      <td>-121.95</td>\n",
       "      <td>38.03</td>\n",
       "      <td>5.0</td>\n",
       "      <td>5526.0</td>\n",
       "      <td>NaN</td>\n",
       "      <td>3207.0</td>\n",
       "      <td>1012.0</td>\n",
       "      <td>4.0767</td>\n",
       "      <td>143100.0</td>\n",
       "      <td>INLAND</td>\n",
       "    </tr>\n",
       "    <tr>\n",
       "      <th>1456</th>\n",
       "      <td>-121.98</td>\n",
       "      <td>37.96</td>\n",
       "      <td>22.0</td>\n",
       "      <td>2987.0</td>\n",
       "      <td>NaN</td>\n",
       "      <td>1420.0</td>\n",
       "      <td>540.0</td>\n",
       "      <td>3.6500</td>\n",
       "      <td>204100.0</td>\n",
       "      <td>INLAND</td>\n",
       "    </tr>\n",
       "    <tr>\n",
       "      <th>1493</th>\n",
       "      <td>-122.01</td>\n",
       "      <td>37.94</td>\n",
       "      <td>23.0</td>\n",
       "      <td>3741.0</td>\n",
       "      <td>NaN</td>\n",
       "      <td>1339.0</td>\n",
       "      <td>499.0</td>\n",
       "      <td>6.7061</td>\n",
       "      <td>322300.0</td>\n",
       "      <td>NEAR BAY</td>\n",
       "    </tr>\n",
       "    <tr>\n",
       "      <th>1606</th>\n",
       "      <td>-122.08</td>\n",
       "      <td>37.88</td>\n",
       "      <td>26.0</td>\n",
       "      <td>2947.0</td>\n",
       "      <td>NaN</td>\n",
       "      <td>825.0</td>\n",
       "      <td>626.0</td>\n",
       "      <td>2.9330</td>\n",
       "      <td>85000.0</td>\n",
       "      <td>NEAR BAY</td>\n",
       "    </tr>\n",
       "    <tr>\n",
       "      <th>2028</th>\n",
       "      <td>-119.75</td>\n",
       "      <td>36.71</td>\n",
       "      <td>38.0</td>\n",
       "      <td>1481.0</td>\n",
       "      <td>NaN</td>\n",
       "      <td>1543.0</td>\n",
       "      <td>372.0</td>\n",
       "      <td>1.4577</td>\n",
       "      <td>49800.0</td>\n",
       "      <td>INLAND</td>\n",
       "    </tr>\n",
       "    <tr>\n",
       "      <th>2115</th>\n",
       "      <td>-119.72</td>\n",
       "      <td>36.76</td>\n",
       "      <td>23.0</td>\n",
       "      <td>6403.0</td>\n",
       "      <td>NaN</td>\n",
       "      <td>3573.0</td>\n",
       "      <td>1260.0</td>\n",
       "      <td>2.3006</td>\n",
       "      <td>69000.0</td>\n",
       "      <td>INLAND</td>\n",
       "    </tr>\n",
       "    <tr>\n",
       "      <th>2301</th>\n",
       "      <td>-119.78</td>\n",
       "      <td>36.82</td>\n",
       "      <td>25.0</td>\n",
       "      <td>5016.0</td>\n",
       "      <td>NaN</td>\n",
       "      <td>2133.0</td>\n",
       "      <td>928.0</td>\n",
       "      <td>3.6250</td>\n",
       "      <td>89500.0</td>\n",
       "      <td>INLAND</td>\n",
       "    </tr>\n",
       "    <tr>\n",
       "      <th>2323</th>\n",
       "      <td>-119.73</td>\n",
       "      <td>36.83</td>\n",
       "      <td>8.0</td>\n",
       "      <td>3602.0</td>\n",
       "      <td>NaN</td>\n",
       "      <td>1959.0</td>\n",
       "      <td>580.0</td>\n",
       "      <td>5.3478</td>\n",
       "      <td>138800.0</td>\n",
       "      <td>INLAND</td>\n",
       "    </tr>\n",
       "    <tr>\n",
       "      <th>2334</th>\n",
       "      <td>-119.69</td>\n",
       "      <td>36.83</td>\n",
       "      <td>32.0</td>\n",
       "      <td>1098.0</td>\n",
       "      <td>NaN</td>\n",
       "      <td>726.0</td>\n",
       "      <td>224.0</td>\n",
       "      <td>1.4913</td>\n",
       "      <td>54600.0</td>\n",
       "      <td>INLAND</td>\n",
       "    </tr>\n",
       "    <tr>\n",
       "      <th>2351</th>\n",
       "      <td>-119.68</td>\n",
       "      <td>36.79</td>\n",
       "      <td>16.0</td>\n",
       "      <td>1551.0</td>\n",
       "      <td>NaN</td>\n",
       "      <td>1010.0</td>\n",
       "      <td>292.0</td>\n",
       "      <td>3.5417</td>\n",
       "      <td>71300.0</td>\n",
       "      <td>INLAND</td>\n",
       "    </tr>\n",
       "    <tr>\n",
       "      <th>2412</th>\n",
       "      <td>-119.45</td>\n",
       "      <td>36.61</td>\n",
       "      <td>24.0</td>\n",
       "      <td>1302.0</td>\n",
       "      <td>NaN</td>\n",
       "      <td>693.0</td>\n",
       "      <td>243.0</td>\n",
       "      <td>3.7917</td>\n",
       "      <td>90500.0</td>\n",
       "      <td>INLAND</td>\n",
       "    </tr>\n",
       "    <tr>\n",
       "      <th>2420</th>\n",
       "      <td>-119.44</td>\n",
       "      <td>36.58</td>\n",
       "      <td>37.0</td>\n",
       "      <td>1054.0</td>\n",
       "      <td>NaN</td>\n",
       "      <td>879.0</td>\n",
       "      <td>257.0</td>\n",
       "      <td>2.5234</td>\n",
       "      <td>63500.0</td>\n",
       "      <td>INLAND</td>\n",
       "    </tr>\n",
       "    <tr>\n",
       "      <th>2578</th>\n",
       "      <td>-124.06</td>\n",
       "      <td>40.86</td>\n",
       "      <td>34.0</td>\n",
       "      <td>4183.0</td>\n",
       "      <td>NaN</td>\n",
       "      <td>1891.0</td>\n",
       "      <td>669.0</td>\n",
       "      <td>3.2216</td>\n",
       "      <td>98100.0</td>\n",
       "      <td>NEAR OCEAN</td>\n",
       "    </tr>\n",
       "    <tr>\n",
       "      <th>2608</th>\n",
       "      <td>-124.00</td>\n",
       "      <td>40.92</td>\n",
       "      <td>29.0</td>\n",
       "      <td>1429.0</td>\n",
       "      <td>NaN</td>\n",
       "      <td>672.0</td>\n",
       "      <td>266.0</td>\n",
       "      <td>2.9485</td>\n",
       "      <td>98800.0</td>\n",
       "      <td>&lt;1H OCEAN</td>\n",
       "    </tr>\n",
       "    <tr>\n",
       "      <th>2647</th>\n",
       "      <td>-124.13</td>\n",
       "      <td>40.55</td>\n",
       "      <td>38.0</td>\n",
       "      <td>544.0</td>\n",
       "      <td>NaN</td>\n",
       "      <td>240.0</td>\n",
       "      <td>91.0</td>\n",
       "      <td>3.2500</td>\n",
       "      <td>94800.0</td>\n",
       "      <td>&lt;1H OCEAN</td>\n",
       "    </tr>\n",
       "    <tr>\n",
       "      <th>2826</th>\n",
       "      <td>-119.11</td>\n",
       "      <td>35.42</td>\n",
       "      <td>52.0</td>\n",
       "      <td>154.0</td>\n",
       "      <td>NaN</td>\n",
       "      <td>37.0</td>\n",
       "      <td>16.0</td>\n",
       "      <td>10.0263</td>\n",
       "      <td>200000.0</td>\n",
       "      <td>INLAND</td>\n",
       "    </tr>\n",
       "    <tr>\n",
       "      <th>3024</th>\n",
       "      <td>-119.46</td>\n",
       "      <td>35.14</td>\n",
       "      <td>30.0</td>\n",
       "      <td>2943.0</td>\n",
       "      <td>NaN</td>\n",
       "      <td>1565.0</td>\n",
       "      <td>584.0</td>\n",
       "      <td>2.5313</td>\n",
       "      <td>45800.0</td>\n",
       "      <td>INLAND</td>\n",
       "    </tr>\n",
       "    <tr>\n",
       "      <th>3328</th>\n",
       "      <td>-122.72</td>\n",
       "      <td>38.88</td>\n",
       "      <td>29.0</td>\n",
       "      <td>2781.0</td>\n",
       "      <td>NaN</td>\n",
       "      <td>890.0</td>\n",
       "      <td>310.0</td>\n",
       "      <td>1.9906</td>\n",
       "      <td>96600.0</td>\n",
       "      <td>INLAND</td>\n",
       "    </tr>\n",
       "    <tr>\n",
       "      <th>3354</th>\n",
       "      <td>-120.67</td>\n",
       "      <td>40.50</td>\n",
       "      <td>15.0</td>\n",
       "      <td>5343.0</td>\n",
       "      <td>NaN</td>\n",
       "      <td>2503.0</td>\n",
       "      <td>902.0</td>\n",
       "      <td>3.5962</td>\n",
       "      <td>85900.0</td>\n",
       "      <td>INLAND</td>\n",
       "    </tr>\n",
       "    <tr>\n",
       "      <th>3376</th>\n",
       "      <td>-118.28</td>\n",
       "      <td>34.25</td>\n",
       "      <td>29.0</td>\n",
       "      <td>2559.0</td>\n",
       "      <td>NaN</td>\n",
       "      <td>1886.0</td>\n",
       "      <td>769.0</td>\n",
       "      <td>2.6036</td>\n",
       "      <td>162100.0</td>\n",
       "      <td>&lt;1H OCEAN</td>\n",
       "    </tr>\n",
       "    <tr>\n",
       "      <th>3482</th>\n",
       "      <td>-118.45</td>\n",
       "      <td>34.30</td>\n",
       "      <td>27.0</td>\n",
       "      <td>2676.0</td>\n",
       "      <td>NaN</td>\n",
       "      <td>2661.0</td>\n",
       "      <td>623.0</td>\n",
       "      <td>4.3047</td>\n",
       "      <td>152100.0</td>\n",
       "      <td>&lt;1H OCEAN</td>\n",
       "    </tr>\n",
       "    <tr>\n",
       "      <th>3485</th>\n",
       "      <td>-118.55</td>\n",
       "      <td>34.28</td>\n",
       "      <td>16.0</td>\n",
       "      <td>8879.0</td>\n",
       "      <td>NaN</td>\n",
       "      <td>3468.0</td>\n",
       "      <td>1200.0</td>\n",
       "      <td>8.1125</td>\n",
       "      <td>428600.0</td>\n",
       "      <td>&lt;1H OCEAN</td>\n",
       "    </tr>\n",
       "    <tr>\n",
       "      <th>3529</th>\n",
       "      <td>-118.53</td>\n",
       "      <td>34.26</td>\n",
       "      <td>18.0</td>\n",
       "      <td>3674.0</td>\n",
       "      <td>NaN</td>\n",
       "      <td>1590.0</td>\n",
       "      <td>550.0</td>\n",
       "      <td>8.1760</td>\n",
       "      <td>308400.0</td>\n",
       "      <td>&lt;1H OCEAN</td>\n",
       "    </tr>\n",
       "    <tr>\n",
       "      <th>...</th>\n",
       "      <td>...</td>\n",
       "      <td>...</td>\n",
       "      <td>...</td>\n",
       "      <td>...</td>\n",
       "      <td>...</td>\n",
       "      <td>...</td>\n",
       "      <td>...</td>\n",
       "      <td>...</td>\n",
       "      <td>...</td>\n",
       "      <td>...</td>\n",
       "    </tr>\n",
       "    <tr>\n",
       "      <th>18466</th>\n",
       "      <td>-121.75</td>\n",
       "      <td>37.11</td>\n",
       "      <td>18.0</td>\n",
       "      <td>3167.0</td>\n",
       "      <td>NaN</td>\n",
       "      <td>1414.0</td>\n",
       "      <td>482.0</td>\n",
       "      <td>6.8773</td>\n",
       "      <td>467700.0</td>\n",
       "      <td>&lt;1H OCEAN</td>\n",
       "    </tr>\n",
       "    <tr>\n",
       "      <th>18786</th>\n",
       "      <td>-122.42</td>\n",
       "      <td>40.44</td>\n",
       "      <td>16.0</td>\n",
       "      <td>994.0</td>\n",
       "      <td>NaN</td>\n",
       "      <td>495.0</td>\n",
       "      <td>181.0</td>\n",
       "      <td>2.1875</td>\n",
       "      <td>76400.0</td>\n",
       "      <td>INLAND</td>\n",
       "    </tr>\n",
       "    <tr>\n",
       "      <th>18873</th>\n",
       "      <td>-122.22</td>\n",
       "      <td>38.08</td>\n",
       "      <td>37.0</td>\n",
       "      <td>2811.0</td>\n",
       "      <td>NaN</td>\n",
       "      <td>1574.0</td>\n",
       "      <td>516.0</td>\n",
       "      <td>3.1053</td>\n",
       "      <td>96700.0</td>\n",
       "      <td>NEAR BAY</td>\n",
       "    </tr>\n",
       "    <tr>\n",
       "      <th>18914</th>\n",
       "      <td>-122.22</td>\n",
       "      <td>38.15</td>\n",
       "      <td>7.0</td>\n",
       "      <td>5129.0</td>\n",
       "      <td>NaN</td>\n",
       "      <td>2824.0</td>\n",
       "      <td>738.0</td>\n",
       "      <td>5.5138</td>\n",
       "      <td>171100.0</td>\n",
       "      <td>NEAR BAY</td>\n",
       "    </tr>\n",
       "    <tr>\n",
       "      <th>19060</th>\n",
       "      <td>-122.41</td>\n",
       "      <td>38.16</td>\n",
       "      <td>37.0</td>\n",
       "      <td>1549.0</td>\n",
       "      <td>NaN</td>\n",
       "      <td>863.0</td>\n",
       "      <td>275.0</td>\n",
       "      <td>2.7457</td>\n",
       "      <td>254700.0</td>\n",
       "      <td>NEAR BAY</td>\n",
       "    </tr>\n",
       "    <tr>\n",
       "      <th>19071</th>\n",
       "      <td>-122.53</td>\n",
       "      <td>38.32</td>\n",
       "      <td>22.0</td>\n",
       "      <td>3577.0</td>\n",
       "      <td>NaN</td>\n",
       "      <td>1371.0</td>\n",
       "      <td>501.0</td>\n",
       "      <td>5.7950</td>\n",
       "      <td>332300.0</td>\n",
       "      <td>&lt;1H OCEAN</td>\n",
       "    </tr>\n",
       "    <tr>\n",
       "      <th>19122</th>\n",
       "      <td>-122.65</td>\n",
       "      <td>38.25</td>\n",
       "      <td>23.0</td>\n",
       "      <td>4030.0</td>\n",
       "      <td>NaN</td>\n",
       "      <td>1852.0</td>\n",
       "      <td>778.0</td>\n",
       "      <td>3.4020</td>\n",
       "      <td>193300.0</td>\n",
       "      <td>&lt;1H OCEAN</td>\n",
       "    </tr>\n",
       "    <tr>\n",
       "      <th>19150</th>\n",
       "      <td>-122.70</td>\n",
       "      <td>38.35</td>\n",
       "      <td>14.0</td>\n",
       "      <td>2313.0</td>\n",
       "      <td>NaN</td>\n",
       "      <td>954.0</td>\n",
       "      <td>397.0</td>\n",
       "      <td>3.7813</td>\n",
       "      <td>146500.0</td>\n",
       "      <td>&lt;1H OCEAN</td>\n",
       "    </tr>\n",
       "    <tr>\n",
       "      <th>19252</th>\n",
       "      <td>-122.79</td>\n",
       "      <td>38.48</td>\n",
       "      <td>7.0</td>\n",
       "      <td>6837.0</td>\n",
       "      <td>NaN</td>\n",
       "      <td>3468.0</td>\n",
       "      <td>1405.0</td>\n",
       "      <td>3.1662</td>\n",
       "      <td>191000.0</td>\n",
       "      <td>&lt;1H OCEAN</td>\n",
       "    </tr>\n",
       "    <tr>\n",
       "      <th>19332</th>\n",
       "      <td>-122.91</td>\n",
       "      <td>38.46</td>\n",
       "      <td>18.0</td>\n",
       "      <td>2021.0</td>\n",
       "      <td>NaN</td>\n",
       "      <td>912.0</td>\n",
       "      <td>329.0</td>\n",
       "      <td>4.5000</td>\n",
       "      <td>251900.0</td>\n",
       "      <td>&lt;1H OCEAN</td>\n",
       "    </tr>\n",
       "    <tr>\n",
       "      <th>19391</th>\n",
       "      <td>-120.85</td>\n",
       "      <td>37.78</td>\n",
       "      <td>25.0</td>\n",
       "      <td>421.0</td>\n",
       "      <td>NaN</td>\n",
       "      <td>303.0</td>\n",
       "      <td>106.0</td>\n",
       "      <td>2.2679</td>\n",
       "      <td>71300.0</td>\n",
       "      <td>INLAND</td>\n",
       "    </tr>\n",
       "    <tr>\n",
       "      <th>19402</th>\n",
       "      <td>-120.93</td>\n",
       "      <td>37.73</td>\n",
       "      <td>14.0</td>\n",
       "      <td>2799.0</td>\n",
       "      <td>NaN</td>\n",
       "      <td>2294.0</td>\n",
       "      <td>596.0</td>\n",
       "      <td>2.6343</td>\n",
       "      <td>81500.0</td>\n",
       "      <td>INLAND</td>\n",
       "    </tr>\n",
       "    <tr>\n",
       "      <th>19485</th>\n",
       "      <td>-120.98</td>\n",
       "      <td>37.66</td>\n",
       "      <td>10.0</td>\n",
       "      <td>934.0</td>\n",
       "      <td>NaN</td>\n",
       "      <td>401.0</td>\n",
       "      <td>255.0</td>\n",
       "      <td>0.9336</td>\n",
       "      <td>127100.0</td>\n",
       "      <td>INLAND</td>\n",
       "    </tr>\n",
       "    <tr>\n",
       "      <th>19559</th>\n",
       "      <td>-120.98</td>\n",
       "      <td>37.60</td>\n",
       "      <td>36.0</td>\n",
       "      <td>1437.0</td>\n",
       "      <td>NaN</td>\n",
       "      <td>1073.0</td>\n",
       "      <td>320.0</td>\n",
       "      <td>2.1779</td>\n",
       "      <td>58400.0</td>\n",
       "      <td>INLAND</td>\n",
       "    </tr>\n",
       "    <tr>\n",
       "      <th>19607</th>\n",
       "      <td>-121.02</td>\n",
       "      <td>37.48</td>\n",
       "      <td>26.0</td>\n",
       "      <td>467.0</td>\n",
       "      <td>NaN</td>\n",
       "      <td>244.0</td>\n",
       "      <td>83.0</td>\n",
       "      <td>4.1346</td>\n",
       "      <td>187500.0</td>\n",
       "      <td>INLAND</td>\n",
       "    </tr>\n",
       "    <tr>\n",
       "      <th>19638</th>\n",
       "      <td>-120.97</td>\n",
       "      <td>37.43</td>\n",
       "      <td>27.0</td>\n",
       "      <td>1380.0</td>\n",
       "      <td>NaN</td>\n",
       "      <td>810.0</td>\n",
       "      <td>262.0</td>\n",
       "      <td>2.1875</td>\n",
       "      <td>137500.0</td>\n",
       "      <td>INLAND</td>\n",
       "    </tr>\n",
       "    <tr>\n",
       "      <th>19766</th>\n",
       "      <td>-122.10</td>\n",
       "      <td>40.03</td>\n",
       "      <td>25.0</td>\n",
       "      <td>2516.0</td>\n",
       "      <td>NaN</td>\n",
       "      <td>1266.0</td>\n",
       "      <td>494.0</td>\n",
       "      <td>1.7566</td>\n",
       "      <td>58400.0</td>\n",
       "      <td>INLAND</td>\n",
       "    </tr>\n",
       "    <tr>\n",
       "      <th>19818</th>\n",
       "      <td>-119.30</td>\n",
       "      <td>36.57</td>\n",
       "      <td>32.0</td>\n",
       "      <td>728.0</td>\n",
       "      <td>NaN</td>\n",
       "      <td>461.0</td>\n",
       "      <td>149.0</td>\n",
       "      <td>3.0156</td>\n",
       "      <td>109100.0</td>\n",
       "      <td>INLAND</td>\n",
       "    </tr>\n",
       "    <tr>\n",
       "      <th>19833</th>\n",
       "      <td>-119.38</td>\n",
       "      <td>36.53</td>\n",
       "      <td>38.0</td>\n",
       "      <td>1281.0</td>\n",
       "      <td>NaN</td>\n",
       "      <td>1423.0</td>\n",
       "      <td>293.0</td>\n",
       "      <td>1.9602</td>\n",
       "      <td>51400.0</td>\n",
       "      <td>INLAND</td>\n",
       "    </tr>\n",
       "    <tr>\n",
       "      <th>19890</th>\n",
       "      <td>-119.15</td>\n",
       "      <td>36.29</td>\n",
       "      <td>18.0</td>\n",
       "      <td>1435.0</td>\n",
       "      <td>NaN</td>\n",
       "      <td>657.0</td>\n",
       "      <td>254.0</td>\n",
       "      <td>2.4281</td>\n",
       "      <td>72500.0</td>\n",
       "      <td>INLAND</td>\n",
       "    </tr>\n",
       "    <tr>\n",
       "      <th>19932</th>\n",
       "      <td>-119.33</td>\n",
       "      <td>36.30</td>\n",
       "      <td>11.0</td>\n",
       "      <td>3045.0</td>\n",
       "      <td>NaN</td>\n",
       "      <td>1563.0</td>\n",
       "      <td>516.0</td>\n",
       "      <td>5.4337</td>\n",
       "      <td>133800.0</td>\n",
       "      <td>INLAND</td>\n",
       "    </tr>\n",
       "    <tr>\n",
       "      <th>19959</th>\n",
       "      <td>-119.32</td>\n",
       "      <td>36.25</td>\n",
       "      <td>21.0</td>\n",
       "      <td>1231.0</td>\n",
       "      <td>NaN</td>\n",
       "      <td>609.0</td>\n",
       "      <td>206.0</td>\n",
       "      <td>2.8365</td>\n",
       "      <td>90000.0</td>\n",
       "      <td>INLAND</td>\n",
       "    </tr>\n",
       "    <tr>\n",
       "      <th>20046</th>\n",
       "      <td>-119.01</td>\n",
       "      <td>36.06</td>\n",
       "      <td>25.0</td>\n",
       "      <td>1505.0</td>\n",
       "      <td>NaN</td>\n",
       "      <td>1392.0</td>\n",
       "      <td>359.0</td>\n",
       "      <td>1.6812</td>\n",
       "      <td>47700.0</td>\n",
       "      <td>INLAND</td>\n",
       "    </tr>\n",
       "    <tr>\n",
       "      <th>20069</th>\n",
       "      <td>-120.37</td>\n",
       "      <td>38.01</td>\n",
       "      <td>30.0</td>\n",
       "      <td>473.0</td>\n",
       "      <td>NaN</td>\n",
       "      <td>242.0</td>\n",
       "      <td>93.0</td>\n",
       "      <td>2.5417</td>\n",
       "      <td>123200.0</td>\n",
       "      <td>INLAND</td>\n",
       "    </tr>\n",
       "    <tr>\n",
       "      <th>20125</th>\n",
       "      <td>-118.80</td>\n",
       "      <td>34.41</td>\n",
       "      <td>45.0</td>\n",
       "      <td>1610.0</td>\n",
       "      <td>NaN</td>\n",
       "      <td>1148.0</td>\n",
       "      <td>347.0</td>\n",
       "      <td>2.7000</td>\n",
       "      <td>120400.0</td>\n",
       "      <td>&lt;1H OCEAN</td>\n",
       "    </tr>\n",
       "    <tr>\n",
       "      <th>20267</th>\n",
       "      <td>-119.19</td>\n",
       "      <td>34.20</td>\n",
       "      <td>18.0</td>\n",
       "      <td>3620.0</td>\n",
       "      <td>NaN</td>\n",
       "      <td>3171.0</td>\n",
       "      <td>779.0</td>\n",
       "      <td>3.3409</td>\n",
       "      <td>220500.0</td>\n",
       "      <td>NEAR OCEAN</td>\n",
       "    </tr>\n",
       "    <tr>\n",
       "      <th>20268</th>\n",
       "      <td>-119.18</td>\n",
       "      <td>34.19</td>\n",
       "      <td>19.0</td>\n",
       "      <td>2393.0</td>\n",
       "      <td>NaN</td>\n",
       "      <td>1938.0</td>\n",
       "      <td>762.0</td>\n",
       "      <td>1.6953</td>\n",
       "      <td>167400.0</td>\n",
       "      <td>NEAR OCEAN</td>\n",
       "    </tr>\n",
       "    <tr>\n",
       "      <th>20372</th>\n",
       "      <td>-118.88</td>\n",
       "      <td>34.17</td>\n",
       "      <td>15.0</td>\n",
       "      <td>4260.0</td>\n",
       "      <td>NaN</td>\n",
       "      <td>1701.0</td>\n",
       "      <td>669.0</td>\n",
       "      <td>5.1033</td>\n",
       "      <td>410700.0</td>\n",
       "      <td>&lt;1H OCEAN</td>\n",
       "    </tr>\n",
       "    <tr>\n",
       "      <th>20460</th>\n",
       "      <td>-118.75</td>\n",
       "      <td>34.29</td>\n",
       "      <td>17.0</td>\n",
       "      <td>5512.0</td>\n",
       "      <td>NaN</td>\n",
       "      <td>2734.0</td>\n",
       "      <td>814.0</td>\n",
       "      <td>6.6073</td>\n",
       "      <td>258100.0</td>\n",
       "      <td>&lt;1H OCEAN</td>\n",
       "    </tr>\n",
       "    <tr>\n",
       "      <th>20484</th>\n",
       "      <td>-118.72</td>\n",
       "      <td>34.28</td>\n",
       "      <td>17.0</td>\n",
       "      <td>3051.0</td>\n",
       "      <td>NaN</td>\n",
       "      <td>1705.0</td>\n",
       "      <td>495.0</td>\n",
       "      <td>5.7376</td>\n",
       "      <td>218600.0</td>\n",
       "      <td>&lt;1H OCEAN</td>\n",
       "    </tr>\n",
       "  </tbody>\n",
       "</table>\n",
       "<p>207 rows × 10 columns</p>\n",
       "</div>"
      ],
      "text/plain": [
       "       longitude  latitude  housing_median_age  total_rooms  total_bedrooms  \\\n",
       "290      -122.16     37.77                47.0       1256.0             NaN   \n",
       "341      -122.17     37.75                38.0        992.0             NaN   \n",
       "538      -122.28     37.78                29.0       5154.0             NaN   \n",
       "563      -122.24     37.75                45.0        891.0             NaN   \n",
       "696      -122.10     37.69                41.0        746.0             NaN   \n",
       "738      -122.14     37.67                37.0       3342.0             NaN   \n",
       "1097     -121.77     39.66                20.0       3759.0             NaN   \n",
       "1350     -121.95     38.03                 5.0       5526.0             NaN   \n",
       "1456     -121.98     37.96                22.0       2987.0             NaN   \n",
       "1493     -122.01     37.94                23.0       3741.0             NaN   \n",
       "1606     -122.08     37.88                26.0       2947.0             NaN   \n",
       "2028     -119.75     36.71                38.0       1481.0             NaN   \n",
       "2115     -119.72     36.76                23.0       6403.0             NaN   \n",
       "2301     -119.78     36.82                25.0       5016.0             NaN   \n",
       "2323     -119.73     36.83                 8.0       3602.0             NaN   \n",
       "2334     -119.69     36.83                32.0       1098.0             NaN   \n",
       "2351     -119.68     36.79                16.0       1551.0             NaN   \n",
       "2412     -119.45     36.61                24.0       1302.0             NaN   \n",
       "2420     -119.44     36.58                37.0       1054.0             NaN   \n",
       "2578     -124.06     40.86                34.0       4183.0             NaN   \n",
       "2608     -124.00     40.92                29.0       1429.0             NaN   \n",
       "2647     -124.13     40.55                38.0        544.0             NaN   \n",
       "2826     -119.11     35.42                52.0        154.0             NaN   \n",
       "3024     -119.46     35.14                30.0       2943.0             NaN   \n",
       "3328     -122.72     38.88                29.0       2781.0             NaN   \n",
       "3354     -120.67     40.50                15.0       5343.0             NaN   \n",
       "3376     -118.28     34.25                29.0       2559.0             NaN   \n",
       "3482     -118.45     34.30                27.0       2676.0             NaN   \n",
       "3485     -118.55     34.28                16.0       8879.0             NaN   \n",
       "3529     -118.53     34.26                18.0       3674.0             NaN   \n",
       "...          ...       ...                 ...          ...             ...   \n",
       "18466    -121.75     37.11                18.0       3167.0             NaN   \n",
       "18786    -122.42     40.44                16.0        994.0             NaN   \n",
       "18873    -122.22     38.08                37.0       2811.0             NaN   \n",
       "18914    -122.22     38.15                 7.0       5129.0             NaN   \n",
       "19060    -122.41     38.16                37.0       1549.0             NaN   \n",
       "19071    -122.53     38.32                22.0       3577.0             NaN   \n",
       "19122    -122.65     38.25                23.0       4030.0             NaN   \n",
       "19150    -122.70     38.35                14.0       2313.0             NaN   \n",
       "19252    -122.79     38.48                 7.0       6837.0             NaN   \n",
       "19332    -122.91     38.46                18.0       2021.0             NaN   \n",
       "19391    -120.85     37.78                25.0        421.0             NaN   \n",
       "19402    -120.93     37.73                14.0       2799.0             NaN   \n",
       "19485    -120.98     37.66                10.0        934.0             NaN   \n",
       "19559    -120.98     37.60                36.0       1437.0             NaN   \n",
       "19607    -121.02     37.48                26.0        467.0             NaN   \n",
       "19638    -120.97     37.43                27.0       1380.0             NaN   \n",
       "19766    -122.10     40.03                25.0       2516.0             NaN   \n",
       "19818    -119.30     36.57                32.0        728.0             NaN   \n",
       "19833    -119.38     36.53                38.0       1281.0             NaN   \n",
       "19890    -119.15     36.29                18.0       1435.0             NaN   \n",
       "19932    -119.33     36.30                11.0       3045.0             NaN   \n",
       "19959    -119.32     36.25                21.0       1231.0             NaN   \n",
       "20046    -119.01     36.06                25.0       1505.0             NaN   \n",
       "20069    -120.37     38.01                30.0        473.0             NaN   \n",
       "20125    -118.80     34.41                45.0       1610.0             NaN   \n",
       "20267    -119.19     34.20                18.0       3620.0             NaN   \n",
       "20268    -119.18     34.19                19.0       2393.0             NaN   \n",
       "20372    -118.88     34.17                15.0       4260.0             NaN   \n",
       "20460    -118.75     34.29                17.0       5512.0             NaN   \n",
       "20484    -118.72     34.28                17.0       3051.0             NaN   \n",
       "\n",
       "       population  households  median_income  median_house_value  \\\n",
       "290         570.0       218.0         4.3750            161900.0   \n",
       "341         732.0       259.0         1.6196             85100.0   \n",
       "538        3741.0      1273.0         2.5762            173400.0   \n",
       "563         384.0       146.0         4.9489            247100.0   \n",
       "696         387.0       161.0         3.9063            178400.0   \n",
       "738        1635.0       557.0         4.7933            186900.0   \n",
       "1097       1705.0       600.0         4.7120            158600.0   \n",
       "1350       3207.0      1012.0         4.0767            143100.0   \n",
       "1456       1420.0       540.0         3.6500            204100.0   \n",
       "1493       1339.0       499.0         6.7061            322300.0   \n",
       "1606        825.0       626.0         2.9330             85000.0   \n",
       "2028       1543.0       372.0         1.4577             49800.0   \n",
       "2115       3573.0      1260.0         2.3006             69000.0   \n",
       "2301       2133.0       928.0         3.6250             89500.0   \n",
       "2323       1959.0       580.0         5.3478            138800.0   \n",
       "2334        726.0       224.0         1.4913             54600.0   \n",
       "2351       1010.0       292.0         3.5417             71300.0   \n",
       "2412        693.0       243.0         3.7917             90500.0   \n",
       "2420        879.0       257.0         2.5234             63500.0   \n",
       "2578       1891.0       669.0         3.2216             98100.0   \n",
       "2608        672.0       266.0         2.9485             98800.0   \n",
       "2647        240.0        91.0         3.2500             94800.0   \n",
       "2826         37.0        16.0        10.0263            200000.0   \n",
       "3024       1565.0       584.0         2.5313             45800.0   \n",
       "3328        890.0       310.0         1.9906             96600.0   \n",
       "3354       2503.0       902.0         3.5962             85900.0   \n",
       "3376       1886.0       769.0         2.6036            162100.0   \n",
       "3482       2661.0       623.0         4.3047            152100.0   \n",
       "3485       3468.0      1200.0         8.1125            428600.0   \n",
       "3529       1590.0       550.0         8.1760            308400.0   \n",
       "...           ...         ...            ...                 ...   \n",
       "18466      1414.0       482.0         6.8773            467700.0   \n",
       "18786       495.0       181.0         2.1875             76400.0   \n",
       "18873      1574.0       516.0         3.1053             96700.0   \n",
       "18914      2824.0       738.0         5.5138            171100.0   \n",
       "19060       863.0       275.0         2.7457            254700.0   \n",
       "19071      1371.0       501.0         5.7950            332300.0   \n",
       "19122      1852.0       778.0         3.4020            193300.0   \n",
       "19150       954.0       397.0         3.7813            146500.0   \n",
       "19252      3468.0      1405.0         3.1662            191000.0   \n",
       "19332       912.0       329.0         4.5000            251900.0   \n",
       "19391       303.0       106.0         2.2679             71300.0   \n",
       "19402      2294.0       596.0         2.6343             81500.0   \n",
       "19485       401.0       255.0         0.9336            127100.0   \n",
       "19559      1073.0       320.0         2.1779             58400.0   \n",
       "19607       244.0        83.0         4.1346            187500.0   \n",
       "19638       810.0       262.0         2.1875            137500.0   \n",
       "19766      1266.0       494.0         1.7566             58400.0   \n",
       "19818       461.0       149.0         3.0156            109100.0   \n",
       "19833      1423.0       293.0         1.9602             51400.0   \n",
       "19890       657.0       254.0         2.4281             72500.0   \n",
       "19932      1563.0       516.0         5.4337            133800.0   \n",
       "19959       609.0       206.0         2.8365             90000.0   \n",
       "20046      1392.0       359.0         1.6812             47700.0   \n",
       "20069       242.0        93.0         2.5417            123200.0   \n",
       "20125      1148.0       347.0         2.7000            120400.0   \n",
       "20267      3171.0       779.0         3.3409            220500.0   \n",
       "20268      1938.0       762.0         1.6953            167400.0   \n",
       "20372      1701.0       669.0         5.1033            410700.0   \n",
       "20460      2734.0       814.0         6.6073            258100.0   \n",
       "20484      1705.0       495.0         5.7376            218600.0   \n",
       "\n",
       "      ocean_proximity  \n",
       "290          NEAR BAY  \n",
       "341          NEAR BAY  \n",
       "538          NEAR BAY  \n",
       "563          NEAR BAY  \n",
       "696          NEAR BAY  \n",
       "738          NEAR BAY  \n",
       "1097           INLAND  \n",
       "1350           INLAND  \n",
       "1456           INLAND  \n",
       "1493         NEAR BAY  \n",
       "1606         NEAR BAY  \n",
       "2028           INLAND  \n",
       "2115           INLAND  \n",
       "2301           INLAND  \n",
       "2323           INLAND  \n",
       "2334           INLAND  \n",
       "2351           INLAND  \n",
       "2412           INLAND  \n",
       "2420           INLAND  \n",
       "2578       NEAR OCEAN  \n",
       "2608        <1H OCEAN  \n",
       "2647        <1H OCEAN  \n",
       "2826           INLAND  \n",
       "3024           INLAND  \n",
       "3328           INLAND  \n",
       "3354           INLAND  \n",
       "3376        <1H OCEAN  \n",
       "3482        <1H OCEAN  \n",
       "3485        <1H OCEAN  \n",
       "3529        <1H OCEAN  \n",
       "...               ...  \n",
       "18466       <1H OCEAN  \n",
       "18786          INLAND  \n",
       "18873        NEAR BAY  \n",
       "18914        NEAR BAY  \n",
       "19060        NEAR BAY  \n",
       "19071       <1H OCEAN  \n",
       "19122       <1H OCEAN  \n",
       "19150       <1H OCEAN  \n",
       "19252       <1H OCEAN  \n",
       "19332       <1H OCEAN  \n",
       "19391          INLAND  \n",
       "19402          INLAND  \n",
       "19485          INLAND  \n",
       "19559          INLAND  \n",
       "19607          INLAND  \n",
       "19638          INLAND  \n",
       "19766          INLAND  \n",
       "19818          INLAND  \n",
       "19833          INLAND  \n",
       "19890          INLAND  \n",
       "19932          INLAND  \n",
       "19959          INLAND  \n",
       "20046          INLAND  \n",
       "20069          INLAND  \n",
       "20125       <1H OCEAN  \n",
       "20267      NEAR OCEAN  \n",
       "20268      NEAR OCEAN  \n",
       "20372       <1H OCEAN  \n",
       "20460       <1H OCEAN  \n",
       "20484       <1H OCEAN  \n",
       "\n",
       "[207 rows x 10 columns]"
      ]
     },
     "execution_count": 30,
     "metadata": {},
     "output_type": "execute_result"
    }
   ],
   "source": [
    "dataset[dataset.isnull().any(axis=1)]"
   ]
  },
  {
   "cell_type": "markdown",
   "metadata": {},
   "source": [
    "After this first analysis we have highlighted the presence of missing values only in the *total_bedrooms* column.  \n",
    "The two main ways of handling missing values are: cutting them out or replacing them with other values"
   ]
  },
  {
   "cell_type": "markdown",
   "metadata": {},
   "source": [
    "In order to choose the best criterion, let's evaluate the real proportion of missing values with respect to the entire dataset"
   ]
  },
  {
   "cell_type": "markdown",
   "metadata": {},
   "source": [
    "This is the number of rows which contain a missing value at *total_bedrooms* column"
   ]
  },
  {
   "cell_type": "code",
   "execution_count": 31,
   "metadata": {},
   "outputs": [
    {
     "data": {
      "text/plain": [
       "207"
      ]
     },
     "execution_count": 31,
     "metadata": {},
     "output_type": "execute_result"
    }
   ],
   "source": [
    "sum(dataset.isnull().any(axis=1))"
   ]
  },
  {
   "cell_type": "code",
   "execution_count": 32,
   "metadata": {},
   "outputs": [
    {
     "name": "stdout",
     "output_type": "stream",
     "text": [
      "total rows: 20640\n"
     ]
    }
   ],
   "source": [
    "print(\"total rows:\", len(dataset))"
   ]
  },
  {
   "cell_type": "code",
   "execution_count": 33,
   "metadata": {},
   "outputs": [
    {
     "name": "stdout",
     "output_type": "stream",
     "text": [
      "1.0029 %\n"
     ]
    }
   ],
   "source": [
    "print(round(sum(dataset.isnull().any(axis=1))/len(dataset) * 100, 4), \"%\")"
   ]
  },
  {
   "cell_type": "markdown",
   "metadata": {},
   "source": [
    "is the percentage of rows that contain missing values"
   ]
  },
  {
   "cell_type": "markdown",
   "metadata": {},
   "source": [
    "Given that the proportion of missing values is not big, cutting them out could be a possible solution but, first, let's see if these missing values have a pattern or if they are missing randomly"
   ]
  },
  {
   "cell_type": "code",
   "execution_count": 34,
   "metadata": {
    "scrolled": true
   },
   "outputs": [
    {
     "data": {
      "text/plain": [
       "<matplotlib.axes._subplots.AxesSubplot at 0x1241f37b8>"
      ]
     },
     "execution_count": 34,
     "metadata": {},
     "output_type": "execute_result"
    },
    {
     "data": {
      "image/png": "[encoded data removed]",
      "text/plain": [
       "<Figure size 1800x720 with 2 Axes>"
      ]
     },
     "metadata": {
      "needs_background": "light"
     },
     "output_type": "display_data"
    }
   ],
   "source": [
    "import missingno as msno \n",
    "\n",
    "msno.matrix(dataset)"
   ]
  },
  {
   "cell_type": "markdown",
   "metadata": {},
   "source": [
    "## Possible ways to replace missing values"
   ]
  },
  {
   "cell_type": "markdown",
   "metadata": {},
   "source": [
    "In general, *total_bedrooms* must be a subset of *total_rooms*; on average, the proportion between the number of total bedrooms and total rooms is 0.21, and its standard deviation is approximately around 0.06, a possible solution in order to keep 1% of data, could be to randomly extract a value between 0.16 and 0.26 and multiply it with the number of *total_rooms* (at i-th row), in this way we won't recreate the exact value but we will have a chance of guessing a coherent value for *total_bedrooms*, because we assume there is a positive correlation between these values and *total_rooms*.\n",
    "For this project, we will try both approaches, and see if there is any benefit in final accuracy."
   ]
  },
  {
   "cell_type": "code",
   "execution_count": 35,
   "metadata": {},
   "outputs": [
    {
     "data": {
      "text/plain": [
       "(0.21303883048085132, 0.05798125521484605)"
      ]
     },
     "execution_count": 35,
     "metadata": {},
     "output_type": "execute_result"
    }
   ],
   "source": [
    "np.mean(dataset[\"total_bedrooms\"]/dataset[\"total_rooms\"]), np.std(dataset[\"total_bedrooms\"]/dataset[\"total_rooms\"])"
   ]
  },
  {
   "cell_type": "code",
   "execution_count": 36,
   "metadata": {},
   "outputs": [
    {
     "data": {
      "text/plain": [
       "[<matplotlib.lines.Line2D at 0x117bb45f8>]"
      ]
     },
     "execution_count": 36,
     "metadata": {},
     "output_type": "execute_result"
    },
    {
     "data": {
      "image/png": "[encoded data removed]",
      "text/plain": [
       "<Figure size 432x288 with 1 Axes>"
      ]
     },
     "metadata": {
      "needs_background": "light"
     },
     "output_type": "display_data"
    }
   ],
   "source": [
    "plt.plot(dataset[\"total_bedrooms\"]/dataset[\"total_rooms\"])"
   ]
  },
  {
   "cell_type": "markdown",
   "metadata": {},
   "source": [
    "Another interesting approach could be considering *households* as a possible estimator of *total_bedrooms* but in this case there is a quite high standard deviation, so it wouldn't be the best method"
   ]
  },
  {
   "cell_type": "code",
   "execution_count": 37,
   "metadata": {
    "scrolled": true
   },
   "outputs": [
    {
     "data": {
      "text/plain": [
       "(1.0970623858069952, 0.47609242488814213)"
      ]
     },
     "execution_count": 37,
     "metadata": {},
     "output_type": "execute_result"
    }
   ],
   "source": [
    "np.mean(dataset[\"total_bedrooms\"]/dataset[\"households\"]), np.std(dataset[\"total_bedrooms\"]/dataset[\"households\"])"
   ]
  },
  {
   "cell_type": "markdown",
   "metadata": {},
   "source": [
    "Another helpful point of view is considering *population* as estimator because, on average, it is the double of *total_bedrooms* values but also in this case standard deviation is not sufficiently low."
   ]
  },
  {
   "cell_type": "code",
   "execution_count": 38,
   "metadata": {
    "scrolled": true
   },
   "outputs": [
    {
     "data": {
      "text/plain": [
       "(0.40330375897319487, 0.2432683493376431)"
      ]
     },
     "execution_count": 38,
     "metadata": {},
     "output_type": "execute_result"
    }
   ],
   "source": [
    "np.mean(dataset[\"total_bedrooms\"]/dataset[\"population\"]), np.std(dataset[\"total_bedrooms\"]/dataset[\"population\"])"
   ]
  },
  {
   "cell_type": "markdown",
   "metadata": {},
   "source": [
    "### Replacing missing values"
   ]
  },
  {
   "cell_type": "markdown",
   "metadata": {},
   "source": [
    "Since standard deviation in the first approach is around 0.05 and mean is 0.21 we can define a range (0.16, 0.26) from which we can uniformly extract a number, with the aim of recreating a coherent value which can replace the missing one.\n",
    "In order to keep consistency, we have to round the value to an integer value, since we are dealing with bedrooms and they belong to a discrete set."
   ]
  },
  {
   "cell_type": "code",
   "execution_count": 39,
   "metadata": {},
   "outputs": [
    {
     "name": "stdout",
     "output_type": "stream",
     "text": [
      "287\n",
      "175\n",
      "1292\n",
      "203\n",
      "140\n",
      "800\n",
      "710\n",
      "885\n",
      "745\n",
      "928\n",
      "545\n",
      "258\n",
      "1381\n",
      "1291\n",
      "905\n",
      "272\n",
      "327\n",
      "262\n",
      "265\n",
      "1078\n",
      "365\n",
      "100\n",
      "29\n",
      "638\n",
      "659\n",
      "956\n",
      "555\n",
      "673\n",
      "1817\n",
      "785\n",
      "709\n",
      "1507\n",
      "1030\n",
      "389\n",
      "365\n",
      "193\n",
      "762\n",
      "277\n",
      "187\n",
      "676\n",
      "285\n",
      "378\n",
      "205\n",
      "434\n",
      "304\n",
      "908\n",
      "241\n",
      "526\n",
      "134\n",
      "277\n",
      "374\n",
      "266\n",
      "270\n",
      "739\n",
      "129\n",
      "427\n",
      "267\n",
      "360\n",
      "534\n",
      "461\n",
      "394\n",
      "426\n",
      "786\n",
      "429\n",
      "783\n",
      "596\n",
      "473\n",
      "453\n",
      "1415\n",
      "469\n",
      "242\n",
      "273\n",
      "930\n",
      "573\n",
      "302\n",
      "770\n",
      "278\n",
      "115\n",
      "290\n",
      "322\n",
      "1061\n",
      "138\n",
      "252\n",
      "627\n",
      "245\n",
      "132\n",
      "204\n",
      "289\n",
      "848\n",
      "365\n",
      "105\n",
      "2286\n",
      "153\n",
      "331\n",
      "131\n",
      "535\n",
      "315\n",
      "56\n",
      "79\n",
      "562\n",
      "538\n",
      "276\n",
      "392\n",
      "1190\n",
      "763\n",
      "357\n",
      "660\n",
      "313\n",
      "810\n",
      "417\n",
      "393\n",
      "351\n",
      "771\n",
      "824\n",
      "794\n",
      "364\n",
      "291\n",
      "1670\n",
      "178\n",
      "613\n",
      "243\n",
      "945\n",
      "375\n",
      "1035\n",
      "841\n",
      "367\n",
      "69\n",
      "427\n",
      "745\n",
      "174\n",
      "701\n",
      "1183\n",
      "226\n",
      "724\n",
      "365\n",
      "118\n",
      "241\n",
      "474\n",
      "223\n",
      "615\n",
      "310\n",
      "183\n",
      "598\n",
      "413\n",
      "650\n",
      "699\n",
      "288\n",
      "1232\n",
      "1182\n",
      "313\n",
      "184\n",
      "975\n",
      "138\n",
      "623\n",
      "399\n",
      "383\n",
      "392\n",
      "294\n",
      "349\n",
      "868\n",
      "168\n",
      "921\n",
      "528\n",
      "841\n",
      "677\n",
      "392\n",
      "774\n",
      "1443\n",
      "458\n",
      "441\n",
      "720\n",
      "964\n",
      "524\n",
      "510\n",
      "294\n",
      "922\n",
      "2509\n",
      "567\n",
      "211\n",
      "574\n",
      "1246\n",
      "286\n",
      "848\n",
      "714\n",
      "549\n",
      "1548\n",
      "487\n",
      "105\n",
      "565\n",
      "202\n",
      "251\n",
      "97\n",
      "323\n",
      "421\n",
      "149\n",
      "265\n",
      "304\n",
      "782\n",
      "313\n",
      "303\n",
      "122\n",
      "304\n",
      "591\n",
      "451\n",
      "1101\n",
      "903\n",
      "582\n"
     ]
    }
   ],
   "source": [
    "import random\n",
    "from random import uniform\n",
    "\n",
    "for index, i in dataset[dataset.isnull().any(axis=1)].iterrows():\n",
    "    print(round(i[\"total_rooms\"] * uniform(0.16, 0.26))) # possible values for total_bedrooms"
   ]
  },
  {
   "cell_type": "markdown",
   "metadata": {},
   "source": [
    "In this way we probably won't have the original exact values but we are sure that they will be consistent, which is the most important thing when giving more examples to the model; in general, this is the same valid approach for data augmentation."
   ]
  },
  {
   "cell_type": "markdown",
   "metadata": {},
   "source": [
    "Let's build two datasets: one with NaNs removed"
   ]
  },
  {
   "cell_type": "code",
   "execution_count": 40,
   "metadata": {},
   "outputs": [],
   "source": [
    "reduced_dataset = dataset[-dataset.isnull().any(axis=1)]"
   ]
  },
  {
   "cell_type": "markdown",
   "metadata": {},
   "source": [
    "and one with its values replaced as explained above."
   ]
  },
  {
   "cell_type": "code",
   "execution_count": 41,
   "metadata": {},
   "outputs": [
    {
     "name": "stderr",
     "output_type": "stream",
     "text": [
      "/Library/Frameworks/Python.framework/Versions/3.7/lib/python3.7/site-packages/ipykernel_launcher.py:3: SettingWithCopyWarning: \n",
      "A value is trying to be set on a copy of a slice from a DataFrame\n",
      "\n",
      "See the caveats in the documentation: http://pandas.pydata.org/pandas-docs/stable/indexing.html#indexing-view-versus-copy\n",
      "  This is separate from the ipykernel package so we can avoid doing imports until\n"
     ]
    }
   ],
   "source": [
    "for index, i in dataset[[\"total_rooms\", \"total_bedrooms\"]].iterrows():\n",
    "    if math.isnan(i[1]):\n",
    "        dataset[\"total_bedrooms\"][index] = round(dataset[\"total_rooms\"][index] * uniform(0.16, 0.26))"
   ]
  },
  {
   "cell_type": "markdown",
   "metadata": {},
   "source": [
    "let's check again the presence of missing values..."
   ]
  },
  {
   "cell_type": "code",
   "execution_count": 42,
   "metadata": {},
   "outputs": [
    {
     "data": {
      "text/plain": [
       "False"
      ]
     },
     "execution_count": 42,
     "metadata": {},
     "output_type": "execute_result"
    }
   ],
   "source": [
    "dataset.isnull().values.any()"
   ]
  },
  {
   "cell_type": "markdown",
   "metadata": {},
   "source": [
    "and the size of the dataset is the same as before"
   ]
  },
  {
   "cell_type": "code",
   "execution_count": 43,
   "metadata": {},
   "outputs": [
    {
     "data": {
      "text/plain": [
       "20640"
      ]
     },
     "execution_count": 43,
     "metadata": {},
     "output_type": "execute_result"
    }
   ],
   "source": [
    "len(dataset)"
   ]
  },
  {
   "cell_type": "markdown",
   "metadata": {},
   "source": [
    "we can see that the previous cases of NaNs have been replaced by consistent values"
   ]
  },
  {
   "cell_type": "code",
   "execution_count": 44,
   "metadata": {},
   "outputs": [
    {
     "data": {
      "text/html": [
       "<div>\n",
       "<style scoped>\n",
       "    .dataframe tbody tr th:only-of-type {\n",
       "        vertical-align: middle;\n",
       "    }\n",
       "\n",
       "    .dataframe tbody tr th {\n",
       "        vertical-align: top;\n",
       "    }\n",
       "\n",
       "    .dataframe thead th {\n",
       "        text-align: right;\n",
       "    }\n",
       "</style>\n",
       "<table border=\"1\" class=\"dataframe\">\n",
       "  <thead>\n",
       "    <tr style=\"text-align: right;\">\n",
       "      <th></th>\n",
       "      <th>longitude</th>\n",
       "      <th>latitude</th>\n",
       "      <th>housing_median_age</th>\n",
       "      <th>total_rooms</th>\n",
       "      <th>total_bedrooms</th>\n",
       "      <th>population</th>\n",
       "      <th>households</th>\n",
       "      <th>median_income</th>\n",
       "      <th>median_house_value</th>\n",
       "      <th>ocean_proximity</th>\n",
       "    </tr>\n",
       "  </thead>\n",
       "  <tbody>\n",
       "    <tr>\n",
       "      <th>290</th>\n",
       "      <td>-122.16</td>\n",
       "      <td>37.77</td>\n",
       "      <td>47.0</td>\n",
       "      <td>1256.0</td>\n",
       "      <td>275.0</td>\n",
       "      <td>570.0</td>\n",
       "      <td>218.0</td>\n",
       "      <td>4.3750</td>\n",
       "      <td>161900.0</td>\n",
       "      <td>NEAR BAY</td>\n",
       "    </tr>\n",
       "    <tr>\n",
       "      <th>341</th>\n",
       "      <td>-122.17</td>\n",
       "      <td>37.75</td>\n",
       "      <td>38.0</td>\n",
       "      <td>992.0</td>\n",
       "      <td>165.0</td>\n",
       "      <td>732.0</td>\n",
       "      <td>259.0</td>\n",
       "      <td>1.6196</td>\n",
       "      <td>85100.0</td>\n",
       "      <td>NEAR BAY</td>\n",
       "    </tr>\n",
       "    <tr>\n",
       "      <th>538</th>\n",
       "      <td>-122.28</td>\n",
       "      <td>37.78</td>\n",
       "      <td>29.0</td>\n",
       "      <td>5154.0</td>\n",
       "      <td>1064.0</td>\n",
       "      <td>3741.0</td>\n",
       "      <td>1273.0</td>\n",
       "      <td>2.5762</td>\n",
       "      <td>173400.0</td>\n",
       "      <td>NEAR BAY</td>\n",
       "    </tr>\n",
       "    <tr>\n",
       "      <th>563</th>\n",
       "      <td>-122.24</td>\n",
       "      <td>37.75</td>\n",
       "      <td>45.0</td>\n",
       "      <td>891.0</td>\n",
       "      <td>191.0</td>\n",
       "      <td>384.0</td>\n",
       "      <td>146.0</td>\n",
       "      <td>4.9489</td>\n",
       "      <td>247100.0</td>\n",
       "      <td>NEAR BAY</td>\n",
       "    </tr>\n",
       "    <tr>\n",
       "      <th>696</th>\n",
       "      <td>-122.10</td>\n",
       "      <td>37.69</td>\n",
       "      <td>41.0</td>\n",
       "      <td>746.0</td>\n",
       "      <td>135.0</td>\n",
       "      <td>387.0</td>\n",
       "      <td>161.0</td>\n",
       "      <td>3.9063</td>\n",
       "      <td>178400.0</td>\n",
       "      <td>NEAR BAY</td>\n",
       "    </tr>\n",
       "    <tr>\n",
       "      <th>738</th>\n",
       "      <td>-122.14</td>\n",
       "      <td>37.67</td>\n",
       "      <td>37.0</td>\n",
       "      <td>3342.0</td>\n",
       "      <td>745.0</td>\n",
       "      <td>1635.0</td>\n",
       "      <td>557.0</td>\n",
       "      <td>4.7933</td>\n",
       "      <td>186900.0</td>\n",
       "      <td>NEAR BAY</td>\n",
       "    </tr>\n",
       "    <tr>\n",
       "      <th>1097</th>\n",
       "      <td>-121.77</td>\n",
       "      <td>39.66</td>\n",
       "      <td>20.0</td>\n",
       "      <td>3759.0</td>\n",
       "      <td>689.0</td>\n",
       "      <td>1705.0</td>\n",
       "      <td>600.0</td>\n",
       "      <td>4.7120</td>\n",
       "      <td>158600.0</td>\n",
       "      <td>INLAND</td>\n",
       "    </tr>\n",
       "    <tr>\n",
       "      <th>1350</th>\n",
       "      <td>-121.95</td>\n",
       "      <td>38.03</td>\n",
       "      <td>5.0</td>\n",
       "      <td>5526.0</td>\n",
       "      <td>946.0</td>\n",
       "      <td>3207.0</td>\n",
       "      <td>1012.0</td>\n",
       "      <td>4.0767</td>\n",
       "      <td>143100.0</td>\n",
       "      <td>INLAND</td>\n",
       "    </tr>\n",
       "    <tr>\n",
       "      <th>1456</th>\n",
       "      <td>-121.98</td>\n",
       "      <td>37.96</td>\n",
       "      <td>22.0</td>\n",
       "      <td>2987.0</td>\n",
       "      <td>619.0</td>\n",
       "      <td>1420.0</td>\n",
       "      <td>540.0</td>\n",
       "      <td>3.6500</td>\n",
       "      <td>204100.0</td>\n",
       "      <td>INLAND</td>\n",
       "    </tr>\n",
       "    <tr>\n",
       "      <th>1493</th>\n",
       "      <td>-122.01</td>\n",
       "      <td>37.94</td>\n",
       "      <td>23.0</td>\n",
       "      <td>3741.0</td>\n",
       "      <td>831.0</td>\n",
       "      <td>1339.0</td>\n",
       "      <td>499.0</td>\n",
       "      <td>6.7061</td>\n",
       "      <td>322300.0</td>\n",
       "      <td>NEAR BAY</td>\n",
       "    </tr>\n",
       "    <tr>\n",
       "      <th>1606</th>\n",
       "      <td>-122.08</td>\n",
       "      <td>37.88</td>\n",
       "      <td>26.0</td>\n",
       "      <td>2947.0</td>\n",
       "      <td>592.0</td>\n",
       "      <td>825.0</td>\n",
       "      <td>626.0</td>\n",
       "      <td>2.9330</td>\n",
       "      <td>85000.0</td>\n",
       "      <td>NEAR BAY</td>\n",
       "    </tr>\n",
       "  </tbody>\n",
       "</table>\n",
       "</div>"
      ],
      "text/plain": [
       "      longitude  latitude  housing_median_age  total_rooms  total_bedrooms  \\\n",
       "290     -122.16     37.77                47.0       1256.0           275.0   \n",
       "341     -122.17     37.75                38.0        992.0           165.0   \n",
       "538     -122.28     37.78                29.0       5154.0          1064.0   \n",
       "563     -122.24     37.75                45.0        891.0           191.0   \n",
       "696     -122.10     37.69                41.0        746.0           135.0   \n",
       "738     -122.14     37.67                37.0       3342.0           745.0   \n",
       "1097    -121.77     39.66                20.0       3759.0           689.0   \n",
       "1350    -121.95     38.03                 5.0       5526.0           946.0   \n",
       "1456    -121.98     37.96                22.0       2987.0           619.0   \n",
       "1493    -122.01     37.94                23.0       3741.0           831.0   \n",
       "1606    -122.08     37.88                26.0       2947.0           592.0   \n",
       "\n",
       "      population  households  median_income  median_house_value  \\\n",
       "290        570.0       218.0         4.3750            161900.0   \n",
       "341        732.0       259.0         1.6196             85100.0   \n",
       "538       3741.0      1273.0         2.5762            173400.0   \n",
       "563        384.0       146.0         4.9489            247100.0   \n",
       "696        387.0       161.0         3.9063            178400.0   \n",
       "738       1635.0       557.0         4.7933            186900.0   \n",
       "1097      1705.0       600.0         4.7120            158600.0   \n",
       "1350      3207.0      1012.0         4.0767            143100.0   \n",
       "1456      1420.0       540.0         3.6500            204100.0   \n",
       "1493      1339.0       499.0         6.7061            322300.0   \n",
       "1606       825.0       626.0         2.9330             85000.0   \n",
       "\n",
       "     ocean_proximity  \n",
       "290         NEAR BAY  \n",
       "341         NEAR BAY  \n",
       "538         NEAR BAY  \n",
       "563         NEAR BAY  \n",
       "696         NEAR BAY  \n",
       "738         NEAR BAY  \n",
       "1097          INLAND  \n",
       "1350          INLAND  \n",
       "1456          INLAND  \n",
       "1493        NEAR BAY  \n",
       "1606        NEAR BAY  "
      ]
     },
     "execution_count": 44,
     "metadata": {},
     "output_type": "execute_result"
    }
   ],
   "source": [
    "nans_indexes = [290, 341, 538, 563, 696, 738, 1097, 1350, 1456, 1493, 1606]\n",
    "\n",
    "dataset.iloc[nans_indexes]"
   ]
  },
  {
   "cell_type": "markdown",
   "metadata": {},
   "source": [
    "## (optional) Data augmentation?"
   ]
  },
  {
   "cell_type": "code",
   "execution_count": 45,
   "metadata": {},
   "outputs": [],
   "source": [
    "# we may consider to augment data if the dataset is not enough rich of examples"
   ]
  },
  {
   "cell_type": "markdown",
   "metadata": {},
   "source": [
    "## Normalization"
   ]
  },
  {
   "cell_type": "markdown",
   "metadata": {},
   "source": [
    "As final step of preprocessing we perform normalization, basically, there are two main categories: min-max and z-score; we will try both to see which one is better for our data."
   ]
  },
  {
   "cell_type": "markdown",
   "metadata": {},
   "source": [
    "### Min-Max"
   ]
  },
  {
   "cell_type": "markdown",
   "metadata": {},
   "source": [
    " <img src=\"images/minmax.png\" width=\"200\"/>"
   ]
  },
  {
   "cell_type": "code",
   "execution_count": 46,
   "metadata": {},
   "outputs": [],
   "source": [
    "min_max_norm_dataset = dataset"
   ]
  },
  {
   "cell_type": "code",
   "execution_count": 47,
   "metadata": {},
   "outputs": [],
   "source": [
    "min_max_norm_dataset.iloc[:,0:9] = ((min_max_norm_dataset.iloc[:,0:9] - min_max_norm_dataset.iloc[:,0:9].min()) / (min_max_norm_dataset.iloc[:,0:9].max() - min_max_norm_dataset.iloc[:,0:9].min()))"
   ]
  },
  {
   "cell_type": "code",
   "execution_count": 48,
   "metadata": {},
   "outputs": [
    {
     "data": {
      "text/html": [
       "<div>\n",
       "<style scoped>\n",
       "    .dataframe tbody tr th:only-of-type {\n",
       "        vertical-align: middle;\n",
       "    }\n",
       "\n",
       "    .dataframe tbody tr th {\n",
       "        vertical-align: top;\n",
       "    }\n",
       "\n",
       "    .dataframe thead th {\n",
       "        text-align: right;\n",
       "    }\n",
       "</style>\n",
       "<table border=\"1\" class=\"dataframe\">\n",
       "  <thead>\n",
       "    <tr style=\"text-align: right;\">\n",
       "      <th></th>\n",
       "      <th>longitude</th>\n",
       "      <th>latitude</th>\n",
       "      <th>housing_median_age</th>\n",
       "      <th>total_rooms</th>\n",
       "      <th>total_bedrooms</th>\n",
       "      <th>population</th>\n",
       "      <th>households</th>\n",
       "      <th>median_income</th>\n",
       "      <th>median_house_value</th>\n",
       "      <th>ocean_proximity</th>\n",
       "    </tr>\n",
       "  </thead>\n",
       "  <tbody>\n",
       "    <tr>\n",
       "      <th>0</th>\n",
       "      <td>0.211155</td>\n",
       "      <td>0.567481</td>\n",
       "      <td>0.784314</td>\n",
       "      <td>0.022331</td>\n",
       "      <td>0.019863</td>\n",
       "      <td>0.008941</td>\n",
       "      <td>0.020556</td>\n",
       "      <td>0.539668</td>\n",
       "      <td>0.902266</td>\n",
       "      <td>NEAR BAY</td>\n",
       "    </tr>\n",
       "    <tr>\n",
       "      <th>1</th>\n",
       "      <td>0.212151</td>\n",
       "      <td>0.565356</td>\n",
       "      <td>0.392157</td>\n",
       "      <td>0.180503</td>\n",
       "      <td>0.171477</td>\n",
       "      <td>0.067210</td>\n",
       "      <td>0.186976</td>\n",
       "      <td>0.538027</td>\n",
       "      <td>0.708247</td>\n",
       "      <td>NEAR BAY</td>\n",
       "    </tr>\n",
       "    <tr>\n",
       "      <th>2</th>\n",
       "      <td>0.210159</td>\n",
       "      <td>0.564293</td>\n",
       "      <td>1.000000</td>\n",
       "      <td>0.037260</td>\n",
       "      <td>0.029330</td>\n",
       "      <td>0.013818</td>\n",
       "      <td>0.028943</td>\n",
       "      <td>0.466028</td>\n",
       "      <td>0.695051</td>\n",
       "      <td>NEAR BAY</td>\n",
       "    </tr>\n",
       "    <tr>\n",
       "      <th>3</th>\n",
       "      <td>0.209163</td>\n",
       "      <td>0.564293</td>\n",
       "      <td>1.000000</td>\n",
       "      <td>0.032352</td>\n",
       "      <td>0.036313</td>\n",
       "      <td>0.015555</td>\n",
       "      <td>0.035849</td>\n",
       "      <td>0.354699</td>\n",
       "      <td>0.672783</td>\n",
       "      <td>NEAR BAY</td>\n",
       "    </tr>\n",
       "    <tr>\n",
       "      <th>4</th>\n",
       "      <td>0.209163</td>\n",
       "      <td>0.564293</td>\n",
       "      <td>1.000000</td>\n",
       "      <td>0.041330</td>\n",
       "      <td>0.043296</td>\n",
       "      <td>0.015752</td>\n",
       "      <td>0.042427</td>\n",
       "      <td>0.230776</td>\n",
       "      <td>0.674638</td>\n",
       "      <td>NEAR BAY</td>\n",
       "    </tr>\n",
       "    <tr>\n",
       "      <th>5</th>\n",
       "      <td>0.209163</td>\n",
       "      <td>0.564293</td>\n",
       "      <td>1.000000</td>\n",
       "      <td>0.023323</td>\n",
       "      <td>0.032899</td>\n",
       "      <td>0.011491</td>\n",
       "      <td>0.031574</td>\n",
       "      <td>0.243921</td>\n",
       "      <td>0.525155</td>\n",
       "      <td>NEAR BAY</td>\n",
       "    </tr>\n",
       "    <tr>\n",
       "      <th>6</th>\n",
       "      <td>0.209163</td>\n",
       "      <td>0.563231</td>\n",
       "      <td>1.000000</td>\n",
       "      <td>0.064423</td>\n",
       "      <td>0.075729</td>\n",
       "      <td>0.030578</td>\n",
       "      <td>0.084361</td>\n",
       "      <td>0.217873</td>\n",
       "      <td>0.585979</td>\n",
       "      <td>NEAR BAY</td>\n",
       "    </tr>\n",
       "    <tr>\n",
       "      <th>7</th>\n",
       "      <td>0.209163</td>\n",
       "      <td>0.563231</td>\n",
       "      <td>1.000000</td>\n",
       "      <td>0.078895</td>\n",
       "      <td>0.106456</td>\n",
       "      <td>0.032344</td>\n",
       "      <td>0.106233</td>\n",
       "      <td>0.180694</td>\n",
       "      <td>0.466804</td>\n",
       "      <td>NEAR BAY</td>\n",
       "    </tr>\n",
       "    <tr>\n",
       "      <th>8</th>\n",
       "      <td>0.208167</td>\n",
       "      <td>0.563231</td>\n",
       "      <td>0.803922</td>\n",
       "      <td>0.064932</td>\n",
       "      <td>0.103042</td>\n",
       "      <td>0.033717</td>\n",
       "      <td>0.097681</td>\n",
       "      <td>0.108998</td>\n",
       "      <td>0.436495</td>\n",
       "      <td>NEAR BAY</td>\n",
       "    </tr>\n",
       "    <tr>\n",
       "      <th>9</th>\n",
       "      <td>0.209163</td>\n",
       "      <td>0.563231</td>\n",
       "      <td>1.000000</td>\n",
       "      <td>0.090213</td>\n",
       "      <td>0.109559</td>\n",
       "      <td>0.043387</td>\n",
       "      <td>0.117250</td>\n",
       "      <td>0.220087</td>\n",
       "      <td>0.507423</td>\n",
       "      <td>NEAR BAY</td>\n",
       "    </tr>\n",
       "  </tbody>\n",
       "</table>\n",
       "</div>"
      ],
      "text/plain": [
       "   longitude  latitude  housing_median_age  total_rooms  total_bedrooms  \\\n",
       "0   0.211155  0.567481            0.784314     0.022331        0.019863   \n",
       "1   0.212151  0.565356            0.392157     0.180503        0.171477   \n",
       "2   0.210159  0.564293            1.000000     0.037260        0.029330   \n",
       "3   0.209163  0.564293            1.000000     0.032352        0.036313   \n",
       "4   0.209163  0.564293            1.000000     0.041330        0.043296   \n",
       "5   0.209163  0.564293            1.000000     0.023323        0.032899   \n",
       "6   0.209163  0.563231            1.000000     0.064423        0.075729   \n",
       "7   0.209163  0.563231            1.000000     0.078895        0.106456   \n",
       "8   0.208167  0.563231            0.803922     0.064932        0.103042   \n",
       "9   0.209163  0.563231            1.000000     0.090213        0.109559   \n",
       "\n",
       "   population  households  median_income  median_house_value ocean_proximity  \n",
       "0    0.008941    0.020556       0.539668            0.902266        NEAR BAY  \n",
       "1    0.067210    0.186976       0.538027            0.708247        NEAR BAY  \n",
       "2    0.013818    0.028943       0.466028            0.695051        NEAR BAY  \n",
       "3    0.015555    0.035849       0.354699            0.672783        NEAR BAY  \n",
       "4    0.015752    0.042427       0.230776            0.674638        NEAR BAY  \n",
       "5    0.011491    0.031574       0.243921            0.525155        NEAR BAY  \n",
       "6    0.030578    0.084361       0.217873            0.585979        NEAR BAY  \n",
       "7    0.032344    0.106233       0.180694            0.466804        NEAR BAY  \n",
       "8    0.033717    0.097681       0.108998            0.436495        NEAR BAY  \n",
       "9    0.043387    0.117250       0.220087            0.507423        NEAR BAY  "
      ]
     },
     "execution_count": 48,
     "metadata": {},
     "output_type": "execute_result"
    }
   ],
   "source": [
    "min_max_norm_dataset.head(10)"
   ]
  },
  {
   "cell_type": "markdown",
   "metadata": {},
   "source": [
    "Now we apply the same normalization for the reduced dataset"
   ]
  },
  {
   "cell_type": "code",
   "execution_count": 49,
   "metadata": {},
   "outputs": [],
   "source": [
    "min_max_norm_reduced_dataset = dataset"
   ]
  },
  {
   "cell_type": "code",
   "execution_count": 50,
   "metadata": {},
   "outputs": [],
   "source": [
    "min_max_norm_reduced_dataset.iloc[:,0:9] = ((min_max_norm_reduced_dataset.iloc[:,0:9] - min_max_norm_reduced_dataset.iloc[:,0:9].min()) / (min_max_norm_reduced_dataset.iloc[:,0:9].max() - min_max_norm_reduced_dataset.iloc[:,0:9].min()))"
   ]
  },
  {
   "cell_type": "code",
   "execution_count": 51,
   "metadata": {},
   "outputs": [
    {
     "data": {
      "text/html": [
       "<div>\n",
       "<style scoped>\n",
       "    .dataframe tbody tr th:only-of-type {\n",
       "        vertical-align: middle;\n",
       "    }\n",
       "\n",
       "    .dataframe tbody tr th {\n",
       "        vertical-align: top;\n",
       "    }\n",
       "\n",
       "    .dataframe thead th {\n",
       "        text-align: right;\n",
       "    }\n",
       "</style>\n",
       "<table border=\"1\" class=\"dataframe\">\n",
       "  <thead>\n",
       "    <tr style=\"text-align: right;\">\n",
       "      <th></th>\n",
       "      <th>longitude</th>\n",
       "      <th>latitude</th>\n",
       "      <th>housing_median_age</th>\n",
       "      <th>total_rooms</th>\n",
       "      <th>total_bedrooms</th>\n",
       "      <th>population</th>\n",
       "      <th>households</th>\n",
       "      <th>median_income</th>\n",
       "      <th>median_house_value</th>\n",
       "      <th>ocean_proximity</th>\n",
       "    </tr>\n",
       "  </thead>\n",
       "  <tbody>\n",
       "    <tr>\n",
       "      <th>0</th>\n",
       "      <td>0.211155</td>\n",
       "      <td>0.567481</td>\n",
       "      <td>0.784314</td>\n",
       "      <td>0.022331</td>\n",
       "      <td>0.019863</td>\n",
       "      <td>0.008941</td>\n",
       "      <td>0.020556</td>\n",
       "      <td>0.539668</td>\n",
       "      <td>0.902266</td>\n",
       "      <td>NEAR BAY</td>\n",
       "    </tr>\n",
       "    <tr>\n",
       "      <th>1</th>\n",
       "      <td>0.212151</td>\n",
       "      <td>0.565356</td>\n",
       "      <td>0.392157</td>\n",
       "      <td>0.180503</td>\n",
       "      <td>0.171477</td>\n",
       "      <td>0.067210</td>\n",
       "      <td>0.186976</td>\n",
       "      <td>0.538027</td>\n",
       "      <td>0.708247</td>\n",
       "      <td>NEAR BAY</td>\n",
       "    </tr>\n",
       "    <tr>\n",
       "      <th>2</th>\n",
       "      <td>0.210159</td>\n",
       "      <td>0.564293</td>\n",
       "      <td>1.000000</td>\n",
       "      <td>0.037260</td>\n",
       "      <td>0.029330</td>\n",
       "      <td>0.013818</td>\n",
       "      <td>0.028943</td>\n",
       "      <td>0.466028</td>\n",
       "      <td>0.695051</td>\n",
       "      <td>NEAR BAY</td>\n",
       "    </tr>\n",
       "    <tr>\n",
       "      <th>3</th>\n",
       "      <td>0.209163</td>\n",
       "      <td>0.564293</td>\n",
       "      <td>1.000000</td>\n",
       "      <td>0.032352</td>\n",
       "      <td>0.036313</td>\n",
       "      <td>0.015555</td>\n",
       "      <td>0.035849</td>\n",
       "      <td>0.354699</td>\n",
       "      <td>0.672783</td>\n",
       "      <td>NEAR BAY</td>\n",
       "    </tr>\n",
       "    <tr>\n",
       "      <th>4</th>\n",
       "      <td>0.209163</td>\n",
       "      <td>0.564293</td>\n",
       "      <td>1.000000</td>\n",
       "      <td>0.041330</td>\n",
       "      <td>0.043296</td>\n",
       "      <td>0.015752</td>\n",
       "      <td>0.042427</td>\n",
       "      <td>0.230776</td>\n",
       "      <td>0.674638</td>\n",
       "      <td>NEAR BAY</td>\n",
       "    </tr>\n",
       "    <tr>\n",
       "      <th>5</th>\n",
       "      <td>0.209163</td>\n",
       "      <td>0.564293</td>\n",
       "      <td>1.000000</td>\n",
       "      <td>0.023323</td>\n",
       "      <td>0.032899</td>\n",
       "      <td>0.011491</td>\n",
       "      <td>0.031574</td>\n",
       "      <td>0.243921</td>\n",
       "      <td>0.525155</td>\n",
       "      <td>NEAR BAY</td>\n",
       "    </tr>\n",
       "    <tr>\n",
       "      <th>6</th>\n",
       "      <td>0.209163</td>\n",
       "      <td>0.563231</td>\n",
       "      <td>1.000000</td>\n",
       "      <td>0.064423</td>\n",
       "      <td>0.075729</td>\n",
       "      <td>0.030578</td>\n",
       "      <td>0.084361</td>\n",
       "      <td>0.217873</td>\n",
       "      <td>0.585979</td>\n",
       "      <td>NEAR BAY</td>\n",
       "    </tr>\n",
       "    <tr>\n",
       "      <th>7</th>\n",
       "      <td>0.209163</td>\n",
       "      <td>0.563231</td>\n",
       "      <td>1.000000</td>\n",
       "      <td>0.078895</td>\n",
       "      <td>0.106456</td>\n",
       "      <td>0.032344</td>\n",
       "      <td>0.106233</td>\n",
       "      <td>0.180694</td>\n",
       "      <td>0.466804</td>\n",
       "      <td>NEAR BAY</td>\n",
       "    </tr>\n",
       "    <tr>\n",
       "      <th>8</th>\n",
       "      <td>0.208167</td>\n",
       "      <td>0.563231</td>\n",
       "      <td>0.803922</td>\n",
       "      <td>0.064932</td>\n",
       "      <td>0.103042</td>\n",
       "      <td>0.033717</td>\n",
       "      <td>0.097681</td>\n",
       "      <td>0.108998</td>\n",
       "      <td>0.436495</td>\n",
       "      <td>NEAR BAY</td>\n",
       "    </tr>\n",
       "    <tr>\n",
       "      <th>9</th>\n",
       "      <td>0.209163</td>\n",
       "      <td>0.563231</td>\n",
       "      <td>1.000000</td>\n",
       "      <td>0.090213</td>\n",
       "      <td>0.109559</td>\n",
       "      <td>0.043387</td>\n",
       "      <td>0.117250</td>\n",
       "      <td>0.220087</td>\n",
       "      <td>0.507423</td>\n",
       "      <td>NEAR BAY</td>\n",
       "    </tr>\n",
       "  </tbody>\n",
       "</table>\n",
       "</div>"
      ],
      "text/plain": [
       "   longitude  latitude  housing_median_age  total_rooms  total_bedrooms  \\\n",
       "0   0.211155  0.567481            0.784314     0.022331        0.019863   \n",
       "1   0.212151  0.565356            0.392157     0.180503        0.171477   \n",
       "2   0.210159  0.564293            1.000000     0.037260        0.029330   \n",
       "3   0.209163  0.564293            1.000000     0.032352        0.036313   \n",
       "4   0.209163  0.564293            1.000000     0.041330        0.043296   \n",
       "5   0.209163  0.564293            1.000000     0.023323        0.032899   \n",
       "6   0.209163  0.563231            1.000000     0.064423        0.075729   \n",
       "7   0.209163  0.563231            1.000000     0.078895        0.106456   \n",
       "8   0.208167  0.563231            0.803922     0.064932        0.103042   \n",
       "9   0.209163  0.563231            1.000000     0.090213        0.109559   \n",
       "\n",
       "   population  households  median_income  median_house_value ocean_proximity  \n",
       "0    0.008941    0.020556       0.539668            0.902266        NEAR BAY  \n",
       "1    0.067210    0.186976       0.538027            0.708247        NEAR BAY  \n",
       "2    0.013818    0.028943       0.466028            0.695051        NEAR BAY  \n",
       "3    0.015555    0.035849       0.354699            0.672783        NEAR BAY  \n",
       "4    0.015752    0.042427       0.230776            0.674638        NEAR BAY  \n",
       "5    0.011491    0.031574       0.243921            0.525155        NEAR BAY  \n",
       "6    0.030578    0.084361       0.217873            0.585979        NEAR BAY  \n",
       "7    0.032344    0.106233       0.180694            0.466804        NEAR BAY  \n",
       "8    0.033717    0.097681       0.108998            0.436495        NEAR BAY  \n",
       "9    0.043387    0.117250       0.220087            0.507423        NEAR BAY  "
      ]
     },
     "execution_count": 51,
     "metadata": {},
     "output_type": "execute_result"
    }
   ],
   "source": [
    "min_max_norm_reduced_dataset.head(10)"
   ]
  },
  {
   "cell_type": "markdown",
   "metadata": {},
   "source": [
    "### Z-score"
   ]
  },
  {
   "cell_type": "markdown",
   "metadata": {},
   "source": [
    " <img src=\"images/zscore.png\" width=\"200\"/>"
   ]
  },
  {
   "cell_type": "code",
   "execution_count": 52,
   "metadata": {},
   "outputs": [
    {
     "data": {
      "text/html": [
       "<div>\n",
       "<style scoped>\n",
       "    .dataframe tbody tr th:only-of-type {\n",
       "        vertical-align: middle;\n",
       "    }\n",
       "\n",
       "    .dataframe tbody tr th {\n",
       "        vertical-align: top;\n",
       "    }\n",
       "\n",
       "    .dataframe thead th {\n",
       "        text-align: right;\n",
       "    }\n",
       "</style>\n",
       "<table border=\"1\" class=\"dataframe\">\n",
       "  <thead>\n",
       "    <tr style=\"text-align: right;\">\n",
       "      <th></th>\n",
       "      <th>longitude</th>\n",
       "      <th>latitude</th>\n",
       "      <th>housing_median_age</th>\n",
       "      <th>total_rooms</th>\n",
       "      <th>total_bedrooms</th>\n",
       "      <th>population</th>\n",
       "      <th>households</th>\n",
       "      <th>median_income</th>\n",
       "      <th>median_house_value</th>\n",
       "      <th>ocean_proximity</th>\n",
       "    </tr>\n",
       "  </thead>\n",
       "  <tbody>\n",
       "    <tr>\n",
       "      <th>0</th>\n",
       "      <td>-1.327835</td>\n",
       "      <td>1.052548</td>\n",
       "      <td>0.982143</td>\n",
       "      <td>-0.804819</td>\n",
       "      <td>-0.970912</td>\n",
       "      <td>-0.974429</td>\n",
       "      <td>-0.977033</td>\n",
       "      <td>2.344766</td>\n",
       "      <td>2.129631</td>\n",
       "      <td>NEAR BAY</td>\n",
       "    </tr>\n",
       "    <tr>\n",
       "      <th>1</th>\n",
       "      <td>-1.322844</td>\n",
       "      <td>1.043185</td>\n",
       "      <td>-0.607019</td>\n",
       "      <td>2.045890</td>\n",
       "      <td>1.348633</td>\n",
       "      <td>0.861439</td>\n",
       "      <td>1.669961</td>\n",
       "      <td>2.332238</td>\n",
       "      <td>1.314156</td>\n",
       "      <td>NEAR BAY</td>\n",
       "    </tr>\n",
       "    <tr>\n",
       "      <th>2</th>\n",
       "      <td>-1.332827</td>\n",
       "      <td>1.038503</td>\n",
       "      <td>1.856182</td>\n",
       "      <td>-0.535746</td>\n",
       "      <td>-0.826089</td>\n",
       "      <td>-0.820777</td>\n",
       "      <td>-0.843637</td>\n",
       "      <td>1.782699</td>\n",
       "      <td>1.258693</td>\n",
       "      <td>NEAR BAY</td>\n",
       "    </tr>\n",
       "    <tr>\n",
       "      <th>3</th>\n",
       "      <td>-1.337818</td>\n",
       "      <td>1.038503</td>\n",
       "      <td>1.856182</td>\n",
       "      <td>-0.624215</td>\n",
       "      <td>-0.719252</td>\n",
       "      <td>-0.766028</td>\n",
       "      <td>-0.733781</td>\n",
       "      <td>0.932968</td>\n",
       "      <td>1.165100</td>\n",
       "      <td>NEAR BAY</td>\n",
       "    </tr>\n",
       "    <tr>\n",
       "      <th>4</th>\n",
       "      <td>-1.337818</td>\n",
       "      <td>1.038503</td>\n",
       "      <td>1.856182</td>\n",
       "      <td>-0.462404</td>\n",
       "      <td>-0.612416</td>\n",
       "      <td>-0.759847</td>\n",
       "      <td>-0.629157</td>\n",
       "      <td>-0.012881</td>\n",
       "      <td>1.172900</td>\n",
       "      <td>NEAR BAY</td>\n",
       "    </tr>\n",
       "    <tr>\n",
       "      <th>5</th>\n",
       "      <td>-1.337818</td>\n",
       "      <td>1.038503</td>\n",
       "      <td>1.856182</td>\n",
       "      <td>-0.786942</td>\n",
       "      <td>-0.771484</td>\n",
       "      <td>-0.894071</td>\n",
       "      <td>-0.801787</td>\n",
       "      <td>0.087447</td>\n",
       "      <td>0.544611</td>\n",
       "      <td>NEAR BAY</td>\n",
       "    </tr>\n",
       "    <tr>\n",
       "      <th>6</th>\n",
       "      <td>-1.337818</td>\n",
       "      <td>1.033821</td>\n",
       "      <td>1.856182</td>\n",
       "      <td>-0.046188</td>\n",
       "      <td>-0.116218</td>\n",
       "      <td>-0.292712</td>\n",
       "      <td>0.037823</td>\n",
       "      <td>-0.111366</td>\n",
       "      <td>0.800259</td>\n",
       "      <td>NEAR BAY</td>\n",
       "    </tr>\n",
       "    <tr>\n",
       "      <th>7</th>\n",
       "      <td>-1.337818</td>\n",
       "      <td>1.033821</td>\n",
       "      <td>1.856182</td>\n",
       "      <td>0.214634</td>\n",
       "      <td>0.353864</td>\n",
       "      <td>-0.237079</td>\n",
       "      <td>0.385698</td>\n",
       "      <td>-0.395137</td>\n",
       "      <td>0.299362</td>\n",
       "      <td>NEAR BAY</td>\n",
       "    </tr>\n",
       "    <tr>\n",
       "      <th>8</th>\n",
       "      <td>-1.342809</td>\n",
       "      <td>1.033821</td>\n",
       "      <td>1.061601</td>\n",
       "      <td>-0.037021</td>\n",
       "      <td>0.301633</td>\n",
       "      <td>-0.193810</td>\n",
       "      <td>0.249687</td>\n",
       "      <td>-0.942359</td>\n",
       "      <td>0.171971</td>\n",
       "      <td>NEAR BAY</td>\n",
       "    </tr>\n",
       "    <tr>\n",
       "      <th>9</th>\n",
       "      <td>-1.337818</td>\n",
       "      <td>1.033821</td>\n",
       "      <td>1.856182</td>\n",
       "      <td>0.418616</td>\n",
       "      <td>0.401347</td>\n",
       "      <td>0.110844</td>\n",
       "      <td>0.560944</td>\n",
       "      <td>-0.094470</td>\n",
       "      <td>0.470083</td>\n",
       "      <td>NEAR BAY</td>\n",
       "    </tr>\n",
       "  </tbody>\n",
       "</table>\n",
       "</div>"
      ],
      "text/plain": [
       "   longitude  latitude  housing_median_age  total_rooms  total_bedrooms  \\\n",
       "0  -1.327835  1.052548            0.982143    -0.804819       -0.970912   \n",
       "1  -1.322844  1.043185           -0.607019     2.045890        1.348633   \n",
       "2  -1.332827  1.038503            1.856182    -0.535746       -0.826089   \n",
       "3  -1.337818  1.038503            1.856182    -0.624215       -0.719252   \n",
       "4  -1.337818  1.038503            1.856182    -0.462404       -0.612416   \n",
       "5  -1.337818  1.038503            1.856182    -0.786942       -0.771484   \n",
       "6  -1.337818  1.033821            1.856182    -0.046188       -0.116218   \n",
       "7  -1.337818  1.033821            1.856182     0.214634        0.353864   \n",
       "8  -1.342809  1.033821            1.061601    -0.037021        0.301633   \n",
       "9  -1.337818  1.033821            1.856182     0.418616        0.401347   \n",
       "\n",
       "   population  households  median_income  median_house_value ocean_proximity  \n",
       "0   -0.974429   -0.977033       2.344766            2.129631        NEAR BAY  \n",
       "1    0.861439    1.669961       2.332238            1.314156        NEAR BAY  \n",
       "2   -0.820777   -0.843637       1.782699            1.258693        NEAR BAY  \n",
       "3   -0.766028   -0.733781       0.932968            1.165100        NEAR BAY  \n",
       "4   -0.759847   -0.629157      -0.012881            1.172900        NEAR BAY  \n",
       "5   -0.894071   -0.801787       0.087447            0.544611        NEAR BAY  \n",
       "6   -0.292712    0.037823      -0.111366            0.800259        NEAR BAY  \n",
       "7   -0.237079    0.385698      -0.395137            0.299362        NEAR BAY  \n",
       "8   -0.193810    0.249687      -0.942359            0.171971        NEAR BAY  \n",
       "9    0.110844    0.560944      -0.094470            0.470083        NEAR BAY  "
      ]
     },
     "execution_count": 52,
     "metadata": {},
     "output_type": "execute_result"
    }
   ],
   "source": [
    "from scipy import stats\n",
    "\n",
    "zscore_norm_dataset = dataset\n",
    "\n",
    "zscore_norm_dataset = stats.zscore(zscore_norm_dataset.iloc[:,0:9])\n",
    "zscore_norm_dataset = pd.DataFrame(zscore_norm_dataset)\n",
    "zscore_norm_dataset[\"ocean_proximity\"] = dataset[\"ocean_proximity\"]\n",
    "zscore_norm_dataset.columns = col\n",
    "zscore_norm_dataset.head(10)"
   ]
  },
  {
   "cell_type": "markdown",
   "metadata": {},
   "source": [
    "and, again, let's apply the same to the reduced dataset"
   ]
  },
  {
   "cell_type": "code",
   "execution_count": 53,
   "metadata": {},
   "outputs": [
    {
     "data": {
      "text/html": [
       "<div>\n",
       "<style scoped>\n",
       "    .dataframe tbody tr th:only-of-type {\n",
       "        vertical-align: middle;\n",
       "    }\n",
       "\n",
       "    .dataframe tbody tr th {\n",
       "        vertical-align: top;\n",
       "    }\n",
       "\n",
       "    .dataframe thead th {\n",
       "        text-align: right;\n",
       "    }\n",
       "</style>\n",
       "<table border=\"1\" class=\"dataframe\">\n",
       "  <thead>\n",
       "    <tr style=\"text-align: right;\">\n",
       "      <th></th>\n",
       "      <th>longitude</th>\n",
       "      <th>latitude</th>\n",
       "      <th>housing_median_age</th>\n",
       "      <th>total_rooms</th>\n",
       "      <th>total_bedrooms</th>\n",
       "      <th>population</th>\n",
       "      <th>households</th>\n",
       "      <th>median_income</th>\n",
       "      <th>median_house_value</th>\n",
       "      <th>ocean_proximity</th>\n",
       "    </tr>\n",
       "  </thead>\n",
       "  <tbody>\n",
       "    <tr>\n",
       "      <th>0</th>\n",
       "      <td>-1.327835</td>\n",
       "      <td>1.052548</td>\n",
       "      <td>0.982143</td>\n",
       "      <td>-0.804819</td>\n",
       "      <td>-0.970912</td>\n",
       "      <td>-0.974429</td>\n",
       "      <td>-0.977033</td>\n",
       "      <td>2.344766</td>\n",
       "      <td>2.129631</td>\n",
       "      <td>NEAR BAY</td>\n",
       "    </tr>\n",
       "    <tr>\n",
       "      <th>1</th>\n",
       "      <td>-1.322844</td>\n",
       "      <td>1.043185</td>\n",
       "      <td>-0.607019</td>\n",
       "      <td>2.045890</td>\n",
       "      <td>1.348633</td>\n",
       "      <td>0.861439</td>\n",
       "      <td>1.669961</td>\n",
       "      <td>2.332238</td>\n",
       "      <td>1.314156</td>\n",
       "      <td>NEAR BAY</td>\n",
       "    </tr>\n",
       "    <tr>\n",
       "      <th>2</th>\n",
       "      <td>-1.332827</td>\n",
       "      <td>1.038503</td>\n",
       "      <td>1.856182</td>\n",
       "      <td>-0.535746</td>\n",
       "      <td>-0.826089</td>\n",
       "      <td>-0.820777</td>\n",
       "      <td>-0.843637</td>\n",
       "      <td>1.782699</td>\n",
       "      <td>1.258693</td>\n",
       "      <td>NEAR BAY</td>\n",
       "    </tr>\n",
       "    <tr>\n",
       "      <th>3</th>\n",
       "      <td>-1.337818</td>\n",
       "      <td>1.038503</td>\n",
       "      <td>1.856182</td>\n",
       "      <td>-0.624215</td>\n",
       "      <td>-0.719252</td>\n",
       "      <td>-0.766028</td>\n",
       "      <td>-0.733781</td>\n",
       "      <td>0.932968</td>\n",
       "      <td>1.165100</td>\n",
       "      <td>NEAR BAY</td>\n",
       "    </tr>\n",
       "    <tr>\n",
       "      <th>4</th>\n",
       "      <td>-1.337818</td>\n",
       "      <td>1.038503</td>\n",
       "      <td>1.856182</td>\n",
       "      <td>-0.462404</td>\n",
       "      <td>-0.612416</td>\n",
       "      <td>-0.759847</td>\n",
       "      <td>-0.629157</td>\n",
       "      <td>-0.012881</td>\n",
       "      <td>1.172900</td>\n",
       "      <td>NEAR BAY</td>\n",
       "    </tr>\n",
       "    <tr>\n",
       "      <th>5</th>\n",
       "      <td>-1.337818</td>\n",
       "      <td>1.038503</td>\n",
       "      <td>1.856182</td>\n",
       "      <td>-0.786942</td>\n",
       "      <td>-0.771484</td>\n",
       "      <td>-0.894071</td>\n",
       "      <td>-0.801787</td>\n",
       "      <td>0.087447</td>\n",
       "      <td>0.544611</td>\n",
       "      <td>NEAR BAY</td>\n",
       "    </tr>\n",
       "    <tr>\n",
       "      <th>6</th>\n",
       "      <td>-1.337818</td>\n",
       "      <td>1.033821</td>\n",
       "      <td>1.856182</td>\n",
       "      <td>-0.046188</td>\n",
       "      <td>-0.116218</td>\n",
       "      <td>-0.292712</td>\n",
       "      <td>0.037823</td>\n",
       "      <td>-0.111366</td>\n",
       "      <td>0.800259</td>\n",
       "      <td>NEAR BAY</td>\n",
       "    </tr>\n",
       "    <tr>\n",
       "      <th>7</th>\n",
       "      <td>-1.337818</td>\n",
       "      <td>1.033821</td>\n",
       "      <td>1.856182</td>\n",
       "      <td>0.214634</td>\n",
       "      <td>0.353864</td>\n",
       "      <td>-0.237079</td>\n",
       "      <td>0.385698</td>\n",
       "      <td>-0.395137</td>\n",
       "      <td>0.299362</td>\n",
       "      <td>NEAR BAY</td>\n",
       "    </tr>\n",
       "    <tr>\n",
       "      <th>8</th>\n",
       "      <td>-1.342809</td>\n",
       "      <td>1.033821</td>\n",
       "      <td>1.061601</td>\n",
       "      <td>-0.037021</td>\n",
       "      <td>0.301633</td>\n",
       "      <td>-0.193810</td>\n",
       "      <td>0.249687</td>\n",
       "      <td>-0.942359</td>\n",
       "      <td>0.171971</td>\n",
       "      <td>NEAR BAY</td>\n",
       "    </tr>\n",
       "    <tr>\n",
       "      <th>9</th>\n",
       "      <td>-1.337818</td>\n",
       "      <td>1.033821</td>\n",
       "      <td>1.856182</td>\n",
       "      <td>0.418616</td>\n",
       "      <td>0.401347</td>\n",
       "      <td>0.110844</td>\n",
       "      <td>0.560944</td>\n",
       "      <td>-0.094470</td>\n",
       "      <td>0.470083</td>\n",
       "      <td>NEAR BAY</td>\n",
       "    </tr>\n",
       "  </tbody>\n",
       "</table>\n",
       "</div>"
      ],
      "text/plain": [
       "   longitude  latitude  housing_median_age  total_rooms  total_bedrooms  \\\n",
       "0  -1.327835  1.052548            0.982143    -0.804819       -0.970912   \n",
       "1  -1.322844  1.043185           -0.607019     2.045890        1.348633   \n",
       "2  -1.332827  1.038503            1.856182    -0.535746       -0.826089   \n",
       "3  -1.337818  1.038503            1.856182    -0.624215       -0.719252   \n",
       "4  -1.337818  1.038503            1.856182    -0.462404       -0.612416   \n",
       "5  -1.337818  1.038503            1.856182    -0.786942       -0.771484   \n",
       "6  -1.337818  1.033821            1.856182    -0.046188       -0.116218   \n",
       "7  -1.337818  1.033821            1.856182     0.214634        0.353864   \n",
       "8  -1.342809  1.033821            1.061601    -0.037021        0.301633   \n",
       "9  -1.337818  1.033821            1.856182     0.418616        0.401347   \n",
       "\n",
       "   population  households  median_income  median_house_value ocean_proximity  \n",
       "0   -0.974429   -0.977033       2.344766            2.129631        NEAR BAY  \n",
       "1    0.861439    1.669961       2.332238            1.314156        NEAR BAY  \n",
       "2   -0.820777   -0.843637       1.782699            1.258693        NEAR BAY  \n",
       "3   -0.766028   -0.733781       0.932968            1.165100        NEAR BAY  \n",
       "4   -0.759847   -0.629157      -0.012881            1.172900        NEAR BAY  \n",
       "5   -0.894071   -0.801787       0.087447            0.544611        NEAR BAY  \n",
       "6   -0.292712    0.037823      -0.111366            0.800259        NEAR BAY  \n",
       "7   -0.237079    0.385698      -0.395137            0.299362        NEAR BAY  \n",
       "8   -0.193810    0.249687      -0.942359            0.171971        NEAR BAY  \n",
       "9    0.110844    0.560944      -0.094470            0.470083        NEAR BAY  "
      ]
     },
     "execution_count": 53,
     "metadata": {},
     "output_type": "execute_result"
    }
   ],
   "source": [
    "zscore_norm_reduced_dataset = dataset\n",
    "\n",
    "zscore_norm_reduced_dataset = stats.zscore(zscore_norm_reduced_dataset.iloc[:,0:9])\n",
    "zscore_norm_reduced_dataset = pd.DataFrame(zscore_norm_reduced_dataset)\n",
    "zscore_norm_reduced_dataset[\"ocean_proximity\"] = dataset[\"ocean_proximity\"]\n",
    "zscore_norm_reduced_dataset.columns = col\n",
    "zscore_norm_reduced_dataset.head(10)"
   ]
  },
  {
   "cell_type": "markdown",
   "metadata": {},
   "source": [
    "# Writing preprocessed datasets"
   ]
  },
  {
   "cell_type": "code",
   "execution_count": 54,
   "metadata": {},
   "outputs": [],
   "source": [
    "min_max_norm_dataset.to_csv(\"datasets/min_max_norm_dataset\")\n",
    "min_max_norm_reduced_dataset.to_csv(\"datasets/min_max_norm_reduced_dataset\")\n",
    "\n",
    "zscore_norm_dataset.to_csv(\"datasets/zscore_norm_dataset\")\n",
    "zscore_norm_reduced_dataset.to_csv(\"datasets/zscore_norm_reduced_dataset\")"
   ]
  }
 ],
 "metadata": {
  "kernelspec": {
   "display_name": "Python 3",
   "language": "python",
   "name": "python3"
  },
  "language_info": {
   "codemirror_mode": {
    "name": "ipython",
    "version": 3
   },
   "file_extension": ".py",
   "mimetype": "text/x-python",
   "name": "python",
   "nbconvert_exporter": "python",
   "pygments_lexer": "ipython3",
   "version": "3.7.1"
  }
 },
 "nbformat": 4,
 "nbformat_minor": 2
}
