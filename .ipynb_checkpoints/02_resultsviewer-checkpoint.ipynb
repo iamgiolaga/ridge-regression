{
 "cells": [
  {
   "cell_type": "code",
   "execution_count": 1,
   "metadata": {},
   "outputs": [],
   "source": [
    "import pandas as pd"
   ]
  },
  {
   "cell_type": "code",
   "execution_count": 2,
   "metadata": {},
   "outputs": [],
   "source": [
    "results = pd.read_csv(\"results/scores/final_scores.csv\")\n",
    "del results[\"Unnamed: 0\"]"
   ]
  },
  {
   "cell_type": "code",
   "execution_count": 3,
   "metadata": {},
   "outputs": [
    {
     "data": {
      "text/html": [
       "<div>\n",
       "<style scoped>\n",
       "    .dataframe tbody tr th:only-of-type {\n",
       "        vertical-align: middle;\n",
       "    }\n",
       "\n",
       "    .dataframe tbody tr th {\n",
       "        vertical-align: top;\n",
       "    }\n",
       "\n",
       "    .dataframe thead th {\n",
       "        text-align: right;\n",
       "    }\n",
       "</style>\n",
       "<table border=\"1\" class=\"dataframe\">\n",
       "  <thead>\n",
       "    <tr style=\"text-align: right;\">\n",
       "      <th></th>\n",
       "      <th>best_alpha_d1</th>\n",
       "      <th>best_alpha_d2</th>\n",
       "      <th>best_alpha_d3</th>\n",
       "      <th>best_alpha_d4</th>\n",
       "      <th>cross_val_PCA_d1</th>\n",
       "      <th>cross_val_PCA_d2</th>\n",
       "      <th>cross_val_PCA_d3</th>\n",
       "      <th>cross_val_PCA_d4</th>\n",
       "    </tr>\n",
       "  </thead>\n",
       "  <tbody>\n",
       "    <tr>\n",
       "      <th>0</th>\n",
       "      <td>0.01</td>\n",
       "      <td>0.01</td>\n",
       "      <td>30.93</td>\n",
       "      <td>7.02</td>\n",
       "      <td>0.153714</td>\n",
       "      <td>0.153649</td>\n",
       "      <td>0.389141</td>\n",
       "      <td>0.388388</td>\n",
       "    </tr>\n",
       "  </tbody>\n",
       "</table>\n",
       "</div>"
      ],
      "text/plain": [
       "   best_alpha_d1  best_alpha_d2  best_alpha_d3  best_alpha_d4  \\\n",
       "0           0.01           0.01          30.93           7.02   \n",
       "\n",
       "   cross_val_PCA_d1  cross_val_PCA_d2  cross_val_PCA_d3  cross_val_PCA_d4  \n",
       "0          0.153714          0.153649          0.389141          0.388388  "
      ]
     },
     "execution_count": 3,
     "metadata": {},
     "output_type": "execute_result"
    }
   ],
   "source": [
    "results.iloc[:, range(0, 8)]"
   ]
  },
  {
   "cell_type": "code",
   "execution_count": 4,
   "metadata": {},
   "outputs": [
    {
     "data": {
      "text/html": [
       "<div>\n",
       "<style scoped>\n",
       "    .dataframe tbody tr th:only-of-type {\n",
       "        vertical-align: middle;\n",
       "    }\n",
       "\n",
       "    .dataframe tbody tr th {\n",
       "        vertical-align: top;\n",
       "    }\n",
       "\n",
       "    .dataframe thead th {\n",
       "        text-align: right;\n",
       "    }\n",
       "</style>\n",
       "<table border=\"1\" class=\"dataframe\">\n",
       "  <thead>\n",
       "    <tr style=\"text-align: right;\">\n",
       "      <th></th>\n",
       "      <th>cross_val_d1</th>\n",
       "      <th>cross_val_d2</th>\n",
       "      <th>cross_val_d3</th>\n",
       "      <th>cross_val_d4</th>\n",
       "      <th>nest_cross_val_d1</th>\n",
       "      <th>nest_cross_val_d2</th>\n",
       "      <th>nest_cross_val_d3</th>\n",
       "      <th>nest_cross_val_d4</th>\n",
       "    </tr>\n",
       "  </thead>\n",
       "  <tbody>\n",
       "    <tr>\n",
       "      <th>0</th>\n",
       "      <td>0.014808</td>\n",
       "      <td>0.014756</td>\n",
       "      <td>0.367862</td>\n",
       "      <td>0.36691</td>\n",
       "      <td>0.014812</td>\n",
       "      <td>0.014758</td>\n",
       "      <td>0.367922</td>\n",
       "      <td>0.366784</td>\n",
       "    </tr>\n",
       "  </tbody>\n",
       "</table>\n",
       "</div>"
      ],
      "text/plain": [
       "   cross_val_d1  cross_val_d2  cross_val_d3  cross_val_d4  nest_cross_val_d1  \\\n",
       "0      0.014808      0.014756      0.367862       0.36691           0.014812   \n",
       "\n",
       "   nest_cross_val_d2  nest_cross_val_d3  nest_cross_val_d4  \n",
       "0           0.014758           0.367922           0.366784  "
      ]
     },
     "execution_count": 4,
     "metadata": {},
     "output_type": "execute_result"
    }
   ],
   "source": [
    "results.iloc[:, range(8, 16)]"
   ]
  },
  {
   "cell_type": "code",
   "execution_count": 5,
   "metadata": {},
   "outputs": [
    {
     "data": {
      "text/html": [
       "<div>\n",
       "<style scoped>\n",
       "    .dataframe tbody tr th:only-of-type {\n",
       "        vertical-align: middle;\n",
       "    }\n",
       "\n",
       "    .dataframe tbody tr th {\n",
       "        vertical-align: top;\n",
       "    }\n",
       "\n",
       "    .dataframe thead th {\n",
       "        text-align: right;\n",
       "    }\n",
       "</style>\n",
       "<table border=\"1\" class=\"dataframe\">\n",
       "  <thead>\n",
       "    <tr style=\"text-align: right;\">\n",
       "      <th></th>\n",
       "      <th>r2_d1</th>\n",
       "      <th>r2_d2</th>\n",
       "      <th>r2_d3</th>\n",
       "      <th>r2_d4</th>\n",
       "      <th>sklearn_cv_d1</th>\n",
       "      <th>sklearn_cv_d2</th>\n",
       "      <th>sklearn_cv_d3</th>\n",
       "      <th>sklearn_cv_d4</th>\n",
       "      <th>sklearn_test_error_d1</th>\n",
       "    </tr>\n",
       "  </thead>\n",
       "  <tbody>\n",
       "    <tr>\n",
       "      <th>0</th>\n",
       "      <td>0.653222</td>\n",
       "      <td>0.649771</td>\n",
       "      <td>0.627269</td>\n",
       "      <td>0.625269</td>\n",
       "      <td>0.014812</td>\n",
       "      <td>0.014767</td>\n",
       "      <td>0.368186</td>\n",
       "      <td>0.366958</td>\n",
       "      <td>0.014462</td>\n",
       "    </tr>\n",
       "  </tbody>\n",
       "</table>\n",
       "</div>"
      ],
      "text/plain": [
       "      r2_d1     r2_d2     r2_d3     r2_d4  sklearn_cv_d1  sklearn_cv_d2  \\\n",
       "0  0.653222  0.649771  0.627269  0.625269       0.014812       0.014767   \n",
       "\n",
       "   sklearn_cv_d3  sklearn_cv_d4  sklearn_test_error_d1  \n",
       "0       0.368186       0.366958               0.014462  "
      ]
     },
     "execution_count": 5,
     "metadata": {},
     "output_type": "execute_result"
    }
   ],
   "source": [
    "results.iloc[:, range(16, 25)]"
   ]
  },
  {
   "cell_type": "code",
   "execution_count": 6,
   "metadata": {},
   "outputs": [
    {
     "data": {
      "text/html": [
       "<div>\n",
       "<style scoped>\n",
       "    .dataframe tbody tr th:only-of-type {\n",
       "        vertical-align: middle;\n",
       "    }\n",
       "\n",
       "    .dataframe tbody tr th {\n",
       "        vertical-align: top;\n",
       "    }\n",
       "\n",
       "    .dataframe thead th {\n",
       "        text-align: right;\n",
       "    }\n",
       "</style>\n",
       "<table border=\"1\" class=\"dataframe\">\n",
       "  <thead>\n",
       "    <tr style=\"text-align: right;\">\n",
       "      <th></th>\n",
       "      <th>sklearn_test_error_d2</th>\n",
       "      <th>sklearn_test_error_d3</th>\n",
       "      <th>sklearn_test_error_d4</th>\n",
       "      <th>test_error_d1</th>\n",
       "      <th>test_error_d2</th>\n",
       "      <th>test_error_d3</th>\n",
       "      <th>test_error_d4</th>\n",
       "    </tr>\n",
       "  </thead>\n",
       "  <tbody>\n",
       "    <tr>\n",
       "      <th>0</th>\n",
       "      <td>0.014283</td>\n",
       "      <td>0.373217</td>\n",
       "      <td>0.350861</td>\n",
       "      <td>0.01377</td>\n",
       "      <td>0.014275</td>\n",
       "      <td>0.368007</td>\n",
       "      <td>0.37042</td>\n",
       "    </tr>\n",
       "  </tbody>\n",
       "</table>\n",
       "</div>"
      ],
      "text/plain": [
       "   sklearn_test_error_d2  sklearn_test_error_d3  sklearn_test_error_d4  \\\n",
       "0               0.014283               0.373217               0.350861   \n",
       "\n",
       "   test_error_d1  test_error_d2  test_error_d3  test_error_d4  \n",
       "0        0.01377       0.014275       0.368007        0.37042  "
      ]
     },
     "execution_count": 6,
     "metadata": {},
     "output_type": "execute_result"
    }
   ],
   "source": [
    "results.iloc[:, range(25, 32)]"
   ]
  },
  {
   "cell_type": "code",
   "execution_count": null,
   "metadata": {},
   "outputs": [],
   "source": []
  }
 ],
 "metadata": {
  "kernelspec": {
   "display_name": "Python 3",
   "language": "python",
   "name": "python3"
  },
  "language_info": {
   "codemirror_mode": {
    "name": "ipython",
    "version": 3
   },
   "file_extension": ".py",
   "mimetype": "text/x-python",
   "name": "python",
   "nbconvert_exporter": "python",
   "pygments_lexer": "ipython3",
   "version": "3.7.1"
  }
 },
 "nbformat": 4,
 "nbformat_minor": 2
}
