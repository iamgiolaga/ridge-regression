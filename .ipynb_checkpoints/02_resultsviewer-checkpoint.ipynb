{
 "cells": [
  {
   "cell_type": "code",
   "execution_count": 1,
   "metadata": {},
   "outputs": [],
   "source": [
    "import pandas as pd"
   ]
  },
  {
   "cell_type": "code",
   "execution_count": 5,
   "metadata": {},
   "outputs": [],
   "source": [
    "results = pd.read_csv(\"results/scores/final_scores.csv\")\n",
    "del results[\"Unnamed: 0\"]"
   ]
  },
  {
   "cell_type": "code",
   "execution_count": 8,
   "metadata": {},
   "outputs": [
    {
     "data": {
      "text/html": [
       "<div>\n",
       "<style scoped>\n",
       "    .dataframe tbody tr th:only-of-type {\n",
       "        vertical-align: middle;\n",
       "    }\n",
       "\n",
       "    .dataframe tbody tr th {\n",
       "        vertical-align: top;\n",
       "    }\n",
       "\n",
       "    .dataframe thead th {\n",
       "        text-align: right;\n",
       "    }\n",
       "</style>\n",
       "<table border=\"1\" class=\"dataframe\">\n",
       "  <thead>\n",
       "    <tr style=\"text-align: right;\">\n",
       "      <th></th>\n",
       "      <th>best_alpha_d1</th>\n",
       "      <th>best_alpha_d2</th>\n",
       "      <th>best_alpha_d3</th>\n",
       "      <th>best_alpha_d4</th>\n",
       "      <th>cross_val_PCA_d1</th>\n",
       "      <th>cross_val_PCA_d2</th>\n",
       "      <th>cross_val_PCA_d3</th>\n",
       "      <th>cross_val_PCA_d4</th>\n",
       "    </tr>\n",
       "  </thead>\n",
       "  <tbody>\n",
       "    <tr>\n",
       "      <th>0</th>\n",
       "      <td>0.01</td>\n",
       "      <td>0.01</td>\n",
       "      <td>0.01</td>\n",
       "      <td>0.01</td>\n",
       "      <td>0.1883</td>\n",
       "      <td>0.188166</td>\n",
       "      <td>0.406206</td>\n",
       "      <td>0.406356</td>\n",
       "    </tr>\n",
       "  </tbody>\n",
       "</table>\n",
       "</div>"
      ],
      "text/plain": [
       "   best_alpha_d1  best_alpha_d2  best_alpha_d3  best_alpha_d4  \\\n",
       "0           0.01           0.01           0.01           0.01   \n",
       "\n",
       "   cross_val_PCA_d1  cross_val_PCA_d2  cross_val_PCA_d3  cross_val_PCA_d4  \n",
       "0            0.1883          0.188166          0.406206          0.406356  "
      ]
     },
     "execution_count": 8,
     "metadata": {},
     "output_type": "execute_result"
    }
   ],
   "source": [
    "results.iloc[:, range(0, 8)]"
   ]
  },
  {
   "cell_type": "code",
   "execution_count": 9,
   "metadata": {},
   "outputs": [
    {
     "data": {
      "text/html": [
       "<div>\n",
       "<style scoped>\n",
       "    .dataframe tbody tr th:only-of-type {\n",
       "        vertical-align: middle;\n",
       "    }\n",
       "\n",
       "    .dataframe tbody tr th {\n",
       "        vertical-align: top;\n",
       "    }\n",
       "\n",
       "    .dataframe thead th {\n",
       "        text-align: right;\n",
       "    }\n",
       "</style>\n",
       "<table border=\"1\" class=\"dataframe\">\n",
       "  <thead>\n",
       "    <tr style=\"text-align: right;\">\n",
       "      <th></th>\n",
       "      <th>cross_val_d1</th>\n",
       "      <th>cross_val_d2</th>\n",
       "      <th>cross_val_d3</th>\n",
       "      <th>cross_val_d4</th>\n",
       "      <th>nest_cross_val_d1</th>\n",
       "      <th>nest_cross_val_d2</th>\n",
       "      <th>nest_cross_val_d3</th>\n",
       "      <th>nest_cross_val_d4</th>\n",
       "    </tr>\n",
       "  </thead>\n",
       "  <tbody>\n",
       "    <tr>\n",
       "      <th>0</th>\n",
       "      <td>0.01837</td>\n",
       "      <td>0.018338</td>\n",
       "      <td>0.391385</td>\n",
       "      <td>0.391478</td>\n",
       "      <td>0.01836</td>\n",
       "      <td>0.018342</td>\n",
       "      <td>0.391285</td>\n",
       "      <td>0.391075</td>\n",
       "    </tr>\n",
       "  </tbody>\n",
       "</table>\n",
       "</div>"
      ],
      "text/plain": [
       "   cross_val_d1  cross_val_d2  cross_val_d3  cross_val_d4  nest_cross_val_d1  \\\n",
       "0       0.01837      0.018338      0.391385      0.391478            0.01836   \n",
       "\n",
       "   nest_cross_val_d2  nest_cross_val_d3  nest_cross_val_d4  \n",
       "0           0.018342           0.391285           0.391075  "
      ]
     },
     "execution_count": 9,
     "metadata": {},
     "output_type": "execute_result"
    }
   ],
   "source": [
    "results.iloc[:, range(8, 16)]"
   ]
  },
  {
   "cell_type": "code",
   "execution_count": 10,
   "metadata": {},
   "outputs": [
    {
     "data": {
      "text/html": [
       "<div>\n",
       "<style scoped>\n",
       "    .dataframe tbody tr th:only-of-type {\n",
       "        vertical-align: middle;\n",
       "    }\n",
       "\n",
       "    .dataframe tbody tr th {\n",
       "        vertical-align: top;\n",
       "    }\n",
       "\n",
       "    .dataframe thead th {\n",
       "        text-align: right;\n",
       "    }\n",
       "</style>\n",
       "<table border=\"1\" class=\"dataframe\">\n",
       "  <thead>\n",
       "    <tr style=\"text-align: right;\">\n",
       "      <th></th>\n",
       "      <th>r2_d1</th>\n",
       "      <th>r2_d2</th>\n",
       "      <th>r2_d3</th>\n",
       "      <th>r2_d4</th>\n",
       "      <th>r^2_d1</th>\n",
       "      <th>sklearn_cv_d1</th>\n",
       "      <th>sklearn_cv_d2</th>\n",
       "      <th>sklearn_cv_d3</th>\n",
       "      <th>sklearn_cv_d4</th>\n",
       "    </tr>\n",
       "  </thead>\n",
       "  <tbody>\n",
       "    <tr>\n",
       "      <th>0</th>\n",
       "      <td>0.598735</td>\n",
       "      <td>0.580476</td>\n",
       "      <td>0.612444</td>\n",
       "      <td>0.624058</td>\n",
       "      <td>0.57478</td>\n",
       "      <td>0.391096</td>\n",
       "      <td>0.017624</td>\n",
       "      <td>0.017596</td>\n",
       "      <td>0.391347</td>\n",
       "    </tr>\n",
       "  </tbody>\n",
       "</table>\n",
       "</div>"
      ],
      "text/plain": [
       "      r2_d1     r2_d2     r2_d3     r2_d4   r^2_d1  sklearn_cv_d1  \\\n",
       "0  0.598735  0.580476  0.612444  0.624058  0.57478       0.391096   \n",
       "\n",
       "   sklearn_cv_d2  sklearn_cv_d3  sklearn_cv_d4  \n",
       "0       0.017624       0.017596       0.391347  "
      ]
     },
     "execution_count": 10,
     "metadata": {},
     "output_type": "execute_result"
    }
   ],
   "source": [
    "results.iloc[:, range(16, 25)]"
   ]
  },
  {
   "cell_type": "code",
   "execution_count": 11,
   "metadata": {},
   "outputs": [
    {
     "data": {
      "text/html": [
       "<div>\n",
       "<style scoped>\n",
       "    .dataframe tbody tr th:only-of-type {\n",
       "        vertical-align: middle;\n",
       "    }\n",
       "\n",
       "    .dataframe tbody tr th {\n",
       "        vertical-align: top;\n",
       "    }\n",
       "\n",
       "    .dataframe thead th {\n",
       "        text-align: right;\n",
       "    }\n",
       "</style>\n",
       "<table border=\"1\" class=\"dataframe\">\n",
       "  <thead>\n",
       "    <tr style=\"text-align: right;\">\n",
       "      <th></th>\n",
       "      <th>sklearn_test_error_d1</th>\n",
       "      <th>sklearn_test_error_d2</th>\n",
       "      <th>sklearn_test_error_d3</th>\n",
       "      <th>sklearn_test_error_d4</th>\n",
       "      <th>test_error_d1</th>\n",
       "      <th>test_error_d2</th>\n",
       "      <th>test_error_d3</th>\n",
       "      <th>test_error_d4</th>\n",
       "    </tr>\n",
       "  </thead>\n",
       "  <tbody>\n",
       "    <tr>\n",
       "      <th>0</th>\n",
       "      <td>0.017198</td>\n",
       "      <td>0.018124</td>\n",
       "      <td>0.384347</td>\n",
       "      <td>0.395181</td>\n",
       "      <td>0.019307</td>\n",
       "      <td>0.017995</td>\n",
       "      <td>0.371069</td>\n",
       "      <td>0.354968</td>\n",
       "    </tr>\n",
       "  </tbody>\n",
       "</table>\n",
       "</div>"
      ],
      "text/plain": [
       "   sklearn_test_error_d1  sklearn_test_error_d2  sklearn_test_error_d3  \\\n",
       "0               0.017198               0.018124               0.384347   \n",
       "\n",
       "   sklearn_test_error_d4  test_error_d1  test_error_d2  test_error_d3  \\\n",
       "0               0.395181       0.019307       0.017995       0.371069   \n",
       "\n",
       "   test_error_d4  \n",
       "0       0.354968  "
      ]
     },
     "execution_count": 11,
     "metadata": {},
     "output_type": "execute_result"
    }
   ],
   "source": [
    "results.iloc[:, range(25, 33)]"
   ]
  },
  {
   "cell_type": "code",
   "execution_count": null,
   "metadata": {},
   "outputs": [],
   "source": []
  }
 ],
 "metadata": {
  "kernelspec": {
   "display_name": "Python 3",
   "language": "python",
   "name": "python3"
  },
  "language_info": {
   "codemirror_mode": {
    "name": "ipython",
    "version": 3
   },
   "file_extension": ".py",
   "mimetype": "text/x-python",
   "name": "python",
   "nbconvert_exporter": "python",
   "pygments_lexer": "ipython3",
   "version": "3.7.1"
  }
 },
 "nbformat": 4,
 "nbformat_minor": 2
}
